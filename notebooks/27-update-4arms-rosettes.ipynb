{
 "cells": [
  {
   "cell_type": "code",
   "execution_count": 3,
   "id": "00abbaec-651b-496d-8cad-054b37f890b0",
   "metadata": {},
   "outputs": [],
   "source": [
    "import pandas as pd \n",
    "import os"
   ]
  },
  {
   "cell_type": "markdown",
   "id": "aa6713b5-5583-48bb-8253-914f16d07796",
   "metadata": {},
   "source": [
    "April 18, 2025: Not all 1 million files were generated. Need to find files that were not generated and then start from where we left off. "
   ]
  },
  {
   "cell_type": "code",
   "execution_count": 14,
   "id": "467c8a07-2c70-4aab-9ced-d58558e268f4",
   "metadata": {},
   "outputs": [],
   "source": [
    "files_dict = {}\n",
    "root_dir = '/glade/derecho/scratch/joko/synth-ros/params_200_50_20250403/projections-v2'\n",
    "subfolders = ['default', '2ds', 'phips']\n",
    "def get_files(folder):\n",
    "    # returns all files as list in folder\n",
    "    files = []\n",
    "    for dirpath, _, filenames in os.walk(folder):\n",
    "        for file in filenames:\n",
    "            filename = file.rsplit('/', 1)[-1]                   # Get the filename: 'ros-projection-002275-043-default.png'\n",
    "            parts = filename.split('-')                          # ['ros', 'projection', '002275', '043', 'default.png']\n",
    "            result = f\"{parts[2]}-{parts[3]}\"                    # '002275-043'\n",
    "            files.append(result)\n",
    "    return files\n",
    "for f in subfolders:\n",
    "    folder = os.path.join(root_dir, f)\n",
    "    files_dict[f] = get_files(folder)"
   ]
  },
  {
   "cell_type": "code",
   "execution_count": 17,
   "id": "04e8b9c8-65ca-4c6f-a0c7-026ef1fabab6",
   "metadata": {},
   "outputs": [
    {
     "name": "stdout",
     "output_type": "stream",
     "text": [
      "913947\n",
      "913897\n",
      "913896\n"
     ]
    }
   ],
   "source": [
    "print(len(files_dict['default']))\n",
    "print(len(files_dict['2ds']))\n",
    "print(len(files_dict['phips']))"
   ]
  },
  {
   "cell_type": "code",
   "execution_count": 16,
   "id": "b4c09ef8-18bb-4fb1-8730-12d5732fd5bf",
   "metadata": {},
   "outputs": [
    {
     "data": {
      "text/plain": [
       "913896"
      ]
     },
     "execution_count": 16,
     "metadata": {},
     "output_type": "execute_result"
    }
   ],
   "source": [
    "# get files that were fully processed\n",
    "common_ids = list(set(files_dict['default']) & set(files_dict['2ds']) & set(files_dict['phips']))\n",
    "len(common_ids)"
   ]
  },
  {
   "cell_type": "code",
   "execution_count": 20,
   "id": "e06c4d47-3b07-4ce2-8b87-be895e26742c",
   "metadata": {},
   "outputs": [
    {
     "data": {
      "text/plain": [
       "['000000-000',\n",
       " '000000-001',\n",
       " '000000-002',\n",
       " '000000-003',\n",
       " '000000-004',\n",
       " '000000-005',\n",
       " '000000-006',\n",
       " '000000-007',\n",
       " '000000-008',\n",
       " '000000-009']"
      ]
     },
     "execution_count": 20,
     "metadata": {},
     "output_type": "execute_result"
    }
   ],
   "source": [
    "# Sort numerically based on the two parts\n",
    "sorted_ids = sorted(common_ids, key=lambda x: tuple(map(int, x.split('-'))))\n",
    "sorted_ids[:10]"
   ]
  },
  {
   "cell_type": "code",
   "execution_count": 29,
   "id": "af1915de-4632-4dc3-a0c1-8d9e92dca3ac",
   "metadata": {},
   "outputs": [
    {
     "name": "stdout",
     "output_type": "stream",
     "text": [
      "Number of incomplete IDs: 888\n",
      "888\n"
     ]
    }
   ],
   "source": [
    "from collections import defaultdict\n",
    "\n",
    "# Your list of strings like '002042-019'\n",
    "data = sorted_ids # your list here\n",
    "\n",
    "# Step 1: Build mapping from ID → set of n_rand values\n",
    "id_to_nrand = defaultdict(set)\n",
    "for entry in data:\n",
    "    id_part, n_rand = entry.split('-')\n",
    "    id_to_nrand[id_part].add(n_rand)\n",
    "\n",
    "# Step 2: Expected sets\n",
    "expected_ids = {f\"{i:06d}\" for i in range(10000)}         # 000000 to 009999\n",
    "expected_nrand = {f\"{i:03d}\" for i in range(100)}         # 000 to 099\n",
    "\n",
    "# Step 3: Find missing or incomplete IDs\n",
    "incomplete_ids = []\n",
    "for id_ in expected_ids:\n",
    "    if id_ not in id_to_nrand:\n",
    "        incomplete_ids.append(id_)  # missing entirely\n",
    "    elif id_to_nrand[id_] != expected_nrand:\n",
    "        incomplete_ids.append(id_)  # present but incomplete\n",
    "\n",
    "print(f\"Number of incomplete IDs: {len(incomplete_ids)}\")\n",
    "print(len(incomplete_ids))"
   ]
  },
  {
   "cell_type": "code",
   "execution_count": 30,
   "id": "7415a13f-3907-4934-8c88-6ec782d2933f",
   "metadata": {},
   "outputs": [
    {
     "data": {
      "text/plain": [
       "1002696"
      ]
     },
     "execution_count": 30,
     "metadata": {},
     "output_type": "execute_result"
    }
   ],
   "source": [
    "888*100 + len(common_ids)"
   ]
  },
  {
   "cell_type": "markdown",
   "id": "df3ed80d-f291-4b6a-ac6c-5f651bfe3ae8",
   "metadata": {},
   "source": [
    "# Create new ros-data-merged.txt"
   ]
  },
  {
   "cell_type": "markdown",
   "id": "5fb84e19-5e4b-4d85-96d6-20214d205d2f",
   "metadata": {},
   "source": [
    "Merge old ros-data with new ros-data and place v2 in data dir"
   ]
  },
  {
   "cell_type": "code",
   "execution_count": 9,
   "id": "3789f1d1-a0eb-46c1-97f0-63bf0bf13966",
   "metadata": {},
   "outputs": [],
   "source": [
    "import os\n",
    "import pandas as pd"
   ]
  },
  {
   "cell_type": "code",
   "execution_count": 1,
   "id": "94621fa8-acab-4dad-bedd-73fc9a83c4e1",
   "metadata": {},
   "outputs": [],
   "source": [
    "path_old = '/glade/derecho/scratch/joko/synth-ros/params_200_50_20250403/data/ros-data-merged.txt'\n",
    "path_new = '/glade/derecho/scratch/joko/synth-ros/params_200_50_20250403/data-v2/ros-data-merged.txt'\n",
    "df_old = pd.read_csv(path_old)\n",
    "df_new = pd.read_csv(path_new)"
   ]
  },
  {
   "cell_type": "code",
   "execution_count": 2,
   "id": "65a03302-b767-4b4b-b7d5-354dae91f895",
   "metadata": {},
   "outputs": [
    {
     "name": "stdout",
     "output_type": "stream",
     "text": [
      "(70000, 11)\n"
     ]
    },
    {
     "data": {
      "text/html": [
       "<div>\n",
       "<style scoped>\n",
       "    .dataframe tbody tr th:only-of-type {\n",
       "        vertical-align: middle;\n",
       "    }\n",
       "\n",
       "    .dataframe tbody tr th {\n",
       "        vertical-align: top;\n",
       "    }\n",
       "\n",
       "    .dataframe thead th {\n",
       "        text-align: right;\n",
       "    }\n",
       "</style>\n",
       "<table border=\"1\" class=\"dataframe\">\n",
       "  <thead>\n",
       "    <tr style=\"text-align: right;\">\n",
       "      <th></th>\n",
       "      <th>id</th>\n",
       "      <th>a</th>\n",
       "      <th>c</th>\n",
       "      <th>f_r0</th>\n",
       "      <th>f_hp</th>\n",
       "      <th>f_h0</th>\n",
       "      <th>n_arms</th>\n",
       "      <th>sa</th>\n",
       "      <th>vol</th>\n",
       "      <th>sa_eff</th>\n",
       "      <th>rho_eff</th>\n",
       "    </tr>\n",
       "  </thead>\n",
       "  <tbody>\n",
       "    <tr>\n",
       "      <th>0</th>\n",
       "      <td>35000</td>\n",
       "      <td>13.817545</td>\n",
       "      <td>23.540122</td>\n",
       "      <td>0.867449</td>\n",
       "      <td>0.961225</td>\n",
       "      <td>0.943525</td>\n",
       "      <td>7</td>\n",
       "      <td>33247.371151</td>\n",
       "      <td>181231.947690</td>\n",
       "      <td>0.576030</td>\n",
       "      <td>0.138993</td>\n",
       "    </tr>\n",
       "    <tr>\n",
       "      <th>1</th>\n",
       "      <td>35001</td>\n",
       "      <td>13.817545</td>\n",
       "      <td>23.540122</td>\n",
       "      <td>0.867449</td>\n",
       "      <td>0.961225</td>\n",
       "      <td>0.943525</td>\n",
       "      <td>7</td>\n",
       "      <td>33022.961732</td>\n",
       "      <td>184536.198465</td>\n",
       "      <td>0.560433</td>\n",
       "      <td>0.137205</td>\n",
       "    </tr>\n",
       "    <tr>\n",
       "      <th>2</th>\n",
       "      <td>35002</td>\n",
       "      <td>13.817545</td>\n",
       "      <td>23.540122</td>\n",
       "      <td>0.867449</td>\n",
       "      <td>0.961225</td>\n",
       "      <td>0.943525</td>\n",
       "      <td>7</td>\n",
       "      <td>33530.598131</td>\n",
       "      <td>187678.178569</td>\n",
       "      <td>0.585745</td>\n",
       "      <td>0.145727</td>\n",
       "    </tr>\n",
       "    <tr>\n",
       "      <th>3</th>\n",
       "      <td>35003</td>\n",
       "      <td>13.817545</td>\n",
       "      <td>23.540122</td>\n",
       "      <td>0.867449</td>\n",
       "      <td>0.961225</td>\n",
       "      <td>0.943525</td>\n",
       "      <td>7</td>\n",
       "      <td>32592.037777</td>\n",
       "      <td>166089.393327</td>\n",
       "      <td>0.543729</td>\n",
       "      <td>0.120358</td>\n",
       "    </tr>\n",
       "    <tr>\n",
       "      <th>4</th>\n",
       "      <td>35004</td>\n",
       "      <td>13.817545</td>\n",
       "      <td>23.540122</td>\n",
       "      <td>0.867449</td>\n",
       "      <td>0.961225</td>\n",
       "      <td>0.943525</td>\n",
       "      <td>7</td>\n",
       "      <td>32892.678757</td>\n",
       "      <td>179534.751064</td>\n",
       "      <td>0.583751</td>\n",
       "      <td>0.142747</td>\n",
       "    </tr>\n",
       "  </tbody>\n",
       "</table>\n",
       "</div>"
      ],
      "text/plain": [
       "      id          a          c      f_r0      f_hp      f_h0  n_arms  \\\n",
       "0  35000  13.817545  23.540122  0.867449  0.961225  0.943525       7   \n",
       "1  35001  13.817545  23.540122  0.867449  0.961225  0.943525       7   \n",
       "2  35002  13.817545  23.540122  0.867449  0.961225  0.943525       7   \n",
       "3  35003  13.817545  23.540122  0.867449  0.961225  0.943525       7   \n",
       "4  35004  13.817545  23.540122  0.867449  0.961225  0.943525       7   \n",
       "\n",
       "             sa            vol    sa_eff   rho_eff  \n",
       "0  33247.371151  181231.947690  0.576030  0.138993  \n",
       "1  33022.961732  184536.198465  0.560433  0.137205  \n",
       "2  33530.598131  187678.178569  0.585745  0.145727  \n",
       "3  32592.037777  166089.393327  0.543729  0.120358  \n",
       "4  32892.678757  179534.751064  0.583751  0.142747  "
      ]
     },
     "execution_count": 2,
     "metadata": {},
     "output_type": "execute_result"
    }
   ],
   "source": [
    "print(df_old.shape)\n",
    "df_old.head()"
   ]
  },
  {
   "cell_type": "code",
   "execution_count": 4,
   "id": "a5c1fdbe-724f-4d9b-9142-8017b6d8f197",
   "metadata": {},
   "outputs": [
    {
     "name": "stdout",
     "output_type": "stream",
     "text": [
      "(10000, 11)\n"
     ]
    },
    {
     "data": {
      "text/html": [
       "<div>\n",
       "<style scoped>\n",
       "    .dataframe tbody tr th:only-of-type {\n",
       "        vertical-align: middle;\n",
       "    }\n",
       "\n",
       "    .dataframe tbody tr th {\n",
       "        vertical-align: top;\n",
       "    }\n",
       "\n",
       "    .dataframe thead th {\n",
       "        text-align: right;\n",
       "    }\n",
       "</style>\n",
       "<table border=\"1\" class=\"dataframe\">\n",
       "  <thead>\n",
       "    <tr style=\"text-align: right;\">\n",
       "      <th></th>\n",
       "      <th>id</th>\n",
       "      <th>a</th>\n",
       "      <th>c</th>\n",
       "      <th>f_r0</th>\n",
       "      <th>f_hp</th>\n",
       "      <th>f_h0</th>\n",
       "      <th>n_arms</th>\n",
       "      <th>sa</th>\n",
       "      <th>vol</th>\n",
       "      <th>sa_eff</th>\n",
       "      <th>rho_eff</th>\n",
       "    </tr>\n",
       "  </thead>\n",
       "  <tbody>\n",
       "    <tr>\n",
       "      <th>0</th>\n",
       "      <td>6000</td>\n",
       "      <td>18.853575</td>\n",
       "      <td>44.355912</td>\n",
       "      <td>0.803497</td>\n",
       "      <td>0.950749</td>\n",
       "      <td>1.093555</td>\n",
       "      <td>4</td>\n",
       "      <td>44934.342645</td>\n",
       "      <td>329883.100550</td>\n",
       "      <td>0.362739</td>\n",
       "      <td>0.080466</td>\n",
       "    </tr>\n",
       "    <tr>\n",
       "      <th>1</th>\n",
       "      <td>6001</td>\n",
       "      <td>18.853575</td>\n",
       "      <td>44.355912</td>\n",
       "      <td>0.803497</td>\n",
       "      <td>0.950749</td>\n",
       "      <td>1.093555</td>\n",
       "      <td>4</td>\n",
       "      <td>42663.086171</td>\n",
       "      <td>308125.528660</td>\n",
       "      <td>0.317901</td>\n",
       "      <td>0.066652</td>\n",
       "    </tr>\n",
       "    <tr>\n",
       "      <th>2</th>\n",
       "      <td>6002</td>\n",
       "      <td>18.853575</td>\n",
       "      <td>44.355912</td>\n",
       "      <td>0.803497</td>\n",
       "      <td>0.950749</td>\n",
       "      <td>1.093555</td>\n",
       "      <td>4</td>\n",
       "      <td>45063.016730</td>\n",
       "      <td>340197.868636</td>\n",
       "      <td>0.345141</td>\n",
       "      <td>0.076687</td>\n",
       "    </tr>\n",
       "    <tr>\n",
       "      <th>3</th>\n",
       "      <td>6003</td>\n",
       "      <td>18.853575</td>\n",
       "      <td>44.355912</td>\n",
       "      <td>0.803497</td>\n",
       "      <td>0.950749</td>\n",
       "      <td>1.093555</td>\n",
       "      <td>4</td>\n",
       "      <td>47337.486621</td>\n",
       "      <td>361178.174563</td>\n",
       "      <td>0.339395</td>\n",
       "      <td>0.073739</td>\n",
       "    </tr>\n",
       "    <tr>\n",
       "      <th>4</th>\n",
       "      <td>6004</td>\n",
       "      <td>18.853575</td>\n",
       "      <td>44.355912</td>\n",
       "      <td>0.803497</td>\n",
       "      <td>0.950749</td>\n",
       "      <td>1.093555</td>\n",
       "      <td>4</td>\n",
       "      <td>45971.094763</td>\n",
       "      <td>371909.871954</td>\n",
       "      <td>0.389581</td>\n",
       "      <td>0.097574</td>\n",
       "    </tr>\n",
       "  </tbody>\n",
       "</table>\n",
       "</div>"
      ],
      "text/plain": [
       "     id          a          c      f_r0      f_hp      f_h0  n_arms  \\\n",
       "0  6000  18.853575  44.355912  0.803497  0.950749  1.093555       4   \n",
       "1  6001  18.853575  44.355912  0.803497  0.950749  1.093555       4   \n",
       "2  6002  18.853575  44.355912  0.803497  0.950749  1.093555       4   \n",
       "3  6003  18.853575  44.355912  0.803497  0.950749  1.093555       4   \n",
       "4  6004  18.853575  44.355912  0.803497  0.950749  1.093555       4   \n",
       "\n",
       "             sa            vol    sa_eff   rho_eff  \n",
       "0  44934.342645  329883.100550  0.362739  0.080466  \n",
       "1  42663.086171  308125.528660  0.317901  0.066652  \n",
       "2  45063.016730  340197.868636  0.345141  0.076687  \n",
       "3  47337.486621  361178.174563  0.339395  0.073739  \n",
       "4  45971.094763  371909.871954  0.389581  0.097574  "
      ]
     },
     "execution_count": 4,
     "metadata": {},
     "output_type": "execute_result"
    }
   ],
   "source": [
    "print(df_new.shape)\n",
    "df_new.head()"
   ]
  },
  {
   "cell_type": "code",
   "execution_count": 6,
   "id": "898229d9-ecfa-4ad6-ae34-1c9bc62e5d28",
   "metadata": {},
   "outputs": [
    {
     "data": {
      "text/plain": [
       "(70000, 11)"
      ]
     },
     "execution_count": 6,
     "metadata": {},
     "output_type": "execute_result"
    }
   ],
   "source": [
    "# remove rosettes with 4 arms in df_old and add df_new to df_final\n",
    "df = df_old.copy()\n",
    "df = df[df['n_arms']!=4]\n",
    "df = pd.concat([df, df_new], ignore_index=True)\n",
    "df.shape"
   ]
  },
  {
   "cell_type": "code",
   "execution_count": 7,
   "id": "f9c8b154-210b-4e42-9c60-f63a1c366be0",
   "metadata": {},
   "outputs": [
    {
     "data": {
      "text/plain": [
       "70000"
      ]
     },
     "execution_count": 7,
     "metadata": {},
     "output_type": "execute_result"
    }
   ],
   "source": [
    "len(df.id.unique())"
   ]
  },
  {
   "cell_type": "code",
   "execution_count": 10,
   "id": "1bd51cde-2032-4ff1-872c-c18408646850",
   "metadata": {},
   "outputs": [],
   "source": [
    "# save final merged ros-data \n",
    "save_dir = '/glade/derecho/scratch/joko/synth-ros/params_200_50_20250403/data'\n",
    "filename = 'ros-data-merged-v2.txt'\n",
    "filepath = os.path.join(save_dir, filename)\n",
    "df.to_csv(filepath, sep=',', index=False)"
   ]
  },
  {
   "cell_type": "code",
   "execution_count": null,
   "id": "3062bbd1-0c13-47be-8923-edf84c6da728",
   "metadata": {},
   "outputs": [],
   "source": []
  },
  {
   "cell_type": "code",
   "execution_count": null,
   "id": "337fe182-dc79-46ac-a447-24ce1256c383",
   "metadata": {},
   "outputs": [],
   "source": []
  },
  {
   "cell_type": "code",
   "execution_count": null,
   "id": "8411f422-97c9-4d0c-80ba-f7c43318708a",
   "metadata": {},
   "outputs": [],
   "source": []
  }
 ],
 "metadata": {
  "kernelspec": {
   "display_name": "Python 3 (ipykernel)",
   "language": "python",
   "name": "python3"
  },
  "language_info": {
   "codemirror_mode": {
    "name": "ipython",
    "version": 3
   },
   "file_extension": ".py",
   "mimetype": "text/x-python",
   "name": "python",
   "nbconvert_exporter": "python",
   "pygments_lexer": "ipython3",
   "version": "3.10.13"
  }
 },
 "nbformat": 4,
 "nbformat_minor": 5
}
