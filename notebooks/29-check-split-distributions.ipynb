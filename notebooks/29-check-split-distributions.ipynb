{
 "cells": [
  {
   "cell_type": "code",
   "execution_count": 2,
   "id": "2bda8b87",
   "metadata": {},
   "outputs": [],
   "source": [
    "import numpy as np\n",
    "import h5py\n",
    "from sklearn.model_selection import train_test_split"
   ]
  },
  {
   "cell_type": "code",
   "execution_count": 8,
   "id": "17520ba0",
   "metadata": {},
   "outputs": [],
   "source": [
    "# Set your parameters\n",
    "hdf_file = '/glade/derecho/scratch/joko/synth-ros/params_200_50_20250403/imgs-ml-ready/default.h5'\n",
    "batch_size = 128\n",
    "targets = ['n_arms', 'filenames']  # Replace with your actual target column name\n",
    "random_state = 666\n",
    "\n",
    "# specify train/val/test indices using sklearn\n",
    "indices = list(range(7_000_000))\n",
    "train_idx, temp_idx = train_test_split(indices, test_size=0.30, random_state=random_state)\n",
    "val_idx, test_idx = train_test_split(temp_idx, test_size=0.50, random_state=random_state)\n",
    "subset_size = 0.01  # subset percentage\n",
    "\n",
    "def get_random_subset(indices, subset_size, random_state):\n",
    "    \"\"\"\n",
    "    Get a random subset of indices.\n",
    "    \n",
    "    Parameters:\n",
    "    - indices: list of indices to choose from\n",
    "    - subset_size: percentage of the subset size\n",
    "    - random_state: seed for reproducibility\n",
    "    \n",
    "    Returns:\n",
    "    - Randomly selected subset of indices\n",
    "    \"\"\"\n",
    "    if subset_size <= 0 or subset_size > 1:\n",
    "        raise ValueError(\"subset_size must be between 0 and 1\")\n",
    "    \n",
    "    # Ensure the random state is set for reproducibility\n",
    "    rng = np.random.default_rng(random_state)\n",
    "    subset_count = max(1, int(len(indices) * subset_size))\n",
    "    indices = rng.choice(indices, size=subset_count, replace=False)\n",
    "    indices = np.sort(indices)\n",
    "    return indices\n",
    "\n",
    "train_idx = get_random_subset(train_idx, subset_size, random_state)\n",
    "val_idx = get_random_subset(val_idx, subset_size, random_state)\n",
    "test_idx = get_random_subset(test_idx, subset_size, random_state)\n",
    "\n",
    "# load the n_arms and filenames from the hdf5 file\n",
    "with h5py.File(hdf_file, 'r') as f:\n",
    "    n_arms = f['n_arms'][train_idx]\n",
    "    filenames = f['filenames'][train_idx]"
   ]
  },
  {
   "cell_type": "code",
   "execution_count": 9,
   "id": "acf191fd",
   "metadata": {},
   "outputs": [
    {
     "name": "stdout",
     "output_type": "stream",
     "text": [
      "49000\n",
      "49000\n"
     ]
    }
   ],
   "source": [
    "print(len(n_arms))\n",
    "print(len(filenames))"
   ]
  },
  {
   "cell_type": "code",
   "execution_count": 11,
   "id": "d0939758",
   "metadata": {},
   "outputs": [
    {
     "data": {
      "text/plain": [
       "Text(0.5, 0, 'n_arms')"
      ]
     },
     "execution_count": 11,
     "metadata": {},
     "output_type": "execute_result"
    },
    {
     "data": {
      "image/png": "[encoded data removed]",
      "text/plain": [
       "<Figure size 640x480 with 1 Axes>"
      ]
     },
     "metadata": {},
     "output_type": "display_data"
    }
   ],
   "source": [
    "# plot histograms of n_arms\n",
    "import matplotlib.pyplot as plt\n",
    "plt.hist(n_arms, bins=50)\n",
    "plt.xlabel('n_arms')    "
   ]
  },
  {
   "cell_type": "code",
   "execution_count": 19,
   "id": "223b9acb",
   "metadata": {},
   "outputs": [],
   "source": [
    "# convert filenames from bytes to string\n",
    "filenames_str = [filename.decode('utf-8') for filename in filenames]\n",
    "# create dataframe\n",
    "import pandas as pd\n",
    "df = pd.DataFrame({'n_arms': n_arms, 'filenames': filenames_str})\n",
    "# extraction id (e.g., 069913) and projection id (e.g., 002)\n",
    "split_cols = df['filenames'].str.split('-', expand=True)\n",
    "df['particle_id'] = split_cols[2]\n",
    "df['projection_id'] = split_cols[3]"
   ]
  },
  {
   "cell_type": "code",
   "execution_count": 20,
   "id": "f25a269e",
   "metadata": {},
   "outputs": [
    {
     "data": {
      "text/html": [
       "<div>\n",
       "<style scoped>\n",
       "    .dataframe tbody tr th:only-of-type {\n",
       "        vertical-align: middle;\n",
       "    }\n",
       "\n",
       "    .dataframe tbody tr th {\n",
       "        vertical-align: top;\n",
       "    }\n",
       "\n",
       "    .dataframe thead th {\n",
       "        text-align: right;\n",
       "    }\n",
       "</style>\n",
       "<table border=\"1\" class=\"dataframe\">\n",
       "  <thead>\n",
       "    <tr style=\"text-align: right;\">\n",
       "      <th></th>\n",
       "      <th>n_arms</th>\n",
       "      <th>filenames</th>\n",
       "      <th>particle_id</th>\n",
       "      <th>projection_id</th>\n",
       "    </tr>\n",
       "  </thead>\n",
       "  <tbody>\n",
       "    <tr>\n",
       "      <th>0</th>\n",
       "      <td>10.0</td>\n",
       "      <td>ros-projection-069913-002-default.png</td>\n",
       "      <td>069913</td>\n",
       "      <td>002</td>\n",
       "    </tr>\n",
       "    <tr>\n",
       "      <th>1</th>\n",
       "      <td>10.0</td>\n",
       "      <td>ros-projection-065100-027-default.png</td>\n",
       "      <td>065100</td>\n",
       "      <td>027</td>\n",
       "    </tr>\n",
       "    <tr>\n",
       "      <th>2</th>\n",
       "      <td>10.0</td>\n",
       "      <td>ros-projection-068542-062-default.png</td>\n",
       "      <td>068542</td>\n",
       "      <td>062</td>\n",
       "    </tr>\n",
       "    <tr>\n",
       "      <th>3</th>\n",
       "      <td>10.0</td>\n",
       "      <td>ros-projection-066315-050-default.png</td>\n",
       "      <td>066315</td>\n",
       "      <td>050</td>\n",
       "    </tr>\n",
       "    <tr>\n",
       "      <th>4</th>\n",
       "      <td>10.0</td>\n",
       "      <td>ros-projection-063371-033-default.png</td>\n",
       "      <td>063371</td>\n",
       "      <td>033</td>\n",
       "    </tr>\n",
       "  </tbody>\n",
       "</table>\n",
       "</div>"
      ],
      "text/plain": [
       "   n_arms                              filenames particle_id projection_id\n",
       "0    10.0  ros-projection-069913-002-default.png      069913           002\n",
       "1    10.0  ros-projection-065100-027-default.png      065100           027\n",
       "2    10.0  ros-projection-068542-062-default.png      068542           062\n",
       "3    10.0  ros-projection-066315-050-default.png      066315           050\n",
       "4    10.0  ros-projection-063371-033-default.png      063371           033"
      ]
     },
     "execution_count": 20,
     "metadata": {},
     "output_type": "execute_result"
    }
   ],
   "source": [
    "df.head()"
   ]
  },
  {
   "cell_type": "code",
   "execution_count": 22,
   "id": "a531e39a",
   "metadata": {},
   "outputs": [
    {
     "data": {
      "text/plain": [
       "count    35225.000000\n",
       "mean         1.391057\n",
       "std          0.654224\n",
       "min          1.000000\n",
       "25%          1.000000\n",
       "50%          1.000000\n",
       "75%          2.000000\n",
       "max          6.000000\n",
       "Name: count, dtype: float64"
      ]
     },
     "execution_count": 22,
     "metadata": {},
     "output_type": "execute_result"
    }
   ],
   "source": [
    "particle_id_counts = df['particle_id'].value_counts()\n",
    "# get statistics of the particle_id counts\n",
    "particle_id_counts.describe()"
   ]
  },
  {
   "cell_type": "code",
   "execution_count": 23,
   "id": "101ac4ac",
   "metadata": {},
   "outputs": [
    {
     "name": "stdout",
     "output_type": "stream",
     "text": [
      "35225\n"
     ]
    }
   ],
   "source": [
    "# get number of unique particle_ids as integers \n",
    "unique_particle_ids = df['particle_id'].unique()\n",
    "unique_particle_ids = [int(p_id) for p_id in unique_particle_ids]\n",
    "print(len(unique_particle_ids))"
   ]
  },
  {
   "cell_type": "code",
   "execution_count": 24,
   "id": "3d9059b9",
   "metadata": {},
   "outputs": [],
   "source": [
    "# load the n_arms and filenames from the hdf5 file\n",
    "with h5py.File(hdf_file, 'r') as f:\n",
    "    n_arms = f['n_arms'][test_idx]\n",
    "    filenames = f['filenames'][test_idx]"
   ]
  },
  {
   "cell_type": "code",
   "execution_count": 25,
   "id": "fd9c065c",
   "metadata": {},
   "outputs": [
    {
     "name": "stdout",
     "output_type": "stream",
     "text": [
      "10500\n",
      "10500\n"
     ]
    }
   ],
   "source": [
    "print(len(n_arms))\n",
    "print(len(filenames))"
   ]
  },
  {
   "cell_type": "code",
   "execution_count": 26,
   "id": "174b86c9",
   "metadata": {},
   "outputs": [
    {
     "data": {
      "text/plain": [
       "Text(0.5, 0, 'n_arms')"
      ]
     },
     "execution_count": 26,
     "metadata": {},
     "output_type": "execute_result"
    },
    {
     "data": {
      "image/png": "[encoded data removed]",
      "text/plain": [
       "<Figure size 640x480 with 1 Axes>"
      ]
     },
     "metadata": {},
     "output_type": "display_data"
    }
   ],
   "source": [
    "# plot histograms of n_arms\n",
    "import matplotlib.pyplot as plt\n",
    "plt.hist(n_arms, bins=50)\n",
    "plt.xlabel('n_arms')    "
   ]
  },
  {
   "cell_type": "code",
   "execution_count": 27,
   "id": "5d6bb96e",
   "metadata": {},
   "outputs": [],
   "source": [
    "# convert filenames from bytes to string\n",
    "filenames_str = [filename.decode('utf-8') for filename in filenames]\n",
    "# create dataframe\n",
    "import pandas as pd\n",
    "df = pd.DataFrame({'n_arms': n_arms, 'filenames': filenames_str})\n",
    "# extraction id (e.g., 069913) and projection id (e.g., 002)\n",
    "split_cols = df['filenames'].str.split('-', expand=True)\n",
    "df['particle_id'] = split_cols[2]\n",
    "df['projection_id'] = split_cols[3]"
   ]
  },
  {
   "cell_type": "code",
   "execution_count": 28,
   "id": "5c33341d",
   "metadata": {},
   "outputs": [
    {
     "data": {
      "text/plain": [
       "count    9766.000000\n",
       "mean        1.075159\n",
       "std         0.277660\n",
       "min         1.000000\n",
       "25%         1.000000\n",
       "50%         1.000000\n",
       "75%         1.000000\n",
       "max         4.000000\n",
       "Name: count, dtype: float64"
      ]
     },
     "execution_count": 28,
     "metadata": {},
     "output_type": "execute_result"
    }
   ],
   "source": [
    "particle_id_counts = df['particle_id'].value_counts()\n",
    "# get statistics of the particle_id counts\n",
    "particle_id_counts.describe()"
   ]
  },
  {
   "cell_type": "code",
   "execution_count": 29,
   "id": "ded1e370",
   "metadata": {},
   "outputs": [
    {
     "name": "stdout",
     "output_type": "stream",
     "text": [
      "9766\n"
     ]
    }
   ],
   "source": [
    "# get number of unique particle_ids as integers \n",
    "unique_particle_ids = df['particle_id'].unique()\n",
    "unique_particle_ids = [int(p_id) for p_id in unique_particle_ids]\n",
    "print(len(unique_particle_ids))"
   ]
  },
  {
   "cell_type": "code",
   "execution_count": null,
   "id": "1c412736",
   "metadata": {},
   "outputs": [],
   "source": []
  },
  {
   "cell_type": "code",
   "execution_count": null,
   "id": "78d35719",
   "metadata": {},
   "outputs": [],
   "source": []
  }
 ],
 "metadata": {
  "kernelspec": {
   "display_name": "Python 3.13.3 ('gcp': conda)",
   "language": "python",
   "name": "python3"
  },
  "language_info": {
   "codemirror_mode": {
    "name": "ipython",
    "version": 3
   },
   "file_extension": ".py",
   "mimetype": "text/x-python",
   "name": "python",
   "nbconvert_exporter": "python",
   "pygments_lexer": "ipython3",
   "version": "3.13.3"
  },
  "vscode": {
   "interpreter": {
    "hash": "641b0aa9178aaf0955818e11c3223148d81b9ca2f79b396bf44b3b8eb4c9f830"
   }
  }
 },
 "nbformat": 4,
 "nbformat_minor": 5
}
