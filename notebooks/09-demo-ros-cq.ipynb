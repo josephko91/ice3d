{
 "cells": [
  {
   "cell_type": "code",
   "execution_count": 1,
   "id": "01271cd1-dc2a-4463-835e-ef13c7449e83",
   "metadata": {},
   "outputs": [],
   "source": [
    "# import packages\n",
    "import numpy as np\n",
    "import cadquery as cq\n",
    "from scipy.stats import qmc\n",
    "import math\n",
    "import itertools\n",
    "import matplotlib.pyplot as plt\n",
    "import os\n",
    "import json\n",
    "import copy\n",
    "import random"
   ]
  },
  {
   "cell_type": "markdown",
   "id": "a5387ab2-a53c-4b16-9009-d5face07cb4f",
   "metadata": {},
   "source": [
    "# Load inputs"
   ]
  },
  {
   "cell_type": "code",
   "execution_count": 2,
   "id": "17c929c9-bd1c-473a-a7d1-26a4ea503e22",
   "metadata": {},
   "outputs": [],
   "source": [
    "# Read the JSON file as a dictionary\n",
    "# NOTE: when reading in from JSON, the key is read as a string\n",
    "json_filepath = '/glade/u/home/joko/spherical-code/data/s_code.json'\n",
    "with open(json_filepath, 'r') as json_file:\n",
    "    s_code_dict = json.load(json_file)"
   ]
  },
  {
   "cell_type": "markdown",
   "id": "17b892bc-adb3-42bd-90e6-08b23577737d",
   "metadata": {},
   "source": [
    "# Source"
   ]
  },
  {
   "cell_type": "code",
   "execution_count": null,
   "id": "b5045ce7-7c28-474b-a55c-69dd42ae1815",
   "metadata": {},
   "outputs": [],
   "source": []
  },
  {
   "cell_type": "markdown",
   "id": "24247623-90bb-4fac-9126-2b2c769260a9",
   "metadata": {},
   "source": [
    "# Main"
   ]
  },
  {
   "cell_type": "code",
   "execution_count": null,
   "id": "ac798c2a-b337-41f1-be46-4953cce3deac",
   "metadata": {},
   "outputs": [],
   "source": []
  },
  {
   "cell_type": "code",
   "execution_count": null,
   "id": "e6f2352e-0728-43a2-84c1-fa1f1351aebd",
   "metadata": {},
   "outputs": [],
   "source": []
  },
  {
   "cell_type": "code",
   "execution_count": null,
   "id": "f3feceda-a4a2-4918-822e-151d3842a62d",
   "metadata": {},
   "outputs": [],
   "source": []
  },
  {
   "cell_type": "code",
   "execution_count": null,
   "id": "111bfa5b-b386-4108-a318-2b1b0b7e212e",
   "metadata": {},
   "outputs": [],
   "source": []
  }
 ],
 "metadata": {
  "kernelspec": {
   "display_name": "Python [conda env:cq]",
   "language": "python",
   "name": "conda-env-cq-py"
  },
  "language_info": {
   "codemirror_mode": {
    "name": "ipython",
    "version": 3
   },
   "file_extension": ".py",
   "mimetype": "text/x-python",
   "name": "python",
   "nbconvert_exporter": "python",
   "pygments_lexer": "ipython3",
   "version": "3.12.2"
  }
 },
 "nbformat": 4,
 "nbformat_minor": 5
}
