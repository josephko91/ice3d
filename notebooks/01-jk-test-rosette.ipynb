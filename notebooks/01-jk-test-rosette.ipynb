{
 "cells": [
  {
   "cell_type": "code",
   "execution_count": null,
   "metadata": {},
   "outputs": [],
   "source": []
  }
 ],
 "metadata": {
  "kernelspec": {
   "display_name": "Python 3.12.1 ('torch-test-20140215': conda)",
   "language": "python",
   "name": "python3"
  },
  "language_info": {
   "name": "python",
   "version": "3.12.1"
  },
  "orig_nbformat": 4,
  "vscode": {
   "interpreter": {
    "hash": "d3f3bbc5cbc9a10cca7152d970346569815511504d1faecf13cac79ca1ec02fa"
   }
  }
 },
 "nbformat": 4,
 "nbformat_minor": 2
}
