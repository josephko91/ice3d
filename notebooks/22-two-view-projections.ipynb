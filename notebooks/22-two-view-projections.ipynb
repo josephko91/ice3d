{
 "cells": [
  {
   "cell_type": "code",
   "execution_count": 9,
   "id": "d72fdc18-5a9a-416b-8a37-4de10e7d480e",
   "metadata": {},
   "outputs": [],
   "source": [
    "import pyvista as pv\n",
    "import os, random\n",
    "import numpy as np\n",
    "import miniball\n",
    "import matplotlib.pyplot as plt"
   ]
  },
  {
   "cell_type": "code",
   "execution_count": 115,
   "id": "b92651a6-01d2-40aa-8e66-08e47d616cf5",
   "metadata": {},
   "outputs": [],
   "source": [
    "# Load single stl file\n",
    "stl_dir = '/glade/derecho/scratch/joko/synth-ros/n1000-test-20250226/stl'\n",
    "id = random.randint(1, 69999)\n",
    "id = f'{id:06d}'\n",
    "filename = f'ros-test-{id}.stl'\n",
    "mesh1 = pv.read(os.path.join(stl_dir, filename))"
   ]
  },
  {
   "cell_type": "code",
   "execution_count": 116,
   "id": "c3436780-9a87-42ea-8538-883097f581cf",
   "metadata": {},
   "outputs": [],
   "source": [
    "# set base output directory\n",
    "output_base = '/glade/derecho/scratch/joko/synth-ros/test-stereo-projections'"
   ]
  },
  {
   "cell_type": "markdown",
   "id": "88cdbac7-3f97-4ab2-84c6-8a117d309569",
   "metadata": {},
   "source": [
    "# 2D-S"
   ]
  },
  {
   "cell_type": "markdown",
   "id": "76141ed9-290f-4935-a707-c948cd01e3a8",
   "metadata": {},
   "source": [
    "- orthogonal (90 deg) between two views\n",
    "- source: https://www.arm.gov/publications/tech_reports/handbooks/doe-sc-arm-tr-233.pdf"
   ]
  },
  {
   "cell_type": "code",
   "execution_count": 123,
   "id": "b360d285-22e1-445b-b51f-d05a25decc16",
   "metadata": {},
   "outputs": [
    {
     "name": "stdout",
     "output_type": "stream",
     "text": [
      "processing ros-test-023938.stl\n",
      "-> random rotation 1\n",
      "-> random rotation 2\n",
      "-> random rotation 3\n",
      "-> random rotation 4\n",
      "-> random rotation 5\n",
      "-> random rotation 6\n",
      "-> random rotation 7\n",
      "-> random rotation 8\n",
      "-> random rotation 9\n",
      "-> random rotation 10\n"
     ]
    }
   ],
   "source": [
    "# get randome stereo views of crystal\n",
    "print(f'processing {filename}')\n",
    "theta = 90 # angle between two views\n",
    "proj_id = 1 # projection id\n",
    "res=128\n",
    "bg_color='black'\n",
    "obj_color='white'\n",
    "op=1.0\n",
    "def random_rotate(mesh):\n",
    "    \"\"\"\n",
    "    Rotate rosette in a random orientation\n",
    "    TODO:\n",
    "    - fix bug related to the reliance on model attribute\n",
    "    \"\"\"\n",
    "    rotated = mesh.copy()\n",
    "    deg_x = np.random.randint(1, 360)\n",
    "    deg_y = np.random.randint(1, 360)\n",
    "    deg_z = np.random.randint(1, 360)\n",
    "    rotated_model = rotated.rotate_x(deg_x, inplace=False)\n",
    "    rotated_model.rotate_y(deg_y, inplace=True)\n",
    "    rotated_model.rotate_z(deg_z, inplace=True)\n",
    "    return rotated_model\n",
    "# Rotate randomly N times\n",
    "N = 10\n",
    "for i in range(N):\n",
    "    print(f'-> random rotation {proj_id}')\n",
    "    # first, randomly rotate \n",
    "    mesh2 = random_rotate(mesh1)\n",
    "    # second, rotate theta degrees, about some set axis (z-axis)\n",
    "    axis = np.array([0, 0, 1])  # Example: rotation around the diagonal of XY-plane\n",
    "    theta = 90  # Rotate theta degrees\n",
    "    mesh3 = mesh2.rotate_vector(axis, theta, point=(0, 0, 0))  # Rotate about the origin\n",
    "    # save stereo projections\n",
    "    save_dir = os.path.join(output_base, '2ds')\n",
    "    view1_filename = f'ros-proj-{id}-{proj_id:03d}-1.png'\n",
    "    view1_path = os.path.join(save_dir, view1_filename)                          \n",
    "    view2_filename = f'ros-proj-{id}-{proj_id:03d}-2.png'\n",
    "    view2_path = os.path.join(save_dir, view2_filename)\n",
    "    pl1 = pv.Plotter(off_screen=True, window_size=[res, res])\n",
    "    pl1.background_color = bg_color\n",
    "    pl1.enable_parallel_projection()\n",
    "    pl1.remove_all_lights()\n",
    "    pl1.add_mesh(mesh2, show_edges=None, color = obj_color, opacity=op, name='mesh')\n",
    "    pl1.screenshot(view1_path, return_img=False)\n",
    "    pl2 = pv.Plotter(off_screen=True, window_size=[res, res])\n",
    "    pl2.background_color = bg_color\n",
    "    pl2.enable_parallel_projection()\n",
    "    pl2.remove_all_lights()\n",
    "    pl2.add_mesh(mesh3, show_edges=None, color = obj_color, opacity=op, name='mesh')\n",
    "    pl2.screenshot(view2_path, return_img=False)\n",
    "    proj_id += 1"
   ]
  },
  {
   "cell_type": "code",
   "execution_count": null,
   "id": "0370daea-4544-4f25-9826-20fdcd74255b",
   "metadata": {},
   "outputs": [],
   "source": []
  },
  {
   "cell_type": "code",
   "execution_count": null,
   "id": "5185d71f-c0c5-4d5c-8073-a384371f847b",
   "metadata": {},
   "outputs": [],
   "source": []
  },
  {
   "cell_type": "markdown",
   "id": "9c24afc4-dbdd-41f7-b589-75757261fe22",
   "metadata": {},
   "source": [
    "# PHIPS-HALO"
   ]
  },
  {
   "cell_type": "markdown",
   "id": "abb65cf7-60a5-445c-889f-ec54459b1616",
   "metadata": {},
   "source": [
    "- 120 deg between two views\n",
    "- source: https://amt.copernicus.org/articles/14/3049/2021/"
   ]
  },
  {
   "cell_type": "code",
   "execution_count": 127,
   "id": "e8cf84bf-26dd-4824-b3b8-cdcaf744445e",
   "metadata": {},
   "outputs": [
    {
     "name": "stdout",
     "output_type": "stream",
     "text": [
      "processing ros-test-023938.stl\n",
      "-> random rotation 1\n",
      "-> random rotation 2\n",
      "-> random rotation 3\n",
      "-> random rotation 4\n",
      "-> random rotation 5\n",
      "-> random rotation 6\n",
      "-> random rotation 7\n",
      "-> random rotation 8\n",
      "-> random rotation 9\n",
      "-> random rotation 10\n"
     ]
    }
   ],
   "source": [
    "# get randome stereo views of crystal\n",
    "print(f'processing {filename}')\n",
    "theta = 120 # angle between two views\n",
    "proj_id = 1 # projection id\n",
    "res=128\n",
    "bg_color='black'\n",
    "obj_color='white'\n",
    "op=1.0\n",
    "def random_rotate(mesh):\n",
    "    \"\"\"\n",
    "    Rotate rosette in a random orientation\n",
    "    TODO:\n",
    "    - fix bug related to the reliance on model attribute\n",
    "    \"\"\"\n",
    "    rotated = mesh.copy()\n",
    "    deg_x = np.random.randint(1, 360)\n",
    "    deg_y = np.random.randint(1, 360)\n",
    "    deg_z = np.random.randint(1, 360)\n",
    "    rotated_model = rotated.rotate_x(deg_x, inplace=False)\n",
    "    rotated_model.rotate_y(deg_y, inplace=True)\n",
    "    rotated_model.rotate_z(deg_z, inplace=True)\n",
    "    return rotated_model\n",
    "# Rotate randomly N times\n",
    "N = 10\n",
    "for i in range(N):\n",
    "    print(f'-> random rotation {proj_id}')\n",
    "    # first, randomly rotate \n",
    "    mesh2 = random_rotate(mesh1)\n",
    "    # second, rotate theta degrees, about some set axis (z-axis)\n",
    "    axis = np.array([0, 0, 1])  # Example: rotation around the diagonal of XY-plane\n",
    "    mesh3 = mesh2.rotate_vector(axis, theta, point=(0, 0, 0))  # Rotate about the origin\n",
    "    # save stereo projections\n",
    "    save_dir = os.path.join(output_base, 'phips')\n",
    "    view1_filename = f'ros-proj-{id}-{proj_id:03d}-1.png'\n",
    "    view1_path = os.path.join(save_dir, view1_filename)                          \n",
    "    view2_filename = f'ros-proj-{id}-{proj_id:03d}-2.png'\n",
    "    view2_path = os.path.join(save_dir, view2_filename)\n",
    "    pl1 = pv.Plotter(off_screen=True, window_size=[res, res])\n",
    "    pl1.background_color = bg_color\n",
    "    pl1.enable_parallel_projection()\n",
    "    pl1.remove_all_lights()\n",
    "    pl1.add_mesh(mesh2, show_edges=None, color = obj_color, opacity=op, name='mesh')\n",
    "    pl1.screenshot(view1_path, return_img=False)\n",
    "    pl2 = pv.Plotter(off_screen=True, window_size=[res, res])\n",
    "    pl2.background_color = bg_color\n",
    "    pl2.enable_parallel_projection()\n",
    "    pl2.remove_all_lights()\n",
    "    pl2.add_mesh(mesh3, show_edges=None, color = obj_color, opacity=op, name='mesh')\n",
    "    pl2.screenshot(view2_path, return_img=False)\n",
    "    proj_id += 1"
   ]
  },
  {
   "cell_type": "markdown",
   "id": "60d58267-88bf-4cc6-a362-ddcc735e3f0d",
   "metadata": {},
   "source": [
    "# Scratch"
   ]
  },
  {
   "cell_type": "code",
   "execution_count": null,
   "id": "9dbdacac-31a2-45bd-9097-86d536df4287",
   "metadata": {},
   "outputs": [],
   "source": [
    "# example_meshes = [attr for attr in dir(pv.examples) if callable(getattr(pv.examples, attr))]\n",
    "# print(example_meshes)\n",
    "# mesh1 = pv.Cube()"
   ]
  },
  {
   "cell_type": "code",
   "execution_count": null,
   "id": "26539c63-5ddd-4428-bc9a-c2c84839a9a9",
   "metadata": {},
   "outputs": [],
   "source": [
    "# Plot original view\n",
    "# Set up PyVista plotter\n",
    "plotter = pv.Plotter(off_screen=True)  # Off-screen rendering\n",
    "plotter.add_mesh(mesh1, color=\"lightblue\", show_edges=False)\n",
    "# plotter.camera_position = 'xy'  # Set static camera view\n",
    "plotter.show(jupyter_backend='static')"
   ]
  },
  {
   "cell_type": "code",
   "execution_count": null,
   "id": "a2dfda3a-0c1b-48a6-9cc8-e4207de2862d",
   "metadata": {},
   "outputs": [],
   "source": [
    "# rotate by arbitrary angle \n",
    "def random_rotate(mesh):\n",
    "    \"\"\"\n",
    "    Rotate rosette in a random orientation\n",
    "    TODO:\n",
    "    - fix bug related to the reliance on model attribute\n",
    "    \"\"\"\n",
    "    rotated = mesh.copy()\n",
    "    deg_x = np.random.randint(1, 360)\n",
    "    deg_y = np.random.randint(1, 360)\n",
    "    deg_z = np.random.randint(1, 360)\n",
    "    rotated_model = rotated.rotate_x(deg_x, inplace=False)\n",
    "    rotated_model.rotate_y(deg_y, inplace=True)\n",
    "    rotated_model.rotate_z(deg_z, inplace=True)\n",
    "    print(f'x: {deg_x}, y: {deg_y}, z: {deg_z}')\n",
    "    return rotated_model\n",
    "mesh2 = random_rotate(mesh1)\n",
    "\n",
    "# plot\n",
    "plotter = pv.Plotter(off_screen=True)  # Off-screen rendering\n",
    "plotter.add_mesh(mesh1, color='red', opacity=0.5)\n",
    "plotter.add_mesh(mesh2, color=\"lightblue\", show_edges=False)\n",
    "# plotter.camera_position = 'xy'  # Set static camera view\n",
    "plotter.show(jupyter_backend='static')"
   ]
  },
  {
   "cell_type": "code",
   "execution_count": null,
   "id": "cda9b8ff-7646-4f6d-871c-d7e628072465",
   "metadata": {},
   "outputs": [],
   "source": [
    "# rotate again but this time by specified angle of 90 deg\n",
    "# Define the arbitrary axis of rotation (must be a unit vector)\n",
    "axis = np.array([0, 0, 1])  # Example: rotation around the diagonal of XY-plane\n",
    "axis = axis / np.linalg.norm(axis)  # Normalize the axis\n",
    "# Define the rotation angle (in degrees)\n",
    "theta = 90  # Rotate theta degrees\n",
    "# Rotate the mesh\n",
    "mesh3 = mesh2.rotate_vector(axis, theta, point=(0, 0, 0))  # Rotate about the origin\n",
    "# plot\n",
    "plotter = pv.Plotter(off_screen=True)  # Off-screen rendering\n",
    "# plotter.add_mesh(mesh1, color='red', opacity=0.2)\n",
    "plotter.add_mesh(mesh2, color='gray', opacity=0.2)\n",
    "plotter.add_mesh(mesh3, color=\"lightblue\", show_edges=False)\n",
    "# plotter.add_axes_at_origin()\n",
    "# plotter.camera_position = 'xy'  # Set static camera view\n",
    "plotter.show(jupyter_backend='static')"
   ]
  }
 ],
 "metadata": {
  "kernelspec": {
   "display_name": "Python [conda env:.conda-pyvista_pip]",
   "language": "python",
   "name": "conda-env-.conda-pyvista_pip-py"
  },
  "language_info": {
   "codemirror_mode": {
    "name": "ipython",
    "version": 3
   },
   "file_extension": ".py",
   "mimetype": "text/x-python",
   "name": "python",
   "nbconvert_exporter": "python",
   "pygments_lexer": "ipython3",
   "version": "3.12.4"
  }
 },
 "nbformat": 4,
 "nbformat_minor": 5
}
