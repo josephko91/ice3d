{
 "cells": [
  {
   "cell_type": "code",
   "execution_count": 4,
   "id": "d72fdc18-5a9a-416b-8a37-4de10e7d480e",
   "metadata": {},
   "outputs": [],
   "source": [
    "import pyvista as pv\n",
    "import os, random\n",
    "import numpy as np\n",
    "import miniball\n",
    "import matplotlib.pyplot as plt"
   ]
  },
  {
   "cell_type": "code",
   "execution_count": 49,
   "id": "b92651a6-01d2-40aa-8e66-08e47d616cf5",
   "metadata": {},
   "outputs": [
    {
     "name": "stdout",
     "output_type": "stream",
     "text": [
      "loading /glade/derecho/scratch/joko/synth-ros/n1000-test-20250226/stl/ros-test-027456.stl\n"
     ]
    }
   ],
   "source": [
    "# Load single stl file\n",
    "stl_dir = '/glade/derecho/scratch/joko/synth-ros/n1000-test-20250226/stl'\n",
    "id = random.randint(1, 69999)\n",
    "id = f'{id:06d}'\n",
    "filename = f'ros-test-{id}.stl'\n",
    "filepath = os.path.join(stl_dir, filename)\n",
    "print(f'loading {filepath}')\n",
    "mesh = pv.read(filepath)\n",
    "# mesh = pv.examples.download_bunny()\n",
    "# mesh = pv.Cube()"
   ]
  },
  {
   "cell_type": "code",
   "execution_count": 6,
   "id": "c3436780-9a87-42ea-8538-883097f581cf",
   "metadata": {},
   "outputs": [],
   "source": [
    "# set base output directory\n",
    "output_base = '/glade/derecho/scratch/joko/synth-ros/test-stereo-projections'"
   ]
  },
  {
   "cell_type": "markdown",
   "id": "c75bf709-d3d2-4497-a582-48f9b6aa7bcf",
   "metadata": {
    "jp-MarkdownHeadingCollapsed": true
   },
   "source": [
    "# Method 1: Rotate Mesh"
   ]
  },
  {
   "cell_type": "code",
   "execution_count": 51,
   "id": "dc9be0b5-e2c9-4fd5-812c-7f4cce185040",
   "metadata": {},
   "outputs": [
    {
     "data": {
      "text/plain": [
       "[-6.796073913574219, 6.313880920410156, -2.7538375854492188]"
      ]
     },
     "execution_count": 51,
     "metadata": {},
     "output_type": "execute_result"
    }
   ],
   "source": [
    "mesh.center"
   ]
  },
  {
   "cell_type": "code",
   "execution_count": 50,
   "id": "eafa50c7-1f49-4dc4-9352-6a85b05f5d9f",
   "metadata": {},
   "outputs": [],
   "source": [
    "def get_orthogonal_vector(v):\n",
    "    '''\n",
    "    Return an arbitrary orthogonal vector to v\n",
    "    '''    \n",
    "    arbitrary_vector = np.array([1, 0, 0])\n",
    "    v_orth = np.cross(v, arbitrary_vector)\n",
    "    # If v1 and arbitrary_vector are parallel, you could end up with a zero vector, \n",
    "    # in which case you'd need to choose a different arbitrary vector. Let's check:\n",
    "    if np.all(v_orth == 0):\n",
    "        arbitrary_vector = np.array([0, 1, 0]) # set to another arbitrary vector (e.g., [0, 1, 0])\n",
    "        v_orth = np.cross(v1, arbitrary_vector)\n",
    "    # Normalize the orthogonal vector v2\n",
    "    v_orth = v_orth / np.linalg.norm(v_orth)\n",
    "    return v_orth"
   ]
  },
  {
   "cell_type": "code",
   "execution_count": 52,
   "id": "fcb58182-f48d-4b85-bbfe-77aa1ecebb71",
   "metadata": {},
   "outputs": [],
   "source": [
    "# set paths \n",
    "output_dir = os.path.join(output_base, 'method1-rotate-mesh-v2')\n",
    "os.makedirs(output_dir, exist_ok=True)\n",
    "path_default = os.path.join(output_dir, 'default.png')\n",
    "path_2ds = os.path.join(output_dir, '2ds.png')\n",
    "path_phips = os.path.join(output_dir, 'phips.png')\n",
    "# initiate plotter and settings\n",
    "theta = 90 # angle between two views\n",
    "proj_id = 1 # projection id\n",
    "res=224\n",
    "bg_color='black'\n",
    "obj_color='white'\n",
    "op=1.0\n",
    "pl = pv.Plotter(off_screen=True, window_size=[res, res])\n",
    "pl.background_color = bg_color\n",
    "pl.enable_parallel_projection()\n",
    "pl.remove_all_lights()\n",
    "# default view\n",
    "actor_default = pl.add_mesh(mesh, show_edges=None, color = obj_color, opacity=op)\n",
    "# pl.camera.focal_point = [0,0,0] # look at origin\n",
    "# pl.camera.position = [pl.camera.distance, 0, 0] # move camera on x-axis, maintain same distance\n",
    "pl.render()\n",
    "pl.screenshot(path_default, return_img=False)\n",
    "# 2ds view (90 degs)\n",
    "axis = get_orthogonal_vector(pl.camera.position) # rotate around axis that is orthogonal to camera view\n",
    "theta_2ds = 90  # Rotate theta degrees\n",
    "mesh_2ds = mesh.rotate_vector(axis, theta_2ds, point=mesh.center)  # Rotate about mesh center\n",
    "actor_2ds = pl.add_mesh(mesh_2ds, show_edges=None, color = obj_color, opacity=op)\n",
    "pl.remove_actor(actor_default) # remove default mesh \n",
    "pl.render()\n",
    "pl.screenshot(path_2ds, return_img=False)\n",
    "# phips view (120 degs)\n",
    "theta_phips = 120\n",
    "mesh_phips = mesh.rotate_vector(axis, theta_phips, point=mesh.center)\n",
    "pl.add_mesh(mesh_phips, show_edges=None, color = obj_color, opacity=op)\n",
    "pl.remove_actor(actor_2ds) # remove default mesh \n",
    "pl.render()\n",
    "pl.screenshot(path_phips, return_img=False)"
   ]
  },
  {
   "cell_type": "code",
   "execution_count": null,
   "id": "1cfb1166-e49c-442c-8f8f-35e3cff75d45",
   "metadata": {},
   "outputs": [],
   "source": [
    "# Given vector v1 (it should be a 3D vector)\n",
    "v1 = np.array([1, 2, 3])\n",
    "\n",
    "# Given point P on the vector v2 (assume a point P = [px, py, pz])\n",
    "P = np.array([4, 5, 6])\n",
    "\n",
    "# Choose an arbitrary vector not parallel to v1 (for example, the x-axis direction if v1 isn't aligned with it)\n",
    "# We are assuming that v1 is not parallel to [1, 0, 0], but if it is, you can use another vector, e.g., [0, 1, 0].\n",
    "arbitrary_vector = np.array([1, 0, 0])\n",
    "\n",
    "# Compute the cross product of v1 and arbitrary_vector to get a vector orthogonal to v1\n",
    "v2 = np.cross(v1, arbitrary_vector)\n",
    "\n",
    "# If v1 and arbitrary_vector are parallel, you could end up with a zero vector, \n",
    "# in which case you'd need to choose a different arbitrary vector. Let's check:\n",
    "if np.all(v2 == 0):\n",
    "    # Try another arbitrary vector (e.g., [0, 1, 0])\n",
    "    arbitrary_vector = np.array([0, 1, 0])\n",
    "    v2 = np.cross(v1, arbitrary_vector)\n",
    "\n",
    "# Normalize the orthogonal vector v2\n",
    "v2 = v2 / np.linalg.norm(v2)"
   ]
  },
  {
   "cell_type": "markdown",
   "id": "6e940d55-9bd0-4db2-b666-0836b7db4f54",
   "metadata": {},
   "source": [
    "# Method 2: Move Camera"
   ]
  },
  {
   "cell_type": "code",
   "execution_count": null,
   "id": "661c05be-32eb-49f4-9b7b-cf8999f1eaff",
   "metadata": {},
   "outputs": [],
   "source": []
  },
  {
   "cell_type": "code",
   "execution_count": null,
   "id": "a8752d26-a7aa-469b-8a20-b8ace8c5a266",
   "metadata": {},
   "outputs": [],
   "source": []
  },
  {
   "cell_type": "markdown",
   "id": "88cdbac7-3f97-4ab2-84c6-8a117d309569",
   "metadata": {},
   "source": [
    "# 2D-S"
   ]
  },
  {
   "cell_type": "markdown",
   "id": "76141ed9-290f-4935-a707-c948cd01e3a8",
   "metadata": {},
   "source": [
    "- orthogonal (90 deg) between two views\n",
    "- source: https://www.arm.gov/publications/tech_reports/handbooks/doe-sc-arm-tr-233.pdf"
   ]
  },
  {
   "cell_type": "code",
   "execution_count": 45,
   "id": "e5790ad9-2b42-4bfe-98ac-e5b6764243fc",
   "metadata": {},
   "outputs": [
    {
     "data": {
      "text/plain": [
       "[-27.327178955078125, 11.90142822265625, -35.160888671875]"
      ]
     },
     "execution_count": 45,
     "metadata": {},
     "output_type": "execute_result"
    }
   ],
   "source": [
    "mesh1.center"
   ]
  },
  {
   "cell_type": "code",
   "execution_count": 46,
   "id": "4d2ad524-d08f-40e9-b4bd-b73d6b7c15d6",
   "metadata": {},
   "outputs": [
    {
     "name": "stdout",
     "output_type": "stream",
     "text": [
      "vtkOpenGLCamera (0x556c200baf80)\n",
      "  Debug: Off\n",
      "  Modified Time: 184819\n",
      "  Reference Count: 2\n",
      "  Registered Events: (none)\n",
      "  ClippingRange: (1054.97, 3663.6)\n",
      "  DirectionOfProjection: (-0.57735, -0.57735, -0.57735)\n",
      "  Distance: 2207.49\n",
      "  EyeAngle: 2\n",
      "  FocalDisk: 1\n",
      "  FocalDistance: 0\n",
      "  FocalPoint: (-27.3272, 11.9014, -35.1609)\n",
      "  ViewShear: (0, 0, 1)\n",
      "  ParallelProjection: On\n",
      "  ParallelScale: 571.341\n",
      "  Position: (1247.17, 1286.4, 1239.33)\n",
      "  Stereo: Off\n",
      "  Left Eye: 1\n",
      "  Thickness: 2608.63\n",
      "  ViewAngle: 30\n",
      "  UseHorizontalViewAngle: 0\n",
      "  UserTransform: (none)\n",
      "(none)\n",
      "  FreezeFocalPoint: (none)\n",
      "  ViewPlaneNormal: (0.57735, 0.57735, 0.57735)\n",
      "  ViewUp: (0, 0, 1)\n",
      "  WindowCenter: (0, 0)\n",
      "  UseOffAxisProjection: (0)\n",
      "  ScreenBottomLeft: (-0.5, -0.5, -0.5)\n",
      "  ScreenBottomRight: (0.5, -0.5, -0.5)\n",
      "  ScreenTopRight: (0.5, 0.5, -0.5)\n",
      "  ScreenCenter: (0, 0, -0.5)\n",
      "  OffAxisClippingAdjustment: (0)\n",
      "  EyeSeparation: (0.06)\n",
      "  ProjectionPlaneOrientationMatrix: (none  )\n",
      "  EyeTransformMatrix: (0x556c20932980\n",
      "    Debug: Off\n",
      "    Modified Time: 182901\n",
      "    Reference Count: 1\n",
      "    Registered Events: (none)\n",
      "    Elements:\n",
      "        1 0 0 0 \n",
      "        0 1 0 0 \n",
      "        0 0 1 0 \n",
      "        0 0 0 1 \n",
      "  )\n",
      "  ModelTransformMatrix: (0x556c23097430\n",
      "    Debug: Off\n",
      "    Modified Time: 182903\n",
      "    Reference Count: 1\n",
      "    Registered Events: (none)\n",
      "    Elements:\n",
      "        1 0 0 0 \n",
      "        0 1 0 0 \n",
      "        0 0 1 0 \n",
      "        0 0 0 1 \n",
      "  )\n",
      "  ProjectionTransform: (0x556c2305e820\n",
      "    Debug: Off\n",
      "    Modified Time: 182908\n",
      "    Reference Count: 1\n",
      "    Registered Events: (none)\n",
      "    Inverse: (0)\n",
      "    Matrix: (0x556c232196c0)\n",
      "      Debug: Off\n",
      "      Modified Time: 184822\n",
      "      Reference Count: 1\n",
      "      Registered Events: (none)\n",
      "      Elements:\n",
      "            1 0 0 0 \n",
      "            0 1 0 0 \n",
      "            0 0 1 0 \n",
      "            0 0 0 1 \n",
      "    Input: (0)\n",
      "    InverseFlag: 0\n",
      "    NumberOfConcatenatedTransforms: 0\n",
      "  )\n",
      "\n",
      "\n"
     ]
    }
   ],
   "source": [
    "theta = 90 # angle between two views\n",
    "proj_id = 1 # projection id\n",
    "res=128\n",
    "bg_color='black'\n",
    "obj_color='white'\n",
    "op=1.0\n",
    "pl1 = pv.Plotter(off_screen=True, window_size=[res, res])\n",
    "pl1.background_color = bg_color\n",
    "pl1.enable_parallel_projection()\n",
    "pl1.remove_all_lights()\n",
    "pl1.add_mesh(mesh1, show_edges=None, color = obj_color, opacity=op, name='mesh')\n",
    "print(pl1.camera)"
   ]
  },
  {
   "cell_type": "code",
   "execution_count": 123,
   "id": "b360d285-22e1-445b-b51f-d05a25decc16",
   "metadata": {},
   "outputs": [
    {
     "name": "stdout",
     "output_type": "stream",
     "text": [
      "processing ros-test-023938.stl\n",
      "-> random rotation 1\n",
      "-> random rotation 2\n",
      "-> random rotation 3\n",
      "-> random rotation 4\n",
      "-> random rotation 5\n",
      "-> random rotation 6\n",
      "-> random rotation 7\n",
      "-> random rotation 8\n",
      "-> random rotation 9\n",
      "-> random rotation 10\n"
     ]
    }
   ],
   "source": [
    "# get randome stereo views of crystal\n",
    "print(f'processing {filename}')\n",
    "theta = 90 # angle between two views\n",
    "proj_id = 1 # projection id\n",
    "res=128\n",
    "bg_color='black'\n",
    "obj_color='white'\n",
    "op=1.0\n",
    "def random_rotate(mesh):\n",
    "    \"\"\"\n",
    "    Rotate rosette in a random orientation\n",
    "    TODO:\n",
    "    - fix bug related to the reliance on model attribute\n",
    "    \"\"\"\n",
    "    rotated = mesh.copy()\n",
    "    deg_x = np.random.randint(1, 360)\n",
    "    deg_y = np.random.randint(1, 360)\n",
    "    deg_z = np.random.randint(1, 360)\n",
    "    rotated_model = rotated.rotate_x(deg_x, inplace=False)\n",
    "    rotated_model.rotate_y(deg_y, inplace=True)\n",
    "    rotated_model.rotate_z(deg_z, inplace=True)\n",
    "    return rotated_model\n",
    "# Rotate randomly N times\n",
    "N = 10\n",
    "for i in range(N):\n",
    "    print(f'-> random rotation {proj_id}')\n",
    "    # first, randomly rotate \n",
    "    mesh2 = random_rotate(mesh1)\n",
    "    # second, rotate theta degrees, about some set axis (z-axis)\n",
    "    axis = np.array([0, 0, 1])  # Example: rotation around the diagonal of XY-plane\n",
    "    theta = 90  # Rotate theta degrees\n",
    "    mesh3 = mesh2.rotate_vector(axis, theta, point=(0, 0, 0))  # Rotate about the origin\n",
    "    # save stereo projections\n",
    "    save_dir = os.path.join(output_base, '2ds')\n",
    "    view1_filename = f'ros-proj-{id}-{proj_id:03d}-1.png'\n",
    "    view1_path = os.path.join(save_dir, view1_filename)                          \n",
    "    view2_filename = f'ros-proj-{id}-{proj_id:03d}-2.png'\n",
    "    view2_path = os.path.join(save_dir, view2_filename)\n",
    "    pl1 = pv.Plotter(off_screen=True, window_size=[res, res])\n",
    "    pl1.background_color = bg_color\n",
    "    pl1.enable_parallel_projection()\n",
    "    pl1.remove_all_lights()\n",
    "    pl1.add_mesh(mesh2, show_edges=None, color = obj_color, opacity=op, name='mesh')\n",
    "    pl1.screenshot(view1_path, return_img=False)\n",
    "    pl2 = pv.Plotter(off_screen=True, window_size=[res, res])\n",
    "    pl2.background_color = bg_color\n",
    "    pl2.enable_parallel_projection()\n",
    "    pl2.remove_all_lights()\n",
    "    pl2.add_mesh(mesh3, show_edges=None, color = obj_color, opacity=op, name='mesh')\n",
    "    pl2.screenshot(view2_path, return_img=False)\n",
    "    proj_id += 1"
   ]
  },
  {
   "cell_type": "code",
   "execution_count": null,
   "id": "0370daea-4544-4f25-9826-20fdcd74255b",
   "metadata": {},
   "outputs": [],
   "source": []
  },
  {
   "cell_type": "code",
   "execution_count": null,
   "id": "5185d71f-c0c5-4d5c-8073-a384371f847b",
   "metadata": {},
   "outputs": [],
   "source": []
  },
  {
   "cell_type": "markdown",
   "id": "9c24afc4-dbdd-41f7-b589-75757261fe22",
   "metadata": {},
   "source": [
    "# PHIPS-HALO"
   ]
  },
  {
   "cell_type": "markdown",
   "id": "abb65cf7-60a5-445c-889f-ec54459b1616",
   "metadata": {},
   "source": [
    "- 120 deg between two views\n",
    "- source: https://amt.copernicus.org/articles/14/3049/2021/"
   ]
  },
  {
   "cell_type": "code",
   "execution_count": 127,
   "id": "e8cf84bf-26dd-4824-b3b8-cdcaf744445e",
   "metadata": {},
   "outputs": [
    {
     "name": "stdout",
     "output_type": "stream",
     "text": [
      "processing ros-test-023938.stl\n",
      "-> random rotation 1\n",
      "-> random rotation 2\n",
      "-> random rotation 3\n",
      "-> random rotation 4\n",
      "-> random rotation 5\n",
      "-> random rotation 6\n",
      "-> random rotation 7\n",
      "-> random rotation 8\n",
      "-> random rotation 9\n",
      "-> random rotation 10\n"
     ]
    }
   ],
   "source": [
    "# get randome stereo views of crystal\n",
    "print(f'processing {filename}')\n",
    "theta = 120 # angle between two views\n",
    "proj_id = 1 # projection id\n",
    "res=128\n",
    "bg_color='black'\n",
    "obj_color='white'\n",
    "op=1.0\n",
    "def random_rotate(mesh):\n",
    "    \"\"\"\n",
    "    Rotate rosette in a random orientation\n",
    "    TODO:\n",
    "    - fix bug related to the reliance on model attribute\n",
    "    \"\"\"\n",
    "    rotated = mesh.copy()\n",
    "    deg_x = np.random.randint(1, 360)\n",
    "    deg_y = np.random.randint(1, 360)\n",
    "    deg_z = np.random.randint(1, 360)\n",
    "    rotated_model = rotated.rotate_x(deg_x, inplace=False)\n",
    "    rotated_model.rotate_y(deg_y, inplace=True)\n",
    "    rotated_model.rotate_z(deg_z, inplace=True)\n",
    "    return rotated_model\n",
    "# Rotate randomly N times\n",
    "N = 10\n",
    "for i in range(N):\n",
    "    print(f'-> random rotation {proj_id}')\n",
    "    # first, randomly rotate \n",
    "    mesh2 = random_rotate(mesh1)\n",
    "    # second, rotate theta degrees, about some set axis (z-axis)\n",
    "    axis = np.array([0, 0, 1])  # Example: rotation around the diagonal of XY-plane\n",
    "    mesh3 = mesh2.rotate_vector(axis, theta, point=(0, 0, 0))  # Rotate about the origin\n",
    "    # save stereo projections\n",
    "    save_dir = os.path.join(output_base, 'phips')\n",
    "    view1_filename = f'ros-proj-{id}-{proj_id:03d}-1.png'\n",
    "    view1_path = os.path.join(save_dir, view1_filename)                          \n",
    "    view2_filename = f'ros-proj-{id}-{proj_id:03d}-2.png'\n",
    "    view2_path = os.path.join(save_dir, view2_filename)\n",
    "    pl1 = pv.Plotter(off_screen=True, window_size=[res, res])\n",
    "    pl1.background_color = bg_color\n",
    "    pl1.enable_parallel_projection()\n",
    "    pl1.remove_all_lights()\n",
    "    pl1.add_mesh(mesh2, show_edges=None, color = obj_color, opacity=op, name='mesh')\n",
    "    pl1.screenshot(view1_path, return_img=False)\n",
    "    pl2 = pv.Plotter(off_screen=True, window_size=[res, res])\n",
    "    pl2.background_color = bg_color\n",
    "    pl2.enable_parallel_projection()\n",
    "    pl2.remove_all_lights()\n",
    "    pl2.add_mesh(mesh3, show_edges=None, color = obj_color, opacity=op, name='mesh')\n",
    "    pl2.screenshot(view2_path, return_img=False)\n",
    "    proj_id += 1"
   ]
  },
  {
   "cell_type": "markdown",
   "id": "2d8620e5-a0b9-431e-bf40-e75ecf26ad87",
   "metadata": {},
   "source": [
    "# Test: multi-projections from stl"
   ]
  },
  {
   "cell_type": "code",
   "execution_count": 172,
   "id": "bacbd53b-9702-42cd-a38b-7a62d657665b",
   "metadata": {},
   "outputs": [],
   "source": [
    "import pyvista as pv\n",
    "import os, sys\n",
    "import random\n",
    "import numpy as np\n",
    "import json"
   ]
  },
  {
   "cell_type": "code",
   "execution_count": 173,
   "id": "04efc690-dc0b-43d4-9fc1-52d639431cbd",
   "metadata": {},
   "outputs": [],
   "source": [
    "# get small test batch of stl files\n",
    "n_proj = 10\n",
    "# set directories\n",
    "save_dir = '/glade/u/home/joko/ice3d/output/test-multi-projections'\n",
    "os.makedirs(save_dir, exist_ok=True)\n",
    "# Load the JSON file\n",
    "params_path = '/glade/u/home/joko/ice3d/output/params_200_50.json'\n",
    "with open(params_path, 'rb') as file:\n",
    "    params = json.load(file)\n",
    "# load list of STL filepaths\n",
    "stl_paths_txt = '/glade/derecho/scratch/joko/synth-ros/params_200_50-debug-20250316/stl/stl_relative_paths.txt'\n",
    "with open(stl_paths_txt, 'r') as file:\n",
    "    basepath = '/glade/derecho/scratch/joko/synth-ros/params_200_50-debug-20250316/stl'\n",
    "    rel_paths = [line.strip().replace('./','') for line in file]\n",
    "    stl_paths = [os.path.join(basepath, i) for i in rel_paths]\n",
    "stl_paths = random.sample(stl_paths, 100)"
   ]
  },
  {
   "cell_type": "code",
   "execution_count": 174,
   "id": "1ce49f49-7af1-454d-9842-8ffd0f2e5e1c",
   "metadata": {},
   "outputs": [],
   "source": [
    "def random_rotate(mesh):\n",
    "    rotated = mesh.copy()\n",
    "    deg_x = np.random.randint(1, 360)\n",
    "    deg_y = np.random.randint(1, 360)\n",
    "    deg_z = np.random.randint(1, 360)\n",
    "    rotated.rotate_x(deg_x, inplace=True)\n",
    "    rotated.rotate_y(deg_y, inplace=True)\n",
    "    rotated.rotate_z(deg_z, inplace=True)\n",
    "    return rotated\n",
    "def process_instance(stl_path, save_dir, n_proj, params):\n",
    "    # projection parameters \n",
    "    res = 128\n",
    "    bg_color='white'\n",
    "    obj_color='black'\n",
    "    op=1.0\n",
    "    mesh = pv.read(stl_path) # read stl file as mesh\n",
    "    id = stl_path.rsplit('-',1)[1].rsplit('.',1)[0] # get id as string\n",
    "    n_arms = params[int(id)][0][5]\n",
    "    save_folder = os.path.join(save_dir, str(n_arms))\n",
    "    os.makedirs(save_folder, exist_ok=True)\n",
    "    for i in range(n_proj):\n",
    "        # initiate plotter\n",
    "        pl = pv.Plotter(off_screen=True, window_size=[res, res])\n",
    "        pl.background_color = bg_color\n",
    "        pl.enable_parallel_projection()\n",
    "        pl.remove_all_lights()\n",
    "        # x-y projection\n",
    "        rotated_mesh = random_rotate(mesh)\n",
    "        pl.add_mesh(rotated_mesh, show_edges=None, color = obj_color, opacity=op, name='mesh')\n",
    "        pl.camera.focal_point = [0,0,0]\n",
    "        pl.camera.position = [pl.camera.distance, 0, 0]\n",
    "        camera_position_default = pl.camera.position\n",
    "        name_default = f'ros-projection-{id}-{i:03d}-default.png'\n",
    "        folder_default = os.path.join(save_folder, 'default')\n",
    "        os.makedirs(folder_default, exist_ok=True)\n",
    "        path_default = os.path.join(folder_default, name_default)\n",
    "        pl.render()\n",
    "        pl.screenshot(path_default, return_img=False)\n",
    "        # 2D-S (90deg), second view\n",
    "        pl.camera.azimuth=90.0 \n",
    "        name_2ds = f'ros-projection-{id}-{i:03d}-2ds.png'\n",
    "        folder_2ds = os.path.join(save_folder, '2ds')\n",
    "        os.makedirs(folder_2ds, exist_ok=True)\n",
    "        path_2ds = os.path.join(folder_2ds, name_2ds)\n",
    "        pl.render()\n",
    "        pl.screenshot(path_2ds, return_img=False)\n",
    "        # reset camera\n",
    "        pl.camera.position = camera_default_position \n",
    "        # PHIPS-HALO (120deg), second view\n",
    "        pl.camera.azimuth=120.0\n",
    "        name_phips = f'ros-projection-{id}-{i:03d}-phips.png'\n",
    "        folder_phips = os.path.join(save_folder, 'phips')\n",
    "        os.makedirs(folder_phips, exist_ok=True)\n",
    "        path_phips = os.path.join(folder_phips, name_phips)\n",
    "        pl.render()\n",
    "        pl.screenshot(path_phips, return_img=False)\n",
    "        pl.close()"
   ]
  },
  {
   "cell_type": "code",
   "execution_count": 175,
   "id": "70caf294-0d64-42df-811f-a4d90850efeb",
   "metadata": {},
   "outputs": [],
   "source": [
    "# process stl files iteratively\n",
    "for stl in stl_paths:\n",
    "    process_instance(stl, save_dir, n_proj, params)"
   ]
  },
  {
   "cell_type": "code",
   "execution_count": null,
   "id": "0f8aafb4-686e-4d6b-b2e6-a83be36c1b7a",
   "metadata": {},
   "outputs": [],
   "source": []
  },
  {
   "cell_type": "code",
   "execution_count": 153,
   "id": "72a740af-ed71-4f3f-bed7-114332ecdbe3",
   "metadata": {},
   "outputs": [
    {
     "name": "stdout",
     "output_type": "stream",
     "text": [
      "(1034.2642917114233, 967.4868258911108, 986.2546176391577)\n"
     ]
    }
   ],
   "source": [
    "stl_path = stl_paths[0]\n",
    "res = 128\n",
    "bg_color='white'\n",
    "obj_color='black'\n",
    "op=1.0\n",
    "mesh = pv.read(stl_path) # read stl file as mesh\n",
    "pl = pv.Plotter(off_screen=True, window_size=[res, res])\n",
    "pl.background_color = bg_color\n",
    "pl.enable_parallel_projection()\n",
    "pl.remove_all_lights()\n",
    "# pl.camera_position = 'xy'  # Set static camera view\n",
    "# x-y projection\n",
    "rotated_mesh = random_rotate(mesh)\n",
    "pl.add_mesh(mesh, show_edges=None, color=obj_color, opacity=op)\n",
    "pl.render()\n",
    "filepath = os.path.join(save_dir, 'view1.png')\n",
    "pl.screenshot(filepath, return_img=False)\n",
    "print(pl.camera.position)"
   ]
  },
  {
   "cell_type": "code",
   "execution_count": 154,
   "id": "a2b9c98d-a08c-43cf-9be2-6516c88f3cf1",
   "metadata": {},
   "outputs": [
    {
     "name": "stdout",
     "output_type": "stream",
     "text": [
      "(1034.2642917114233, 967.4868258911108, 986.2546176391577)\n"
     ]
    }
   ],
   "source": [
    "pl.camera.focal_point = [0,0,0]\n",
    "pl.render()\n",
    "filepath = os.path.join(save_dir, 'view2.png')\n",
    "pl.screenshot(filepath, return_img=False)\n",
    "print(pl.camera.position)"
   ]
  },
  {
   "cell_type": "code",
   "execution_count": 159,
   "id": "89899d6b-81b4-4c2c-8779-d6c1a3396cb2",
   "metadata": {},
   "outputs": [
    {
     "data": {
      "text/plain": [
       "1725.8133022423804"
      ]
     },
     "execution_count": 159,
     "metadata": {},
     "output_type": "execute_result"
    }
   ],
   "source": [
    "pl.camera.distance"
   ]
  },
  {
   "cell_type": "code",
   "execution_count": 155,
   "id": "16c933d5-64b1-46ae-8aa3-b06cf387ce52",
   "metadata": {},
   "outputs": [
    {
     "name": "stdout",
     "output_type": "stream",
     "text": [
      "[np.float64(1725.8133022423804), 0, 0]\n",
      "(1725.8133022423804, 0.0, 0.0)\n"
     ]
    }
   ],
   "source": [
    "# Compute the current distance from the focal point\n",
    "current_position = pl.camera.position\n",
    "current_focal_point = pl.camera.focal_point\n",
    "distance = np.linalg.norm(np.array(current_position) - np.array(current_focal_point))\n",
    "# Set the camera to the 'xy' view but maintain the distance\n",
    "# In the 'xy' plane, the camera position will be along the z-axis\n",
    "# new_position = [distance, 0, 0] \n",
    "new_position = [pl.camera.distance, 0, 0]\n",
    "print(new_position)\n",
    "pl.camera.position = new_position\n",
    "pl.render()\n",
    "filepath = os.path.join(save_dir, 'view3.png')\n",
    "pl.screenshot(filepath, return_img=False)\n",
    "print(pl.camera.position)\n",
    "camera_default_position = pl.camera.position"
   ]
  },
  {
   "cell_type": "code",
   "execution_count": 156,
   "id": "c0caf2f4-cde5-46a4-aa0f-5c5b5c73306c",
   "metadata": {},
   "outputs": [
    {
     "name": "stdout",
     "output_type": "stream",
     "text": [
      "(3.83207532870773e-13, 1725.8133022423804, 0.0)\n"
     ]
    }
   ],
   "source": [
    "# 2ds (90 deg)\n",
    "pl.camera.azimuth=90.0 \n",
    "pl.render()\n",
    "filepath = os.path.join(save_dir, 'view4.png')\n",
    "pl.screenshot(filepath, return_img=False)\n",
    "print(pl.camera.position)"
   ]
  },
  {
   "cell_type": "code",
   "execution_count": 157,
   "id": "f771a1ec-f1da-4a42-bc4c-5285fb35fe07",
   "metadata": {},
   "outputs": [
    {
     "name": "stdout",
     "output_type": "stream",
     "text": [
      "(1725.8133022423804, 0.0, 0.0)\n"
     ]
    }
   ],
   "source": [
    "# reset (rotate back)\n",
    "pl.camera.position = camera_default_position # reset to default\n",
    "pl.render()\n",
    "filepath = os.path.join(save_dir, 'view5.png')\n",
    "pl.screenshot(filepath, return_img=False)\n",
    "print(pl.camera.position)"
   ]
  },
  {
   "cell_type": "code",
   "execution_count": 158,
   "id": "391867ac-60ef-41db-b7ce-cd9ca83a5da9",
   "metadata": {},
   "outputs": [
    {
     "name": "stdout",
     "output_type": "stream",
     "text": [
      "(-862.9066511211898, 1494.5981619310132, 0.0)\n"
     ]
    }
   ],
   "source": [
    "# phips (120 deg)\n",
    "pl.camera.azimuth=120.0 \n",
    "pl.render()\n",
    "filepath = os.path.join(save_dir, 'view6.png')\n",
    "pl.screenshot(filepath, return_img=False)\n",
    "print(pl.camera.position)"
   ]
  },
  {
   "cell_type": "code",
   "execution_count": 137,
   "id": "58d5eb85-cc23-4d1b-a654-1882f787a39c",
   "metadata": {},
   "outputs": [
    {
     "name": "stdout",
     "output_type": "stream",
     "text": [
      "vtkOpenGLCamera (0x5555b6aeccc0)\n",
      "  Debug: Off\n",
      "  Modified Time: 1003587\n",
      "  Reference Count: 2\n",
      "  Registered Events: (none)\n",
      "  ClippingRange: (1156.61, 2293.24)\n",
      "  DirectionOfProjection: (-1, 0, 0)\n",
      "  Distance: 1725.81\n",
      "  EyeAngle: 2\n",
      "  FocalDisk: 1\n",
      "  FocalDistance: 0\n",
      "  FocalPoint: (0, 0, 0)\n",
      "  ViewShear: (0, 0, 1)\n",
      "  ParallelProjection: On\n",
      "  ParallelScale: 433.268\n",
      "  Position: (1725.81, 0, 0)\n",
      "  Stereo: Off\n",
      "  Left Eye: 1\n",
      "  Thickness: 1136.63\n",
      "  ViewAngle: 30\n",
      "  UseHorizontalViewAngle: 0\n",
      "  UserTransform: (none)\n",
      "(none)\n",
      "  FreezeFocalPoint: (none)\n",
      "  ViewPlaneNormal: (1, -0, -0)\n",
      "  ViewUp: (0, 0, 1)\n",
      "  WindowCenter: (0, 0)\n",
      "  UseOffAxisProjection: (0)\n",
      "  ScreenBottomLeft: (-0.5, -0.5, -0.5)\n",
      "  ScreenBottomRight: (0.5, -0.5, -0.5)\n",
      "  ScreenTopRight: (0.5, 0.5, -0.5)\n",
      "  ScreenCenter: (0, 0, -0.5)\n",
      "  OffAxisClippingAdjustment: (0)\n",
      "  EyeSeparation: (0.06)\n",
      "  ProjectionPlaneOrientationMatrix: (none  )\n",
      "  EyeTransformMatrix: (0x5555b7266790\n",
      "    Debug: Off\n",
      "    Modified Time: 999538\n",
      "    Reference Count: 1\n",
      "    Registered Events: (none)\n",
      "    Elements:\n",
      "        1 0 0 0 \n",
      "        0 1 0 0 \n",
      "        0 0 1 0 \n",
      "        0 0 0 1 \n",
      "  )\n",
      "  ModelTransformMatrix: (0x5555b6b640d0\n",
      "    Debug: Off\n",
      "    Modified Time: 999540\n",
      "    Reference Count: 1\n",
      "    Registered Events: (none)\n",
      "    Elements:\n",
      "        1 0 0 0 \n",
      "        0 1 0 0 \n",
      "        0 0 1 0 \n",
      "        0 0 0 1 \n",
      "  )\n",
      "  ProjectionTransform: (0x5555b72753c0\n",
      "    Debug: Off\n",
      "    Modified Time: 1003666\n",
      "    Reference Count: 1\n",
      "    Registered Events: (none)\n",
      "    Inverse: (0)\n",
      "    Matrix: (0x5555b6b3fd90)\n",
      "      Debug: Off\n",
      "      Modified Time: 1003667\n",
      "      Reference Count: 1\n",
      "      Registered Events: (none)\n",
      "      Elements:\n",
      "            0.00230804 0 0 0 \n",
      "            0 0.00230804 0 0 \n",
      "            0 0 -0.00175959 -3.03517 \n",
      "            0 0 0 1 \n",
      "    Input: (0)\n",
      "    InverseFlag: 0\n",
      "    NumberOfConcatenatedTransforms: 1\n",
      "        0: vtkSimpleTransform at 0x5555b6d48700\n",
      "  )\n",
      "\n",
      "\n"
     ]
    }
   ],
   "source": [
    "print(pl.camera)"
   ]
  },
  {
   "cell_type": "code",
   "execution_count": null,
   "id": "0245ebe0-bea3-4716-9a21-287c8033ad6c",
   "metadata": {},
   "outputs": [],
   "source": []
  },
  {
   "cell_type": "code",
   "execution_count": null,
   "id": "020cafa3-a6a6-4ef2-98ad-c902f76b0248",
   "metadata": {},
   "outputs": [],
   "source": [
    "# projection parameters \n",
    "res = 128\n",
    "bg_color='black'\n",
    "obj_color='white'\n",
    "op=1.0\n",
    "mesh = pv.read(stl_path) # read stl file as mesh\n",
    "id = stl_path.rsplit('-',1)[1].rsplit('.',1)[0] # get id as string\n",
    "n_arms = params[int(id)][0][5]\n",
    "save_folder = os.path.join(save_dir, str(n_arms))\n",
    "os.makedirs(save_folder, exist_ok=True)\n",
    "pl = pv.Plotter(off_screen=True, window_size=[res, res])\n",
    "pl.background_color = bg_color\n",
    "pl.enable_parallel_projection()\n",
    "pl.remove_all_lights()\n",
    "pl.camera_position = 'xy'  # Set static camera view\n",
    "# x-y projection\n",
    "rotated_mesh = random_rotate(mesh)\n",
    "pl.add_mesh(rotated_mesh, show_edges=None, color = obj_color, opacity=op, name='mesh')\n",
    "name_default = f'ros-projection-{id}-{i:03d}-default.png'\n",
    "folder_default = os.path.join(save_folder, 'default')\n",
    "os.makedirs(folder_default, exist_ok=True)\n",
    "path_default = os.path.join(folder_default, name_default)\n",
    "pl.screenshot(path_default, return_img=False)"
   ]
  },
  {
   "cell_type": "code",
   "execution_count": 74,
   "id": "7e9c078a-7e60-4657-aa1f-0c31e8d068e5",
   "metadata": {},
   "outputs": [],
   "source": []
  },
  {
   "cell_type": "markdown",
   "id": "60d58267-88bf-4cc6-a362-ddcc735e3f0d",
   "metadata": {},
   "source": [
    "# Scratch"
   ]
  },
  {
   "cell_type": "code",
   "execution_count": 39,
   "id": "639349d4-3913-4916-a8d9-859ffa1bc230",
   "metadata": {},
   "outputs": [],
   "source": [
    "# import pyvista as pv\n",
    "mesh = pv.Cube()\n",
    "rot = mesh.rotate_vector((0, 0, 1), 60, point=(0,0,0),inplace=False)"
   ]
  },
  {
   "cell_type": "code",
   "execution_count": 40,
   "id": "7b0c527c-26c6-418b-b48b-2e34f26e1cd5",
   "metadata": {},
   "outputs": [
    {
     "data": {
      "image/jpeg": "[encoded data removed]",
      "image/png": "[encoded data removed]",
      "text/plain": [
       "<PIL.Image.Image image mode=RGB size=1024x768>"
      ]
     },
     "metadata": {},
     "output_type": "display_data"
    }
   ],
   "source": [
    "pl = pv.Plotter()\n",
    "_ = pl.add_mesh(rot)\n",
    "_ = pl.add_mesh(mesh, style='wireframe', line_width=3)\n",
    "_ = pl.add_axes_at_origin()\n",
    "pl.show(jupyter_backend='static')"
   ]
  },
  {
   "cell_type": "code",
   "execution_count": 64,
   "id": "573f5a7c-90ff-46a2-83d9-4aabd8ddddc9",
   "metadata": {},
   "outputs": [
    {
     "name": "stdout",
     "output_type": "stream",
     "text": [
      "Camera Position: (95.82309341430664, -57.55024719238281, 1201.1071411676937)\n",
      "Camera Focal Point: (95.82309341430664, -57.55024719238281, -38.33238220214844)\n",
      "Camera Elevation: 0.0\n",
      "Camera Azimuth: 0.0\n"
     ]
    }
   ],
   "source": [
    "# Load single stl file\n",
    "stl_dir = '/glade/derecho/scratch/joko/synth-ros/n1000-test-20250226/stl'\n",
    "id = random.randint(1, 69999)\n",
    "id = f'{id:06d}'\n",
    "filename = f'ros-test-{id}.stl'\n",
    "mesh = pv.read(os.path.join(stl_dir, filename))\n",
    "# mesh = pv.Cube()\n",
    "pl = pv.Plotter(off_screen=True)  # Off-screen rendering\n",
    "pl.add_mesh(mesh, color=\"lightblue\", show_edges=False)\n",
    "pl.camera_position = 'xy'  # Set static camera view\n",
    "pl.add_axes()\n",
    "origin = [0, 0, 0]  # The origin (0, 0, 0)\n",
    "# # Create arrows along the X, Y, and Z axes\n",
    "# x_arrow = pv.Arrow(start=origin, direction=(1, 0, 0), scale=2)  # X axis, scaled by 2\n",
    "# y_arrow = pv.Arrow(start=origin, direction=(0, 1, 0), scale=2)  # Y axis, scaled by 2\n",
    "# z_arrow = pv.Arrow(start=origin, direction=(0, 0, 1), scale=2)  # Z axis, scaled by 2\n",
    "# # Add arrows (axis vectors) to the plot with different colors\n",
    "# pl.add_mesh(x_arrow, color=\"red\", label=\"X-axis\")\n",
    "# pl.add_mesh(y_arrow, color=\"green\", label=\"Y-axis\")\n",
    "# pl.add_mesh(z_arrow, color=\"blue\", label=\"Z-axis\")\n",
    "# pl.show(jupyter_backend='static')\n",
    "camera = pl.camera\n",
    "print(\"Camera Position:\", camera.position)\n",
    "print(\"Camera Focal Point:\", camera.focal_point)\n",
    "print(\"Camera Elevation:\", camera.elevation)\n",
    "print(\"Camera Azimuth:\", camera.azimuth)\n",
    "pl.render()\n",
    "pl.screenshot('view-default-1.png', return_img=False)"
   ]
  },
  {
   "cell_type": "code",
   "execution_count": 65,
   "id": "fc4cee34-69e3-4fc8-9165-754160225ffb",
   "metadata": {},
   "outputs": [
    {
     "name": "stdout",
     "output_type": "stream",
     "text": [
      "Camera Position: (1335.2626167841488, -57.55024719238281, -38.33238220214815)\n",
      "Camera Focal Point: (95.82309341430664, -57.55024719238281, -38.33238220214844)\n",
      "Camera Elevation: 0.0\n",
      "Camera Azimuth: 90.0\n"
     ]
    }
   ],
   "source": [
    "pl.camera.azimuth = 90.0\n",
    "# pl.show(jupyter_backend='static')\n",
    "camera = pl.camera\n",
    "print(\"Camera Position:\", camera.position)\n",
    "print(\"Camera Focal Point:\", camera.focal_point)\n",
    "print(\"Camera Elevation:\", camera.elevation)\n",
    "print(\"Camera Azimuth:\", camera.azimuth)\n",
    "pl.render()\n",
    "pl.screenshot('view-90.png', return_img=False)"
   ]
  },
  {
   "cell_type": "code",
   "execution_count": 66,
   "id": "c35f3586-6b10-4019-a71e-f4d35539f5b4",
   "metadata": {},
   "outputs": [
    {
     "name": "stdout",
     "output_type": "stream",
     "text": [
      "Camera Position: (95.82309341430664, -57.55024719238281, 1201.1071411676937)\n",
      "Camera Focal Point: (95.82309341430664, -57.55024719238281, -38.33238220214844)\n",
      "Camera Elevation: 0.0\n",
      "Camera Azimuth: 0.0\n"
     ]
    }
   ],
   "source": [
    "pl.reset_camera()\n",
    "pl.camera_position = 'xy'  # Set static camera view\n",
    "camera = pl.camera\n",
    "# pl.show(jupyter_backend='static')\n",
    "print(\"Camera Position:\", camera.position)\n",
    "print(\"Camera Focal Point:\", camera.focal_point)\n",
    "print(\"Camera Elevation:\", camera.elevation)\n",
    "print(\"Camera Azimuth:\", camera.azimuth)\n",
    "pl.screenshot('view-default-2.png', return_img=False)"
   ]
  },
  {
   "cell_type": "code",
   "execution_count": 67,
   "id": "2b653eab-b62a-4fc0-85f8-937d291f1824",
   "metadata": {},
   "outputs": [
    {
     "name": "stdout",
     "output_type": "stream",
     "text": [
      "Camera Position: (1169.2092071070665, -57.55024719238281, -658.0521438870693)\n",
      "Camera Focal Point: (95.82309341430664, -57.55024719238281, -38.33238220214844)\n",
      "Camera Elevation: 0.0\n",
      "Camera Azimuth: 120.0\n"
     ]
    }
   ],
   "source": [
    "pl.camera.azimuth = 120.0\n",
    "# pl.show(jupyter_backend='static')\n",
    "camera = pl.camera\n",
    "print(\"Camera Position:\", camera.position)\n",
    "print(\"Camera Focal Point:\", camera.focal_point)\n",
    "print(\"Camera Elevation:\", camera.elevation)\n",
    "print(\"Camera Azimuth:\", camera.azimuth)\n",
    "pl.render()\n",
    "pl.screenshot('view-120.png', return_img=False)"
   ]
  },
  {
   "cell_type": "code",
   "execution_count": 17,
   "id": "3e0223c4-0d3c-41fc-9b62-c72c4d853d42",
   "metadata": {},
   "outputs": [
    {
     "data": {
      "image/jpeg": "[encoded data removed]",
      "image/png": "[encoded data removed]",
      "text/plain": [
       "<PIL.Image.Image image mode=RGB size=1024x768>"
      ]
     },
     "metadata": {},
     "output_type": "display_data"
    }
   ],
   "source": [
    "mesh = pv.Cube()\n",
    "pl = pv.Plotter(off_screen=True)  # Off-screen rendering\n",
    "pl.add_mesh(mesh, color=\"lightblue\", show_edges=False)\n",
    "pl.camera_position = 'xy'  # Set static camera view\n",
    "pl.add_axes()\n",
    "origin = [0, 0, 0]  # The origin (0, 0, 0)\n",
    "pl.camera.azimuth = 120.0\n",
    "# Create arrows along the X, Y, and Z axes\n",
    "x_arrow = pv.Arrow(start=origin, direction=(1, 0, 0), scale=2)  # X axis, scaled by 2\n",
    "y_arrow = pv.Arrow(start=origin, direction=(0, 1, 0), scale=2)  # Y axis, scaled by 2\n",
    "z_arrow = pv.Arrow(start=origin, direction=(0, 0, 1), scale=2)  # Z axis, scaled by 2\n",
    "# Add arrows (axis vectors) to the plot with different colors\n",
    "pl.add_mesh(x_arrow, color=\"red\", label=\"X-axis\")\n",
    "pl.add_mesh(y_arrow, color=\"green\", label=\"Y-axis\")\n",
    "pl.add_mesh(z_arrow, color=\"blue\", label=\"Z-axis\")\n",
    "pl.show(jupyter_backend='static')"
   ]
  },
  {
   "cell_type": "code",
   "execution_count": 13,
   "id": "80f1caa1-4c62-4fcb-8760-1700acde961c",
   "metadata": {},
   "outputs": [],
   "source": [
    "pl.camera.azimuth\n",
    "pl.camera.azimuth = 90.0"
   ]
  },
  {
   "cell_type": "code",
   "execution_count": 14,
   "id": "7daa0724-85a6-4bdc-81c8-1a3f5d1c559b",
   "metadata": {},
   "outputs": [
    {
     "data": {
      "image/jpeg": "[encoded data removed]",
      "image/png": "[encoded data removed]",
      "text/plain": [
       "<PIL.Image.Image image mode=RGB size=1024x768>"
      ]
     },
     "metadata": {},
     "output_type": "display_data"
    }
   ],
   "source": [
    "pl.show(jupyter_backend='static')"
   ]
  },
  {
   "cell_type": "code",
   "execution_count": null,
   "id": "4b1c6016-79aa-47d3-93ed-e5ba5d541df4",
   "metadata": {},
   "outputs": [],
   "source": [
    "# azimuth rotation (about z-axis)\n",
    "mesh = pv.Cube()\n",
    "plotter = pv.Plotter(off_screen=True)  # Off-screen rendering\n",
    "plotter.add_mesh(mesh, color=\"lightblue\", show_edges=False)\n",
    "plotter.camera_position = 'xy'  # Set static camera view\n",
    "plotter.add_axes()\n",
    "origin = [0, 0, 0]  # The origin (0, 0, 0)\n",
    "l_axis = 5\n",
    "# Create arrows along the X, Y, and Z axes\n",
    "x_arrow = pv.Arrow(start=origin, direction=(1, 0, 0), scale=2)  # X axis, scaled by 2\n",
    "y_arrow = pv.Arrow(start=origin, direction=(0, 1, 0), scale=2)  # Y axis, scaled by 2\n",
    "z_arrow = pv.Arrow(start=origin, direction=(0, 0, 1), scale=2)  # Z axis, scaled by 2\n",
    "# Add arrows (axis vectors) to the plot with different colors\n",
    "plotter.add_mesh(x_arrow, color=\"red\", label=\"X-axis\")\n",
    "plotter.add_mesh(y_arrow, color=\"green\", label=\"Y-axis\")\n",
    "plotter.add_mesh(z_arrow, color=\"blue\", label=\"Z-axis\")\n",
    "plotter.show(jupyter_backend='static')"
   ]
  },
  {
   "cell_type": "code",
   "execution_count": null,
   "id": "9dbdacac-31a2-45bd-9097-86d536df4287",
   "metadata": {},
   "outputs": [],
   "source": [
    "# example_meshes = [attr for attr in dir(pv.examples) if callable(getattr(pv.examples, attr))]\n",
    "# print(example_meshes)\n",
    "# mesh1 = pv.Cube()"
   ]
  },
  {
   "cell_type": "code",
   "execution_count": null,
   "id": "26539c63-5ddd-4428-bc9a-c2c84839a9a9",
   "metadata": {},
   "outputs": [],
   "source": [
    "# Plot original view\n",
    "# Set up PyVista plotter\n",
    "plotter = pv.Plotter(off_screen=True)  # Off-screen rendering\n",
    "plotter.add_mesh(mesh1, color=\"lightblue\", show_edges=False)\n",
    "# plotter.camera_position = 'xy'  # Set static camera view\n",
    "plotter.show(jupyter_backend='static')"
   ]
  },
  {
   "cell_type": "code",
   "execution_count": null,
   "id": "a2dfda3a-0c1b-48a6-9cc8-e4207de2862d",
   "metadata": {},
   "outputs": [],
   "source": [
    "# rotate by arbitrary angle \n",
    "def random_rotate(mesh):\n",
    "    \"\"\"\n",
    "    Rotate rosette in a random orientation\n",
    "    TODO:\n",
    "    - fix bug related to the reliance on model attribute\n",
    "    \"\"\"\n",
    "    rotated = mesh.copy()\n",
    "    deg_x = np.random.randint(1, 360)\n",
    "    deg_y = np.random.randint(1, 360)\n",
    "    deg_z = np.random.randint(1, 360)\n",
    "    rotated_model = rotated.rotate_x(deg_x, inplace=False)\n",
    "    rotated_model.rotate_y(deg_y, inplace=True)\n",
    "    rotated_model.rotate_z(deg_z, inplace=True)\n",
    "    print(f'x: {deg_x}, y: {deg_y}, z: {deg_z}')\n",
    "    return rotated_model\n",
    "mesh2 = random_rotate(mesh1)\n",
    "\n",
    "# plot\n",
    "plotter = pv.Plotter(off_screen=True)  # Off-screen rendering\n",
    "plotter.add_mesh(mesh1, color='red', opacity=0.5)\n",
    "plotter.add_mesh(mesh2, color=\"lightblue\", show_edges=False)\n",
    "# plotter.camera_position = 'xy'  # Set static camera view\n",
    "plotter.show(jupyter_backend='static')"
   ]
  },
  {
   "cell_type": "code",
   "execution_count": null,
   "id": "cda9b8ff-7646-4f6d-871c-d7e628072465",
   "metadata": {},
   "outputs": [],
   "source": [
    "# rotate again but this time by specified angle of 90 deg\n",
    "# Define the arbitrary axis of rotation (must be a unit vector)\n",
    "axis = np.array([0, 0, 1])  # Example: rotation around the diagonal of XY-plane\n",
    "axis = axis / np.linalg.norm(axis)  # Normalize the axis\n",
    "# Define the rotation angle (in degrees)\n",
    "theta = 90  # Rotate theta degrees\n",
    "# Rotate the mesh\n",
    "mesh3 = mesh2.rotate_vector(axis, theta, point=(0, 0, 0))  # Rotate about the origin\n",
    "# plot\n",
    "plotter = pv.Plotter(off_screen=True)  # Off-screen rendering\n",
    "# plotter.add_mesh(mesh1, color='red', opacity=0.2)\n",
    "plotter.add_mesh(mesh2, color='gray', opacity=0.2)\n",
    "plotter.add_mesh(mesh3, color=\"lightblue\", show_edges=False)\n",
    "# plotter.add_axes_at_origin()\n",
    "# plotter.camera_position = 'xy'  # Set static camera view\n",
    "plotter.show(jupyter_backend='static')"
   ]
  }
 ],
 "metadata": {
  "kernelspec": {
   "display_name": "Python [conda env:.conda-pyvista_pip]",
   "language": "python",
   "name": "conda-env-.conda-pyvista_pip-py"
  },
  "language_info": {
   "codemirror_mode": {
    "name": "ipython",
    "version": 3
   },
   "file_extension": ".py",
   "mimetype": "text/x-python",
   "name": "python",
   "nbconvert_exporter": "python",
   "pygments_lexer": "ipython3",
   "version": "3.12.4"
  }
 },
 "nbformat": 4,
 "nbformat_minor": 5
}
