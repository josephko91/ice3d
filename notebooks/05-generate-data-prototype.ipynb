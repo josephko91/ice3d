{
 "cells": [
  {
   "cell_type": "code",
   "execution_count": 1,
   "metadata": {},
   "outputs": [],
   "source": [
    "import random\n",
    "import cadquery as cq\n",
    "import numpy as np\n",
    "import pyvista as pv\n",
    "import numpy as np\n",
    "from math import pi, sqrt, pow, acos, degrees, radians, sin, cos\n",
    "from data import helper_temp as helper\n",
    "from copy import deepcopy\n",
    "import miniball\n",
    "import pymeshfix as mf\n",
    "from decimal import *\n",
    "from scipy.stats import qmc\n",
    "import math\n",
    "import matplotlib.pyplot as plt\n",
    "import itertools\n",
    "import pandas as pd\n",
    "import os"
   ]
  },
  {
   "cell_type": "markdown",
   "metadata": {},
   "source": [
    "# Create parameter list"
   ]
  },
  {
   "cell_type": "code",
   "execution_count": 2,
   "metadata": {},
   "outputs": [],
   "source": [
    "# define parameter ranges \n",
    "c_min, c_max = 10, 100\n",
    "a_c_ratio_min, a_c_ratio_max = 0.1, 1\n",
    "f_r0_min, f_r0_max = 0.75, 1\n",
    "f_hp_min, f_hp_max = 0.75, 1.25\n",
    "f_h0_min, f_h0_max = 0.75, 1.25"
   ]
  },
  {
   "cell_type": "code",
   "execution_count": null,
   "metadata": {},
   "outputs": [],
   "source": [
    "# generate LHS\n",
    "sampler = qmc.LatinHypercube(d = 5, optimization='random-cd')\n",
    "samples = sampler.random(n=20)\n",
    "samples[:5]"
   ]
  },
  {
   "cell_type": "code",
   "execution_count": null,
   "metadata": {},
   "outputs": [],
   "source": [
    "# metric for quality of the samples\n",
    "qmc.discrepancy(samples) "
   ]
  },
  {
   "cell_type": "code",
   "execution_count": null,
   "metadata": {},
   "outputs": [],
   "source": [
    "# scale samples to bounds\n",
    "l_bounds = [c_min, a_c_ratio_min, f_r0_min, f_hp_min, f_h0_min]\n",
    "u_bounds = [c_max, a_c_ratio_max, f_r0_max, f_hp_max, f_h0_max]\n",
    "param_list = qmc.scale(samples, l_bounds, u_bounds)\n",
    "param_list[:5]"
   ]
  },
  {
   "cell_type": "code",
   "execution_count": null,
   "metadata": {},
   "outputs": [],
   "source": [
    "# plot 2-d cross sections of parameter space to visually inspect\n",
    "\n",
    "# Calculate the ideal number of rows and columns\n",
    "total_subplots = len(list(itertools.combinations(range(param_list.shape[1]), 2)))\n",
    "ncols = math.ceil(math.sqrt(total_subplots))\n",
    "nrows = math.ceil(total_subplots / ncols)\n",
    "\n",
    "# Create subplots\n",
    "fig, axes = plt.subplots(nrows=nrows, ncols=ncols)\n",
    "axes = axes.flatten()\n",
    "\n",
    "# Plot each unique combination of columns\n",
    "for i, (x_idx, y_idx) in enumerate(itertools.combinations(range(param_list.shape[1]), 2)):\n",
    "    ax = axes[i]\n",
    "    ax.scatter(param_list[:, x_idx], param_list[:, y_idx], s=10)\n",
    "    ax.set_xlabel(f'Param {x_idx}')\n",
    "    ax.set_ylabel(f'Param {y_idx}')\n",
    "    ax.set_title(f'Param {x_idx} vs Param {y_idx}', fontsize=8)\n",
    "    ax.set_box_aspect(1)\n",
    "    # ax.set_aspect('equal', adjustable='datalim')  # Set aspect ratio to be equal\n",
    "\n",
    "# Hide any unused subplots\n",
    "for j in range(i + 1, len(axes)):\n",
    "    fig.delaxes(axes[j])\n",
    "\n",
    "plt.tight_layout()\n",
    "# plt.subplots_adjust(wspace=0.5, hspace=0.0)\n",
    "plt.show()"
   ]
  },
  {
   "cell_type": "markdown",
   "metadata": {},
   "source": [
    "param_list columns:\n",
    "- col1 = c   \n",
    "- col2 = a_c_ratio  \n",
    "- col3 = f_r0   \n",
    "- col4 = f_hp   \n",
    "- col5 = f_h0  "
   ]
  },
  {
   "cell_type": "code",
   "execution_count": 7,
   "metadata": {},
   "outputs": [],
   "source": [
    "# generate final parameter list, including diagnosed parameters\n",
    "bullet_params = []\n",
    "for i in range(len(param_list)):\n",
    "    param = param_list[i]\n",
    "    c = param[0]\n",
    "    a = c*param[1]\n",
    "    r0 = param[2]*a\n",
    "    hp = r0*param[3]\n",
    "    h0 = (hp/4)*param[4]\n",
    "    record = [a, c, r0, hp, h0]\n",
    "    bullet_params.append(record)"
   ]
  },
  {
   "cell_type": "code",
   "execution_count": 8,
   "metadata": {},
   "outputs": [],
   "source": [
    "# convert to dataframe for easy reading and save as csv\n",
    "colnames = ['a', 'c', 'r0', 'hp', 'h0']\n",
    "df_bullet_params = pd.DataFrame(bullet_params, columns=colnames)\n",
    "\n",
    "# save dataframe to csv\n",
    "savepath = '/Users/josephko/research/ice3d/output/bullet_params.csv'\n",
    "df_bullet_params.to_csv(savepath, index=False)"
   ]
  },
  {
   "cell_type": "markdown",
   "metadata": {},
   "source": [
    "# Create bullets and save as STL"
   ]
  },
  {
   "cell_type": "code",
   "execution_count": null,
   "metadata": {},
   "outputs": [],
   "source": [
    "# load bullet params and create bullets using cadquery\n",
    "filepath = '/Users/josephko/research/ice3d/output/bullet_params.csv'\n",
    "bullet_params = pd.read_csv(filepath)\n",
    "bullet_params"
   ]
  },
  {
   "cell_type": "code",
   "execution_count": 10,
   "metadata": {},
   "outputs": [],
   "source": [
    "# define function to create bullet using cadquery\n",
    "def create_bullet(a, c, hp):\n",
    "    # create pyramid\n",
    "    n_pyr = 6\n",
    "    theta = 90 - np.degrees(np.arctan(hp/a))\n",
    "    pyramid = cq.Workplane().polygon(n_pyr, 2*a).extrude(hp, taper=theta)\n",
    "\n",
    "    # create cylinder \n",
    "    n_cyl = 6\n",
    "    cylinder = cq.Workplane().polygon(n_cyl, 2*a).extrude(2*c)\n",
    "\n",
    "    # move pyramid up on top of cylinder\n",
    "    pyramid = pyramid.translate((0,0,2*c))\n",
    "\n",
    "    # create bullet (union)\n",
    "    bullet = cylinder.union(pyramid)\n",
    "    return bullet\n",
    "\n",
    "# def create_bullet(a, c, hp):\n",
    "#     # create pyramid\n",
    "#     n_pyr = 6\n",
    "#     theta = 90 - np.degrees(np.arctan(hp/a))\n",
    "#     pyramid = cq.Workplane().polygon(n_pyr, 2*a).extrude(-hp, taper=theta)\n",
    "\n",
    "#     # create cylinder \n",
    "#     n_cyl = 6\n",
    "#     cylinder = cq.Workplane().polygon(n_cyl, 2*a).extrude(c)\n",
    "\n",
    "#     # create bullet (union)\n",
    "#     bullet = cylinder.union(pyramid)\n",
    "\n",
    "#     # shift bullet up so tip is at z=0\n",
    "#     bullet = bullet.translate((0,0,hp))\n",
    "\n",
    "#     return bullet\n",
    "\n",
    "\n",
    "# create bullet for each parameter set\n",
    "bullets = []\n",
    "output_dir = '/Users/josephko/research/ice3d/output/bullet_stl'\n",
    "for index, row in bullet_params.iterrows():\n",
    "    a, c, hp = row['a'], row['c'], row['hp']\n",
    "    bullet = create_bullet(a, c, hp)\n",
    "    # save bullet\n",
    "    filename = f'bullet_{index:04d}.stl'\n",
    "    filepath = os.path.join(output_dir, filename)\n",
    "    # print(filepath)\n",
    "    cq.exporters.export(bullet, filepath)\n",
    "    # print(index)\n",
    "    # print(type(index))\n",
    "\n"
   ]
  },
  {
   "cell_type": "markdown",
   "metadata": {},
   "source": [
    "# Create full rosettes"
   ]
  },
  {
   "cell_type": "code",
   "execution_count": null,
   "metadata": {},
   "outputs": [],
   "source": [
    "bullet_params.head()"
   ]
  },
  {
   "cell_type": "markdown",
   "metadata": {},
   "source": [
    "## Function to create bullet rosette"
   ]
  },
  {
   "cell_type": "code",
   "execution_count": 6,
   "metadata": {},
   "outputs": [],
   "source": [
    "# define function to create bullet rosette\n",
    "def create_rosette(a, c, r0, hp, h0, index, bullet_dir):\n",
    "    n_arms = random.randint(4, 12)\n",
    "    # create sphere\n",
    "    sphere = pv.Sphere(radius=r0, center=(0, 0, 0), direction=(0, 0, 1), \n",
    "                        theta_resolution=30, phi_resolution=20, start_theta=0, \n",
    "                        end_theta=360, start_phi=0, end_phi=180)\n",
    "    sphere = sphere.triangulate()\n",
    "\n",
    "    # create outer shell to \"place\" bullets on\n",
    "    r_outer = hp/2 + c - h0 + r0\n",
    "    print(f'r_outer: {r_outer}')\n",
    "    if n_arms == 2: # line\n",
    "        outer_shell = pv.Line(pointa=(-r_outer, 0.0, 0.0), \n",
    "                            pointb=(r_outer, 0.0, 0.0), resolution=1)\n",
    "        outer_coords = outer_shell.points\n",
    "    elif n_arms == 4: # tetrahedron\n",
    "        outer_shell = pv.Tetrahedron(radius=r_outer, center=(0.0, 0.0, 0.0))\n",
    "        outer_coords = outer_shell.points\n",
    "    elif n_arms == 6: # octahedron\n",
    "        outer_shell = pv.Octahedron(radius=r_outer, center=(0.0, 0.0, 0.0))\n",
    "        outer_coords = outer_shell.points\n",
    "    elif n_arms == 8: # cube\n",
    "        # Note: this may not be the optimal solution for n=8, check later\n",
    "        l  = (2*r_outer)/(3**(1/2))\n",
    "        outer_shell = pv.Cube(center=(0.0, 0.0, 0.0), x_length=l, \n",
    "                            y_length=l, z_length=l)\n",
    "        outer_coords = outer_shell.points\n",
    "    else: \n",
    "        # Modified fibbonaci lattice \n",
    "        # Source: http://extremelearning.com.au/how-to-evenly-distribute-points-on-a-sphere-more-effectively-than-the-canonical-fibonacci-lattice/\n",
    "        epsilon = 0.33\n",
    "        goldenRatio = (1 + 5**0.5)/2\n",
    "        i = np.arange(0, n_arms) \n",
    "        theta = 2 *pi * i / goldenRatio\n",
    "        phi = np.arccos(1 - 2*(i+epsilon)/(n_arms-1+2*epsilon))\n",
    "        x, y, z = np.cos(theta) * np.sin(phi), np.sin(theta) * np.sin(phi), np.cos(phi)\n",
    "        outer_coords = r_outer*(np.column_stack((x, y, z)))\n",
    "    # load bullet arm from STL that were created with cadquery\n",
    "    bullet_filename = f'bullet_{index:04}.stl'\n",
    "    bullet_path = os.path.join(bullet_dir, bullet_filename)\n",
    "    print(bullet_path)\n",
    "    bullet = pv.read(bullet_path)\n",
    "    # rotate bullet in \"correct\" default orientation\n",
    "    center_temp = bullet.center\n",
    "    center_temp_negative = [-num for num in center_temp]\n",
    "    bullet.translate(center_temp_negative, inplace=True)\n",
    "    bullet.rotate_x(180, inplace=True)\n",
    "    bullet.translate(center_temp, inplace=True)\n",
    "    bullet = bullet.triangulate()\n",
    "    # copy, translate, and rotate bullets\n",
    "    bullets = {} # save bullets in nested dictionary\n",
    "    bullet_center_default = bullet.center\n",
    "    for i in range(len(outer_coords)):\n",
    "        bullet_entry = {}\n",
    "        pt = outer_coords[i]\n",
    "        print(f'pt: {pt}')\n",
    "        #rotate \n",
    "        bullet_center = bullet_center_default # center before any hollowing\n",
    "        print(f'bullet center: {bullet_center}')\n",
    "        cross_prod = np.cross(bullet_center, pt)\n",
    "        theta = degrees( acos (np.dot(bullet_center, pt) / (np.linalg.norm(bullet_center)*np.linalg.norm(pt))) )\n",
    "        if not np.any(np.array(cross_prod)): # if all zeros\n",
    "            if theta == 180:\n",
    "                bullet_rot = bullet.rotate_x(180)\n",
    "            else:\n",
    "                bullet_rot = bullet\n",
    "            new_center = bullet_rot.center\n",
    "        else:\n",
    "            rads = radians(theta)\n",
    "            transform_mat = helper.rotate_axis_angle(cross_prod, rads)\n",
    "            rot_mat = transform_mat[:3, :3]\n",
    "            new_center = rot_mat @ bullet_center # matrix multiply to rotate\n",
    "            bullet_rot = bullet.transform(transform_mat, inplace=False)\n",
    "        # translate\n",
    "        translate_vector = pt - new_center\n",
    "        bullet_final = bullet_rot.translate(translate_vector, inplace=False)\n",
    "        print(f'new center = {new_center}')\n",
    "        print(f'bullet_final center = {bullet_final.center}')\n",
    "        # add bullet attributes and mesh to dictionary\n",
    "        bullet_entry['bullet_rot_center'] = new_center\n",
    "        bullet_entry['mesh'] = bullet_final.triangulate()\n",
    "        bullet_entry['xy_scale_factor'] = 1.0\n",
    "        bullet_entry['z_scale_factor'] = 1.0\n",
    "        bullet_entry['anchor_point'] = pt\n",
    "        bullets[i] = bullet_entry\n",
    "\n",
    "    # # perform booolean union \n",
    "    # rosette = sphere\n",
    "    # for i in range(n_arms):\n",
    "    #     print(i)\n",
    "    #     b = bullets[i]\n",
    "    #     bullet_mesh = b['mesh'].triangulate()\n",
    "    #     rosette = rosette.boolean_union(bullet_mesh).triangulate()\n",
    "    # return rosette\n",
    "    return sphere, bullets"
   ]
  },
  {
   "cell_type": "markdown",
   "metadata": {},
   "source": [
    "## Create rosettes"
   ]
  },
  {
   "cell_type": "code",
   "execution_count": 2,
   "metadata": {},
   "outputs": [
    {
     "data": {
      "text/html": [
       "<div>\n",
       "<style scoped>\n",
       "    .dataframe tbody tr th:only-of-type {\n",
       "        vertical-align: middle;\n",
       "    }\n",
       "\n",
       "    .dataframe tbody tr th {\n",
       "        vertical-align: top;\n",
       "    }\n",
       "\n",
       "    .dataframe thead th {\n",
       "        text-align: right;\n",
       "    }\n",
       "</style>\n",
       "<table border=\"1\" class=\"dataframe\">\n",
       "  <thead>\n",
       "    <tr style=\"text-align: right;\">\n",
       "      <th></th>\n",
       "      <th>a</th>\n",
       "      <th>c</th>\n",
       "      <th>r0</th>\n",
       "      <th>hp</th>\n",
       "      <th>h0</th>\n",
       "    </tr>\n",
       "  </thead>\n",
       "  <tbody>\n",
       "    <tr>\n",
       "      <th>0</th>\n",
       "      <td>22.175942</td>\n",
       "      <td>45.775049</td>\n",
       "      <td>22.080469</td>\n",
       "      <td>23.100185</td>\n",
       "      <td>6.884353</td>\n",
       "    </tr>\n",
       "    <tr>\n",
       "      <th>1</th>\n",
       "      <td>6.906007</td>\n",
       "      <td>11.129418</td>\n",
       "      <td>6.324192</td>\n",
       "      <td>6.960184</td>\n",
       "      <td>1.896451</td>\n",
       "    </tr>\n",
       "    <tr>\n",
       "      <th>2</th>\n",
       "      <td>4.774335</td>\n",
       "      <td>30.872733</td>\n",
       "      <td>4.067800</td>\n",
       "      <td>3.330811</td>\n",
       "      <td>0.916684</td>\n",
       "    </tr>\n",
       "    <tr>\n",
       "      <th>3</th>\n",
       "      <td>6.703981</td>\n",
       "      <td>19.432683</td>\n",
       "      <td>6.500955</td>\n",
       "      <td>5.898020</td>\n",
       "      <td>1.396309</td>\n",
       "    </tr>\n",
       "    <tr>\n",
       "      <th>4</th>\n",
       "      <td>31.650980</td>\n",
       "      <td>75.316580</td>\n",
       "      <td>27.588879</td>\n",
       "      <td>34.108545</td>\n",
       "      <td>9.788097</td>\n",
       "    </tr>\n",
       "  </tbody>\n",
       "</table>\n",
       "</div>"
      ],
      "text/plain": [
       "           a          c         r0         hp        h0\n",
       "0  22.175942  45.775049  22.080469  23.100185  6.884353\n",
       "1   6.906007  11.129418   6.324192   6.960184  1.896451\n",
       "2   4.774335  30.872733   4.067800   3.330811  0.916684\n",
       "3   6.703981  19.432683   6.500955   5.898020  1.396309\n",
       "4  31.650980  75.316580  27.588879  34.108545  9.788097"
      ]
     },
     "execution_count": 2,
     "metadata": {},
     "output_type": "execute_result"
    }
   ],
   "source": [
    "output_dir = '/Users/josephko/research/ice3d/output/rosette_stl'\n",
    "bullet_dir = '/Users/josephko/research/ice3d/output/bullet_stl'\n",
    "bullet_params = pd.read_csv('/Users/josephko/research/ice3d/output/bullet_params.csv')\n",
    "bullet_params.head()"
   ]
  },
  {
   "cell_type": "code",
   "execution_count": null,
   "metadata": {},
   "outputs": [],
   "source": [
    "for index, row in bullet_params.iterrows():\n",
    "    a, c, r0, hp, h0 = row['a'], row['c'], row['r0'], row['hp'], row['h0']\n",
    "    rosette = create_rosette(a, c, r0, hp, h0, index, bullet_dir)\n",
    "    # save rosette as stl\n",
    "    rosette_filename = f'rosette_{index:04d}.stl'\n",
    "    rosette_filepath = os.path.join(output_dir, rosette_filename)\n",
    "    rosette.save(rosette_filepath)"
   ]
  },
  {
   "cell_type": "code",
   "execution_count": 3,
   "metadata": {},
   "outputs": [
    {
     "name": "stdout",
     "output_type": "stream",
     "text": [
      "22.175942110287863 45.77504933721399 22.080468623453847 23.100185493961774 6.884352668479022\n"
     ]
    }
   ],
   "source": [
    "row = bullet_params.iloc[0]\n",
    "a, c, r0, hp, h0 = row['a'], row['c'], row['r0'], row['hp'], row['h0']\n",
    "print(a, c, r0, hp, h0)\n"
   ]
  },
  {
   "cell_type": "code",
   "execution_count": 4,
   "metadata": {},
   "outputs": [
    {
     "name": "stdout",
     "output_type": "stream",
     "text": [
      "11.550092746980887 45.77504933721399 6.884352668479022 22.080468623453847\n"
     ]
    }
   ],
   "source": [
    "print(hp/2, c, h0, r0)"
   ]
  },
  {
   "cell_type": "code",
   "execution_count": 8,
   "metadata": {},
   "outputs": [
    {
     "name": "stdout",
     "output_type": "stream",
     "text": [
      "r_outer: 72.52125803916971\n",
      "/Users/josephko/research/ice3d/output/bullet_stl/bullet_0000.stl\n",
      "pt: [25.12148169  0.         68.03119891]\n",
      "bullet center: [0.0, 0.0, 55.77772521972656]\n",
      "new center = [19.3214947   0.         52.32432009]\n",
      "bullet_final center = [28.586425304412842, 0.0, 71.87209367752075]\n",
      "pt: [-35.34187334 -32.37605103  54.42495913]\n",
      "bullet center: [0.0, 0.0, 55.77772521972656]\n",
      "new center = [-27.18222702 -24.9011466   41.85945607]\n",
      "bullet_final center = [-40.21648848056793, -36.84159964323044, 61.41359519958496]\n",
      "pt: [ 5.24056151 59.71349541 40.81871935]\n",
      "bullet center: [0.0, 0.0, 55.77772521972656]\n",
      "new center = [ 4.03063333 45.92698788 31.39459206]\n",
      "bullet_final center = [5.96337890625, 65.36141204833984, 46.4487419128418]\n",
      "pt: [ 40.90055196 -53.34752733  27.21247956]\n",
      "bullet center: [0.0, 0.0, 55.77772521972656]\n",
      "new center = [ 31.45753136 -41.03077913  20.92972804]\n",
      "bullet_final center = [46.54186189174652, -60.70561742782593, 30.965829610824585]\n",
      "pt: [-70.14452989  12.40757967  13.60623978]\n",
      "bullet center: [0.0, 0.0, 55.77772521972656]\n",
      "new center = [-53.94973032   9.54294766  10.46486402]\n",
      "bullet_final center = [-72.65931987762451, 14.118926048278809, 15.48291540145874]\n",
      "pt: [6.11901955e+01 3.89241936e+01 4.44064633e-15]\n",
      "bullet center: [0.0, 0.0, 55.77772521972656]\n",
      "new center = [4.70627510e+01 2.99374698e+01 3.41540063e-15]\n",
      "bullet_final center = [67.13593101501465, 44.292910039424896, 0.0]\n",
      "pt: [-18.49250792 -68.7912077  -13.60623978]\n",
      "bullet center: [0.0, 0.0, 55.77772521972656]\n",
      "new center = [-14.22300237 -52.90885989 -10.46486402]\n",
      "bullet_final center = [-21.043132305145264, -72.0925407409668, -15.482914447784424]\n",
      "pt: [-30.98314872  59.65616749 -27.21247956]\n",
      "bullet center: [0.0, 0.0, 55.77772521972656]\n",
      "new center = [-23.82983421  45.88289569 -20.92972804]\n",
      "bullet_final center = [-35.25657653808594, 65.89330387115479, -30.965829610824585]\n",
      "pt: [ 56.30575033 -20.56276971 -40.81871935]\n",
      "bullet center: [0.0, 0.0, 55.77772521972656]\n",
      "new center = [ 43.30601475 -15.81528713 -31.39459206]\n",
      "bullet_final center = [63.24228000640869, -23.398941040039062, -46.44874155521393]\n",
      "pt: [-44.3036105  -18.28788638 -54.42495913]\n",
      "bullet center: [0.0, 0.0, 55.77772521972656]\n",
      "new center = [-34.07489996 -14.06562336 -41.85945607]\n",
      "bullet_final center = [-50.4142963886261, -20.810287475585938, -61.1986608505249]\n",
      "pt: [ 10.6476394   22.75338694 -68.03119891]\n",
      "bullet center: [0.0, 0.0, 55.77772521972656]\n",
      "new center = [  8.18933815  17.50013995 -52.32432009]\n",
      "bullet_final center = [12.116241455078125, 25.891704082489014, -71.8579249382019]\n"
     ]
    },
    {
     "data": {
      "application/vnd.jupyter.widget-view+json": {
       "model_id": "812c581fd1a9408fa6064b3efee082f9",
       "version_major": 2,
       "version_minor": 0
      },
      "text/plain": [
       "Widget(value='<iframe src=\"http://localhost:57875/index.html?ui=P_0x312d43fe0_1&reconnect=auto\" class=\"pyvista…"
      ]
     },
     "metadata": {},
     "output_type": "display_data"
    }
   ],
   "source": [
    "sphere, bullets = create_rosette(a, c, r0, hp, h0, 0, bullet_dir)\n",
    "pl = pv.Plotter()\n",
    "pl.add_mesh(sphere)\n",
    "for i in range(len(bullets)):\n",
    "    pl.add_mesh(bullets[i]['mesh'])\n",
    "pl.show()"
   ]
  },
  {
   "cell_type": "code",
   "execution_count": 6,
   "metadata": {},
   "outputs": [],
   "source": [
    "n_arms = random.randint(4, 12)\n",
    "sphere = pv.Sphere(radius=r0, center=(0, 0, 0), direction=(0, 0, 1), \n",
    "                    theta_resolution=30, phi_resolution=20, start_theta=0, \n",
    "                    end_theta=360, start_phi=0, end_phi=180)\n",
    "sphere = sphere.triangulate()\n",
    "\n",
    "# create outer shell to \"place\" bullets on\n",
    "r_outer = hp/2 + c - h0 + r0\n",
    "outer_sphere = pv.Sphere(radius=r_outer, center=(0, 0, 0), direction=(0, 0, 1), \n",
    "                theta_resolution=30, phi_resolution=20, start_theta=0, \n",
    "                end_theta=360, start_phi=0, end_phi=180)\n",
    "if n_arms == 2: # line\n",
    "    outer_shell = pv.Line(pointa=(-r_outer, 0.0, 0.0), \n",
    "                        pointb=(r_outer, 0.0, 0.0), resolution=1)\n",
    "    outer_coords = outer_shell.points\n",
    "elif n_arms == 4: # tetrahedron\n",
    "    outer_shell = pv.Tetrahedron(radius=r_outer, center=(0.0, 0.0, 0.0))\n",
    "    outer_coords = outer_shell.points\n",
    "elif n_arms == 6: # octahedron\n",
    "    outer_shell = pv.Octahedron(radius=r_outer, center=(0.0, 0.0, 0.0))\n",
    "    outer_coords = outer_shell.points\n",
    "elif n_arms == 8: # cube\n",
    "    # Note: this may not be the optimal solution for n=8, check later\n",
    "    l  = (2*r_outer)/(3**(1/2))\n",
    "    outer_shell = pv.Cube(center=(0.0, 0.0, 0.0), x_length=l, \n",
    "                        y_length=l, z_length=l)\n",
    "    outer_coords = outer_shell.points\n",
    "else: \n",
    "    # Modified fibbonaci lattice \n",
    "    # Source: http://extremelearning.com.au/how-to-evenly-distribute-points-on-a-sphere-more-effectively-than-the-canonical-fibonacci-lattice/\n",
    "    epsilon = 0.33\n",
    "    goldenRatio = (1 + 5**0.5)/2\n",
    "    i = np.arange(0, n_arms) \n",
    "    theta = 2 *pi * i / goldenRatio\n",
    "    phi = np.arccos(1 - 2*(i+epsilon)/(n_arms-1+2*epsilon))\n",
    "    x, y, z = np.cos(theta) * np.sin(phi), np.sin(theta) * np.sin(phi), np.cos(phi)\n",
    "    outer_coords = r_outer*(np.column_stack((x, y, z)))"
   ]
  },
  {
   "cell_type": "code",
   "execution_count": null,
   "metadata": {},
   "outputs": [],
   "source": [
    "# load bullet arm from STL that were created with cadquery\n",
    "index = 0\n",
    "bullet_filename = f'bullet_{index:04}.stl'\n",
    "bullet_path = os.path.join(bullet_dir, bullet_filename)\n",
    "print(bullet_path)\n",
    "bullet = pv.read(bullet_path)\n",
    "# rotate bullet in \"correct\" defautl orientation\n",
    "center_temp = bullet.center\n",
    "center_temp_negative = [-num for num in center_temp]\n",
    "bullet.translate(center_temp_negative, inplace=True)\n",
    "bullet.rotate_x(180, inplace=True)\n",
    "bullet.translate(center_temp, inplace=True)\n",
    "# copy, translate, and rotate bullets\n",
    "bullets = {} # save bullets in nested dictionary\n",
    "bullet_center_default = bullet.center"
   ]
  },
  {
   "cell_type": "code",
   "execution_count": null,
   "metadata": {},
   "outputs": [],
   "source": [
    "bullet.plot()"
   ]
  },
  {
   "cell_type": "code",
   "execution_count": 9,
   "metadata": {},
   "outputs": [],
   "source": [
    "for i in range(len(outer_coords)):\n",
    "    bullet_entry = {}\n",
    "    pt = outer_coords[i]\n",
    "    #rotate \n",
    "    bullet_center = bullet_center_default # center before any hollowing\n",
    "    cross_prod = np.cross(bullet_center, pt)\n",
    "    theta = degrees( acos (np.dot(bullet_center, pt) / (np.linalg.norm(bullet_center)*np.linalg.norm(pt))) )\n",
    "    if not np.any(np.array(cross_prod)): # if all zeros\n",
    "        if theta == 180:\n",
    "            bullet_rot = bullet.rotate_x(180)\n",
    "        else:\n",
    "            bullet_rot = bullet\n",
    "        new_center = bullet_rot.center\n",
    "    else:\n",
    "        rads = radians(theta)\n",
    "        transform_mat = helper.rotate_axis_angle(cross_prod, rads)\n",
    "        rot_mat = transform_mat[:3, :3]\n",
    "        new_center = rot_mat @ bullet_center # matrix multiply to rotate\n",
    "        bullet_rot = bullet.transform(transform_mat, inplace=False)\n",
    "    # translate\n",
    "    translate_vector = pt - new_center\n",
    "    bullet_final = bullet_rot.translate(translate_vector, inplace=False)\n",
    "    # add bullet attributes and mesh to dictionary\n",
    "    bullet_entry['bullet_rot_center'] = new_center\n",
    "    bullet_entry['mesh'] = bullet_final.triangulate()\n",
    "    bullet_entry['xy_scale_factor'] = 1.0\n",
    "    bullet_entry['z_scale_factor'] = 1.0\n",
    "    bullet_entry['anchor_point'] = pt\n",
    "    bullets[i] = bullet_entry\n",
    "\n",
    "        # # perform booolean union \n",
    "        # rosette = sphere\n",
    "        # for i in range(n_arms):\n",
    "        #     b = bullets[i]\n",
    "        #     bullet_mesh = b['mesh'].triangulate()\n",
    "        #     rosette = rosette.boolean_union(bullet_mesh).triangulate()"
   ]
  },
  {
   "cell_type": "code",
   "execution_count": null,
   "metadata": {},
   "outputs": [],
   "source": [
    "pl = pv.Plotter()\n",
    "pl.add_mesh(sphere)\n",
    "for i in range(len(bullets)):\n",
    "    pl.add_mesh(bullets[i]['mesh'])\n",
    "pl.show()"
   ]
  },
  {
   "cell_type": "code",
   "execution_count": 12,
   "metadata": {},
   "outputs": [],
   "source": [
    "rosette = sphere"
   ]
  },
  {
   "cell_type": "code",
   "execution_count": null,
   "metadata": {},
   "outputs": [],
   "source": []
  },
  {
   "cell_type": "code",
   "execution_count": null,
   "metadata": {},
   "outputs": [],
   "source": [
    "# i = 0\n",
    "i=0\n",
    "b = bullets[i]\n",
    "bullet_mesh = b['mesh'].triangulate()\n",
    "rosette = rosette.boolean_union(bullet_mesh).triangulate()"
   ]
  },
  {
   "cell_type": "markdown",
   "metadata": {},
   "source": [
    "a, c, r0, hp, h0 = 52.707552592700985 60.79304822413943 43.9651533204692 50.02875758839475 15.533126444390852"
   ]
  },
  {
   "cell_type": "code",
   "execution_count": null,
   "metadata": {},
   "outputs": [],
   "source": [
    "from data.rosette_temp import Rosette\n",
    "\n",
    "ros = Rosette(52, 60, 43, 15, 50, 4)\n",
    "pl = ros.plot()\n",
    "pl.show()"
   ]
  },
  {
   "cell_type": "code",
   "execution_count": null,
   "metadata": {},
   "outputs": [],
   "source": [
    "a, c, r0, h0, hp, n_arms = 1, 4, 1, 0.5, 1, 6\n",
    "# create bullet arm\n",
    "cyl = pv.Cylinder(center=(0.0, 0.0, c+hp), direction=(0.0, 0.0, -1.0), \n",
    "                radius=a, height=2*c, resolution=6, capping=True)\n",
    "pyr = pv.Cone(center=(0.0, 0.0, hp/2), direction=(0.0, 0.0, -1.0), \n",
    "            height=hp, radius=a, capping=True, angle=None, resolution=6)\n",
    "cyl = cyl.triangulate()\n",
    "pyr = pyr.triangulate()\n",
    "cyl_pts = cyl.points\n",
    "cyl_pts[abs(cyl_pts)<1e-10]=0.0 # replace small values with zeros\n",
    "cyl.points = cyl_pts\n",
    "pyr_pts = pyr.points\n",
    "pyr_pts[abs(pyr_pts)<1e-10]=0.0 # replace small values with zeros\n",
    "pyr.points = pyr_pts\n",
    "bullet = cyl.boolean_union(pyr).triangulate()\n",
    "pt_dist = np.linalg.norm(bullet.points, axis=1)\n",
    "bullet.plot()\n",
    "# # print('this is a test')\n",
    "# tip_pt_index = np.argmin(pt_dist) # index of the tip point in bullet.points\n",
    "# self.bullet_center_default = bullet.center # for testing\n",
    "# self.bullet_default = bullet"
   ]
  },
  {
   "cell_type": "code",
   "execution_count": null,
   "metadata": {},
   "outputs": [],
   "source": [
    "bullet.center"
   ]
  },
  {
   "cell_type": "code",
   "execution_count": null,
   "metadata": {},
   "outputs": [],
   "source": [
    "bullet_cq = pv.read('/Users/josephko/research/ice3d/output/bullet_stl/bullet_0001.stl')\n",
    "bullet_cq.plot()"
   ]
  },
  {
   "cell_type": "code",
   "execution_count": null,
   "metadata": {},
   "outputs": [],
   "source": [
    "# rotate bullet in \"correct\" defautl orientation\n",
    "bullet_cq_rot = bullet_cq.copy()\n",
    "center_temp = bullet_cq_rot.center\n",
    "center_temp_negative = [-num for num in center_temp]\n",
    "bullet_cq_rot.translate(center_temp_negative, inplace=True)\n",
    "bullet_cq_rot.rotate_x(180, inplace=True)\n",
    "bullet_cq_rot.translate(center_temp, inplace=True)\n",
    "bullet_cq_rot.plot()"
   ]
  },
  {
   "cell_type": "code",
   "execution_count": null,
   "metadata": {},
   "outputs": [],
   "source": [
    "bullet_cq_rot.center"
   ]
  },
  {
   "cell_type": "markdown",
   "metadata": {},
   "source": [
    "# Cadquery to pyvista pipeline: single rosette"
   ]
  },
  {
   "cell_type": "code",
   "execution_count": 19,
   "metadata": {},
   "outputs": [],
   "source": [
    "def create_bullet(a, c, hp):\n",
    "    # create pyramid\n",
    "    n_pyr = 6\n",
    "    theta = 90 - np.degrees(np.arctan(hp/a))\n",
    "    pyramid = cq.Workplane().polygon(n_pyr, 2*a).extrude(-hp, taper=theta)\n",
    "\n",
    "    # create cylinder \n",
    "    n_cyl = 6\n",
    "    cylinder = cq.Workplane().polygon(n_cyl, 2*a).extrude(2*c)\n",
    "\n",
    "    # create bullet (union)\n",
    "    bullet = cylinder.union(pyramid)\n",
    "\n",
    "    # shift bullet up so tip is at z=0\n",
    "    bullet = bullet.translate((0,0,hp))\n",
    "\n",
    "    return bullet"
   ]
  },
  {
   "cell_type": "code",
   "execution_count": 20,
   "metadata": {},
   "outputs": [],
   "source": [
    "a, c, hp = 1, 4, 1\n",
    "bullet = create_bullet(a, c, hp)\n",
    "cq.exporters.export(bullet, '/Users/josephko/research/ice3d/output/bullet.stl')"
   ]
  },
  {
   "cell_type": "code",
   "execution_count": 6,
   "metadata": {},
   "outputs": [],
   "source": [
    "r0, h0, n_arms = 1, 0.5, 4\n",
    "sphere = pv.Sphere(radius=r0, center=(0, 0, 0), direction=(0, 0, 1), \n",
    "                    theta_resolution=30, phi_resolution=20, start_theta=0, \n",
    "                    end_theta=360, start_phi=0, end_phi=180)\n",
    "sphere = sphere.triangulate()\n",
    "\n",
    "# create outer shell to \"place\" bullets on\n",
    "r_outer = hp/2 + c - h0 + r0\n",
    "outer_sphere = pv.Sphere(radius=r_outer, center=(0, 0, 0), direction=(0, 0, 1), \n",
    "                theta_resolution=30, phi_resolution=20, start_theta=0, \n",
    "                end_theta=360, start_phi=0, end_phi=180)\n",
    "if n_arms == 2: # line\n",
    "    outer_shell = pv.Line(pointa=(-r_outer, 0.0, 0.0), \n",
    "                        pointb=(r_outer, 0.0, 0.0), resolution=1)\n",
    "    outer_coords = outer_shell.points\n",
    "elif n_arms == 4: # tetrahedron\n",
    "    outer_shell = pv.Tetrahedron(radius=r_outer, center=(0.0, 0.0, 0.0))\n",
    "    outer_coords = outer_shell.points\n",
    "elif n_arms == 6: # octahedron\n",
    "    outer_shell = pv.Octahedron(radius=r_outer, center=(0.0, 0.0, 0.0))\n",
    "    outer_coords = outer_shell.points\n",
    "elif n_arms == 8: # cube\n",
    "    # Note: this may not be the optimal solution for n=8, check later\n",
    "    l  = (2*r_outer)/(3**(1/2))\n",
    "    outer_shell = pv.Cube(center=(0.0, 0.0, 0.0), x_length=l, \n",
    "                        y_length=l, z_length=l)\n",
    "    outer_coords = outer_shell.points\n",
    "else: \n",
    "    # Modified fibbonaci lattice \n",
    "    # Source: http://extremelearning.com.au/how-to-evenly-distribute-points-on-a-sphere-more-effectively-than-the-canonical-fibonacci-lattice/\n",
    "    epsilon = 0.33\n",
    "    goldenRatio = (1 + 5**0.5)/2\n",
    "    i = np.arange(0, n_arms) \n",
    "    theta = 2 *pi * i / goldenRatio\n",
    "    phi = np.arccos(1 - 2*(i+epsilon)/(n_arms-1+2*epsilon))\n",
    "    x, y, z = np.cos(theta) * np.sin(phi), np.sin(theta) * np.sin(phi), np.cos(phi)\n",
    "    outer_coords = r_outer*(np.column_stack((x, y, z)))"
   ]
  },
  {
   "cell_type": "code",
   "execution_count": null,
   "metadata": {},
   "outputs": [],
   "source": [
    "sphere.plot()"
   ]
  },
  {
   "cell_type": "code",
   "execution_count": 8,
   "metadata": {},
   "outputs": [],
   "source": [
    " # create outer shell to \"place\" bullets on\n",
    "r_outer = hp/2 + c - h0 + r0\n",
    "if n_arms == 2: # line\n",
    "    outer_shell = pv.Line(pointa=(-r_outer, 0.0, 0.0), \n",
    "                        pointb=(r_outer, 0.0, 0.0), resolution=1)\n",
    "    outer_coords = outer_shell.points\n",
    "elif n_arms == 4: # tetrahedron\n",
    "    outer_shell = pv.Tetrahedron(radius=r_outer, center=(0.0, 0.0, 0.0))\n",
    "    outer_coords = outer_shell.points\n",
    "elif n_arms == 6: # octahedron\n",
    "    outer_shell = pv.Octahedron(radius=r_outer, center=(0.0, 0.0, 0.0))\n",
    "    outer_coords = outer_shell.points\n",
    "elif n_arms == 8: # cube\n",
    "    # Note: this may not be the optimal solution for n=8, check later\n",
    "    l  = (2*r_outer)/(3**(1/2))\n",
    "    outer_shell = pv.Cube(center=(0.0, 0.0, 0.0), x_length=l, \n",
    "                        y_length=l, z_length=l)\n",
    "    outer_coords = outer_shell.points\n",
    "else: \n",
    "    # Modified fibbonaci lattice \n",
    "    # Source: http://extremelearning.com.au/how-to-evenly-distribute-points-on-a-sphere-more-effectively-than-the-canonical-fibonacci-lattice/\n",
    "    epsilon = 0.33\n",
    "    goldenRatio = (1 + 5**0.5)/2\n",
    "    i = np.arange(0, n_arms) \n",
    "    theta = 2 *pi * i / goldenRatio\n",
    "    phi = np.arccos(1 - 2*(i+epsilon)/(n_arms-1+2*epsilon))\n",
    "    x, y, z = np.cos(theta) * np.sin(phi), np.sin(theta) * np.sin(phi), np.cos(phi)\n",
    "    outer_coords = r_outer*(np.column_stack((x, y, z)))"
   ]
  },
  {
   "cell_type": "code",
   "execution_count": null,
   "metadata": {},
   "outputs": [],
   "source": [
    "outer_coords"
   ]
  },
  {
   "cell_type": "code",
   "execution_count": null,
   "metadata": {},
   "outputs": [],
   "source": [
    "# import bullet\n",
    "bullet = pv.read('/Users/josephko/research/ice3d/output/bullet.stl')\n",
    "bullet.plot()"
   ]
  },
  {
   "cell_type": "code",
   "execution_count": null,
   "metadata": {},
   "outputs": [],
   "source": [
    "cyl = pv.Cylinder(center=(0.0, 0.0, c+hp), direction=(0.0, 0.0, -1.0), \n",
    "                radius=a, height=2*c, resolution=6, capping=True)\n",
    "pyr = pv.Cone(center=(0.0, 0.0, hp/2), direction=(0.0, 0.0, -1.0), \n",
    "            height=hp, radius=a, capping=True, angle=None, resolution=6)\n",
    "cyl = cyl.triangulate()\n",
    "pyr = pyr.triangulate()\n",
    "bullet_pv = cyl.boolean_union(pyr).triangulate()\n",
    "bullet_pv.plot()"
   ]
  },
  {
   "cell_type": "code",
   "execution_count": null,
   "metadata": {},
   "outputs": [],
   "source": [
    "bullet_pv.center"
   ]
  },
  {
   "cell_type": "code",
   "execution_count": null,
   "metadata": {},
   "outputs": [],
   "source": [
    "bullet_center_default = bullet.center"
   ]
  },
  {
   "cell_type": "code",
   "execution_count": null,
   "metadata": {},
   "outputs": [],
   "source": [
    "bullet_center_default"
   ]
  },
  {
   "cell_type": "code",
   "execution_count": null,
   "metadata": {},
   "outputs": [],
   "source": [
    "bullets = {}\n",
    "for i in range(len(outer_coords)):\n",
    "    bullet_entry = {}\n",
    "    pt = outer_coords[i]\n",
    "    bullet_center = bullet_center_default\n",
    "    "
   ]
  },
  {
   "cell_type": "code",
   "execution_count": null,
   "metadata": {},
   "outputs": [],
   "source": []
  }
 ],
 "metadata": {
  "kernelspec": {
   "display_name": "pyvista",
   "language": "python",
   "name": "python3"
  },
  "language_info": {
   "codemirror_mode": {
    "name": "ipython",
    "version": 3
   },
   "file_extension": ".py",
   "mimetype": "text/x-python",
   "name": "python",
   "nbconvert_exporter": "python",
   "pygments_lexer": "ipython3",
   "version": "3.12.2"
  }
 },
 "nbformat": 4,
 "nbformat_minor": 2
}
