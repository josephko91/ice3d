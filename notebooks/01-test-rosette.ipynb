{
 "cells": [
  {
   "cell_type": "code",
   "execution_count": 1,
   "metadata": {},
   "outputs": [],
   "source": [
    "import psutil\n",
    "import numpy as np\n",
    "from data.rosette_temp import Rosette\n",
    "import pandas as pd\n",
    "from multiprocess import Pool, get_context\n",
    "from itertools import product\n",
    "import os\n",
    "import pyvista as pv\n",
    "import random"
   ]
  },
  {
   "cell_type": "markdown",
   "metadata": {},
   "source": [
    "# Test #1: single rosette"
   ]
  },
  {
   "cell_type": "code",
   "execution_count": null,
   "metadata": {},
   "outputs": [],
   "source": [
    "a = 10\n",
    "c = 30\n",
    "f_r0 = random.uniform(0.75, 1.25)\n",
    "r0 = f_r0 * a\n",
    "type(r0)"
   ]
  },
  {
   "cell_type": "code",
   "execution_count": 2,
   "metadata": {},
   "outputs": [
    {
     "name": "stdout",
     "output_type": "stream",
     "text": [
      "10 30 8.41 2.1025 8.41 5\n",
      "<class 'float'>\n",
      "[6.9137032e+01 6.9137032e+01 1.3066296e+01 1.3066297e+01 6.9137032e+01\n",
      " 1.3066297e+01 6.9137032e+01 1.3066296e+01 6.9137032e+01 1.3066297e+01\n",
      " 6.9137032e+01 1.3066297e+01 1.3066297e+01 7.6293944e-08 1.3066296e+01\n",
      " 1.3066297e+01 1.3066296e+01 1.3066297e+01 1.3066297e+01]\n"
     ]
    }
   ],
   "source": [
    "a = 10\n",
    "c = 30\n",
    "f_r0 = random.uniform(0.75, 1.25)\n",
    "# r0 = float(f_r0 * a)\n",
    "r0 = 8.41\n",
    "hp = r0\n",
    "h0 = hp/4\n",
    "n_arms = 5\n",
    "print(a, c, r0, h0, hp, n_arms)\n",
    "print(type(r0))\n",
    "ros = Rosette(a, c, r0, h0, hp, n_arms)\n",
    "# ros.unify_mesh()\n",
    "# pl = ros.plot(op=0.95)\n",
    "# pl.show()"
   ]
  },
  {
   "cell_type": "code",
   "execution_count": null,
   "metadata": {},
   "outputs": [],
   "source": [
    "# calculate volume\n",
    "v_ros = ros.volume\n",
    "print(v_ros)"
   ]
  },
  {
   "cell_type": "code",
   "execution_count": null,
   "metadata": {},
   "outputs": [],
   "source": [
    "# calculate minimally bounding sphere\n",
    "mbs = ros.calc_mbs()\n",
    "print(mbs)"
   ]
  },
  {
   "cell_type": "code",
   "execution_count": null,
   "metadata": {},
   "outputs": [],
   "source": [
    "# calculate effective density \n",
    "rho_eff = v_ros / mbs['v']\n",
    "print(rho_eff)"
   ]
  },
  {
   "cell_type": "code",
   "execution_count": null,
   "metadata": {},
   "outputs": [],
   "source": [
    "# visualize mbs\n",
    "pl = ros.plot()\n",
    "# create sphere with radius r using pyvista\n",
    "sphere = pv.Sphere(radius=mbs['r'], center=mbs['c'])\n",
    "# plot sphere with pyvista\n",
    "pl.add_mesh(sphere, color='red', opacity=0.5)\n",
    "pl.show()\n"
   ]
  },
  {
   "cell_type": "markdown",
   "metadata": {},
   "source": [
    "# Test #2: test m"
   ]
  },
  {
   "cell_type": "code",
   "execution_count": null,
   "metadata": {},
   "outputs": [],
   "source": []
  },
  {
   "cell_type": "markdown",
   "metadata": {},
   "source": [
    "# Test #2: multiple rosettes, single cpu"
   ]
  },
  {
   "cell_type": "code",
   "execution_count": null,
   "metadata": {},
   "outputs": [],
   "source": []
  },
  {
   "cell_type": "code",
   "execution_count": null,
   "metadata": {},
   "outputs": [],
   "source": []
  },
  {
   "cell_type": "markdown",
   "metadata": {},
   "source": [
    "# Test #3: multiple rosettes, multiple cpus"
   ]
  },
  {
   "cell_type": "code",
   "execution_count": null,
   "metadata": {},
   "outputs": [],
   "source": []
  },
  {
   "cell_type": "code",
   "execution_count": null,
   "metadata": {},
   "outputs": [],
   "source": []
  },
  {
   "cell_type": "code",
   "execution_count": null,
   "metadata": {},
   "outputs": [],
   "source": []
  },
  {
   "cell_type": "code",
   "execution_count": null,
   "metadata": {},
   "outputs": [],
   "source": []
  }
 ],
 "metadata": {
  "kernelspec": {
   "display_name": "pyvista",
   "language": "python",
   "name": "python3"
  },
  "language_info": {
   "codemirror_mode": {
    "name": "ipython",
    "version": 3
   },
   "file_extension": ".py",
   "mimetype": "text/x-python",
   "name": "python",
   "nbconvert_exporter": "python",
   "pygments_lexer": "ipython3",
   "version": "3.12.7"
  },
  "orig_nbformat": 4
 },
 "nbformat": 4,
 "nbformat_minor": 2
}
