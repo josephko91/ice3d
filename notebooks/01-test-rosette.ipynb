{
 "cells": [
  {
   "cell_type": "code",
   "execution_count": 1,
   "metadata": {},
   "outputs": [],
   "source": [
    "import psutil\n",
    "import numpy as np\n",
    "from data.rosette_temp import Rosette\n",
    "import pandas as pd\n",
    "from multiprocess import Pool, get_context\n",
    "from itertools import product\n",
    "import os\n",
    "import pyvista as pv\n",
    "import random"
   ]
  },
  {
   "cell_type": "markdown",
   "metadata": {},
   "source": [
    "# Test #1: single rosette"
   ]
  },
  {
   "cell_type": "code",
   "execution_count": 2,
   "metadata": {},
   "outputs": [],
   "source": [
    "import pyvista as pv\n",
    "import numpy as np\n",
    "from math import pi, sqrt, pow, acos, degrees, radians, sin, cos\n",
    "# import trame\n",
    "import math\n",
    "# import helper\n",
    "from data import helper_temp as helper\n",
    "from copy import deepcopy\n",
    "import miniball\n",
    "import pymeshfix as mf\n",
    "from decimal import *"
   ]
  },
  {
   "cell_type": "code",
   "execution_count": 2,
   "metadata": {},
   "outputs": [],
   "source": [
    "a = 10\n",
    "c = 30\n",
    "r0 = 8.41\n",
    "hp = r0\n",
    "h0 = hp/4\n",
    "n_arms = 5\n",
    "ros = Rosette(a, c, r0, h0, hp, n_arms)"
   ]
  },
  {
   "cell_type": "code",
   "execution_count": 68,
   "metadata": {},
   "outputs": [
    {
     "name": "stdout",
     "output_type": "stream",
     "text": [
      "10 30 9.994653568334764 2.498663392083691 9.994653568334764 7\n",
      "<class 'float'>\n"
     ]
    },
    {
     "data": {
      "application/vnd.jupyter.widget-view+json": {
       "model_id": "0d895483b22b48ea981cbfa3825a614d",
       "version_major": 2,
       "version_minor": 0
      },
      "text/plain": [
       "Widget(value='<iframe src=\"http://localhost:64653/index.html?ui=P_0x3ee32ed20_64&reconnect=auto\" class=\"pyvist…"
      ]
     },
     "metadata": {},
     "output_type": "display_data"
    }
   ],
   "source": [
    "# test with randomly varying sphere size\n",
    "a = 10\n",
    "c = 30\n",
    "f_r0 = random.uniform(0.75, 1.0)\n",
    "r0 = f_r0 * a\n",
    "hp = r0\n",
    "h0 = hp/4\n",
    "n_arms = 7\n",
    "print(a, c, r0, h0, hp, n_arms)\n",
    "print(type(r0))\n",
    "ros = Rosette(a, c, r0, h0, hp, n_arms)\n",
    "ros.unify_mesh()\n",
    "pl = ros.plot(op=0.95)\n",
    "pl.show()"
   ]
  },
  {
   "cell_type": "code",
   "execution_count": 41,
   "metadata": {},
   "outputs": [],
   "source": [
    "# create sphere \n",
    "sphere = pv.Sphere(radius=r0, center=(0, 0, 0), direction=(0, 0, 1), \n",
    "                theta_resolution=30, phi_resolution=20, start_theta=0, \n",
    "                end_theta=360, start_phi=0, end_phi=180)\n",
    "sphere = sphere.triangulate()"
   ]
  },
  {
   "cell_type": "code",
   "execution_count": 5,
   "metadata": {},
   "outputs": [],
   "source": [
    "# create outer shell to \"place\" bullets on\n",
    "r_outer = hp/2 + c - h0 + r0\n",
    "outer_sphere = pv.Sphere(radius=r_outer, center=(0, 0, 0), direction=(0, 0, 1), \n",
    "                theta_resolution=30, phi_resolution=20, start_theta=0, \n",
    "                end_theta=360, start_phi=0, end_phi=180)\n",
    "if n_arms == 2: # line\n",
    "    outer_shell = pv.Line(pointa=(-r_outer, 0.0, 0.0), \n",
    "                        pointb=(r_outer, 0.0, 0.0), resolution=1)\n",
    "    outer_coords = outer_shell.points\n",
    "elif n_arms == 4: # tetrahedron\n",
    "    outer_shell = pv.Tetrahedron(radius=r_outer, center=(0.0, 0.0, 0.0))\n",
    "    outer_coords = outer_shell.points\n",
    "elif n_arms == 6: # octahedron\n",
    "    outer_shell = pv.Octahedron(radius=r_outer, center=(0.0, 0.0, 0.0))\n",
    "    outer_coords = outer_shell.points\n",
    "elif n_arms == 8: # cube\n",
    "    # Note: this may not be the optimal solution for n=8, check later\n",
    "    l  = (2*r_outer)/(3**(1/2))\n",
    "    outer_shell = pv.Cube(center=(0.0, 0.0, 0.0), x_length=l, \n",
    "                        y_length=l, z_length=l)\n",
    "    outer_coords = outer_shell.points\n",
    "else: \n",
    "    # Modified fibbonaci lattice \n",
    "    # Source: http://extremelearning.com.au/how-to-evenly-distribute-points-on-a-sphere-more-effectively-than-the-canonical-fibonacci-lattice/\n",
    "    epsilon = 0.33\n",
    "    goldenRatio = (1 + 5**0.5)/2\n",
    "    i = np.arange(0, n_arms) \n",
    "    theta = 2 *pi * i / goldenRatio\n",
    "    phi = np.arccos(1 - 2*(i+epsilon)/(n_arms-1+2*epsilon))\n",
    "    x, y, z = np.cos(theta) * np.sin(phi), np.sin(theta) * np.sin(phi), np.cos(phi)\n",
    "    outer_coords = r_outer*(np.column_stack((x, y, z)))\n",
    "\n",
    "outer_coords = outer_coords # for testing "
   ]
  },
  {
   "cell_type": "code",
   "execution_count": null,
   "metadata": {},
   "outputs": [],
   "source": [
    "import math\n",
    "def round_up_to_decimal(number, decimals=0):\n",
    "    \"\"\"Rounds a number up to the nearest specified decimal place.\n",
    "\n",
    "    Args:\n",
    "        number: The number to round up.\n",
    "        decimals: The number of decimal places to round to (default is 0).\n",
    "\n",
    "    Returns:\n",
    "        The rounded-up number.\n",
    "    \"\"\"\n",
    "    if not isinstance(decimals, int):\n",
    "        raise TypeError(\"decimals must be an integer\")\n",
    "    if decimals < 0:\n",
    "        raise ValueError(\"decimals must be non-negative\")\n",
    "    \n",
    "    factor = 10 ** decimals\n",
    "    return math.ceil(number * factor) / factor\n",
    "\n",
    "def round_down_to_decimal(number, decimals=0):\n",
    "    \"\"\"Rounds a number down to the nearest specified decimal place.\n",
    "\n",
    "    Args:\n",
    "        number: The number to round down.\n",
    "        decimals: The number of decimal places to round to (default is 0).\n",
    "\n",
    "    Returns:\n",
    "        The rounded-down number.\n",
    "    \"\"\"\n",
    "    if not isinstance(decimals, int):\n",
    "        raise TypeError(\"decimals must be an integer\")\n",
    "    if decimals < 0:\n",
    "        raise ValueError(\"decimals must be non-negative\")\n",
    "    \n",
    "    factor = 10 ** decimals\n",
    "    return math.floor(number * factor) / factor\n",
    "\n",
    "pyr_center_rounded = (0.0, 0.0, round_up_to_decimal(hp/2, 2))\n",
    "cyl_center_rounded = (0.0, 0.0, round_down_to_decimal(c+hp, 2))\n",
    "print(pyr_center_rounded)   \n",
    "print(cyl_center_rounded)"
   ]
  },
  {
   "cell_type": "code",
   "execution_count": 17,
   "metadata": {},
   "outputs": [],
   "source": [
    "# create bullet arm\n",
    "cyl = pv.Cylinder(center=cyl_center_rounded, direction=(0.0, 0.0, -1.0), \n",
    "                radius=a, height=2*c, resolution=6, capping=True)\n",
    "pyr = pv.Cone(center=pyr_center_rounded, direction=(0.0, 0.0, -1.0), \n",
    "            height=hp, radius=a, capping=True, angle=None, resolution=6)\n",
    "cyl = cyl.triangulate()\n",
    "pyr = pyr.triangulate()\n",
    "cyl_pts = cyl.points\n",
    "cyl_pts[abs(cyl_pts)<1e-10]=0.0 # replace small values with zeros\n",
    "cyl.points = cyl_pts\n",
    "pyr_pts = pyr.points\n",
    "pyr_pts[abs(pyr_pts)<1e-10]=0.0 # replace small values with zeros\n",
    "pyr.points = pyr_pts\n",
    "# bullet = cyl.boolean_union(pyr).triangulate()\n",
    "# pt_dist = np.linalg.norm(bullet.points, axis=1)"
   ]
  },
  {
   "cell_type": "code",
   "execution_count": 18,
   "metadata": {},
   "outputs": [],
   "source": [
    "bullet = cyl.boolean_union(pyr)"
   ]
  },
  {
   "cell_type": "code",
   "execution_count": null,
   "metadata": {},
   "outputs": [],
   "source": [
    "# plot bullet as wireframe\n",
    "pl = pv.Plotter()\n",
    "pl.add_mesh(bullet, color='black', style='wireframe')\n",
    "pl.show()"
   ]
  },
  {
   "cell_type": "code",
   "execution_count": null,
   "metadata": {},
   "outputs": [],
   "source": [
    "# plot cyl and pyr with pyvista\n",
    "pl = pv.Plotter()\n",
    "pl.add_mesh(cyl, color='blue', style='wireframe')\n",
    "pl.add_mesh(pyr, color='red', style='wireframe')\n",
    "pl.show()"
   ]
  },
  {
   "cell_type": "code",
   "execution_count": null,
   "metadata": {},
   "outputs": [],
   "source": [
    "# calculate volume\n",
    "v_ros = ros.volume\n",
    "print(v_ros)"
   ]
  },
  {
   "cell_type": "code",
   "execution_count": null,
   "metadata": {},
   "outputs": [],
   "source": [
    "# calculate minimally bounding sphere\n",
    "mbs = ros.calc_mbs()\n",
    "print(mbs)"
   ]
  },
  {
   "cell_type": "code",
   "execution_count": null,
   "metadata": {},
   "outputs": [],
   "source": [
    "# calculate effective density \n",
    "rho_eff = v_ros / mbs['v']\n",
    "print(rho_eff)"
   ]
  },
  {
   "cell_type": "code",
   "execution_count": null,
   "metadata": {},
   "outputs": [],
   "source": [
    "# visualize mbs\n",
    "pl = ros.plot()\n",
    "# create sphere with radius r using pyvista\n",
    "sphere = pv.Sphere(radius=mbs['r'], center=mbs['c'])\n",
    "# plot sphere with pyvista\n",
    "pl.add_mesh(sphere, color='red', opacity=0.5)\n",
    "pl.show()\n"
   ]
  },
  {
   "cell_type": "markdown",
   "metadata": {},
   "source": [
    "# Test #2: test m"
   ]
  },
  {
   "cell_type": "code",
   "execution_count": null,
   "metadata": {},
   "outputs": [],
   "source": []
  },
  {
   "cell_type": "markdown",
   "metadata": {},
   "source": [
    "# Test #2: multiple rosettes, single cpu"
   ]
  },
  {
   "cell_type": "code",
   "execution_count": null,
   "metadata": {},
   "outputs": [],
   "source": []
  },
  {
   "cell_type": "code",
   "execution_count": null,
   "metadata": {},
   "outputs": [],
   "source": []
  },
  {
   "cell_type": "markdown",
   "metadata": {},
   "source": [
    "# Test #3: multiple rosettes, multiple cpus"
   ]
  },
  {
   "cell_type": "code",
   "execution_count": null,
   "metadata": {},
   "outputs": [],
   "source": []
  },
  {
   "cell_type": "code",
   "execution_count": null,
   "metadata": {},
   "outputs": [],
   "source": []
  },
  {
   "cell_type": "code",
   "execution_count": null,
   "metadata": {},
   "outputs": [],
   "source": []
  },
  {
   "cell_type": "code",
   "execution_count": null,
   "metadata": {},
   "outputs": [],
   "source": []
  }
 ],
 "metadata": {
  "kernelspec": {
   "display_name": "pyvista",
   "language": "python",
   "name": "python3"
  },
  "language_info": {
   "codemirror_mode": {
    "name": "ipython",
    "version": 3
   },
   "file_extension": ".py",
   "mimetype": "text/x-python",
   "name": "python",
   "nbconvert_exporter": "python",
   "pygments_lexer": "ipython3",
   "version": "3.12.7"
  },
  "orig_nbformat": 4
 },
 "nbformat": 4,
 "nbformat_minor": 2
}
