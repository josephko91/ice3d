{
 "cells": [
  {
   "cell_type": "code",
   "execution_count": 2,
   "metadata": {},
   "outputs": [],
   "source": [
    "import psutil\n",
    "import numpy as np\n",
    "from data.rosette_temp import Rosette\n",
    "import pandas as pd\n",
    "from multiprocess import Pool, get_context\n",
    "from itertools import product\n",
    "import os\n",
    "import pyvista as pv\n",
    "import random"
   ]
  },
  {
   "cell_type": "markdown",
   "metadata": {},
   "source": [
    "# Test #1: single rosette"
   ]
  },
  {
   "cell_type": "code",
   "execution_count": 2,
   "metadata": {},
   "outputs": [],
   "source": [
    "import pyvista as pv\n",
    "import numpy as np\n",
    "from math import pi, sqrt, pow, acos, degrees, radians, sin, cos\n",
    "# import trame\n",
    "import math\n",
    "# import helper\n",
    "from data import helper_temp as helper\n",
    "from copy import deepcopy\n",
    "import miniball\n",
    "import pymeshfix as mf\n",
    "from decimal import *"
   ]
  },
  {
   "cell_type": "code",
   "execution_count": 2,
   "metadata": {},
   "outputs": [],
   "source": [
    "import math\n",
    "def round_up_to_decimal(number, decimals=0):\n",
    "    \"\"\"Rounds a number up to the nearest specified decimal place.\n",
    "\n",
    "    Args:\n",
    "        number: The number to round up.\n",
    "        decimals: The number of decimal places to round to (default is 0).\n",
    "\n",
    "    Returns:\n",
    "        The rounded-up number.\n",
    "    \"\"\"\n",
    "    if not isinstance(decimals, int):\n",
    "        raise TypeError(\"decimals must be an integer\")\n",
    "    if decimals < 0:\n",
    "        raise ValueError(\"decimals must be non-negative\")\n",
    "    \n",
    "    factor = 10 ** decimals\n",
    "    return math.ceil(number * factor) / factor\n",
    "\n",
    "def round_down_to_decimal(number, decimals=0):\n",
    "    \"\"\"Rounds a number down to the nearest specified decimal place.\n",
    "\n",
    "    Args:\n",
    "        number: The number to round down.\n",
    "        decimals: The number of decimal places to round to (default is 0).\n",
    "\n",
    "    Returns:\n",
    "        The rounded-down number.\n",
    "    \"\"\"\n",
    "    if not isinstance(decimals, int):\n",
    "        raise TypeError(\"decimals must be an integer\")\n",
    "    if decimals < 0:\n",
    "        raise ValueError(\"decimals must be non-negative\")\n",
    "    \n",
    "    factor = 10 ** decimals\n",
    "    return math.floor(number * factor) / factor"
   ]
  },
  {
   "cell_type": "code",
   "execution_count": 3,
   "metadata": {},
   "outputs": [],
   "source": [
    "a, c, r0, h0, hp, n_arms = 54.26, 159.5, 43.98, 11.0, 43.98, 9\n",
    "# ros = Rosette(a, c, r0, h0, hp, n_arms)"
   ]
  },
  {
   "cell_type": "code",
   "execution_count": null,
   "metadata": {},
   "outputs": [],
   "source": [
    "output_path = '/Users/josephko/research/ice3d/output/out_log.txt'\n",
    "for i in range(10):\n",
    "    # test with randomly varying sphere size\n",
    "    c = random.uniform(10, 200)\n",
    "    c = round_up_to_decimal(c, 2)\n",
    "    a_c_ratio = random.uniform(0.05, 0.8)\n",
    "    a = c * a_c_ratio\n",
    "    a = round_up_to_decimal(a, 2)\n",
    "    f_r0 = random.uniform(0.75, 1.0)\n",
    "    r0 = f_r0 * a\n",
    "    r0 = round_up_to_decimal(r0, 2)\n",
    "    hp = r0 # pyramid height\n",
    "    f_h0 = random.uniform(0.2, 0.5)\n",
    "    h0 = hp/4 # penetration depth\n",
    "    h0 = round_up_to_decimal(h0, 2)\n",
    "    n_arms = random.randint(4, 10)\n",
    "    # print(a, c, r0, h0, hp, n_arms)\n",
    "    # print(type(r0))\n",
    "    file = open(output_path, 'a')\n",
    "    file.write(f'{a}, {c}, {r0}, {h0}, {hp}, {n_arms}\\n')\n",
    "    file.close()\n",
    "    ros = Rosette(a, c, r0, h0, hp, n_arms)\n",
    "    # ros.unify_mesh()\n",
    "    # pl = ros.plot(op=0.95)\n",
    "    # pl.show()"
   ]
  },
  {
   "cell_type": "code",
   "execution_count": null,
   "metadata": {},
   "outputs": [],
   "source": [
    "# randomize bullets\n",
    "scaling = [0.75, 1.25, 0.75, 1.25] \n",
    "location = 15\n",
    "ros_random = ros.randomize_bullets(scaling=scaling, location=location, inplace=False)\n",
    "ros_random.unify_mesh()\n",
    "ros_random.plot(op=0.95).show()"
   ]
  },
  {
   "cell_type": "code",
   "execution_count": null,
   "metadata": {},
   "outputs": [],
   "source": [
    "# create multiblock object from rosette\n",
    "ros.create_multiblock()\n",
    "ros_mb = ros.block\n",
    "ros_mb.plot()"
   ]
  },
  {
   "cell_type": "code",
   "execution_count": null,
   "metadata": {},
   "outputs": [],
   "source": [
    "type(ros_mb)"
   ]
  },
  {
   "cell_type": "code",
   "execution_count": null,
   "metadata": {},
   "outputs": [],
   "source": [
    "# numer of blocks in multiblock \n",
    "num_blocks = len(ros_mb)\n",
    "print(num_blocks)"
   ]
  },
  {
   "cell_type": "code",
   "execution_count": null,
   "metadata": {},
   "outputs": [],
   "source": [
    "# peform a boolean union of all the components of the multiblock object\n",
    "ros_union = ros_mb[0]\n",
    "num_blocks = len(ros_mb)\n",
    "for i in range(1, num_blocks):\n",
    "    ros_union = ros_union.boolean_union(ros_mb[i]).triangulate()\n",
    "ros_union.plot(opacity=0.95, style='wireframe')\n"
   ]
  },
  {
   "cell_type": "code",
   "execution_count": 4,
   "metadata": {},
   "outputs": [],
   "source": [
    "# create sphere \n",
    "sphere = pv.Sphere(radius=r0, center=(0, 0, 0), direction=(0, 0, 1), \n",
    "                theta_resolution=30, phi_resolution=20, start_theta=0, \n",
    "                end_theta=360, start_phi=0, end_phi=180)\n",
    "sphere = sphere.triangulate()"
   ]
  },
  {
   "cell_type": "code",
   "execution_count": 5,
   "metadata": {},
   "outputs": [],
   "source": [
    "# create outer shell to \"place\" bullets on\n",
    "r_outer = hp/2 + c - h0 + r0\n",
    "outer_sphere = pv.Sphere(radius=r_outer, center=(0, 0, 0), direction=(0, 0, 1), \n",
    "                theta_resolution=30, phi_resolution=20, start_theta=0, \n",
    "                end_theta=360, start_phi=0, end_phi=180)\n",
    "if n_arms == 2: # line\n",
    "    outer_shell = pv.Line(pointa=(-r_outer, 0.0, 0.0), \n",
    "                        pointb=(r_outer, 0.0, 0.0), resolution=1)\n",
    "    outer_coords = outer_shell.points\n",
    "elif n_arms == 4: # tetrahedron\n",
    "    outer_shell = pv.Tetrahedron(radius=r_outer, center=(0.0, 0.0, 0.0))\n",
    "    outer_coords = outer_shell.points\n",
    "elif n_arms == 6: # octahedron\n",
    "    outer_shell = pv.Octahedron(radius=r_outer, center=(0.0, 0.0, 0.0))\n",
    "    outer_coords = outer_shell.points\n",
    "elif n_arms == 8: # cube\n",
    "    # Note: this may not be the optimal solution for n=8, check later\n",
    "    l  = (2*r_outer)/(3**(1/2))\n",
    "    outer_shell = pv.Cube(center=(0.0, 0.0, 0.0), x_length=l, \n",
    "                        y_length=l, z_length=l)\n",
    "    outer_coords = outer_shell.points\n",
    "else: \n",
    "    # Modified fibbonaci lattice \n",
    "    # Source: http://extremelearning.com.au/how-to-evenly-distribute-points-on-a-sphere-more-effectively-than-the-canonical-fibonacci-lattice/\n",
    "    epsilon = 0.33\n",
    "    goldenRatio = (1 + 5**0.5)/2\n",
    "    i = np.arange(0, n_arms) \n",
    "    theta = 2 *pi * i / goldenRatio\n",
    "    phi = np.arccos(1 - 2*(i+epsilon)/(n_arms-1+2*epsilon))\n",
    "    x, y, z = np.cos(theta) * np.sin(phi), np.sin(theta) * np.sin(phi), np.cos(phi)\n",
    "    outer_coords = r_outer*(np.column_stack((x, y, z)))\n",
    "\n",
    "outer_coords = outer_coords # for testing "
   ]
  },
  {
   "cell_type": "code",
   "execution_count": null,
   "metadata": {},
   "outputs": [],
   "source": [
    "import math\n",
    "def round_up_to_decimal(number, decimals=0):\n",
    "    \"\"\"Rounds a number up to the nearest specified decimal place.\n",
    "\n",
    "    Args:\n",
    "        number: The number to round up.\n",
    "        decimals: The number of decimal places to round to (default is 0).\n",
    "\n",
    "    Returns:\n",
    "        The rounded-up number.\n",
    "    \"\"\"\n",
    "    if not isinstance(decimals, int):\n",
    "        raise TypeError(\"decimals must be an integer\")\n",
    "    if decimals < 0:\n",
    "        raise ValueError(\"decimals must be non-negative\")\n",
    "    \n",
    "    factor = 10 ** decimals\n",
    "    return math.ceil(number * factor) / factor\n",
    "\n",
    "def round_down_to_decimal(number, decimals=0):\n",
    "    \"\"\"Rounds a number down to the nearest specified decimal place.\n",
    "\n",
    "    Args:\n",
    "        number: The number to round down.\n",
    "        decimals: The number of decimal places to round to (default is 0).\n",
    "\n",
    "    Returns:\n",
    "        The rounded-down number.\n",
    "    \"\"\"\n",
    "    if not isinstance(decimals, int):\n",
    "        raise TypeError(\"decimals must be an integer\")\n",
    "    if decimals < 0:\n",
    "        raise ValueError(\"decimals must be non-negative\")\n",
    "    \n",
    "    factor = 10 ** decimals\n",
    "    return math.floor(number * factor) / factor\n",
    "\n",
    "pyr_center_rounded = (0.0, 0.0, round_up_to_decimal(hp/2, 2))\n",
    "cyl_center_rounded = (0.0, 0.0, round_down_to_decimal(c+hp, 2))\n",
    "print(pyr_center_rounded)   \n",
    "print(cyl_center_rounded)"
   ]
  },
  {
   "cell_type": "code",
   "execution_count": null,
   "metadata": {},
   "outputs": [],
   "source": [
    "output_path = '/Users/josephko/research/ice3d/output/out_log.txt'\n",
    "for i in range(10):\n",
    "    c = random.uniform(10, 200)\n",
    "    c = round_up_to_decimal(c, 2)\n",
    "    a_c_ratio = random.uniform(0.05, 0.8)\n",
    "    a = c * a_c_ratio\n",
    "    a = round_up_to_decimal(a, 2)\n",
    "    f_r0 = random.uniform(0.75, 1.0)\n",
    "    r0 = f_r0 * a\n",
    "    r0 = round_up_to_decimal(r0, 2)\n",
    "    hp = r0 # pyramid height\n",
    "    f_h0 = random.uniform(0.2, 0.5)\n",
    "    h0 = hp/4 # penetration depth\n",
    "    h0 = round_up_to_decimal(h0, 2)\n",
    "    n_arms = random.randint(4, 10)\n",
    "    # create bullet arm\n",
    "    # cyl = pv.Cylinder(center=cyl_center_rounded, direction=(0.0, 0.0, -1.0), \n",
    "    #                 radius=a, height=2*c, resolution=6, capping=True)\n",
    "    # pyr = pv.Cone(center=pyr_center_rounded, direction=(0.0, 0.0, -1.0), \n",
    "    #             height=hp, radius=a, capping=True, angle=None, resolution=6)\n",
    "    cyl = pv.Cylinder(center=(0.0, 0.0, c+hp), direction=(0.0, 0.0, -1.0), \n",
    "                    radius=a, height=2*c, resolution=6, capping=True)\n",
    "    pyr = pv.Cone(center=(0.0, 0.0, hp/2), direction=(0.0, 0.0, -1.0), \n",
    "                height=hp, radius=a, capping=True, angle=None, resolution=6)\n",
    "    cyl = cyl.triangulate()\n",
    "    pyr = pyr.triangulate()\n",
    "    cyl_pts = cyl.points\n",
    "    cyl_pts[abs(cyl_pts)<1e-10]=0.0 # replace small values with zeros\n",
    "    cyl.points = cyl_pts\n",
    "    pyr_pts = pyr.points\n",
    "    pyr_pts[abs(pyr_pts)<1e-10]=0.0 # replace small values with zeros\n",
    "    pyr.points = pyr_pts\n",
    "    file = open(output_path, 'a')\n",
    "    file.write(f'{a}, {c}, {hp}\\n')\n",
    "    file.close()\n",
    "    bullet = cyl.boolean_union(pyr).triangulate()\n",
    "    # pt_dist = np.linalg.norm(bullet.points, axis=1)"
   ]
  },
  {
   "cell_type": "code",
   "execution_count": 4,
   "metadata": {},
   "outputs": [],
   "source": [
    "a, c, hp = 38.61, 58.0, 35.2\n",
    "cyl = pv.Cylinder(center=(0.0, 0.0, c+hp), direction=(0.0, 0.0, -1.0), \n",
    "                    radius=a, height=2*c, resolution=6, capping=True)\n",
    "pyr = pv.Cone(center=(0.0, 0.0, hp/2), direction=(0.0, 0.0, -1.0), \n",
    "            height=hp, radius=a, capping=True, angle=None, resolution=6)\n",
    "cyl = cyl.triangulate()\n",
    "pyr = pyr.triangulate()\n",
    "cyl_pts = cyl.points\n",
    "cyl_pts[abs(cyl_pts)<1e-10]=0.0 # replace small values with zeros\n",
    "cyl.points = cyl_pts\n",
    "pyr_pts = pyr.points\n",
    "pyr_pts[abs(pyr_pts)<1e-10]=0.0 # replace small values with zeros\n",
    "pyr.points = pyr_pts"
   ]
  },
  {
   "cell_type": "code",
   "execution_count": null,
   "metadata": {},
   "outputs": [],
   "source": [
    "bullet = cyl.boolean_union(pyr)"
   ]
  },
  {
   "cell_type": "code",
   "execution_count": null,
   "metadata": {},
   "outputs": [],
   "source": [
    "# plot bullet as wireframe\n",
    "pl = pv.Plotter()\n",
    "pl.add_mesh(bullet, color='black', style='wireframe')\n",
    "pl.show()"
   ]
  },
  {
   "cell_type": "code",
   "execution_count": 5,
   "metadata": {},
   "outputs": [
    {
     "data": {
      "application/vnd.jupyter.widget-view+json": {
       "model_id": "06c682c5da7b4042b0a81a4d0eb857f3",
       "version_major": 2,
       "version_minor": 0
      },
      "text/plain": [
       "Widget(value='<iframe src=\"http://localhost:51391/index.html?ui=P_0x306402e10_0&reconnect=auto\" class=\"pyvista…"
      ]
     },
     "metadata": {},
     "output_type": "display_data"
    }
   ],
   "source": [
    "# plot cyl and pyr with pyvista\n",
    "pl = pv.Plotter()\n",
    "pl.add_mesh(cyl, color='blue', style='wireframe')\n",
    "pl.add_mesh(pyr, color='red', style='wireframe')\n",
    "pl.show()"
   ]
  },
  {
   "cell_type": "code",
   "execution_count": null,
   "metadata": {},
   "outputs": [],
   "source": [
    "# calculate volume\n",
    "v_ros = ros.volume\n",
    "print(v_ros)"
   ]
  },
  {
   "cell_type": "code",
   "execution_count": null,
   "metadata": {},
   "outputs": [],
   "source": [
    "# calculate minimally bounding sphere\n",
    "mbs = ros.calc_mbs()\n",
    "print(mbs)"
   ]
  },
  {
   "cell_type": "code",
   "execution_count": null,
   "metadata": {},
   "outputs": [],
   "source": [
    "# calculate effective density \n",
    "rho_eff = v_ros / mbs['v']\n",
    "print(rho_eff)"
   ]
  },
  {
   "cell_type": "code",
   "execution_count": null,
   "metadata": {},
   "outputs": [],
   "source": [
    "# visualize mbs\n",
    "pl = ros.plot()\n",
    "# create sphere with radius r using pyvista\n",
    "sphere = pv.Sphere(radius=mbs['r'], center=mbs['c'])\n",
    "# plot sphere with pyvista\n",
    "pl.add_mesh(sphere, color='red', opacity=0.5)\n",
    "pl.show()\n"
   ]
  },
  {
   "cell_type": "markdown",
   "metadata": {},
   "source": [
    "# Test #2: test m"
   ]
  },
  {
   "cell_type": "code",
   "execution_count": null,
   "metadata": {},
   "outputs": [],
   "source": []
  },
  {
   "cell_type": "markdown",
   "metadata": {},
   "source": [
    "# Test #2: multiple rosettes, single cpu"
   ]
  },
  {
   "cell_type": "code",
   "execution_count": null,
   "metadata": {},
   "outputs": [],
   "source": []
  },
  {
   "cell_type": "code",
   "execution_count": null,
   "metadata": {},
   "outputs": [],
   "source": []
  },
  {
   "cell_type": "markdown",
   "metadata": {},
   "source": [
    "# Test #3: multiple rosettes, multiple cpus"
   ]
  },
  {
   "cell_type": "code",
   "execution_count": null,
   "metadata": {},
   "outputs": [],
   "source": []
  },
  {
   "cell_type": "code",
   "execution_count": null,
   "metadata": {},
   "outputs": [],
   "source": []
  },
  {
   "cell_type": "code",
   "execution_count": null,
   "metadata": {},
   "outputs": [],
   "source": []
  },
  {
   "cell_type": "code",
   "execution_count": null,
   "metadata": {},
   "outputs": [],
   "source": []
  }
 ],
 "metadata": {
  "kernelspec": {
   "display_name": "pyvista",
   "language": "python",
   "name": "python3"
  },
  "language_info": {
   "codemirror_mode": {
    "name": "ipython",
    "version": 3
   },
   "file_extension": ".py",
   "mimetype": "text/x-python",
   "name": "python",
   "nbconvert_exporter": "python",
   "pygments_lexer": "ipython3",
   "version": "3.12.7"
  },
  "orig_nbformat": 4
 },
 "nbformat": 4,
 "nbformat_minor": 2
}
