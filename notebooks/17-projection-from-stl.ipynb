{
 "cells": [
  {
   "cell_type": "code",
   "execution_count": 1,
   "id": "1c97cdbd-674a-4179-a60b-089470fd4e22",
   "metadata": {},
   "outputs": [],
   "source": [
    "import pyvista as pv\n",
    "import os\n",
    "import random\n",
    "import numpy as np"
   ]
  },
  {
   "cell_type": "markdown",
   "id": "3b5e9ded-acc1-4378-a216-5c62e6b1600b",
   "metadata": {},
   "source": [
    "Take N projections of a single random STL file"
   ]
  },
  {
   "cell_type": "code",
   "execution_count": 11,
   "id": "cc63bea6-9c62-4565-9944-1b6c6d961c4f",
   "metadata": {},
   "outputs": [
    {
     "name": "stdout",
     "output_type": "stream",
     "text": [
      "reading stl file: /glade/derecho/scratch/joko/synth-ros/params_200_50-debug-20250316/stl/7/ros-test-030078.stl\n",
      "progress: 0/100\n",
      "progress: 10/100\n",
      "progress: 20/100\n",
      "progress: 30/100\n",
      "progress: 40/100\n",
      "progress: 50/100\n",
      "progress: 60/100\n",
      "progress: 70/100\n",
      "progress: 80/100\n",
      "progress: 90/100\n",
      "CPU times: user 934 ms, sys: 44 ms, total: 978 ms\n",
      "Wall time: 1.16 s\n"
     ]
    }
   ],
   "source": [
    "%%time\n",
    "# Generate random views of the particle and save as png\n",
    "save_path = '/glade/derecho/scratch/joko/synth-ros/params_200_50-debug-20250316/projections'\n",
    "stl_dir = '/glade/derecho/scratch/joko/synth-ros/params_200_50-debug-20250316/stl'\n",
    "# Get a list of all files in the directory and subdirectories\n",
    "files = []\n",
    "for dirpath, _, filenames in os.walk(stl_dir):\n",
    "    for file in filenames:\n",
    "        files.append(os.path.join(dirpath, file))  # Store full file paths\n",
    "random_file = random.choice(files)\n",
    "stl_path = os.path.join(stl_dir, random_file) # get a random file from stl directory\n",
    "n_renders = 100\n",
    "res = 64\n",
    "bg_color='black'\n",
    "obj_color='white'\n",
    "op=1.0\n",
    "# set plotter \n",
    "pl = pv.Plotter(off_screen=True, window_size=[res, res])\n",
    "pl.background_color = bg_color\n",
    "pl.enable_parallel_projection()\n",
    "pl.remove_all_lights()\n",
    "print(f'reading stl file: {stl_path}')\n",
    "mesh = pv.read(stl_path) # read stl file as mesh\n",
    "def random_rotate(mesh):\n",
    "    rotated = mesh.copy()\n",
    "    deg_x = np.random.randint(1, 360)\n",
    "    deg_y = np.random.randint(1, 360)\n",
    "    deg_z = np.random.randint(1, 360)\n",
    "    rotated.rotate_x(deg_x, inplace=True)\n",
    "    rotated.rotate_y(deg_y, inplace=True)\n",
    "    rotated.rotate_z(deg_z, inplace=True)\n",
    "    return rotated\n",
    "count = 0\n",
    "for i in range(n_renders):\n",
    "    rotated_mesh = random_rotate(mesh)\n",
    "    pl.add_mesh(rotated_mesh, show_edges=None, color = obj_color, opacity=op, name='mesh')\n",
    "    file_name = f'ros_random_rot_{i}.png'\n",
    "    file_path = os.path.join(save_path, file_name)\n",
    "    # pl.show(auto_close=False, interactive=False, jupyter_backend='none')\n",
    "    # pl.show(screenshot=file_path, interactive=False, jupyter_backend='none')\n",
    "    pl.screenshot(file_path, return_img=False)\n",
    "    # pl.deep_clean()\n",
    "    if count % 10==0:\n",
    "        print(f'progress: {count}/{n_renders}')\n",
    "    count+=1\n",
    "pl.close()"
   ]
  },
  {
   "cell_type": "markdown",
   "id": "611cde26-5720-4cfe-9eca-0161be26b546",
   "metadata": {},
   "source": [
    "--> Takes ~1 s per 100 projections on single cpu. "
   ]
  },
  {
   "cell_type": "markdown",
   "id": "cd7971c4-2574-42a1-8a81-905c73c0a7e9",
   "metadata": {},
   "source": [
    "# Scratch"
   ]
  },
  {
   "cell_type": "code",
   "execution_count": 2,
   "id": "32fbb00c-fe61-452d-8317-767e4815ffac",
   "metadata": {},
   "outputs": [
    {
     "name": "stdout",
     "output_type": "stream",
     "text": [
      "['/glade/derecho/scratch/joko/synth-ros/params_200_50-debug-20250316/stl/9/ros-test-054702.stl', '/glade/derecho/scratch/joko/synth-ros/params_200_50-debug-20250316/stl/9/ros-test-054597.stl', '/glade/derecho/scratch/joko/synth-ros/params_200_50-debug-20250316/stl/9/ros-test-051877.stl', '/glade/derecho/scratch/joko/synth-ros/params_200_50-debug-20250316/stl/9/ros-test-054342.stl', '/glade/derecho/scratch/joko/synth-ros/params_200_50-debug-20250316/stl/9/ros-test-052039.stl', '/glade/derecho/scratch/joko/synth-ros/params_200_50-debug-20250316/stl/9/ros-test-056473.stl', '/glade/derecho/scratch/joko/synth-ros/params_200_50-debug-20250316/stl/9/ros-test-052804.stl', '/glade/derecho/scratch/joko/synth-ros/params_200_50-debug-20250316/stl/9/ros-test-054612.stl', '/glade/derecho/scratch/joko/synth-ros/params_200_50-debug-20250316/stl/9/ros-test-053213.stl', '/glade/derecho/scratch/joko/synth-ros/params_200_50-debug-20250316/stl/9/ros-test-055187.stl']\n"
     ]
    }
   ],
   "source": [
    "stl_paths_txt = '/glade/derecho/scratch/joko/synth-ros/params_200_50-debug-20250316/stl/stl_relative_paths.txt'\n",
    "with open(stl_paths_txt, 'r') as file:\n",
    "    basepath = '/glade/derecho/scratch/joko/synth-ros/params_200_50-debug-20250316/stl'\n",
    "    rel_paths = [line.strip().replace('./','') for line in file]\n",
    "    stl_paths = [os.path.join(basepath, i) for i in rel_paths]\n",
    "print(stl_paths[:10])"
   ]
  },
  {
   "cell_type": "code",
   "execution_count": 18,
   "id": "87f312ac-c9ba-492f-a108-2e8a5c1137ca",
   "metadata": {},
   "outputs": [
    {
     "name": "stdout",
     "output_type": "stream",
     "text": [
      "/glade/derecho/scratch/joko/synth-ros/params_200_50-debug-20250316/stl/9/ros-test-054702.stl\n"
     ]
    }
   ],
   "source": [
    "test_path = stl_paths[0]\n",
    "print(test_path)"
   ]
  },
  {
   "cell_type": "code",
   "execution_count": 17,
   "id": "602bfe2b-6976-4a20-a86e-d9d7ae768965",
   "metadata": {},
   "outputs": [
    {
     "data": {
      "text/plain": [
       "70000"
      ]
     },
     "execution_count": 17,
     "metadata": {},
     "output_type": "execute_result"
    }
   ],
   "source": [
    "len(stl_paths)"
   ]
  },
  {
   "cell_type": "code",
   "execution_count": 22,
   "id": "b376f61a-798b-45a7-b034-79b307223a8a",
   "metadata": {},
   "outputs": [
    {
     "data": {
      "text/plain": [
       "'054702'"
      ]
     },
     "execution_count": 22,
     "metadata": {},
     "output_type": "execute_result"
    }
   ],
   "source": [
    "test_path.rsplit('-',1)[1].rsplit('.',1)[0]"
   ]
  },
  {
   "cell_type": "code",
   "execution_count": 4,
   "id": "5ec841f5-e33e-4966-b0e1-6d589952f48b",
   "metadata": {},
   "outputs": [
    {
     "name": "stdout",
     "output_type": "stream",
     "text": [
      "7000 0\n"
     ]
    }
   ],
   "source": [
    "# Get the total number of tasks (this will be passed by PBS)\n",
    "num_tasks = 10\n",
    "# Calculate the chunk size for each task\n",
    "chunk_size = len(stl_paths) // num_tasks  # Integer division\n",
    "remainder = len(stl_paths) % num_tasks\n",
    "print(chunk_size, remainder)"
   ]
  },
  {
   "cell_type": "code",
   "execution_count": null,
   "id": "7f2cc389-ffc0-4f21-9f02-aa8e1687574b",
   "metadata": {},
   "outputs": [],
   "source": []
  },
  {
   "cell_type": "code",
   "execution_count": null,
   "id": "79dd4b1a-c9ab-44d6-9068-86db79c3e8df",
   "metadata": {},
   "outputs": [],
   "source": []
  },
  {
   "cell_type": "code",
   "execution_count": null,
   "id": "7dd48209-0ec4-4e94-b145-cc19f8bf711e",
   "metadata": {},
   "outputs": [],
   "source": []
  }
 ],
 "metadata": {
  "kernelspec": {
   "display_name": "Python [conda env:.conda-pyvista_pip]",
   "language": "python",
   "name": "conda-env-.conda-pyvista_pip-py"
  },
  "language_info": {
   "codemirror_mode": {
    "name": "ipython",
    "version": 3
   },
   "file_extension": ".py",
   "mimetype": "text/x-python",
   "name": "python",
   "nbconvert_exporter": "python",
   "pygments_lexer": "ipython3",
   "version": "3.12.4"
  }
 },
 "nbformat": 4,
 "nbformat_minor": 5
}
