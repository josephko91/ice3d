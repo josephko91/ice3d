{
 "cells": [
  {
   "cell_type": "markdown",
   "id": "44326f00",
   "metadata": {},
   "source": [
    "Author: Joseph Ko  \n",
    "Reproducible notebook to train scikit-learn models found in Ko et al. 2025. "
   ]
  },
  {
   "cell_type": "markdown",
   "id": "ec210ee1",
   "metadata": {},
   "source": [
    "# Imports and configuration"
   ]
  },
  {
   "cell_type": "code",
   "execution_count": null,
   "id": "eeb6fa1a",
   "metadata": {},
   "outputs": [],
   "source": [
    "from sklearn.ensemble import RandomForestRegressor, RandomForestClassifier\n",
    "from sklearn.model_selection import train_test_split, GridSearchCV, ParameterGrid\n",
    "from sklearn.metrics import r2_score, confusion_matrix, mean_absolute_error, mean_squared_error, ConfusionMatrixDisplay\n",
    "from sklearn.linear_model import LinearRegression\n",
    "from sklearn.linear_model import LogisticRegression\n",
    "from sklearn.preprocessing import StandardScaler\n",
    "import joblib\n",
    "import numpy as np\n",
    "import pandas as pd\n",
    "import matplotlib.pyplot as plt\n",
    "import matplotlib as mpl\n",
    "import seaborn as sns\n",
    "import os"
   ]
  },
  {
   "cell_type": "code",
   "execution_count": null,
   "id": "b93deee9",
   "metadata": {},
   "outputs": [],
   "source": [
    "# load indices\n",
    "train_idx_path = \"/home/jko/synth-ros-data/idx/idx-train-sequential-subset-700k.txt\"\n",
    "val_idx_path = \"/home/jko/synth-ros-data/idx/idx-val-sequential-subset-700k.txt\"\n",
    "test_idx_path = \"/home/jko/synth-ros-data/idx/idx-test-sequential-subset-700k.txt\"\n",
    "train_idx = np.loadtxt(train_idx_path, dtype=int)\n",
    "val_idx = np.loadtxt(val_idx_path, dtype=int)\n",
    "test_idx = np.loadtxt(test_idx_path, dtype=int)"
   ]
  },
  {
   "cell_type": "code",
   "execution_count": null,
   "id": "7bce69ea",
   "metadata": {},
   "outputs": [],
   "source": [
    "# set colors\n",
    "cmap_reg = 'magma'\n",
    "cmap_cls = 'Blues'"
   ]
  },
  {
   "cell_type": "code",
   "execution_count": null,
   "id": "fcf340ba",
   "metadata": {},
   "outputs": [],
   "source": []
  },
  {
   "cell_type": "code",
   "execution_count": null,
   "id": "6f3e3a95",
   "metadata": {},
   "outputs": [],
   "source": []
  },
  {
   "cell_type": "code",
   "execution_count": null,
   "id": "ed7c4dc9",
   "metadata": {},
   "outputs": [],
   "source": []
  },
  {
   "cell_type": "code",
   "execution_count": null,
   "id": "ecc3fc5f",
   "metadata": {},
   "outputs": [],
   "source": []
  },
  {
   "cell_type": "code",
   "execution_count": null,
   "id": "8f0052ad",
   "metadata": {},
   "outputs": [],
   "source": []
  },
  {
   "cell_type": "code",
   "execution_count": null,
   "id": "63a548b8",
   "metadata": {},
   "outputs": [],
   "source": []
  }
 ],
 "metadata": {
  "language_info": {
   "name": "python"
  }
 },
 "nbformat": 4,
 "nbformat_minor": 5
}
