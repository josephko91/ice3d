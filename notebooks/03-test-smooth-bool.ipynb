{
 "cells": [
  {
   "cell_type": "code",
   "execution_count": null,
   "metadata": {},
   "outputs": [
    {
     "ename": "ModuleNotFoundError",
     "evalue": "No module named 'pymesh'",
     "output_type": "error",
     "traceback": [
      "\u001b[0;31m---------------------------------------------------------------------------\u001b[0m",
      "\u001b[0;31mModuleNotFoundError\u001b[0m                       Traceback (most recent call last)",
      "Cell \u001b[0;32mIn[1], line 1\u001b[0m\n\u001b[0;32m----> 1\u001b[0m \u001b[38;5;28;01mimport\u001b[39;00m\u001b[38;5;250m \u001b[39m\u001b[38;5;21;01mpymesh\u001b[39;00m\n\u001b[1;32m      2\u001b[0m \u001b[38;5;28;01mimport\u001b[39;00m\u001b[38;5;250m \u001b[39m\u001b[38;5;21;01mboolean\u001b[39;00m\n",
      "\u001b[0;31mModuleNotFoundError\u001b[0m: No module named 'pymesh'"
     ]
    }
   ],
   "source": [
    "import pymesh\n",
    "import boolean1"
   ]
  },
  {
   "cell_type": "code",
   "execution_count": null,
   "metadata": {},
   "outputs": [],
   "source": [
    "m1 = pymesh.load_mesh(\"data/box_1.obj\")\n",
    "m2 = pymesh.load_mesh(\"data/sphere_1.obj\")\n",
    "\n",
    "# Basic union\n",
    "u = boolean.union(m2, m1, resolution=128)\n",
    "\n",
    "# Smooth unions with varying smoothness\n",
    "su1 = boolean.smoothUnion(m2,m1,smoothness=0.4,resolution=128,pad=10)\n",
    "su2 = boolean.smoothUnion(m2,m1,smoothness=0.8,resolution=128,pad=10)\n",
    "\n",
    "pymesh.save_mesh(\"tmp/u.obj\",u)\n",
    "pymesh.save_mesh(\"tmp/su1.obj\",su1)\n",
    "pymesh.save_mesh(\"tmp/su2.obj\",su2)"
   ]
  }
 ],
 "metadata": {
  "kernelspec": {
   "display_name": "smooth-bool",
   "language": "python",
   "name": "python3"
  },
  "language_info": {
   "codemirror_mode": {
    "name": "ipython",
    "version": 3
   },
   "file_extension": ".py",
   "mimetype": "text/x-python",
   "name": "python",
   "nbconvert_exporter": "python",
   "pygments_lexer": "ipython3",
   "version": "3.13.1"
  }
 },
 "nbformat": 4,
 "nbformat_minor": 2
}
