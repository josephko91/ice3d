{
 "cells": [
  {
   "cell_type": "code",
   "execution_count": 5,
   "id": "3b1773d9-27f8-421e-9729-9065a1b40ffc",
   "metadata": {},
   "outputs": [],
   "source": [
    "import os, shutil, random\n",
    "import os\n",
    "import zarr\n",
    "import numpy as np\n",
    "from PIL import Image\n",
    "import matplotlib.pyplot as plt"
   ]
  },
  {
   "cell_type": "code",
   "execution_count": null,
   "id": "9ed6528f-792b-452e-acbb-fce462639afa",
   "metadata": {},
   "outputs": [],
   "source": [
    "# make a small subset of img dataset for testing \n",
    "# Define source and destination directories\n",
    "# source_dir = \"/glade/derecho/scratch/joko/synth-ros/params_200_50-debug-20250316/projections\"\n",
    "# destination_dir = \"/glade/derecho/scratch/joko/synth-ros/params_200_50_small_subset/projections\"\n",
    "\n",
    "# # Define the number of PNGs to keep per folder (adjust as needed)\n",
    "# num_keep = 10  # Change this value to set the subset size\n",
    "\n",
    "# # Ensure destination directory exists\n",
    "# os.makedirs(destination_dir, exist_ok=True)\n",
    "\n",
    "# # Loop through subdirectories\n",
    "# for subdir in os.listdir(source_dir):\n",
    "#     subdir_path = os.path.join(source_dir, subdir)\n",
    "#     dest_subdir_path = os.path.join(destination_dir, subdir)\n",
    "\n",
    "#     if os.path.isdir(subdir_path):  # Check if it's a directory\n",
    "#         os.makedirs(dest_subdir_path, exist_ok=True)  # Create corresponding subdir\n",
    "\n",
    "#         # Get list of PNG files in the current subdir\n",
    "#         png_files = [f for f in os.listdir(subdir_path) if f.lower().endswith(\".png\")]\n",
    "\n",
    "#         # Select a random subset\n",
    "#         selected_files = random.sample(png_files, min(num_keep, len(png_files)))\n",
    "\n",
    "#         # Copy selected files to the destination\n",
    "#         for file in selected_files:\n",
    "#             src_file_path = os.path.join(subdir_path, file)\n",
    "#             dest_file_path = os.path.join(dest_subdir_path, file)\n",
    "#             shutil.copy2(src_file_path, dest_file_path)\n",
    "\n",
    "# print(f\"✅ Successfully copied a random subset of PNG files to {destination_dir}\")\n"
   ]
  },
  {
   "cell_type": "code",
   "execution_count": 6,
   "id": "41701566-a014-41ea-a575-5874e7b2dde3",
   "metadata": {},
   "outputs": [
    {
     "data": {
      "text/plain": [
       "70"
      ]
     },
     "execution_count": 6,
     "metadata": {},
     "output_type": "execute_result"
    }
   ],
   "source": [
    "# List to store images\n",
    "image_list = []\n",
    "image_paths = []\n",
    "source_dir = \"/glade/derecho/scratch/joko/synth-ros/params_200_50_small_subset/projections\"\n",
    "# Loop through directories to find PNG files\n",
    "for root, _, files in os.walk(source_dir):\n",
    "    for file in files:\n",
    "        if file.lower().endswith(\".png\"):  # Only process PNG images\n",
    "            img_path = os.path.join(root, file)\n",
    "            img = Image.open(img_path).convert('L') # Convert to grayscale\n",
    "            img_arr = np.array(img)\n",
    "            image_list.append(img_arr)\n",
    "            image_paths.append(img_path)\n",
    "len(image_list)"
   ]
  },
  {
   "cell_type": "code",
   "execution_count": 7,
   "id": "1257a050-5ad6-41ee-b222-22d8af50de35",
   "metadata": {},
   "outputs": [
    {
     "data": {
      "text/plain": [
       "(70, 128, 128)"
      ]
     },
     "execution_count": 7,
     "metadata": {},
     "output_type": "execute_result"
    }
   ],
   "source": [
    "images_np = np.stack(image_list, axis=0)\n",
    "images_np.shape"
   ]
  },
  {
   "cell_type": "code",
   "execution_count": 8,
   "id": "c399068b-9890-4c36-82ea-bf3c427a7268",
   "metadata": {},
   "outputs": [
    {
     "data": {
      "text/plain": [
       "<matplotlib.image.AxesImage at 0x14c18fb53710>"
      ]
     },
     "execution_count": 8,
     "metadata": {},
     "output_type": "execute_result"
    },
    {
     "data": {
      "image/png": "[encoded data removed]",
      "text/plain": [
       "<Figure size 640x480 with 1 Axes>"
      ]
     },
     "metadata": {},
     "output_type": "display_data"
    }
   ],
   "source": [
    "i = random.randint(0,69)\n",
    "img = images_np[i,:,:]\n",
    "plt.imshow(img, cmap='gray')"
   ]
  },
  {
   "cell_type": "code",
   "execution_count": 66,
   "id": "272da3d3-033e-43a4-b000-4d5608b39abe",
   "metadata": {},
   "outputs": [
    {
     "name": "stderr",
     "output_type": "stream",
     "text": [
      "/glade/u/apps/opt/conda/envs/npl-2025a/lib/python3.12/site-packages/zarr/codecs/vlen_utf8.py:44: UserWarning: The codec `vlen-utf8` is currently not part in the Zarr format 3 specification. It may not be supported by other zarr implementations and may change in the future.\n",
      "  return cls(**configuration_parsed)\n"
     ]
    },
    {
     "name": "stdout",
     "output_type": "stream",
     "text": [
      "i: 0\n",
      "batch_size: 10000\n",
      "i: 10000\n",
      "batch_size: 10000\n",
      "i: 20000\n",
      "batch_size: 10000\n"
     ]
    },
    {
     "ename": "KeyboardInterrupt",
     "evalue": "",
     "output_type": "error",
     "traceback": [
      "\u001b[0;31m---------------------------------------------------------------------------\u001b[0m",
      "\u001b[0;31mKeyboardInterrupt\u001b[0m                         Traceback (most recent call last)",
      "Cell \u001b[0;32mIn[66], line 37\u001b[0m\n\u001b[1;32m     35\u001b[0m \u001b[38;5;28;01mfor\u001b[39;00m j \u001b[38;5;129;01min\u001b[39;00m \u001b[38;5;28mrange\u001b[39m(i, i\u001b[38;5;241m+\u001b[39mbatch_size):\n\u001b[1;32m     36\u001b[0m     img_path \u001b[38;5;241m=\u001b[39m png_files[j]\n\u001b[0;32m---> 37\u001b[0m     img \u001b[38;5;241m=\u001b[39m \u001b[43mImage\u001b[49m\u001b[38;5;241;43m.\u001b[39;49m\u001b[43mopen\u001b[49m\u001b[43m(\u001b[49m\u001b[43mimg_path\u001b[49m\u001b[43m)\u001b[49m\u001b[38;5;241m.\u001b[39mconvert(\u001b[38;5;124m'\u001b[39m\u001b[38;5;124mL\u001b[39m\u001b[38;5;124m'\u001b[39m) \u001b[38;5;66;03m# Convert to grayscale\u001b[39;00m\n\u001b[1;32m     38\u001b[0m     img_arr \u001b[38;5;241m=\u001b[39m np\u001b[38;5;241m.\u001b[39marray(img)\n\u001b[1;32m     39\u001b[0m     img_list\u001b[38;5;241m.\u001b[39mappend(img_arr)\n",
      "File \u001b[0;32m/glade/u/apps/opt/conda/envs/npl-2025a/lib/python3.12/site-packages/PIL/Image.py:3465\u001b[0m, in \u001b[0;36mopen\u001b[0;34m(fp, mode, formats)\u001b[0m\n\u001b[1;32m   3462\u001b[0m     filename \u001b[38;5;241m=\u001b[39m os\u001b[38;5;241m.\u001b[39mfspath(fp)\n\u001b[1;32m   3464\u001b[0m \u001b[38;5;28;01mif\u001b[39;00m filename:\n\u001b[0;32m-> 3465\u001b[0m     fp \u001b[38;5;241m=\u001b[39m \u001b[43mbuiltins\u001b[49m\u001b[38;5;241;43m.\u001b[39;49m\u001b[43mopen\u001b[49m\u001b[43m(\u001b[49m\u001b[43mfilename\u001b[49m\u001b[43m,\u001b[49m\u001b[43m \u001b[49m\u001b[38;5;124;43m\"\u001b[39;49m\u001b[38;5;124;43mrb\u001b[39;49m\u001b[38;5;124;43m\"\u001b[39;49m\u001b[43m)\u001b[49m\n\u001b[1;32m   3466\u001b[0m     exclusive_fp \u001b[38;5;241m=\u001b[39m \u001b[38;5;28;01mTrue\u001b[39;00m\n\u001b[1;32m   3467\u001b[0m \u001b[38;5;28;01melse\u001b[39;00m:\n",
      "\u001b[0;31mKeyboardInterrupt\u001b[0m: "
     ]
    }
   ],
   "source": [
    "# create a zarr file from all the images\n",
    "# Define source directory where images are stored\n",
    "source_dir = \"/glade/derecho/scratch/joko/synth-ros/params_200_50-debug-20250316/projections\"\n",
    "\n",
    "# Define destination Zarr file\n",
    "zarr_file = \"/glade/derecho/scratch/joko/synth-ros/params_200_50-debug-20250316/projections/projections.zarr\"\n",
    "\n",
    "# get list of all img paths\n",
    "relative_paths_txt = os.path.join(source_dir, 'img_relative_paths.txt')\n",
    "# Open the file and read lines into a list\n",
    "with open(relative_paths_txt, \"r\") as file:\n",
    "    lines = file.readlines()  # Includes newline characters\n",
    "relative_paths = [line.strip() for line in lines]\n",
    "png_files=[]\n",
    "for p in relative_paths:\n",
    "    full_path = os.path.join(source_dir, p.split('/',1)[1])\n",
    "    png_files.append(full_path)\n",
    "# Open a Zarr group (or create one if it doesn't exist)\n",
    "zarr_group = zarr.create_group(zarr_file, overwrite=True)\n",
    "n_chunk = 10000\n",
    "n_data = len(png_files)\n",
    "# Store in Zarr\n",
    "images = zarr_group.create_array(\"images\", shape=(n_data, 128, 128), chunks=(n_chunk, 128, 128), dtype=np.float64)\n",
    "paths = zarr_group.create_array(\"paths\", shape=(n_data,), chunks=(n_chunk,), dtype=object)  # Store file paths as metadata\n",
    "\n",
    "# # List to store images\n",
    "# image_list = []\n",
    "# image_paths = []\n",
    "\n",
    "for i in range(0, n_data, n_chunk):\n",
    "    print(f'i: {i}')\n",
    "    batch_size = min(n_chunk, n_data - i)\n",
    "    print(f'batch_size: {batch_size}')\n",
    "    img_list = []\n",
    "    for j in range(i, i+batch_size):\n",
    "        img_path = png_files[j]\n",
    "        img = Image.open(img_path).convert('L') # Convert to grayscale\n",
    "        img_arr = np.array(img)\n",
    "        img_list.append(img_arr)\n",
    "    images_np = np.stack(img_list, axis=0)\n",
    "    images[i:(i+batch_size)] = images_np\n",
    "    paths[i:(i+batch_size)] = png_files[i:(i+batch_size)]"
   ]
  },
  {
   "cell_type": "code",
   "execution_count": 54,
   "id": "6936767b-3196-4b57-9ac6-56a9204a771b",
   "metadata": {},
   "outputs": [
    {
     "name": "stdout",
     "output_type": "stream",
     "text": [
      "/glade/derecho/scratch/joko/synth-ros/params_200_50_small_subset/projections/6/ros-projection-028524-041.png\n"
     ]
    },
    {
     "data": {
      "text/plain": [
       "<matplotlib.image.AxesImage at 0x14c18ea72ff0>"
      ]
     },
     "execution_count": 54,
     "metadata": {},
     "output_type": "execute_result"
    },
    {
     "data": {
      "image/png": "[encoded data removed]",
      "text/plain": [
       "<Figure size 640x480 with 1 Axes>"
      ]
     },
     "metadata": {},
     "output_type": "display_data"
    }
   ],
   "source": [
    "i = random.randint(0,len(png_files))\n",
    "img = images[i]\n",
    "filename = paths[i]\n",
    "print(filename)\n",
    "plt.imshow(img, cmap='gray')"
   ]
  },
  {
   "cell_type": "code",
   "execution_count": 55,
   "id": "7e472381-949e-400d-a384-0e8dfb0cd995",
   "metadata": {},
   "outputs": [
    {
     "name": "stdout",
     "output_type": "stream",
     "text": [
      "<class 'zarr.core.array.Array'>\n",
      "<class 'list'>\n"
     ]
    }
   ],
   "source": [
    "print(type(images))\n",
    "print(type(paths))"
   ]
  },
  {
   "cell_type": "code",
   "execution_count": 52,
   "id": "f22b2d4b-ba38-42f4-a897-4844696662a1",
   "metadata": {},
   "outputs": [
    {
     "name": "stderr",
     "output_type": "stream",
     "text": [
      "/glade/u/apps/opt/conda/envs/npl-2025a/lib/python3.12/site-packages/zarr/codecs/vlen_utf8.py:44: UserWarning: The codec `vlen-utf8` is currently not part in the Zarr format 3 specification. It may not be supported by other zarr implementations and may change in the future.\n",
      "  return cls(**configuration_parsed)\n"
     ]
    },
    {
     "data": {
      "text/plain": [
       "['images', 'paths']"
      ]
     },
     "execution_count": 52,
     "metadata": {},
     "output_type": "execute_result"
    }
   ],
   "source": [
    "list(zarr_group.keys())"
   ]
  },
  {
   "cell_type": "code",
   "execution_count": 53,
   "id": "8820cdca-1d27-41ad-b268-00efb9c06de0",
   "metadata": {},
   "outputs": [
    {
     "name": "stdout",
     "output_type": "stream",
     "text": [
      "Type               : Array\n",
      "Zarr format        : 3\n",
      "Data type          : DataType.string\n",
      "Shape              : (70,)\n",
      "Chunk shape        : (70,)\n",
      "Order              : C\n",
      "Read-only          : False\n",
      "Store type         : LocalStore\n",
      "Filters            : ()\n",
      "Serializer         : VLenUTF8Codec()\n",
      "Compressors        : (ZstdCodec(level=0, checksum=False),)\n",
      "No. bytes          : 560\n"
     ]
    }
   ],
   "source": [
    "print(zarr_group['paths'].info)"
   ]
  },
  {
   "cell_type": "code",
   "execution_count": 47,
   "id": "929bab14-a126-4690-a072-1f6b1782a5d0",
   "metadata": {},
   "outputs": [
    {
     "name": "stdout",
     "output_type": "stream",
     "text": [
      "3.0.1\n"
     ]
    }
   ],
   "source": [
    "print(zarr.__version__)"
   ]
  },
  {
   "cell_type": "code",
   "execution_count": null,
   "id": "6312532c-1b7e-44f1-bd47-50ff8c179c74",
   "metadata": {},
   "outputs": [],
   "source": []
  },
  {
   "cell_type": "code",
   "execution_count": null,
   "id": "d949e731-4da5-49d0-8821-a6aeb18ff6e5",
   "metadata": {},
   "outputs": [],
   "source": []
  }
 ],
 "metadata": {
  "kernelspec": {
   "display_name": "NPL 2025a",
   "language": "python",
   "name": "npl-2025a"
  },
  "language_info": {
   "codemirror_mode": {
    "name": "ipython",
    "version": 3
   },
   "file_extension": ".py",
   "mimetype": "text/x-python",
   "name": "python",
   "nbconvert_exporter": "python",
   "pygments_lexer": "ipython3",
   "version": "3.12.8"
  }
 },
 "nbformat": 4,
 "nbformat_minor": 5
}
