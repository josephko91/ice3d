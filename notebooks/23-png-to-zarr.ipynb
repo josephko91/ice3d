{
 "cells": [
  {
   "cell_type": "code",
   "execution_count": 67,
   "id": "3b1773d9-27f8-421e-9729-9065a1b40ffc",
   "metadata": {},
   "outputs": [],
   "source": [
    "import os, shutil, random\n",
    "import zarr\n",
    "import numpy as np\n",
    "from PIL import Image\n",
    "import matplotlib.pyplot as plt\n",
    "import dask.array as da\n",
    "from dask.diagnostics import ProgressBar\n",
    "from dask.distributed import Client\n",
    "import cv2 as cv\n",
    "from pathlib import Path\n",
    "import numcodecs\n",
    "from zarr.storage import LocalStore\n",
    "from sklearn.model_selection import train_test_split"
   ]
  },
  {
   "cell_type": "code",
   "execution_count": 12,
   "id": "93303143-fd0f-48bc-bdc1-06d5b6c5efda",
   "metadata": {},
   "outputs": [
    {
     "data": {
      "text/plain": [
       "(224, 224, 3)"
      ]
     },
     "execution_count": 12,
     "metadata": {},
     "output_type": "execute_result"
    }
   ],
   "source": [
    "root = '/glade/derecho/scratch/joko/synth-ros/params_200_50_20250403/subset_n1000/default/4'\n",
    "file = 'ros-projection-000007-008-default.png'\n",
    "img_path = os.path.join(root, file)\n",
    "img = cv.imread(img_path)\n",
    "img.shape"
   ]
  },
  {
   "cell_type": "markdown",
   "id": "d71e5ea6-c547-41e6-9773-1da6718da026",
   "metadata": {},
   "source": [
    "Notes on zarr v3:\n",
    "- Lots of problems...may need to change when bugs are fixed with new iteration of zarr v3\n",
    "- https://github.com/zarr-developers/zarr-python/issues/2964"
   ]
  },
  {
   "cell_type": "markdown",
   "id": "ed70d589-306d-48c3-928d-8eb0b5538337",
   "metadata": {},
   "source": [
    "# Test on n1000 subset"
   ]
  },
  {
   "cell_type": "markdown",
   "id": "a1d33d50-7c30-4a49-84a5-221f21b74a7b",
   "metadata": {},
   "source": [
    "## a) no groups"
   ]
  },
  {
   "cell_type": "code",
   "execution_count": 57,
   "id": "68200c9e-53e7-424f-94e2-2e27585e34cd",
   "metadata": {},
   "outputs": [],
   "source": [
    "def imgs2zarr(imgs, save_path):\n",
    "    '''\n",
    "    imgs: list of paths of images (e.g., pngs)\n",
    "    save_path: where to save zarr array\n",
    "    '''        \n",
    "    # Load one image to get shape\n",
    "    sample = np.array(Image.open(imgs[0]))\n",
    "    img_shape = sample.shape\n",
    "    # Create LocalStore for writing Zarr v3\n",
    "    store = LocalStore(save_path)\n",
    "    # Open the root group using Zarr v3\n",
    "    root = zarr.open(store=store, mode=\"w\")\n",
    "    # # Set up compression codec (Blosc in this case)\n",
    "    # compression = numcodecs.Blosc(cname='zstd', clevel=3, shuffle=numcodecs.Blosc.SHUFFLE)\n",
    "    # Create arrays\n",
    "    images_arr = root.create_array(\n",
    "        name=\"images\",\n",
    "        shape=(len(imgs), *img_shape),\n",
    "        chunks=(10, *img_shape),\n",
    "        dtype=\"uint8\",\n",
    "        compressors=[zarr.codecs.BloscCodec(cname=\"zstd\", clevel=3, shuffle=\"shuffle\")]\n",
    "    )\n",
    "    # Write data\n",
    "    for i, path in enumerate(imgs):\n",
    "        img = np.array(Image.open(path))\n",
    "        images_arr[i] = img \n",
    "    # save filenames as metadata\n",
    "    root.attrs['filenames'] = [p.name for p in imgs]\n",
    "    print(\"✅ Saved PNGs and filenames using Zarr v3 + LocalStore.\")"
   ]
  },
  {
   "cell_type": "code",
   "execution_count": 58,
   "id": "d74dbef5-2363-4e8c-9c9d-97424208b7b4",
   "metadata": {},
   "outputs": [
    {
     "name": "stdout",
     "output_type": "stream",
     "text": [
      "creating /glade/derecho/scratch/joko/synth-ros/params_200_50_20250403/subset_n1000/2ds.zarr...\n",
      "✅ Saved PNGs and filenames using Zarr v3 + LocalStore.\n",
      "creating /glade/derecho/scratch/joko/synth-ros/params_200_50_20250403/subset_n1000/default.zarr...\n",
      "✅ Saved PNGs and filenames using Zarr v3 + LocalStore.\n",
      "creating /glade/derecho/scratch/joko/synth-ros/params_200_50_20250403/subset_n1000/phips.zarr...\n",
      "✅ Saved PNGs and filenames using Zarr v3 + LocalStore.\n"
     ]
    }
   ],
   "source": [
    "root = '/glade/derecho/scratch/joko/synth-ros/params_200_50_20250403/subset_n1000'\n",
    "subfolders = ['2ds', 'default', 'phips']\n",
    "for f in subfolders:\n",
    "    data_dir = Path(os.path.join(root, f))\n",
    "    png_files = list(data_dir.rglob('*.png'))\n",
    "    save_filename = f'{f}.zarr'\n",
    "    save_path = os.path.join(root, save_filename)\n",
    "    print(f'creating {save_path}...')\n",
    "    imgs2zarr(png_files, save_path=save_path) # save to zarr"
   ]
  },
  {
   "cell_type": "code",
   "execution_count": 74,
   "id": "3647f3af-da09-4338-9892-f153738e067c",
   "metadata": {},
   "outputs": [
    {
     "name": "stdout",
     "output_type": "stream",
     "text": [
      "<class 'str'>\n",
      "/glade/derecho/scratch/joko/synth-ros/params_200_50_20250403/subset_n1000/2ds.zarr\n"
     ]
    },
    {
     "data": {
      "text/html": [
       "<pre style=\"white-space:pre;overflow-x:auto;line-height:normal;font-family:Menlo,'DejaVu Sans Mono',consolas,'Courier New',monospace\"><span style=\"font-weight: bold\">/</span>\n",
       "└── <span style=\"font-weight: bold\">images</span> (7000, 224, 224, 3) uint8\n",
       "</pre>\n"
      ],
      "text/plain": [
       "\u001b[1m/\u001b[0m\n",
       "└── \u001b[1mimages\u001b[0m (7000, 224, 224, 3) uint8\n"
      ]
     },
     "metadata": {},
     "output_type": "display_data"
    },
    {
     "name": "stdout",
     "output_type": "stream",
     "text": [
      "\n",
      "<class 'str'>\n",
      "/glade/derecho/scratch/joko/synth-ros/params_200_50_20250403/subset_n1000/default.zarr\n"
     ]
    },
    {
     "data": {
      "text/html": [
       "<pre style=\"white-space:pre;overflow-x:auto;line-height:normal;font-family:Menlo,'DejaVu Sans Mono',consolas,'Courier New',monospace\"><span style=\"font-weight: bold\">/</span>\n",
       "└── <span style=\"font-weight: bold\">images</span> (7000, 224, 224, 3) uint8\n",
       "</pre>\n"
      ],
      "text/plain": [
       "\u001b[1m/\u001b[0m\n",
       "└── \u001b[1mimages\u001b[0m (7000, 224, 224, 3) uint8\n"
      ]
     },
     "metadata": {},
     "output_type": "display_data"
    },
    {
     "name": "stdout",
     "output_type": "stream",
     "text": [
      "\n",
      "<class 'str'>\n",
      "/glade/derecho/scratch/joko/synth-ros/params_200_50_20250403/subset_n1000/phips.zarr\n"
     ]
    },
    {
     "data": {
      "text/html": [
       "<pre style=\"white-space:pre;overflow-x:auto;line-height:normal;font-family:Menlo,'DejaVu Sans Mono',consolas,'Courier New',monospace\"><span style=\"font-weight: bold\">/</span>\n",
       "└── <span style=\"font-weight: bold\">images</span> (7000, 224, 224, 3) uint8\n",
       "</pre>\n"
      ],
      "text/plain": [
       "\u001b[1m/\u001b[0m\n",
       "└── \u001b[1mimages\u001b[0m (7000, 224, 224, 3) uint8\n"
      ]
     },
     "metadata": {},
     "output_type": "display_data"
    },
    {
     "name": "stdout",
     "output_type": "stream",
     "text": [
      "\n"
     ]
    }
   ],
   "source": [
    "# check zarr files\n",
    "root = '/glade/derecho/scratch/joko/synth-ros/params_200_50_20250403/subset_n1000'\n",
    "subfolders = ['2ds', 'default', 'phips']\n",
    "for f in subfolders:\n",
    "    zarr_file = f'{f}.zarr'\n",
    "    print(type(zarr_file))\n",
    "    zarr_path = os.path.join(root, zarr_file)\n",
    "    print(zarr_path)\n",
    "    store = LocalStore(zarr_path)\n",
    "    zarr_root = zarr.open(store, mode='r')\n",
    "    print(zarr_root.tree())"
   ]
  },
  {
   "cell_type": "markdown",
   "id": "4148ef65-e40b-4b0e-95a8-461b7beadff8",
   "metadata": {},
   "source": [
    "## b) split into train/val/test sets"
   ]
  },
  {
   "cell_type": "code",
   "execution_count": 62,
   "id": "c224ed1d-79af-47a9-9a69-dc3c6bdd8e9c",
   "metadata": {},
   "outputs": [],
   "source": [
    "def imgs2zarr_split(imgs, save_path, train_size=0.7, val_size=0.15, test_size=0.15):\n",
    "    '''\n",
    "    imgs: list of paths of images (e.g., pngs)\n",
    "    save_path: where to save zarr array\n",
    "    train_size: proportion of data to be used for training\n",
    "    val_size: proportion of data to be used for validation\n",
    "    test_size: proportion of data to be used for testing\n",
    "    '''        \n",
    "    # Load one image to get shape\n",
    "    sample = np.array(Image.open(imgs[0]))\n",
    "    img_shape = sample.shape\n",
    "    \n",
    "    # Create LocalStore for writing Zarr v3\n",
    "    store = LocalStore(save_path)\n",
    "    \n",
    "    # Open the root group using Zarr v3\n",
    "    root = zarr.open(store=store, mode=\"w\")\n",
    "    \n",
    "    # Split the data into training, validation, and test sets\n",
    "    train_imgs, temp_imgs = train_test_split(imgs, train_size=train_size)\n",
    "    val_imgs, test_imgs = train_test_split(temp_imgs, train_size=val_size / (val_size + test_size))  # Adjust for combined size\n",
    "    \n",
    "    # Function to create arrays for each split\n",
    "    def create_split_array(name, img_paths):\n",
    "        img_shape = np.array(Image.open(img_paths[0])).shape\n",
    "        arr = root.create_array(\n",
    "            name=name,\n",
    "            shape=(len(img_paths), *img_shape),\n",
    "            chunks=(10, *img_shape),\n",
    "            dtype=\"uint8\",\n",
    "            compressors=[zarr.codecs.BloscCodec(cname=\"zstd\", clevel=3, shuffle=\"shuffle\")]\n",
    "        )\n",
    "        for i, path in enumerate(img_paths):\n",
    "            img = np.array(Image.open(path))\n",
    "            arr[i] = img\n",
    "        return arr\n",
    "    \n",
    "    # Create arrays for each split\n",
    "    train_arr = create_split_array(\"train\", train_imgs)\n",
    "    val_arr = create_split_array(\"val\", val_imgs)\n",
    "    test_arr = create_split_array(\"test\", test_imgs)\n",
    "    \n",
    "    # Save filenames as metadata for each split\n",
    "    root.attrs['train_filenames'] = [os.path.basename(p) for p in train_imgs]\n",
    "    root.attrs['val_filenames'] = [os.path.basename(p) for p in val_imgs]\n",
    "    root.attrs['test_filenames'] = [os.path.basename(p) for p in test_imgs]\n",
    "    \n",
    "    print(\"✅ Saved PNGs into training, validation, and test splits using Zarr v3 + LocalStore.\")"
   ]
  },
  {
   "cell_type": "code",
   "execution_count": 63,
   "id": "252e74d3-5b89-41e3-a5d8-274546abc1ec",
   "metadata": {},
   "outputs": [
    {
     "name": "stdout",
     "output_type": "stream",
     "text": [
      "creating /glade/derecho/scratch/joko/synth-ros/params_200_50_20250403/subset_n1000/2ds-split.zarr...\n",
      "✅ Saved PNGs into training, validation, and test splits using Zarr v3 + LocalStore.\n",
      "creating /glade/derecho/scratch/joko/synth-ros/params_200_50_20250403/subset_n1000/default-split.zarr...\n",
      "✅ Saved PNGs into training, validation, and test splits using Zarr v3 + LocalStore.\n",
      "creating /glade/derecho/scratch/joko/synth-ros/params_200_50_20250403/subset_n1000/phips-split.zarr...\n",
      "✅ Saved PNGs into training, validation, and test splits using Zarr v3 + LocalStore.\n",
      "CPU times: user 2min 21s, sys: 12.9 s, total: 2min 34s\n",
      "Wall time: 3min 20s\n"
     ]
    }
   ],
   "source": [
    "%%time\n",
    "root = '/glade/derecho/scratch/joko/synth-ros/params_200_50_20250403/subset_n1000'\n",
    "subfolders = ['2ds', 'default', 'phips']\n",
    "for f in subfolders:\n",
    "    data_dir = Path(os.path.join(root, f))\n",
    "    png_files = list(data_dir.rglob('*.png'))\n",
    "    save_filename = f'{f}-split.zarr'\n",
    "    save_path = os.path.join(root, save_filename)\n",
    "    print(f'creating {save_path}...')\n",
    "    imgs2zarr_split(png_files, save_path=save_path, \n",
    "                    train_size=0.7, val_size=0.15, test_size=0.15) # save to zarr with splits"
   ]
  },
  {
   "cell_type": "code",
   "execution_count": 73,
   "id": "9181eafc-5b9f-42ab-b5a5-3823c76a844a",
   "metadata": {},
   "outputs": [
    {
     "name": "stdout",
     "output_type": "stream",
     "text": [
      "<class 'str'>\n",
      "/glade/derecho/scratch/joko/synth-ros/params_200_50_20250403/subset_n1000/2ds-split.zarr\n"
     ]
    },
    {
     "data": {
      "text/html": [
       "<pre style=\"white-space:pre;overflow-x:auto;line-height:normal;font-family:Menlo,'DejaVu Sans Mono',consolas,'Courier New',monospace\"><span style=\"font-weight: bold\">/</span>\n",
       "├── <span style=\"font-weight: bold\">test</span> (1050, 224, 224, 3) uint8\n",
       "├── <span style=\"font-weight: bold\">train</span> (4900, 224, 224, 3) uint8\n",
       "└── <span style=\"font-weight: bold\">val</span> (1050, 224, 224, 3) uint8\n",
       "</pre>\n"
      ],
      "text/plain": [
       "\u001b[1m/\u001b[0m\n",
       "├── \u001b[1mtest\u001b[0m (1050, 224, 224, 3) uint8\n",
       "├── \u001b[1mtrain\u001b[0m (4900, 224, 224, 3) uint8\n",
       "└── \u001b[1mval\u001b[0m (1050, 224, 224, 3) uint8\n"
      ]
     },
     "metadata": {},
     "output_type": "display_data"
    },
    {
     "name": "stdout",
     "output_type": "stream",
     "text": [
      "\n",
      "<class 'str'>\n",
      "/glade/derecho/scratch/joko/synth-ros/params_200_50_20250403/subset_n1000/default-split.zarr\n"
     ]
    },
    {
     "data": {
      "text/html": [
       "<pre style=\"white-space:pre;overflow-x:auto;line-height:normal;font-family:Menlo,'DejaVu Sans Mono',consolas,'Courier New',monospace\"><span style=\"font-weight: bold\">/</span>\n",
       "├── <span style=\"font-weight: bold\">test</span> (1050, 224, 224, 3) uint8\n",
       "├── <span style=\"font-weight: bold\">train</span> (4900, 224, 224, 3) uint8\n",
       "└── <span style=\"font-weight: bold\">val</span> (1050, 224, 224, 3) uint8\n",
       "</pre>\n"
      ],
      "text/plain": [
       "\u001b[1m/\u001b[0m\n",
       "├── \u001b[1mtest\u001b[0m (1050, 224, 224, 3) uint8\n",
       "├── \u001b[1mtrain\u001b[0m (4900, 224, 224, 3) uint8\n",
       "└── \u001b[1mval\u001b[0m (1050, 224, 224, 3) uint8\n"
      ]
     },
     "metadata": {},
     "output_type": "display_data"
    },
    {
     "name": "stdout",
     "output_type": "stream",
     "text": [
      "\n",
      "<class 'str'>\n",
      "/glade/derecho/scratch/joko/synth-ros/params_200_50_20250403/subset_n1000/phips-split.zarr\n"
     ]
    },
    {
     "data": {
      "text/html": [
       "<pre style=\"white-space:pre;overflow-x:auto;line-height:normal;font-family:Menlo,'DejaVu Sans Mono',consolas,'Courier New',monospace\"><span style=\"font-weight: bold\">/</span>\n",
       "├── <span style=\"font-weight: bold\">test</span> (1050, 224, 224, 3) uint8\n",
       "├── <span style=\"font-weight: bold\">train</span> (4900, 224, 224, 3) uint8\n",
       "└── <span style=\"font-weight: bold\">val</span> (1050, 224, 224, 3) uint8\n",
       "</pre>\n"
      ],
      "text/plain": [
       "\u001b[1m/\u001b[0m\n",
       "├── \u001b[1mtest\u001b[0m (1050, 224, 224, 3) uint8\n",
       "├── \u001b[1mtrain\u001b[0m (4900, 224, 224, 3) uint8\n",
       "└── \u001b[1mval\u001b[0m (1050, 224, 224, 3) uint8\n"
      ]
     },
     "metadata": {},
     "output_type": "display_data"
    },
    {
     "name": "stdout",
     "output_type": "stream",
     "text": [
      "\n"
     ]
    }
   ],
   "source": [
    "# check zarr files\n",
    "root = '/glade/derecho/scratch/joko/synth-ros/params_200_50_20250403/subset_n1000'\n",
    "subfolders = ['2ds', 'default', 'phips']\n",
    "for f in subfolders:\n",
    "    zarr_file = f'{f}-split.zarr'\n",
    "    print(type(zarr_file))\n",
    "    zarr_path = os.path.join(root, zarr_file)\n",
    "    print(zarr_path)\n",
    "    store = LocalStore(zarr_path)\n",
    "    zarr_root = zarr.open(store, mode='r')\n",
    "    print(zarr_root.tree())"
   ]
  },
  {
   "cell_type": "code",
   "execution_count": null,
   "id": "f03184f7-68e9-418b-bc0c-05b895d62392",
   "metadata": {},
   "outputs": [],
   "source": []
  },
  {
   "cell_type": "code",
   "execution_count": 2,
   "id": "41701566-a014-41ea-a575-5874e7b2dde3",
   "metadata": {},
   "outputs": [
    {
     "data": {
      "text/plain": [
       "70"
      ]
     },
     "execution_count": 2,
     "metadata": {},
     "output_type": "execute_result"
    }
   ],
   "source": [
    "# List to store images\n",
    "image_list = []\n",
    "image_paths = []\n",
    "source_dir = \"/glade/derecho/scratch/joko/synth-ros/params_200_50_small_subset/projections\"\n",
    "# Loop through directories to find PNG files\n",
    "for root, _, files in os.walk(source_dir):\n",
    "    for file in files:\n",
    "        if file.lower().endswith(\".png\"):  # Only process PNG images\n",
    "            img_path = os.path.join(root, file)\n",
    "            img = Image.open(img_path).convert('L') # Convert to grayscale\n",
    "            img_arr = np.array(img)\n",
    "            image_list.append(img_arr)\n",
    "            image_paths.append(img_path)\n",
    "len(image_list)"
   ]
  },
  {
   "cell_type": "code",
   "execution_count": 3,
   "id": "1257a050-5ad6-41ee-b222-22d8af50de35",
   "metadata": {},
   "outputs": [
    {
     "data": {
      "text/plain": [
       "(70, 128, 128)"
      ]
     },
     "execution_count": 3,
     "metadata": {},
     "output_type": "execute_result"
    }
   ],
   "source": [
    "images_np = np.stack(image_list, axis=0)\n",
    "images_np.shape"
   ]
  },
  {
   "cell_type": "code",
   "execution_count": null,
   "id": "aad9d411-4429-49b4-9b77-559a1a153377",
   "metadata": {},
   "outputs": [],
   "source": []
  },
  {
   "cell_type": "code",
   "execution_count": 8,
   "id": "c399068b-9890-4c36-82ea-bf3c427a7268",
   "metadata": {},
   "outputs": [
    {
     "data": {
      "text/plain": [
       "<matplotlib.image.AxesImage at 0x152e758d65d0>"
      ]
     },
     "execution_count": 8,
     "metadata": {},
     "output_type": "execute_result"
    },
    {
     "data": {
      "image/png": "[encoded data removed]",
      "text/plain": [
       "<Figure size 640x480 with 1 Axes>"
      ]
     },
     "metadata": {},
     "output_type": "display_data"
    }
   ],
   "source": [
    "i = random.randint(0,69)\n",
    "img = images_np[i,:,:]\n",
    "plt.imshow(img, cmap='gray')"
   ]
  },
  {
   "cell_type": "code",
   "execution_count": 11,
   "id": "05eb5c19-07b6-4b97-9c8d-d99abf1a5bbd",
   "metadata": {},
   "outputs": [
    {
     "data": {
      "text/plain": [
       "['/glade/derecho/scratch/joko/synth-ros/params_200_50_small_subset/projections',\n",
       " '6',\n",
       " 'ros-projection-024988-078.png']"
      ]
     },
     "execution_count": 11,
     "metadata": {},
     "output_type": "execute_result"
    }
   ],
   "source": [
    "f = image_paths[0]\n",
    "f.rsplit('/',2)"
   ]
  },
  {
   "cell_type": "code",
   "execution_count": 16,
   "id": "11f2bfe9-52c3-4fe0-9a67-89f2a4fcd619",
   "metadata": {},
   "outputs": [
    {
     "data": {
      "text/plain": [
       "(70, 128, 128)"
      ]
     },
     "execution_count": 16,
     "metadata": {},
     "output_type": "execute_result"
    }
   ],
   "source": [
    "imgs = np.asarray(image_list)\n",
    "imgs.shape"
   ]
  },
  {
   "cell_type": "code",
   "execution_count": 23,
   "id": "19b40a25-0181-4537-9594-78ce8cad2b9b",
   "metadata": {},
   "outputs": [
    {
     "name": "stdout",
     "output_type": "stream",
     "text": [
      "Processed 10/70 images...\n",
      "Processed 20/70 images...\n",
      "Processed 30/70 images...\n",
      "Processed 40/70 images...\n",
      "Processed 50/70 images...\n",
      "Processed 60/70 images...\n",
      "Processed 70/70 images...\n",
      "All image data has been saved to the Zarr store at zarr_test_ds\n",
      "Zarr dataset has been saved to: zarr_test_ds\n",
      "Array metadata (zattrs):\n",
      "<zarr.core.attributes.Attributes object at 0x152e759279d0>\n"
     ]
    }
   ],
   "source": [
    "# create a zarr DirectoryStore from these images\n",
    "labels = []\n",
    "for f in image_paths:\n",
    "    n_arms = int(f.rsplit('/',2)[1])\n",
    "    labels.append(n_arms)\n",
    "\n",
    "# Define the directory where the Zarr store will be saved\n",
    "zarr_dir = 'zarr_test_ds' \n",
    "\n",
    "# Check if the directory exists and create it if it doesn't\n",
    "if not os.path.exists(zarr_dir):\n",
    "    os.makedirs(zarr_dir)\n",
    "\n",
    "# Create a Zarr store in the specified directory\n",
    "root = zarr.open(zarr_dir, mode='w')\n",
    "\n",
    "# Create a root group (which can hold arrays and other groups)\n",
    "images = root.create_group('images')\n",
    "\n",
    "# Create a 3D array (e.g., 10 images of size 100x100 with 3 channels, dtype uint8)\n",
    "shape = imgs.shape  # 10 images of size 100x100 with 3 color channels\n",
    "batch_size = 10\n",
    "chunks = (batch_size, imgs.shape[1], imgs.shape[2])  # Chunking: chunks of 1 image at a time\n",
    "dtype = 'uint8'  # Data type of the array (uint8 for RGB images)\n",
    "total_images = imgs.shape[0]\n",
    "\n",
    "# Create the Zarr array within the root group\n",
    "images_arr = images.create('images_arr', shape=shape, dtype=dtype, chunks=chunks)\n",
    "\n",
    "# Function to simulate loading a batch of image data (for demonstration purposes)\n",
    "def load_image_batch(start_idx, batch_size, data):\n",
    "    end_idx = start_idx + batch_size\n",
    "    batch = data[start_idx:end_idx, :, :]\n",
    "    return batch\n",
    "\n",
    "# Iterate over the image dataset and write data in batches\n",
    "for start_idx in range(0, total_images, batch_size):\n",
    "    # Load a batch of images\n",
    "    image_batch = load_image_batch(start_idx, batch_size, imgs)\n",
    "    \n",
    "    # Write the batch to the Zarr array (using slicing to place data in the correct position)\n",
    "    images_arr[start_idx:start_idx+batch_size] = image_batch\n",
    "\n",
    "    # Optionally, print progress\n",
    "    print(f\"Processed {start_idx + batch_size}/{total_images} images...\")\n",
    "\n",
    "print(f\"All image data has been saved to the Zarr store at {zarr_dir}\")\n",
    "\n",
    "# Save metadata about the array in .zattrs (automatic with Zarr)\n",
    "print(f\"Zarr dataset has been saved to: {zarr_dir}\")\n",
    "\n",
    "# Optionally, you can print out the metadata to see the chunking, shape, dtype, etc.\n",
    "print(\"Array metadata (zattrs):\")\n",
    "print(images_arr.attrs)"
   ]
  },
  {
   "cell_type": "code",
   "execution_count": 32,
   "id": "8d85722c-e05a-4132-a398-d8e08bf64ad4",
   "metadata": {},
   "outputs": [
    {
     "name": "stdout",
     "output_type": "stream",
     "text": [
      "Metadata for 'images' array:\n",
      "plotting img 18\n",
      "images chunked as: (10, 128, 128)\n"
     ]
    },
    {
     "data": {
      "image/png": "[encoded data removed]",
      "text/plain": [
       "<Figure size 640x480 with 1 Axes>"
      ]
     },
     "metadata": {},
     "output_type": "display_data"
    }
   ],
   "source": [
    "# Load the Zarr store from the directory\n",
    "root = zarr.open('zarr_test_ds', mode='r')\n",
    "\n",
    "# Access the 'images' group\n",
    "images_grp = root['images']\n",
    "\n",
    "# load the images_arr array\n",
    "images_arr = images_grp['images_arr']\n",
    "\n",
    "# Print the metadata (attributes) of the array in a more readable format\n",
    "print(\"Metadata for 'images' array:\")\n",
    "for key, value in images_arr.attrs.items():\n",
    "    print(f\"{key}: {value}\")\n",
    "\n",
    "# Access and plot random image\n",
    "rand_idx = random.randint(0,70)\n",
    "print(f'plotting img {rand_idx}')\n",
    "img = images_arr[rand_idx]\n",
    "print(f'images chunked as: {images_arr.chunks}')\n",
    "plt.imshow(img, cmap='gray')  # Use 'gray' colormap for grayscale images\n",
    "plt.show()"
   ]
  },
  {
   "cell_type": "code",
   "execution_count": 36,
   "id": "a85281a9-7b51-4312-99d9-f2bc34aa53e3",
   "metadata": {},
   "outputs": [],
   "source": [
    "# connect to dask distributed cluster\n",
    "# from dask.distributed import Client\n",
    "from dask_jobqueue import PBSCluster\n",
    "n_cores = 4\n",
    "cluster = PBSCluster(account='UPSU0052', queue='casper', memory='16GB', cores=n_cores, processes=1, walltime='01:00:00')\n",
    "# cluster.adapt(minimum=4, maximum=16) # adaptive \n",
    "cluster.scale(n_cores) # set to constant number of cores\n",
    "# client = Client(cluster)\n",
    "client = cluster.get_client()\n",
    "client"
   ]
  },
  {
   "cell_type": "code",
   "execution_count": 37,
   "id": "7b4ad2c1-e4d3-4efa-8d27-74024acb0f96",
   "metadata": {},
   "outputs": [
    {
     "name": "stdout",
     "output_type": "stream",
     "text": [
      "<Client: 'tcp://127.0.0.1:40339' processes=1 threads=1, memory=16.00 GiB>\n"
     ]
    }
   ],
   "source": [
    "# The dashboard link will be displayed in the notebook output\n",
    "print(client)"
   ]
  },
  {
   "cell_type": "code",
   "execution_count": null,
   "id": "efd9f8de-714a-4da2-9dac-eb1b26750460",
   "metadata": {},
   "outputs": [],
   "source": [
    "# You can now run some computation and view the task progress in the dashboard\n",
    "result = dask_images_arr.sum().compute()\n",
    "\n",
    "# Print result\n",
    "print(f\"Sum of the array: {result}\")"
   ]
  },
  {
   "cell_type": "markdown",
   "id": "efff129c-e1a3-469a-b48e-aaba3496a1d7",
   "metadata": {},
   "source": [
    "# Create zarr dataset from png (serial)"
   ]
  },
  {
   "cell_type": "code",
   "execution_count": 66,
   "id": "272da3d3-033e-43a4-b000-4d5608b39abe",
   "metadata": {},
   "outputs": [
    {
     "name": "stderr",
     "output_type": "stream",
     "text": [
      "/glade/u/apps/opt/conda/envs/npl-2025a/lib/python3.12/site-packages/zarr/codecs/vlen_utf8.py:44: UserWarning: The codec `vlen-utf8` is currently not part in the Zarr format 3 specification. It may not be supported by other zarr implementations and may change in the future.\n",
      "  return cls(**configuration_parsed)\n"
     ]
    },
    {
     "name": "stdout",
     "output_type": "stream",
     "text": [
      "i: 0\n",
      "batch_size: 10000\n",
      "i: 10000\n",
      "batch_size: 10000\n",
      "i: 20000\n",
      "batch_size: 10000\n"
     ]
    },
    {
     "ename": "KeyboardInterrupt",
     "evalue": "",
     "output_type": "error",
     "traceback": [
      "\u001b[0;31m---------------------------------------------------------------------------\u001b[0m",
      "\u001b[0;31mKeyboardInterrupt\u001b[0m                         Traceback (most recent call last)",
      "Cell \u001b[0;32mIn[66], line 37\u001b[0m\n\u001b[1;32m     35\u001b[0m \u001b[38;5;28;01mfor\u001b[39;00m j \u001b[38;5;129;01min\u001b[39;00m \u001b[38;5;28mrange\u001b[39m(i, i\u001b[38;5;241m+\u001b[39mbatch_size):\n\u001b[1;32m     36\u001b[0m     img_path \u001b[38;5;241m=\u001b[39m png_files[j]\n\u001b[0;32m---> 37\u001b[0m     img \u001b[38;5;241m=\u001b[39m \u001b[43mImage\u001b[49m\u001b[38;5;241;43m.\u001b[39;49m\u001b[43mopen\u001b[49m\u001b[43m(\u001b[49m\u001b[43mimg_path\u001b[49m\u001b[43m)\u001b[49m\u001b[38;5;241m.\u001b[39mconvert(\u001b[38;5;124m'\u001b[39m\u001b[38;5;124mL\u001b[39m\u001b[38;5;124m'\u001b[39m) \u001b[38;5;66;03m# Convert to grayscale\u001b[39;00m\n\u001b[1;32m     38\u001b[0m     img_arr \u001b[38;5;241m=\u001b[39m np\u001b[38;5;241m.\u001b[39marray(img)\n\u001b[1;32m     39\u001b[0m     img_list\u001b[38;5;241m.\u001b[39mappend(img_arr)\n",
      "File \u001b[0;32m/glade/u/apps/opt/conda/envs/npl-2025a/lib/python3.12/site-packages/PIL/Image.py:3465\u001b[0m, in \u001b[0;36mopen\u001b[0;34m(fp, mode, formats)\u001b[0m\n\u001b[1;32m   3462\u001b[0m     filename \u001b[38;5;241m=\u001b[39m os\u001b[38;5;241m.\u001b[39mfspath(fp)\n\u001b[1;32m   3464\u001b[0m \u001b[38;5;28;01mif\u001b[39;00m filename:\n\u001b[0;32m-> 3465\u001b[0m     fp \u001b[38;5;241m=\u001b[39m \u001b[43mbuiltins\u001b[49m\u001b[38;5;241;43m.\u001b[39;49m\u001b[43mopen\u001b[49m\u001b[43m(\u001b[49m\u001b[43mfilename\u001b[49m\u001b[43m,\u001b[49m\u001b[43m \u001b[49m\u001b[38;5;124;43m\"\u001b[39;49m\u001b[38;5;124;43mrb\u001b[39;49m\u001b[38;5;124;43m\"\u001b[39;49m\u001b[43m)\u001b[49m\n\u001b[1;32m   3466\u001b[0m     exclusive_fp \u001b[38;5;241m=\u001b[39m \u001b[38;5;28;01mTrue\u001b[39;00m\n\u001b[1;32m   3467\u001b[0m \u001b[38;5;28;01melse\u001b[39;00m:\n",
      "\u001b[0;31mKeyboardInterrupt\u001b[0m: "
     ]
    }
   ],
   "source": [
    "# create a zarr file from all the images\n",
    "# Define source directory where images are stored\n",
    "source_dir = \"/glade/derecho/scratch/joko/synth-ros/params_200_50-debug-20250316/projections\"\n",
    "\n",
    "# Define destination Zarr file\n",
    "zarr_file = \"/glade/derecho/scratch/joko/synth-ros/params_200_50-debug-20250316/projections/projections.zarr\"\n",
    "\n",
    "# get list of all img paths\n",
    "relative_paths_txt = os.path.join(source_dir, 'img_relative_paths.txt')\n",
    "# Open the file and read lines into a list\n",
    "with open(relative_paths_txt, \"r\") as file:\n",
    "    lines = file.readlines()  # Includes newline characters\n",
    "relative_paths = [line.strip() for line in lines]\n",
    "png_files=[]\n",
    "for p in relative_paths:\n",
    "    full_path = os.path.join(source_dir, p.split('/',1)[1])\n",
    "    png_files.append(full_path)\n",
    "# Open a Zarr group (or create one if it doesn't exist)\n",
    "res = 128\n",
    "zarr_group = zarr.create_group(zarr_file, overwrite=True)\n",
    "n_chunk = 10000\n",
    "n_data = len(png_files)\n",
    "# Store in Zarr\n",
    "images = zarr_group.create_array(\"images\", shape=(n_data, res, res), chunks=(n_chunk, res, res), dtype=np.float64)\n",
    "paths = zarr_group.create_array(\"paths\", shape=(n_data,), chunks=(n_chunk,), dtype=object)  # Store file paths as metadata\n",
    "\n",
    "# # List to store images\n",
    "# image_list = []\n",
    "# image_paths = []\n",
    "\n",
    "for i in range(0, n_data, n_chunk):\n",
    "    print(f'i: {i}')\n",
    "    batch_size = min(n_chunk, n_data - i)\n",
    "    print(f'batch_size: {batch_size}')\n",
    "    img_list = []\n",
    "    for j in range(i, i+batch_size):\n",
    "        img_path = png_files[j]\n",
    "        img = Image.open(img_path).convert('L') # Convert to grayscale\n",
    "        img_arr = np.array(img)\n",
    "        img_list.append(img_arr)\n",
    "    images_np = np.stack(img_list, axis=0)\n",
    "    images[i:(i+batch_size)] = images_np\n",
    "    paths[i:(i+batch_size)] = png_files[i:(i+batch_size)]"
   ]
  },
  {
   "cell_type": "code",
   "execution_count": 54,
   "id": "6936767b-3196-4b57-9ac6-56a9204a771b",
   "metadata": {},
   "outputs": [
    {
     "name": "stdout",
     "output_type": "stream",
     "text": [
      "/glade/derecho/scratch/joko/synth-ros/params_200_50_small_subset/projections/6/ros-projection-028524-041.png\n"
     ]
    },
    {
     "data": {
      "text/plain": [
       "<matplotlib.image.AxesImage at 0x14c18ea72ff0>"
      ]
     },
     "execution_count": 54,
     "metadata": {},
     "output_type": "execute_result"
    },
    {
     "data": {
      "image/png": "[encoded data removed]",
      "text/plain": [
       "<Figure size 640x480 with 1 Axes>"
      ]
     },
     "metadata": {},
     "output_type": "display_data"
    }
   ],
   "source": [
    "i = random.randint(0,len(png_files))\n",
    "img = images[i]\n",
    "filename = paths[i]\n",
    "print(filename)\n",
    "plt.imshow(img, cmap='gray')"
   ]
  },
  {
   "cell_type": "code",
   "execution_count": 55,
   "id": "7e472381-949e-400d-a384-0e8dfb0cd995",
   "metadata": {},
   "outputs": [
    {
     "name": "stdout",
     "output_type": "stream",
     "text": [
      "<class 'zarr.core.array.Array'>\n",
      "<class 'list'>\n"
     ]
    }
   ],
   "source": [
    "print(type(images))\n",
    "print(type(paths))"
   ]
  },
  {
   "cell_type": "code",
   "execution_count": 52,
   "id": "f22b2d4b-ba38-42f4-a897-4844696662a1",
   "metadata": {},
   "outputs": [
    {
     "name": "stderr",
     "output_type": "stream",
     "text": [
      "/glade/u/apps/opt/conda/envs/npl-2025a/lib/python3.12/site-packages/zarr/codecs/vlen_utf8.py:44: UserWarning: The codec `vlen-utf8` is currently not part in the Zarr format 3 specification. It may not be supported by other zarr implementations and may change in the future.\n",
      "  return cls(**configuration_parsed)\n"
     ]
    },
    {
     "data": {
      "text/plain": [
       "['images', 'paths']"
      ]
     },
     "execution_count": 52,
     "metadata": {},
     "output_type": "execute_result"
    }
   ],
   "source": [
    "list(zarr_group.keys())"
   ]
  },
  {
   "cell_type": "code",
   "execution_count": 53,
   "id": "8820cdca-1d27-41ad-b268-00efb9c06de0",
   "metadata": {},
   "outputs": [
    {
     "name": "stdout",
     "output_type": "stream",
     "text": [
      "Type               : Array\n",
      "Zarr format        : 3\n",
      "Data type          : DataType.string\n",
      "Shape              : (70,)\n",
      "Chunk shape        : (70,)\n",
      "Order              : C\n",
      "Read-only          : False\n",
      "Store type         : LocalStore\n",
      "Filters            : ()\n",
      "Serializer         : VLenUTF8Codec()\n",
      "Compressors        : (ZstdCodec(level=0, checksum=False),)\n",
      "No. bytes          : 560\n"
     ]
    }
   ],
   "source": [
    "print(zarr_group['paths'].info)"
   ]
  },
  {
   "cell_type": "code",
   "execution_count": 47,
   "id": "929bab14-a126-4690-a072-1f6b1782a5d0",
   "metadata": {},
   "outputs": [
    {
     "name": "stdout",
     "output_type": "stream",
     "text": [
      "3.0.1\n"
     ]
    }
   ],
   "source": [
    "print(zarr.__version__)"
   ]
  },
  {
   "cell_type": "markdown",
   "id": "daa9dedb-5fca-407b-9a6c-37afb06da315",
   "metadata": {},
   "source": [
    "# Test: png, np, opencv, zarr interoperability "
   ]
  },
  {
   "cell_type": "code",
   "execution_count": 33,
   "id": "181b9036-8bef-482c-93b5-f6809f06d21e",
   "metadata": {},
   "outputs": [],
   "source": [
    "import cv2 as cv\n",
    "import zarr\n",
    "import random\n",
    "import matplotlib.pyplot as plt\n",
    "import numpy as np"
   ]
  },
  {
   "cell_type": "code",
   "execution_count": 36,
   "id": "d6293526-65c0-4943-8178-4dc81b90849c",
   "metadata": {},
   "outputs": [
    {
     "name": "stdout",
     "output_type": "stream",
     "text": [
      "before cvtColor\n",
      "<class 'numpy.ndarray'>\n",
      "(128, 128, 3)\n",
      "after cvtColor\n",
      "<class 'numpy.ndarray'>\n",
      "(128, 128)\n"
     ]
    }
   ],
   "source": [
    "# load sample png \n",
    "img_path = '/glade/derecho/scratch/joko/synth-ros/params_200_50_small_subset/projections/6/ros-projection-028524-041.png'\n",
    "img = cv.imread(img_path)\n",
    "print('before cvtColor')\n",
    "print(type(img))\n",
    "print(img.shape)\n",
    "img = cv.cvtColor(img, cv.COLOR_BGR2YCR_CB)[...,0]\n",
    "print('after cvtColor')\n",
    "print(type(img))\n",
    "print(img.shape)"
   ]
  },
  {
   "cell_type": "markdown",
   "id": "ddfd7b63-5ce7-4fd9-8862-3fb09f57524c",
   "metadata": {},
   "source": [
    "-> opencv's imread() output is a np array"
   ]
  },
  {
   "cell_type": "code",
   "execution_count": 9,
   "id": "c198a035-bfe8-49b9-97db-9a5e69f8efe7",
   "metadata": {},
   "outputs": [
    {
     "data": {
      "text/plain": [
       "zarr.core.group.Group"
      ]
     },
     "execution_count": 9,
     "metadata": {},
     "output_type": "execute_result"
    }
   ],
   "source": [
    "# read in a test zarr file \n",
    "zarr_path = '/glade/derecho/scratch/joko/synth-ros/params_200_50-debug-20250316/projections/projections.zarr'\n",
    "z = zarr.open_group(zarr_path, mode='r')\n",
    "type(z)"
   ]
  },
  {
   "cell_type": "code",
   "execution_count": 16,
   "id": "84d47824-c992-472b-a298-ac689d9428fb",
   "metadata": {},
   "outputs": [
    {
     "data": {
      "text/plain": [
       "zarr.core.array.Array"
      ]
     },
     "execution_count": 16,
     "metadata": {},
     "output_type": "execute_result"
    }
   ],
   "source": [
    "# groups: images, paths\n",
    "type(z['images'])"
   ]
  },
  {
   "cell_type": "code",
   "execution_count": 17,
   "id": "9da6cbef-afcf-4e59-a806-53c9bddd8a11",
   "metadata": {},
   "outputs": [
    {
     "data": {
      "text/plain": [
       "(100, 128, 128)"
      ]
     },
     "execution_count": 17,
     "metadata": {},
     "output_type": "execute_result"
    }
   ],
   "source": [
    "z_imgs = z['images']\n",
    "z_imgs = z_imgs[:100, :, :]\n",
    "z_imgs.shape"
   ]
  },
  {
   "cell_type": "code",
   "execution_count": 18,
   "id": "143dc225-bd65-47f8-9912-31aaa0c2e307",
   "metadata": {},
   "outputs": [
    {
     "data": {
      "text/plain": [
       "numpy.ndarray"
      ]
     },
     "execution_count": 18,
     "metadata": {},
     "output_type": "execute_result"
    }
   ],
   "source": [
    "type(z_imgs)"
   ]
  },
  {
   "cell_type": "markdown",
   "id": "c55d41bd-c542-4502-b51f-460bb3daa82e",
   "metadata": {
    "jp-MarkdownHeadingCollapsed": true
   },
   "source": [
    "## image processing functions"
   ]
  },
  {
   "cell_type": "code",
   "execution_count": 31,
   "id": "3cac8262-faa8-4f63-918b-9e2bf003ac51",
   "metadata": {},
   "outputs": [],
   "source": [
    "def get_border(image, width):\n",
    "    bg = np.zeros(image.shape)\n",
    "    contours, _ = cv.findContours(image.copy(), cv.RETR_TREE, cv.CHAIN_APPROX_SIMPLE)\n",
    "    biggest = 0\n",
    "    bigcontour = None\n",
    "    for contour in contours:\n",
    "        area = cv.contourArea(contour) \n",
    "        if area > biggest:\n",
    "            biggest = area\n",
    "            bigcontour = contour\n",
    "    return cv.drawContours(bg, [bigcontour], 0, (255, 255, 255), width).astype(bool), contours \n",
    "\n",
    "def get_aspect_ratio(cnt):\n",
    "    rect = cv.minAreaRect(cnt)\n",
    "    # get length and width of contour\n",
    "    x = rect[1][0]\n",
    "    y = rect[1][1]\n",
    "    rect_length = max(x, y)\n",
    "    rect_width = min(x, y)\n",
    "    phi = rect_width / rect_length\n",
    "    return phi\n",
    "\n",
    "def get_aspect_ratio_elip(cnt):\n",
    "    ellipse = cv.fitEllipse(cnt)\n",
    "    # Get width and height of rotated ellipse\n",
    "    widthE = ellipse[1][0]\n",
    "    heightE = ellipse[1][1]\n",
    "    if widthE > heightE:\n",
    "        phiE = heightE / widthE\n",
    "    else:\n",
    "        phiE = widthE / heightE\n",
    "    return phiE\n",
    "\n",
    "def get_extreme_pts(cnt):\n",
    "    left = tuple(cnt[cnt[:, :, 0].argmin()][0])\n",
    "    right = tuple(cnt[cnt[:, :, 0].argmax()][0])\n",
    "    top = tuple(cnt[cnt[:, :, 1].argmin()][0])\n",
    "    bottom = tuple(cnt[cnt[:, :, 1].argmax()][0])\n",
    "    extreme_pts = np.std([left, right, top, bottom])\n",
    "    return extreme_pts\n",
    "\n",
    "def get_contour_area(cnt):\n",
    "    area = cv.contourArea(cnt)\n",
    "    return area\n",
    "\n",
    "def get_contour_perimeter(cnt):\n",
    "    perimeter = cv.arcLength(cnt, True)\n",
    "    return perimeter\n",
    "\n",
    "def get_min_circle(cnt):\n",
    "    center ,radius = cv.minEnclosingCircle(cnt)\n",
    "    perimeter_circle = 2*np.pi*radius\n",
    "    area_circle = np.pi*(radius**2)\n",
    "    return center, radius, perimeter_circle, area_circle\n",
    "\n",
    "def get_area_ratio(cnt):\n",
    "    area = get_contour_area(cnt)\n",
    "    _,_,_,area_circle = get_min_circle(cnt)\n",
    "    area_ratio = area/area_circle\n",
    "    return area_ratio\n",
    "\n",
    "def get_complexity(cnt):\n",
    "    _, radius, _, _ = get_min_circle(cnt)\n",
    "    area = get_contour_area(cnt)\n",
    "    perimeter = get_contour_perimeter(cnt)\n",
    "    Ac = np.pi * radius ** 2\n",
    "    complexity = 10*(0.1-(area / (np.sqrt(area / Ac) * perimeter ** 2)))\n",
    "    return complexity\n",
    "\n",
    "def get_circularity(cnt):\n",
    "    area = get_contour_area(cnt)\n",
    "    perimeter = get_contour_perimeter(cnt)\n",
    "    circularity = 4*np.pi*(area/(perimeter**2))\n",
    "    return circularity"
   ]
  },
  {
   "cell_type": "markdown",
   "id": "dad65388-799a-461e-a4e7-4f373d82e91c",
   "metadata": {},
   "source": [
    "## process sample image"
   ]
  },
  {
   "cell_type": "code",
   "execution_count": 45,
   "id": "8fe2db85-b67f-4e5f-a308-fe6423044026",
   "metadata": {},
   "outputs": [
    {
     "name": "stdout",
     "output_type": "stream",
     "text": [
      "(128, 128)\n"
     ]
    }
   ],
   "source": [
    "# get random image from zarr array of imgs and perform some opencv functions\n",
    "n_random = random.randint(0, len(z_imgs))\n",
    "img_random = z_imgs[n_random, :, :]\n",
    "print(img_random.shape)\n",
    "img_random = img_random.astype(np.uint8) # try converting to uint8 type from float"
   ]
  },
  {
   "cell_type": "code",
   "execution_count": 49,
   "id": "6431d3b8-74b7-460b-98a0-b8b40245e012",
   "metadata": {},
   "outputs": [
    {
     "name": "stdout",
     "output_type": "stream",
     "text": [
      "0\n",
      "255\n",
      "uint8\n"
     ]
    }
   ],
   "source": [
    "print(img_random.min())\n",
    "print(img_random.max())\n",
    "print(img_random.dtype)"
   ]
  },
  {
   "cell_type": "code",
   "execution_count": 48,
   "id": "87e3c009-1dd3-4e00-ab4e-86d4c4734a65",
   "metadata": {},
   "outputs": [
    {
     "name": "stdout",
     "output_type": "stream",
     "text": [
      "[0.8143499982196694, 0.8782426068060779, np.float64(26.323706046071855), 1939.0, 383.5046137571335, 0.40841846826339995, np.float64(0.7937072635496241), 0.16567099741241847]\n"
     ]
    }
   ],
   "source": [
    "# run processing functions on img\n",
    "img=img_random\n",
    "_, contours = get_border(img, 5)\n",
    "cnt = contours[0]\n",
    "aspect_ratio = get_aspect_ratio(cnt)\n",
    "aspect_ratio_elip = get_aspect_ratio_elip(cnt)\n",
    "extreme_pts = get_extreme_pts(cnt)\n",
    "contour_area = get_contour_area(cnt)\n",
    "contour_perimeter = get_contour_perimeter(cnt)\n",
    "area_ratio = get_area_ratio(cnt)\n",
    "complexity = get_complexity(cnt)\n",
    "circularity = get_circularity(cnt)\n",
    "img_features = [aspect_ratio, aspect_ratio_elip, extreme_pts, \\\n",
    "    contour_area, contour_perimeter, area_ratio, \\\n",
    "    complexity, circularity]\n",
    "print(img_features)"
   ]
  },
  {
   "cell_type": "markdown",
   "id": "a9a0ebc0-9285-45be-8c08-8c191c82fd37",
   "metadata": {},
   "source": [
    "Make sure that the datatype is set to \"np.uint8\" before feeding through opencv functions!  \n",
    "The default datatype is float64, and this will result in error."
   ]
  },
  {
   "cell_type": "code",
   "execution_count": null,
   "id": "41996c43-ef76-4ba8-83fa-5d9bfb4ab774",
   "metadata": {},
   "outputs": [],
   "source": []
  },
  {
   "cell_type": "code",
   "execution_count": null,
   "id": "d949e731-4da5-49d0-8821-a6aeb18ff6e5",
   "metadata": {},
   "outputs": [],
   "source": []
  }
 ],
 "metadata": {
  "kernelspec": {
   "display_name": "Python [conda env:cv]",
   "language": "python",
   "name": "conda-env-cv-py"
  },
  "language_info": {
   "codemirror_mode": {
    "name": "ipython",
    "version": 3
   },
   "file_extension": ".py",
   "mimetype": "text/x-python",
   "name": "python",
   "nbconvert_exporter": "python",
   "pygments_lexer": "ipython3",
   "version": "3.13.2"
  }
 },
 "nbformat": 4,
 "nbformat_minor": 5
}
