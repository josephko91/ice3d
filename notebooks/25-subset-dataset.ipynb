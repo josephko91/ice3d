{
 "cells": [
  {
   "cell_type": "code",
   "execution_count": 6,
   "id": "267ac0b8-442b-4aa6-8d0a-bedcb2c2f3d1",
   "metadata": {},
   "outputs": [],
   "source": [
    "import os, shutil, random\n",
    "from pathlib import Path"
   ]
  },
  {
   "cell_type": "code",
   "execution_count": 2,
   "id": "ebd71c55-29e9-48f6-bd81-1babc0df12be",
   "metadata": {},
   "outputs": [],
   "source": [
    "projections_root = '/glade/derecho/scratch/joko/synth-ros/params_200_50_20250403/projections'\n",
    "subset_root = '/glade/derecho/scratch/joko/synth-ros/params_200_50_20250403/subset_n1000'\n",
    "os.makedirs(subset_root, exist_ok=True)"
   ]
  },
  {
   "cell_type": "markdown",
   "id": "f4248102-91df-4292-a9d0-b041b3f60bcb",
   "metadata": {},
   "source": [
    "Create subset of data with 1,000 samples per class (n_arms). This will result in 7,000 samples total per default, 2ds, and phips sub-folders. 21,000 samples total. "
   ]
  },
  {
   "cell_type": "code",
   "execution_count": 31,
   "id": "8741ef39-0b65-49df-93e0-a24b25ad3f74",
   "metadata": {},
   "outputs": [
    {
     "name": "stdout",
     "output_type": "stream",
     "text": [
      "Copied 1000 files to /glade/derecho/scratch/joko/synth-ros/params_200_50_20250403/subset_n1000/phips/6\n",
      "Copied 1000 files to /glade/derecho/scratch/joko/synth-ros/params_200_50_20250403/subset_n1000/phips/5\n",
      "Copied 1000 files to /glade/derecho/scratch/joko/synth-ros/params_200_50_20250403/subset_n1000/phips/8\n",
      "Copied 1000 files to /glade/derecho/scratch/joko/synth-ros/params_200_50_20250403/subset_n1000/phips/9\n",
      "Copied 1000 files to /glade/derecho/scratch/joko/synth-ros/params_200_50_20250403/subset_n1000/phips/7\n",
      "Copied 1000 files to /glade/derecho/scratch/joko/synth-ros/params_200_50_20250403/subset_n1000/phips/10\n",
      "Copied 1000 files to /glade/derecho/scratch/joko/synth-ros/params_200_50_20250403/subset_n1000/phips/4\n",
      "Copied 1000 files to /glade/derecho/scratch/joko/synth-ros/params_200_50_20250403/subset_n1000/default/6\n",
      "Copied 1000 files to /glade/derecho/scratch/joko/synth-ros/params_200_50_20250403/subset_n1000/default/5\n",
      "Copied 1000 files to /glade/derecho/scratch/joko/synth-ros/params_200_50_20250403/subset_n1000/default/8\n",
      "Copied 1000 files to /glade/derecho/scratch/joko/synth-ros/params_200_50_20250403/subset_n1000/default/9\n",
      "Copied 1000 files to /glade/derecho/scratch/joko/synth-ros/params_200_50_20250403/subset_n1000/default/7\n",
      "Copied 1000 files to /glade/derecho/scratch/joko/synth-ros/params_200_50_20250403/subset_n1000/default/10\n",
      "Copied 1000 files to /glade/derecho/scratch/joko/synth-ros/params_200_50_20250403/subset_n1000/default/4\n",
      "Copied 1000 files to /glade/derecho/scratch/joko/synth-ros/params_200_50_20250403/subset_n1000/2ds/6\n",
      "Copied 1000 files to /glade/derecho/scratch/joko/synth-ros/params_200_50_20250403/subset_n1000/2ds/5\n",
      "Copied 1000 files to /glade/derecho/scratch/joko/synth-ros/params_200_50_20250403/subset_n1000/2ds/8\n",
      "Copied 1000 files to /glade/derecho/scratch/joko/synth-ros/params_200_50_20250403/subset_n1000/2ds/9\n",
      "Copied 1000 files to /glade/derecho/scratch/joko/synth-ros/params_200_50_20250403/subset_n1000/2ds/7\n",
      "Copied 1000 files to /glade/derecho/scratch/joko/synth-ros/params_200_50_20250403/subset_n1000/2ds/10\n",
      "Copied 1000 files to /glade/derecho/scratch/joko/synth-ros/params_200_50_20250403/subset_n1000/2ds/4\n",
      "CPU times: user 6.85 s, sys: 17.8 s, total: 24.6 s\n",
      "Wall time: 6min 55s\n"
     ]
    }
   ],
   "source": [
    "%%time\n",
    "def reservoir_sample_files(folder_path, k, seed=42):\n",
    "    \"\"\"Randomly sample k file paths from a directory with reservoir sampling.\"\"\"\n",
    "    random.seed(seed)\n",
    "    reservoir = []\n",
    "    with os.scandir(folder_path) as it:\n",
    "        for i, entry in enumerate(it):\n",
    "            if not entry.is_file():\n",
    "                continue\n",
    "            if len(reservoir) < k:\n",
    "                sample = entry.name.rsplit('-',1)[0]\n",
    "                reservoir.append(sample)\n",
    "            else:\n",
    "                j = random.randint(0, i)\n",
    "                if j < k:\n",
    "                    sample = entry.name.rsplit('-',1)[0]\n",
    "                    reservoir[j] = sample\n",
    "    return reservoir\n",
    "\n",
    "def create_subset(source_dir, dest_dir, \n",
    "    num_samples_per_subfolder=10, \n",
    "    seed=42\n",
    "):\n",
    "    random.seed(seed)\n",
    "    source_dir = Path(source_dir)\n",
    "    dest_dir = Path(dest_dir)\n",
    "    # Make sure destination directory exists\n",
    "    dest_dir.mkdir(parents=True, exist_ok=True)\n",
    "    prefix_dict = {}\n",
    "    first_folder = True\n",
    "    # Loop through top-level categories\n",
    "    for top_folder in source_dir.iterdir():\n",
    "        if top_folder.is_dir():\n",
    "            view_type = str(top_folder).rsplit('/', 1)[1]\n",
    "            # Now loop through second-level folders\n",
    "            for sub_folder in top_folder.iterdir():\n",
    "                if sub_folder.is_dir():\n",
    "                    n_arms = str(sub_folder).rsplit('/', 1)[1]\n",
    "                    if first_folder==True:\n",
    "                        selected_files_prefix = reservoir_sample_files(sub_folder, \n",
    "                                                                num_samples_per_subfolder, \n",
    "                                                                seed)\n",
    "                        prefix_dict[n_arms] = selected_files_prefix\n",
    "                    selected_files_prefix = prefix_dict[n_arms]\n",
    "                    selected_files = [(f+f'-{view_type}.png') for f in selected_files_prefix]\n",
    "                    # Create destination subfolder\n",
    "                    rel_path = sub_folder.relative_to(source_dir)\n",
    "                    target_subfolder = dest_dir / rel_path\n",
    "                    target_subfolder.mkdir(parents=True, exist_ok=True)\n",
    "                    # Copy files\n",
    "                    for filename in selected_files:\n",
    "                        file_path = os.path.join(sub_folder, filename)\n",
    "                        shutil.copy(file_path, target_subfolder)\n",
    "                    print(f\"Copied {len(selected_files)} files to {target_subfolder}\")\n",
    "            first_folder=False # only need prefix list the first time\n",
    "# main\n",
    "create_subset(\n",
    "    source_dir=projections_root, \n",
    "    dest_dir=subset_root, \n",
    "    num_samples_per_subfolder=1000\n",
    ")"
   ]
  },
  {
   "cell_type": "code",
   "execution_count": null,
   "id": "dc2684a6-ded4-4a7d-a6ed-eb541b331844",
   "metadata": {},
   "outputs": [],
   "source": []
  },
  {
   "cell_type": "code",
   "execution_count": null,
   "id": "71b18d85-81b7-4f32-ae8d-2149b7787600",
   "metadata": {},
   "outputs": [],
   "source": []
  },
  {
   "cell_type": "code",
   "execution_count": null,
   "id": "d3c3b9b2-b109-49ea-b99c-837e362912e7",
   "metadata": {},
   "outputs": [],
   "source": []
  }
 ],
 "metadata": {
  "kernelspec": {
   "display_name": "NPL 2025a",
   "language": "python",
   "name": "npl-2025a"
  },
  "language_info": {
   "codemirror_mode": {
    "name": "ipython",
    "version": 3
   },
   "file_extension": ".py",
   "mimetype": "text/x-python",
   "name": "python",
   "nbconvert_exporter": "python",
   "pygments_lexer": "ipython3",
   "version": "3.12.8"
  }
 },
 "nbformat": 4,
 "nbformat_minor": 5
}
