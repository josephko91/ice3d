{
 "cells": [
  {
   "cell_type": "code",
   "execution_count": 1,
   "id": "267ac0b8-442b-4aa6-8d0a-bedcb2c2f3d1",
   "metadata": {},
   "outputs": [],
   "source": [
    "import os, shutil, random\n",
    "from pathlib import Path\n",
    "from sklearn.model_selection import train_test_split\n",
    "import pandas as pd"
   ]
  },
  {
   "cell_type": "code",
   "execution_count": 2,
   "id": "ebd71c55-29e9-48f6-bd81-1babc0df12be",
   "metadata": {},
   "outputs": [],
   "source": [
    "projections_root = '/glade/derecho/scratch/joko/synth-ros/params_200_50_20250403/projections'\n",
    "subset_root = '/glade/derecho/scratch/joko/synth-ros/params_200_50_20250403/subset_n1000'\n",
    "os.makedirs(subset_root, exist_ok=True)"
   ]
  },
  {
   "cell_type": "markdown",
   "id": "e4a613f8-d51a-4941-a4f7-bfbbef18ef85",
   "metadata": {
    "jp-MarkdownHeadingCollapsed": true
   },
   "source": [
    "# Create Subset"
   ]
  },
  {
   "cell_type": "markdown",
   "id": "f4248102-91df-4292-a9d0-b041b3f60bcb",
   "metadata": {},
   "source": [
    "Create subset of data with 1,000 samples per class (n_arms). This will result in 7,000 samples total per default, 2ds, and phips sub-folders. 21,000 samples total. "
   ]
  },
  {
   "cell_type": "code",
   "execution_count": 31,
   "id": "8741ef39-0b65-49df-93e0-a24b25ad3f74",
   "metadata": {},
   "outputs": [
    {
     "name": "stdout",
     "output_type": "stream",
     "text": [
      "Copied 1000 files to /glade/derecho/scratch/joko/synth-ros/params_200_50_20250403/subset_n1000/phips/6\n",
      "Copied 1000 files to /glade/derecho/scratch/joko/synth-ros/params_200_50_20250403/subset_n1000/phips/5\n",
      "Copied 1000 files to /glade/derecho/scratch/joko/synth-ros/params_200_50_20250403/subset_n1000/phips/8\n",
      "Copied 1000 files to /glade/derecho/scratch/joko/synth-ros/params_200_50_20250403/subset_n1000/phips/9\n",
      "Copied 1000 files to /glade/derecho/scratch/joko/synth-ros/params_200_50_20250403/subset_n1000/phips/7\n",
      "Copied 1000 files to /glade/derecho/scratch/joko/synth-ros/params_200_50_20250403/subset_n1000/phips/10\n",
      "Copied 1000 files to /glade/derecho/scratch/joko/synth-ros/params_200_50_20250403/subset_n1000/phips/4\n",
      "Copied 1000 files to /glade/derecho/scratch/joko/synth-ros/params_200_50_20250403/subset_n1000/default/6\n",
      "Copied 1000 files to /glade/derecho/scratch/joko/synth-ros/params_200_50_20250403/subset_n1000/default/5\n",
      "Copied 1000 files to /glade/derecho/scratch/joko/synth-ros/params_200_50_20250403/subset_n1000/default/8\n",
      "Copied 1000 files to /glade/derecho/scratch/joko/synth-ros/params_200_50_20250403/subset_n1000/default/9\n",
      "Copied 1000 files to /glade/derecho/scratch/joko/synth-ros/params_200_50_20250403/subset_n1000/default/7\n",
      "Copied 1000 files to /glade/derecho/scratch/joko/synth-ros/params_200_50_20250403/subset_n1000/default/10\n",
      "Copied 1000 files to /glade/derecho/scratch/joko/synth-ros/params_200_50_20250403/subset_n1000/default/4\n",
      "Copied 1000 files to /glade/derecho/scratch/joko/synth-ros/params_200_50_20250403/subset_n1000/2ds/6\n",
      "Copied 1000 files to /glade/derecho/scratch/joko/synth-ros/params_200_50_20250403/subset_n1000/2ds/5\n",
      "Copied 1000 files to /glade/derecho/scratch/joko/synth-ros/params_200_50_20250403/subset_n1000/2ds/8\n",
      "Copied 1000 files to /glade/derecho/scratch/joko/synth-ros/params_200_50_20250403/subset_n1000/2ds/9\n",
      "Copied 1000 files to /glade/derecho/scratch/joko/synth-ros/params_200_50_20250403/subset_n1000/2ds/7\n",
      "Copied 1000 files to /glade/derecho/scratch/joko/synth-ros/params_200_50_20250403/subset_n1000/2ds/10\n",
      "Copied 1000 files to /glade/derecho/scratch/joko/synth-ros/params_200_50_20250403/subset_n1000/2ds/4\n",
      "CPU times: user 6.85 s, sys: 17.8 s, total: 24.6 s\n",
      "Wall time: 6min 55s\n"
     ]
    }
   ],
   "source": [
    "%%time\n",
    "def reservoir_sample_files(folder_path, k, seed=42):\n",
    "    \"\"\"Randomly sample k file paths from a directory with reservoir sampling.\"\"\"\n",
    "    random.seed(seed)\n",
    "    reservoir = []\n",
    "    with os.scandir(folder_path) as it:\n",
    "        for i, entry in enumeratecd sy(it):\n",
    "            if not entry.is_file():\n",
    "                continue\n",
    "            if len(reservoir) < k:\n",
    "                sample = entry.name.rsplit('-',1)[0]\n",
    "                reservoir.append(sample)\n",
    "            else:\n",
    "                j = random.randint(0, i)\n",
    "                if j < k:\n",
    "                    sample = entry.name.rsplit('-',1)[0]\n",
    "                    reservoir[j] = sample\n",
    "    return reservoir\n",
    "\n",
    "def create_subset(source_dir, dest_dir, \n",
    "    num_samples_per_subfolder=10, \n",
    "    seed=42\n",
    "):\n",
    "    random.seed(seed)\n",
    "    source_dir = Path(source_dir)\n",
    "    dest_dir = Path(dest_dir)\n",
    "    # Make sure destination directory exists\n",
    "    dest_dir.mkdir(parents=True, exist_ok=True)\n",
    "    prefix_dict = {}\n",
    "    first_folder = True\n",
    "    # Loop through top-level categories\n",
    "    for top_folder in source_dir.iterdir():\n",
    "        if top_folder.is_dir():\n",
    "            view_type = str(top_folder).rsplit('/', 1)[1]\n",
    "            # Now loop through second-level folders\n",
    "            for sub_folder in top_folder.iterdir():\n",
    "                if sub_folder.is_dir():\n",
    "                    n_arms = str(sub_folder).rsplit('/', 1)[1]\n",
    "                    if first_folder==True:\n",
    "                        selected_files_prefix = reservoir_sample_files(sub_folder, \n",
    "                                                                num_samples_per_subfolder, \n",
    "                                                                seed)\n",
    "                        prefix_dict[n_arms] = selected_files_prefix\n",
    "                    selected_files_prefix = prefix_dict[n_arms]\n",
    "                    selected_files = [(f+f'-{view_type}.png') for f in selected_files_prefix]\n",
    "                    # Create destination subfolder\n",
    "                    rel_path = sub_folder.relative_to(source_dir)\n",
    "                    target_subfolder = dest_dir / rel_path\n",
    "                    target_subfolder.mkdir(parents=True, exist_ok=True)\n",
    "                    # Copy files\n",
    "                    for filename in selected_files:\n",
    "                        file_path = os.path.join(sub_folder, filename)\n",
    "                        shutil.copy(file_path, target_subfolder)\n",
    "                    print(f\"Copied {len(selected_files)} files to {target_subfolder}\")\n",
    "            first_folder=False # only need prefix list the first time\n",
    "# main\n",
    "create_subset(\n",
    "    source_dir=projections_root, \n",
    "    dest_dir=subset_root, \n",
    "    num_samples_per_subfolder=1000\n",
    ")"
   ]
  },
  {
   "cell_type": "markdown",
   "id": "465f5a69-d274-4023-8a6d-903ecb9847bf",
   "metadata": {},
   "source": [
    "# Now re-organize the directory structure for the subset dataset"
   ]
  },
  {
   "cell_type": "code",
   "execution_count": 25,
   "id": "71b18d85-81b7-4f32-ae8d-2149b7787600",
   "metadata": {},
   "outputs": [],
   "source": [
    "def flat_split_dataset(\n",
    "    source_dir,\n",
    "    dest_dir,\n",
    "    split_ratio=(0.7, 0.15, 0.15),\n",
    "    seed=42,\n",
    "    valid_exts={\".jpg\", \".jpeg\", \".png\"}\n",
    "):\n",
    "    random.seed(seed)\n",
    "    source_dir = Path(source_dir)\n",
    "    dest_dir = Path(dest_dir)\n",
    "\n",
    "    assert sum(split_ratio) == 1.0, \"Split ratios must sum to 1.0\"\n",
    "\n",
    "    class_dirs = [d for d in source_dir.iterdir() if d.is_dir()]\n",
    "\n",
    "    # Create split folders\n",
    "    for split in [\"train\", \"val\", \"test\"]:\n",
    "        (dest_dir / split).mkdir(parents=True, exist_ok=True)\n",
    "\n",
    "    for class_dir in class_dirs:\n",
    "        class_name = class_dir.name\n",
    "        print(f\"Processing class: {class_name}\")\n",
    "\n",
    "        # Get image files\n",
    "        image_files = [f for f in class_dir.iterdir() if f.suffix.lower() in valid_exts]\n",
    "        # print(image_files)\n",
    "    \n",
    "        # Split into train and temp (val + test)\n",
    "        train_files, temp_files = train_test_split(\n",
    "            image_files,\n",
    "            train_size=split_ratio[0],\n",
    "            random_state=seed,\n",
    "            shuffle=True,\n",
    "        )\n",
    "\n",
    "        # Split temp into val and test\n",
    "        val_ratio = split_ratio[1] / (split_ratio[1] + split_ratio[2])\n",
    "        val_files, test_files = train_test_split(\n",
    "            temp_files,\n",
    "            train_size=val_ratio,\n",
    "            random_state=seed,\n",
    "            shuffle=True,\n",
    "        )\n",
    "\n",
    "        split_map = {\n",
    "            \"train\": train_files,\n",
    "            \"val\": val_files,\n",
    "            \"test\": test_files\n",
    "        }\n",
    "\n",
    "        for split, files in split_map.items():\n",
    "            for file_path in files:\n",
    "                dest_path = dest_dir / split / file_path.name\n",
    "                shutil.copy(file_path, dest_path)\n",
    "\n",
    "        print(f\"  → {len(train_files)} train, {len(val_files)} val, {len(test_files)} test\")"
   ]
  },
  {
   "cell_type": "code",
   "execution_count": 26,
   "id": "fa414ed0-692e-4f3f-bd06-4f80b729380c",
   "metadata": {},
   "outputs": [
    {
     "name": "stdout",
     "output_type": "stream",
     "text": [
      "Processing class: 9\n",
      "  → 700 train, 150 val, 150 test\n",
      "Processing class: 6\n",
      "  → 700 train, 150 val, 150 test\n",
      "Processing class: 5\n",
      "  → 700 train, 150 val, 150 test\n",
      "Processing class: 8\n",
      "  → 700 train, 150 val, 150 test\n",
      "Processing class: 10\n",
      "  → 700 train, 150 val, 150 test\n",
      "Processing class: 7\n",
      "  → 700 train, 150 val, 150 test\n",
      "Processing class: 4\n",
      "  → 700 train, 150 val, 150 test\n"
     ]
    }
   ],
   "source": [
    "flat_split_dataset(\n",
    "    source_dir=\"/glade/derecho/scratch/joko/synth-ros/params_200_50_20250403/subset_n1000/default\",\n",
    "    dest_dir=\"/glade/derecho/scratch/joko/synth-ros/params_200_50_20250403/subset_n1000_default_split\"\n",
    ")"
   ]
  },
  {
   "cell_type": "markdown",
   "id": "ee66b0aa-d183-4627-9161-d1e988f8d874",
   "metadata": {},
   "source": [
    "# Create labels file"
   ]
  },
  {
   "cell_type": "code",
   "execution_count": 2,
   "id": "4c113896-11fc-4fa8-a3bc-26923821d30f",
   "metadata": {},
   "outputs": [
    {
     "data": {
      "text/html": [
       "<div>\n",
       "<style scoped>\n",
       "    .dataframe tbody tr th:only-of-type {\n",
       "        vertical-align: middle;\n",
       "    }\n",
       "\n",
       "    .dataframe tbody tr th {\n",
       "        vertical-align: top;\n",
       "    }\n",
       "\n",
       "    .dataframe thead th {\n",
       "        text-align: right;\n",
       "    }\n",
       "</style>\n",
       "<table border=\"1\" class=\"dataframe\">\n",
       "  <thead>\n",
       "    <tr style=\"text-align: right;\">\n",
       "      <th></th>\n",
       "      <th>id</th>\n",
       "      <th>a</th>\n",
       "      <th>c</th>\n",
       "      <th>f_r0</th>\n",
       "      <th>f_hp</th>\n",
       "      <th>f_h0</th>\n",
       "      <th>n_arms</th>\n",
       "      <th>sa</th>\n",
       "      <th>vol</th>\n",
       "      <th>sa_eff</th>\n",
       "      <th>rho_eff</th>\n",
       "    </tr>\n",
       "  </thead>\n",
       "  <tbody>\n",
       "    <tr>\n",
       "      <th>0</th>\n",
       "      <td>35000</td>\n",
       "      <td>13.817545</td>\n",
       "      <td>23.540122</td>\n",
       "      <td>0.867449</td>\n",
       "      <td>0.961225</td>\n",
       "      <td>0.943525</td>\n",
       "      <td>7</td>\n",
       "      <td>33247.371151</td>\n",
       "      <td>181231.947690</td>\n",
       "      <td>0.576030</td>\n",
       "      <td>0.138993</td>\n",
       "    </tr>\n",
       "    <tr>\n",
       "      <th>1</th>\n",
       "      <td>35001</td>\n",
       "      <td>13.817545</td>\n",
       "      <td>23.540122</td>\n",
       "      <td>0.867449</td>\n",
       "      <td>0.961225</td>\n",
       "      <td>0.943525</td>\n",
       "      <td>7</td>\n",
       "      <td>33022.961732</td>\n",
       "      <td>184536.198465</td>\n",
       "      <td>0.560433</td>\n",
       "      <td>0.137205</td>\n",
       "    </tr>\n",
       "    <tr>\n",
       "      <th>2</th>\n",
       "      <td>35002</td>\n",
       "      <td>13.817545</td>\n",
       "      <td>23.540122</td>\n",
       "      <td>0.867449</td>\n",
       "      <td>0.961225</td>\n",
       "      <td>0.943525</td>\n",
       "      <td>7</td>\n",
       "      <td>33530.598131</td>\n",
       "      <td>187678.178569</td>\n",
       "      <td>0.585745</td>\n",
       "      <td>0.145727</td>\n",
       "    </tr>\n",
       "    <tr>\n",
       "      <th>3</th>\n",
       "      <td>35003</td>\n",
       "      <td>13.817545</td>\n",
       "      <td>23.540122</td>\n",
       "      <td>0.867449</td>\n",
       "      <td>0.961225</td>\n",
       "      <td>0.943525</td>\n",
       "      <td>7</td>\n",
       "      <td>32592.037777</td>\n",
       "      <td>166089.393327</td>\n",
       "      <td>0.543729</td>\n",
       "      <td>0.120358</td>\n",
       "    </tr>\n",
       "    <tr>\n",
       "      <th>4</th>\n",
       "      <td>35004</td>\n",
       "      <td>13.817545</td>\n",
       "      <td>23.540122</td>\n",
       "      <td>0.867449</td>\n",
       "      <td>0.961225</td>\n",
       "      <td>0.943525</td>\n",
       "      <td>7</td>\n",
       "      <td>32892.678757</td>\n",
       "      <td>179534.751064</td>\n",
       "      <td>0.583751</td>\n",
       "      <td>0.142747</td>\n",
       "    </tr>\n",
       "  </tbody>\n",
       "</table>\n",
       "</div>"
      ],
      "text/plain": [
       "      id          a          c      f_r0      f_hp      f_h0  n_arms  \\\n",
       "0  35000  13.817545  23.540122  0.867449  0.961225  0.943525       7   \n",
       "1  35001  13.817545  23.540122  0.867449  0.961225  0.943525       7   \n",
       "2  35002  13.817545  23.540122  0.867449  0.961225  0.943525       7   \n",
       "3  35003  13.817545  23.540122  0.867449  0.961225  0.943525       7   \n",
       "4  35004  13.817545  23.540122  0.867449  0.961225  0.943525       7   \n",
       "\n",
       "             sa            vol    sa_eff   rho_eff  \n",
       "0  33247.371151  181231.947690  0.576030  0.138993  \n",
       "1  33022.961732  184536.198465  0.560433  0.137205  \n",
       "2  33530.598131  187678.178569  0.585745  0.145727  \n",
       "3  32592.037777  166089.393327  0.543729  0.120358  \n",
       "4  32892.678757  179534.751064  0.583751  0.142747  "
      ]
     },
     "execution_count": 2,
     "metadata": {},
     "output_type": "execute_result"
    }
   ],
   "source": [
    "# load data with labels\n",
    "ros_data = '/glade/derecho/scratch/joko/synth-ros/params_200_50_20250403/data/ros-data-merged.txt'\n",
    "df = pd.read_csv(ros_data)\n",
    "df.head()"
   ]
  },
  {
   "cell_type": "code",
   "execution_count": 3,
   "id": "c48fe9c3-ba0b-4194-acd0-2b439b225657",
   "metadata": {},
   "outputs": [
    {
     "name": "stdout",
     "output_type": "stream",
     "text": [
      "Index(['id', 'a', 'c', 'f_r0', 'f_hp', 'f_h0', 'n_arms', 'sa', 'vol', 'sa_eff',\n",
      "       'rho_eff'],\n",
      "      dtype='object')\n"
     ]
    }
   ],
   "source": [
    "print(df.columns)"
   ]
  },
  {
   "cell_type": "code",
   "execution_count": 4,
   "id": "4f7c2e39-d9bf-4868-81fb-15c5f450f5fc",
   "metadata": {},
   "outputs": [
    {
     "data": {
      "text/plain": [
       "'7'"
      ]
     },
     "execution_count": 4,
     "metadata": {},
     "output_type": "execute_result"
    }
   ],
   "source": [
    "str(df.n_arms[0])"
   ]
  },
  {
   "cell_type": "code",
   "execution_count": 5,
   "id": "d9e41424-c5ff-48fd-bc52-cbdc9a330c43",
   "metadata": {},
   "outputs": [
    {
     "data": {
      "text/plain": [
       "PosixPath('/glade/derecho/scratch/joko/synth-ros/params_200_50_20250403/subset_n1000_default_split/test/ros-projection-010913-002-default.png')"
      ]
     },
     "execution_count": 5,
     "metadata": {},
     "output_type": "execute_result"
    }
   ],
   "source": [
    "# create labels\n",
    "labels = []\n",
    "# get all file paths in a list \n",
    "ds_dir = '/glade/derecho/scratch/joko/synth-ros/params_200_50_20250403/subset_n1000_default_split'\n",
    "ds_path = Path(ds_dir)\n",
    "all_files = list(ds_path.rglob(\"*\"))  # includes all files and folders\n",
    "all_files = [f for f in all_files if f.is_file() and f.suffix.lower() == \".png\"] # only png files\n",
    "all_files[0]"
   ]
  },
  {
   "cell_type": "code",
   "execution_count": 11,
   "id": "b1900fab-ffdd-4013-9a6f-aa99a7bdeea6",
   "metadata": {},
   "outputs": [
    {
     "data": {
      "text/plain": [
       "'test'"
      ]
     },
     "execution_count": 11,
     "metadata": {},
     "output_type": "execute_result"
    }
   ],
   "source": [
    "test = all_files[0]\n",
    "test.as_posix().rsplit('/',2)[1]"
   ]
  },
  {
   "cell_type": "code",
   "execution_count": 13,
   "id": "c354eed0-526b-4f3a-9b4d-cab61fb3ca1f",
   "metadata": {},
   "outputs": [],
   "source": [
    "# create labels\n",
    "labels = []\n",
    "# get all file paths in a list \n",
    "ds_dir = '/glade/derecho/scratch/joko/synth-ros/params_200_50_20250403/subset_n1000_default_split'\n",
    "ds_path = Path(ds_dir)\n",
    "all_files = list(ds_path.rglob(\"*\"))  # includes all files and folders\n",
    "all_files = [f for f in all_files if f.is_file() and f.suffix.lower() == \".png\"] # only png files\n",
    "def get_labels(filename, split, id, df): \n",
    "    data = df[df.id==int(id)].iloc[0]\n",
    "    n_arms = str(int(data['n_arms'])) # string \n",
    "    rho_eff = data['rho_eff']\n",
    "    sa_eff = data['sa_eff']\n",
    "    return [filename, split, n_arms, rho_eff, sa_eff]\n",
    "# get labels for each files and append\n",
    "for f in all_files:\n",
    "    filename = f.name\n",
    "    id = filename.split('-')[2]\n",
    "    split = f.as_posix().rsplit('/', 2)[1]\n",
    "    record = get_labels(filename, split, id, df)\n",
    "    labels.append(record)\n",
    "# turn into dataframe and save as csv \n",
    "colnames = ['filename', 'split', 'n_arms', 'rho_eff', 'sa_eff']\n",
    "df_labels = pd.DataFrame(labels, columns=colnames)\n",
    "savepath = os.path.join(ds_dir, 'labels.csv')\n",
    "df_labels.to_csv(savepath, index=False)"
   ]
  },
  {
   "cell_type": "code",
   "execution_count": 14,
   "id": "ed9fbfc0-bc2c-4e4b-80ee-ea05e1eab353",
   "metadata": {},
   "outputs": [
    {
     "data": {
      "text/html": [
       "<div>\n",
       "<style scoped>\n",
       "    .dataframe tbody tr th:only-of-type {\n",
       "        vertical-align: middle;\n",
       "    }\n",
       "\n",
       "    .dataframe tbody tr th {\n",
       "        vertical-align: top;\n",
       "    }\n",
       "\n",
       "    .dataframe thead th {\n",
       "        text-align: right;\n",
       "    }\n",
       "</style>\n",
       "<table border=\"1\" class=\"dataframe\">\n",
       "  <thead>\n",
       "    <tr style=\"text-align: right;\">\n",
       "      <th></th>\n",
       "      <th>filename</th>\n",
       "      <th>split</th>\n",
       "      <th>n_arms</th>\n",
       "      <th>rho_eff</th>\n",
       "      <th>sa_eff</th>\n",
       "    </tr>\n",
       "  </thead>\n",
       "  <tbody>\n",
       "    <tr>\n",
       "      <th>0</th>\n",
       "      <td>ros-projection-010913-002-default.png</td>\n",
       "      <td>test</td>\n",
       "      <td>5</td>\n",
       "      <td>0.015800</td>\n",
       "      <td>0.166602</td>\n",
       "    </tr>\n",
       "    <tr>\n",
       "      <th>1</th>\n",
       "      <td>ros-projection-016265-058-default.png</td>\n",
       "      <td>test</td>\n",
       "      <td>5</td>\n",
       "      <td>0.057668</td>\n",
       "      <td>0.324473</td>\n",
       "    </tr>\n",
       "    <tr>\n",
       "      <th>2</th>\n",
       "      <td>ros-projection-001142-087-default.png</td>\n",
       "      <td>test</td>\n",
       "      <td>4</td>\n",
       "      <td>0.014152</td>\n",
       "      <td>0.147579</td>\n",
       "    </tr>\n",
       "    <tr>\n",
       "      <th>3</th>\n",
       "      <td>ros-projection-017988-092-default.png</td>\n",
       "      <td>test</td>\n",
       "      <td>5</td>\n",
       "      <td>0.100758</td>\n",
       "      <td>0.443553</td>\n",
       "    </tr>\n",
       "    <tr>\n",
       "      <th>4</th>\n",
       "      <td>ros-projection-057113-091-default.png</td>\n",
       "      <td>test</td>\n",
       "      <td>9</td>\n",
       "      <td>0.026300</td>\n",
       "      <td>0.280913</td>\n",
       "    </tr>\n",
       "  </tbody>\n",
       "</table>\n",
       "</div>"
      ],
      "text/plain": [
       "                                filename split  n_arms   rho_eff    sa_eff\n",
       "0  ros-projection-010913-002-default.png  test       5  0.015800  0.166602\n",
       "1  ros-projection-016265-058-default.png  test       5  0.057668  0.324473\n",
       "2  ros-projection-001142-087-default.png  test       4  0.014152  0.147579\n",
       "3  ros-projection-017988-092-default.png  test       5  0.100758  0.443553\n",
       "4  ros-projection-057113-091-default.png  test       9  0.026300  0.280913"
      ]
     },
     "execution_count": 14,
     "metadata": {},
     "output_type": "execute_result"
    }
   ],
   "source": [
    "# test read\n",
    "df_labels = pd.read_csv(savepath)\n",
    "df_labels.head()"
   ]
  },
  {
   "cell_type": "markdown",
   "id": "1f390f6b-2296-4e90-8ef9-a613092aacc0",
   "metadata": {},
   "source": [
    "# Scratch"
   ]
  },
  {
   "cell_type": "code",
   "execution_count": 44,
   "id": "0d7e866a-c315-4397-a817-c5ba2e7977b8",
   "metadata": {},
   "outputs": [],
   "source": [
    "from PIL import Image\n",
    "test_file = '/glade/derecho/scratch/joko/synth-ros/params_200_50_20250403/projections/phips/4/ros-projection-000000-000-phips.png'\n",
    "image = Image.open(test_file)"
   ]
  },
  {
   "cell_type": "code",
   "execution_count": 45,
   "id": "6b01013b-1eb9-4a00-8479-831f76e51f7e",
   "metadata": {},
   "outputs": [
    {
     "name": "stdout",
     "output_type": "stream",
     "text": [
      "(224, 224)\n",
      "RGB\n"
     ]
    }
   ],
   "source": [
    "print(image.size)\n",
    "print(image.mode)"
   ]
  },
  {
   "cell_type": "code",
   "execution_count": null,
   "id": "4fcdb2c4-d2f5-49a6-a200-155e05b6aba1",
   "metadata": {},
   "outputs": [],
   "source": []
  },
  {
   "cell_type": "code",
   "execution_count": null,
   "id": "9d676eb9-b6a1-4cf5-a7ea-52b52bd6e850",
   "metadata": {},
   "outputs": [],
   "source": []
  },
  {
   "cell_type": "code",
   "execution_count": null,
   "id": "affb2542-f61e-4b8d-8734-5bc61ed8ba9e",
   "metadata": {},
   "outputs": [],
   "source": []
  }
 ],
 "metadata": {
  "kernelspec": {
   "display_name": "NPL 2025a",
   "language": "python",
   "name": "npl-2025a"
  },
  "language_info": {
   "codemirror_mode": {
    "name": "ipython",
    "version": 3
   },
   "file_extension": ".py",
   "mimetype": "text/x-python",
   "name": "python",
   "nbconvert_exporter": "python",
   "pygments_lexer": "ipython3",
   "version": "3.12.8"
  }
 },
 "nbformat": 4,
 "nbformat_minor": 5
}
