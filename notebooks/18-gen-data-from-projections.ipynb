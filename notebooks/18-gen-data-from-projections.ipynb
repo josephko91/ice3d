{
 "cells": [
  {
   "cell_type": "code",
   "execution_count": 1,
   "id": "0ed11116-1f10-486b-a5be-56187a17b897",
   "metadata": {},
   "outputs": [],
   "source": [
    "import cv2 as cv\n",
    "import pandas as pd\n",
    "import random, os\n",
    "import matplotlib.pyplot as plt\n",
    "import numpy as np\n",
    "import pyvista as pv\n",
    "import miniball"
   ]
  },
  {
   "cell_type": "code",
   "execution_count": 21,
   "id": "5c23169d-19fb-4f0a-85f5-bc65d0a42b77",
   "metadata": {},
   "outputs": [
    {
     "name": "stdout",
     "output_type": "stream",
     "text": [
      "['./9/ros-projection', '057184', '055.png']\n",
      "057184 055\n"
     ]
    }
   ],
   "source": [
    "test = './9/ros-projection-057184-055.png'\n",
    "print(test.rsplit('-',2))\n",
    "ros_id = test.rsplit('-',2)[1]\n",
    "proj_id = test.rsplit('-',2)[2].split('.',2)[0]\n",
    "print(ros_id, proj_id)"
   ]
  },
  {
   "cell_type": "code",
   "execution_count": 12,
   "id": "3eafe143-570d-4b97-ad09-33fb9982d35e",
   "metadata": {},
   "outputs": [
    {
     "data": {
      "text/plain": [
       "[[25.728020603569504,\n",
       "  31.566005898898368,\n",
       "  1.0559465112004924,\n",
       "  0.9235238401447887,\n",
       "  1.062846051511876,\n",
       "  4],\n",
       " [0.9870573750545488,\n",
       "  1.025943071786323,\n",
       "  0.9113414199644319,\n",
       "  1.1182592305508643,\n",
       "  0.9669323822842779,\n",
       "  0.9578224808743632,\n",
       "  1.141544895825053,\n",
       "  1.1106086484807067],\n",
       " [-0.1953923308982515,\n",
       "  0.6997064796354285,\n",
       "  -0.6871918795957528,\n",
       "  0.348343425573144,\n",
       "  0.8064503295756525,\n",
       "  0.47780197130954655,\n",
       "  -0.044999511612952896,\n",
       "  -0.8384310002651846,\n",
       "  0.5431468509978841,\n",
       "  0.6665734794270578,\n",
       "  -0.5996757346434333,\n",
       "  -0.4427965783566583]]"
      ]
     },
     "execution_count": 12,
     "metadata": {},
     "output_type": "execute_result"
    }
   ],
   "source": [
    "# Load the JSON file\n",
    "import json\n",
    "params_path = '/glade/u/home/joko/ice3d/output/params_200_50.json'\n",
    "with open(params_path, 'rb') as file:\n",
    "    params = json.load(file)\n",
    "params[75]"
   ]
  },
  {
   "cell_type": "code",
   "execution_count": 2,
   "id": "73a9e6fa-cda7-425e-9c51-c1e6b9f877b3",
   "metadata": {},
   "outputs": [],
   "source": [
    "base_folder = '/glade/derecho/scratch/joko/synth-ros/params_200_50-debug-20250316/projections'\n",
    "ros_data = '/glade/derecho/scratch/joko/synth-ros/params_200_50_20250403/data/ros-data-merged.txt'"
   ]
  },
  {
   "cell_type": "code",
   "execution_count": 3,
   "id": "734b113a-a308-4be1-a6c9-4fc0ed305434",
   "metadata": {},
   "outputs": [
    {
     "data": {
      "text/html": [
       "<div>\n",
       "<style scoped>\n",
       "    .dataframe tbody tr th:only-of-type {\n",
       "        vertical-align: middle;\n",
       "    }\n",
       "\n",
       "    .dataframe tbody tr th {\n",
       "        vertical-align: top;\n",
       "    }\n",
       "\n",
       "    .dataframe thead th {\n",
       "        text-align: right;\n",
       "    }\n",
       "</style>\n",
       "<table border=\"1\" class=\"dataframe\">\n",
       "  <thead>\n",
       "    <tr style=\"text-align: right;\">\n",
       "      <th></th>\n",
       "      <th>id</th>\n",
       "      <th>a</th>\n",
       "      <th>c</th>\n",
       "      <th>f_r0</th>\n",
       "      <th>f_hp</th>\n",
       "      <th>f_h0</th>\n",
       "      <th>n_arms</th>\n",
       "      <th>sa</th>\n",
       "      <th>vol</th>\n",
       "      <th>sa_eff</th>\n",
       "      <th>rho_eff</th>\n",
       "    </tr>\n",
       "  </thead>\n",
       "  <tbody>\n",
       "    <tr>\n",
       "      <th>0</th>\n",
       "      <td>35000</td>\n",
       "      <td>13.817545</td>\n",
       "      <td>23.540122</td>\n",
       "      <td>0.867449</td>\n",
       "      <td>0.961225</td>\n",
       "      <td>0.943525</td>\n",
       "      <td>7</td>\n",
       "      <td>33247.371151</td>\n",
       "      <td>181231.947690</td>\n",
       "      <td>0.576030</td>\n",
       "      <td>0.138993</td>\n",
       "    </tr>\n",
       "    <tr>\n",
       "      <th>1</th>\n",
       "      <td>35001</td>\n",
       "      <td>13.817545</td>\n",
       "      <td>23.540122</td>\n",
       "      <td>0.867449</td>\n",
       "      <td>0.961225</td>\n",
       "      <td>0.943525</td>\n",
       "      <td>7</td>\n",
       "      <td>33022.961732</td>\n",
       "      <td>184536.198465</td>\n",
       "      <td>0.560433</td>\n",
       "      <td>0.137205</td>\n",
       "    </tr>\n",
       "    <tr>\n",
       "      <th>2</th>\n",
       "      <td>35002</td>\n",
       "      <td>13.817545</td>\n",
       "      <td>23.540122</td>\n",
       "      <td>0.867449</td>\n",
       "      <td>0.961225</td>\n",
       "      <td>0.943525</td>\n",
       "      <td>7</td>\n",
       "      <td>33530.598131</td>\n",
       "      <td>187678.178569</td>\n",
       "      <td>0.585745</td>\n",
       "      <td>0.145727</td>\n",
       "    </tr>\n",
       "    <tr>\n",
       "      <th>3</th>\n",
       "      <td>35003</td>\n",
       "      <td>13.817545</td>\n",
       "      <td>23.540122</td>\n",
       "      <td>0.867449</td>\n",
       "      <td>0.961225</td>\n",
       "      <td>0.943525</td>\n",
       "      <td>7</td>\n",
       "      <td>32592.037777</td>\n",
       "      <td>166089.393327</td>\n",
       "      <td>0.543729</td>\n",
       "      <td>0.120358</td>\n",
       "    </tr>\n",
       "    <tr>\n",
       "      <th>4</th>\n",
       "      <td>35004</td>\n",
       "      <td>13.817545</td>\n",
       "      <td>23.540122</td>\n",
       "      <td>0.867449</td>\n",
       "      <td>0.961225</td>\n",
       "      <td>0.943525</td>\n",
       "      <td>7</td>\n",
       "      <td>32892.678757</td>\n",
       "      <td>179534.751064</td>\n",
       "      <td>0.583751</td>\n",
       "      <td>0.142747</td>\n",
       "    </tr>\n",
       "  </tbody>\n",
       "</table>\n",
       "</div>"
      ],
      "text/plain": [
       "      id          a          c      f_r0      f_hp      f_h0  n_arms  \\\n",
       "0  35000  13.817545  23.540122  0.867449  0.961225  0.943525       7   \n",
       "1  35001  13.817545  23.540122  0.867449  0.961225  0.943525       7   \n",
       "2  35002  13.817545  23.540122  0.867449  0.961225  0.943525       7   \n",
       "3  35003  13.817545  23.540122  0.867449  0.961225  0.943525       7   \n",
       "4  35004  13.817545  23.540122  0.867449  0.961225  0.943525       7   \n",
       "\n",
       "             sa            vol    sa_eff   rho_eff  \n",
       "0  33247.371151  181231.947690  0.576030  0.138993  \n",
       "1  33022.961732  184536.198465  0.560433  0.137205  \n",
       "2  33530.598131  187678.178569  0.585745  0.145727  \n",
       "3  32592.037777  166089.393327  0.543729  0.120358  \n",
       "4  32892.678757  179534.751064  0.583751  0.142747  "
      ]
     },
     "execution_count": 3,
     "metadata": {},
     "output_type": "execute_result"
    }
   ],
   "source": [
    "# read single image\n",
    "df_ros = pd.read_csv(ros_data)\n",
    "df_ros.head()"
   ]
  },
  {
   "cell_type": "code",
   "execution_count": 5,
   "id": "6458b504-9025-441d-bbba-1295ecfde1e2",
   "metadata": {},
   "outputs": [
    {
     "data": {
      "text/plain": [
       "id           int64\n",
       "a          float64\n",
       "c          float64\n",
       "f_r0       float64\n",
       "f_hp       float64\n",
       "f_h0       float64\n",
       "n_arms       int64\n",
       "sa         float64\n",
       "vol        float64\n",
       "sa_eff     float64\n",
       "rho_eff    float64\n",
       "dtype: object"
      ]
     },
     "execution_count": 5,
     "metadata": {},
     "output_type": "execute_result"
    }
   ],
   "source": [
    "df_ros.dtypes"
   ]
  },
  {
   "cell_type": "code",
   "execution_count": 10,
   "id": "60ccda58-82a6-49d5-9377-116768d40ac0",
   "metadata": {},
   "outputs": [
    {
     "data": {
      "text/html": [
       "<div>\n",
       "<style scoped>\n",
       "    .dataframe tbody tr th:only-of-type {\n",
       "        vertical-align: middle;\n",
       "    }\n",
       "\n",
       "    .dataframe tbody tr th {\n",
       "        vertical-align: top;\n",
       "    }\n",
       "\n",
       "    .dataframe thead th {\n",
       "        text-align: right;\n",
       "    }\n",
       "</style>\n",
       "<table border=\"1\" class=\"dataframe\">\n",
       "  <thead>\n",
       "    <tr style=\"text-align: right;\">\n",
       "      <th></th>\n",
       "      <th>id</th>\n",
       "      <th>a</th>\n",
       "      <th>c</th>\n",
       "      <th>f_r0</th>\n",
       "      <th>f_hp</th>\n",
       "      <th>f_h0</th>\n",
       "      <th>n_arms</th>\n",
       "      <th>sa</th>\n",
       "      <th>vol</th>\n",
       "      <th>sa_eff</th>\n",
       "      <th>rho_eff</th>\n",
       "    </tr>\n",
       "  </thead>\n",
       "  <tbody>\n",
       "    <tr>\n",
       "      <th>28123</th>\n",
       "      <td>75</td>\n",
       "      <td>25.728021</td>\n",
       "      <td>31.566006</td>\n",
       "      <td>1.055947</td>\n",
       "      <td>0.923524</td>\n",
       "      <td>1.062846</td>\n",
       "      <td>4</td>\n",
       "      <td>53832.477555</td>\n",
       "      <td>495428.865713</td>\n",
       "      <td>0.51989</td>\n",
       "      <td>0.158128</td>\n",
       "    </tr>\n",
       "  </tbody>\n",
       "</table>\n",
       "</div>"
      ],
      "text/plain": [
       "       id          a          c      f_r0      f_hp      f_h0  n_arms  \\\n",
       "28123  75  25.728021  31.566006  1.055947  0.923524  1.062846       4   \n",
       "\n",
       "                 sa            vol   sa_eff   rho_eff  \n",
       "28123  53832.477555  495428.865713  0.51989  0.158128  "
      ]
     },
     "execution_count": 10,
     "metadata": {},
     "output_type": "execute_result"
    }
   ],
   "source": [
    "df_ros[df_ros['id']==75]"
   ]
  },
  {
   "cell_type": "code",
   "execution_count": 8,
   "id": "0c434723-cfe2-40ae-869d-df875039092e",
   "metadata": {},
   "outputs": [
    {
     "data": {
      "text/plain": [
       "(70000, 11)"
      ]
     },
     "execution_count": 8,
     "metadata": {},
     "output_type": "execute_result"
    }
   ],
   "source": [
    "df_ros.shape"
   ]
  },
  {
   "cell_type": "code",
   "execution_count": 19,
   "id": "0ea385f2-59b1-41e7-96ce-ba27c3a1445d",
   "metadata": {},
   "outputs": [
    {
     "data": {
      "text/plain": [
       "[57184.0,\n",
       " 24.71119830513499,\n",
       " 33.377526155680094,\n",
       " 1.1352751410568025,\n",
       " 1.1970878710185386,\n",
       " 1.1000915127090385,\n",
       " 9.0,\n",
       " 127929.02834462238,\n",
       " 1148194.1098501142,\n",
       " 0.6768917294241552,\n",
       " 0.1486163739867864]"
      ]
     },
     "execution_count": 19,
     "metadata": {},
     "output_type": "execute_result"
    }
   ],
   "source": [
    "list(df_ros[df_ros.id==id].iloc[0])"
   ]
  },
  {
   "cell_type": "code",
   "execution_count": null,
   "id": "7fb6c18e-c5c0-4be0-bfea-45233e4b4f43",
   "metadata": {},
   "outputs": [],
   "source": [
    "# get random projection sample and plot\n",
    "sample = df_ros.sample()\n",
    "print(sample)\n",
    "id = sample['id'].iloc[0]\n",
    "n_arms = sample['n_arms'].iloc[0]\n",
    "n_proj = random.randint(0, 99)\n",
    "file_name = f'ros-projection-{id:06d}-{n_proj:03d}.png'\n",
    "proj_dir = os.path.join(base_folder, f'{n_arms}')\n",
    "file_path = os.path.join(proj_dir, file_name)\n",
    "if os.path.exists(file_path):\n",
    "    print(f'path exists: {file_path}')\n",
    "else:\n",
    "    print('path does not exist')\n",
    "img = cv.imread(file_path)\n",
    "plt.imshow(img)\n",
    "plt.axis('off')\n",
    "plt.show()"
   ]
  },
  {
   "cell_type": "code",
   "execution_count": null,
   "id": "52f234f9-f765-4cb6-a767-845eaeea8747",
   "metadata": {},
   "outputs": [],
   "source": [
    "def get_img(file_path):\n",
    "    img = cv.imread(file_path)\n",
    "    img = cv.cvtColor(img, cv.COLOR_BGR2YCR_CB)[...,0]\n",
    "    return img\n",
    "\n",
    "def show_img(im, figsize=None, ax=None, alpha=None):\n",
    "    if not ax: fig,ax = plt.subplots(figsize=figsize)\n",
    "    ax.imshow(im, alpha=alpha, cmap=plt.cm.gray)\n",
    "    ax.set_axis_off()\n",
    "    return ax\n",
    "\n",
    "def get_border(image, width):\n",
    "    bg = np.zeros(image.shape)\n",
    "    contours, _ = cv.findContours(image.copy(), cv.RETR_TREE, cv.CHAIN_APPROX_SIMPLE)\n",
    "    biggest = 0\n",
    "    bigcontour = None\n",
    "    for contour in contours:\n",
    "        area = cv.contourArea(contour) \n",
    "        if area > biggest:\n",
    "            biggest = area\n",
    "            bigcontour = contour\n",
    "    return cv.drawContours(bg, [bigcontour], 0, (255, 255, 255), width).astype(bool), contours \n",
    "\n",
    "def get_aspect_ratio(cnt):\n",
    "    rect = cv.minAreaRect(cnt)\n",
    "    # get length and width of contour\n",
    "    x = rect[1][0]\n",
    "    y = rect[1][1]\n",
    "    rect_length = max(x, y)\n",
    "    rect_width = min(x, y)\n",
    "    phi = rect_width / rect_length\n",
    "    return phi\n",
    "\n",
    "def get_aspect_ratio_elip(cnt):\n",
    "    ellipse = cv.fitEllipse(cnt)\n",
    "    # Get width and height of rotated ellipse\n",
    "    widthE = ellipse[1][0]\n",
    "    heightE = ellipse[1][1]\n",
    "    if widthE > heightE:\n",
    "        phiE = heightE / widthE\n",
    "    else:\n",
    "        phiE = widthE / heightE\n",
    "    return phiE\n",
    "\n",
    "def get_extreme_pts(cnt):\n",
    "    left = tuple(cnt[cnt[:, :, 0].argmin()][0])\n",
    "    right = tuple(cnt[cnt[:, :, 0].argmax()][0])\n",
    "    top = tuple(cnt[cnt[:, :, 1].argmin()][0])\n",
    "    bottom = tuple(cnt[cnt[:, :, 1].argmax()][0])\n",
    "    extreme_pts = np.std([left, right, top, bottom])\n",
    "    return extreme_pts\n",
    "\n",
    "def get_contour_area(cnt):\n",
    "    area = cv.contourArea(cnt)\n",
    "    return area\n",
    "\n",
    "def get_contour_perimeter(cnt):\n",
    "    perimeter = cv.arcLength(cnt, True)\n",
    "    return perimeter\n",
    "\n",
    "def get_min_circle(cnt):\n",
    "    center ,radius = cv.minEnclosingCircle(cnt)\n",
    "    perimeter_circle = 2*np.pi*radius\n",
    "    area_circle = np.pi*(radius**2)\n",
    "    return center, radius, perimeter_circle, area_circle\n",
    "\n",
    "def get_area_ratio(cnt):\n",
    "    area = get_contour_area(cnt)\n",
    "    _,_,_,area_circle = get_min_circle(cnt)\n",
    "    area_ratio = area/area_circle\n",
    "    return area_ratio\n",
    "\n",
    "def get_complexity(cnt):\n",
    "    _, radius, _, _ = get_min_circle(cnt)\n",
    "    area = get_contour_area(cnt)\n",
    "    perimeter = get_contour_perimeter(cnt)\n",
    "    Ac = np.pi * radius ** 2\n",
    "    complexity = 10*(0.1-(area / (np.sqrt(area / Ac) * perimeter ** 2)))\n",
    "    return complexity\n",
    "\n",
    "def get_circularity(cnt):\n",
    "    area = get_contour_area(cnt)\n",
    "    perimeter = get_contour_perimeter(cnt)\n",
    "    circularity = 4*np.pi*(area/(perimeter**2))\n",
    "    return circularity"
   ]
  },
  {
   "cell_type": "code",
   "execution_count": null,
   "id": "255d2a47-a387-4e1d-93d4-7b420735aa1b",
   "metadata": {},
   "outputs": [],
   "source": [
    "def process_img(path):\n",
    "    img = get_img(path)\n",
    "    _, contours = get_border(img, 5)\n",
    "    cnt = contours[0]\n",
    "    aspect_ratio = get_aspect_ratio(cnt)\n",
    "    aspect_ratio_elip = get_aspect_ratio_elip(cnt)\n",
    "    extreme_pts = get_extreme_pts(cnt)\n",
    "    contour_area = get_contour_area(cnt)\n",
    "    contour_perimeter = get_contour_perimeter(cnt)\n",
    "    area_ratio = get_area_ratio(cnt)\n",
    "    complexity = get_complexity(cnt)\n",
    "    circularity = get_circularity(cnt)\n",
    "    img_features = [aspect_ratio, aspect_ratio_elip, extreme_pts, \\\n",
    "        contour_area, contour_perimeter, area_ratio, \\\n",
    "        complexity, circularity]\n",
    "    return img_features\n",
    "img_features = process_img(file_path)\n",
    "img_features"
   ]
  },
  {
   "cell_type": "code",
   "execution_count": null,
   "id": "72b0807c-6976-4253-af6e-20ab02365628",
   "metadata": {},
   "outputs": [],
   "source": [
    "%%time\n",
    "# time estimate \n",
    "n = 100\n",
    "for i in range(n):\n",
    "    sample = df_ros.sample()\n",
    "    id = sample['id'].iloc[0]\n",
    "    n_arms = sample['n_arms'].iloc[0]\n",
    "    n_proj = random.randint(0, 99)\n",
    "    file_name = f'ros-projection-{id:06d}-{n_proj:03d}.png'\n",
    "    proj_dir = os.path.join(base_folder, f'{n_arms}')\n",
    "    file_path = os.path.join(proj_dir, file_name)\n",
    "    img_features = process_img(file_path)"
   ]
  },
  {
   "cell_type": "code",
   "execution_count": null,
   "id": "72115fa0-a471-41f6-810e-b2232f3032c3",
   "metadata": {},
   "outputs": [],
   "source": []
  },
  {
   "cell_type": "markdown",
   "id": "46a97573-c9df-4e30-9d8c-42e733e7ad11",
   "metadata": {},
   "source": [
    "- ~2-3 seconds per 100 images\n",
    "- on single core, would take ~58 hrs to process 7 million images\n",
    "- on 100 cores, would take ~35 minutes"
   ]
  },
  {
   "cell_type": "code",
   "execution_count": null,
   "id": "630d7588-b6a6-4d21-86ff-6026c1dc7be5",
   "metadata": {},
   "outputs": [],
   "source": [
    "sample"
   ]
  },
  {
   "cell_type": "code",
   "execution_count": null,
   "id": "78ba9702-1071-4bdd-b93f-4d83b8430b11",
   "metadata": {},
   "outputs": [],
   "source": [
    "max_rho = df_ros.loc[df_ros['rho_eff'].idxmax()]\n",
    "max_rho"
   ]
  },
  {
   "cell_type": "code",
   "execution_count": null,
   "id": "4715c83d-a112-4113-ae0f-571f9afb74f6",
   "metadata": {},
   "outputs": [],
   "source": [
    "# plot rosette with max rho_eff\n",
    "sample = max_rho\n",
    "id = int(sample['id'])\n",
    "n_arms = int(sample['n_arms'])\n",
    "n_proj = random.randint(0, 99)\n",
    "file_name = f'ros-projection-{id:06d}-{n_proj:03d}.png'\n",
    "proj_dir = os.path.join(base_folder, f'{n_arms}')\n",
    "file_path = os.path.join(proj_dir, file_name)\n",
    "if os.path.exists(file_path):\n",
    "    print(f'path exists: {file_path}')\n",
    "else:\n",
    "    print('path does not exist')\n",
    "img = cv.imread(file_path)\n",
    "plt.imshow(img)\n",
    "plt.axis('off')\n",
    "plt.show()"
   ]
  },
  {
   "cell_type": "code",
   "execution_count": null,
   "id": "a87be83a-84b6-41c4-adaf-9523846e7302",
   "metadata": {},
   "outputs": [],
   "source": [
    "# calculate rho_eff with pyvista\n",
    "stl_base = '/glade/derecho/scratch/joko/synth-ros/params_200_50-debug-20250316/stl'\n",
    "stl_dir = os.path.join(stl_base, f'{n_arms}')\n",
    "file_name = f'ros-test-{id:06d}.stl'\n",
    "stl_path = os.path.join(stl_dir, file_name)\n",
    "if os.path.exists(stl_path):\n",
    "    print(f'path exists: {stl_path}')\n",
    "else:\n",
    "    print('path does not exist')"
   ]
  },
  {
   "cell_type": "code",
   "execution_count": null,
   "id": "51f3b37e-050c-4410-8ed6-174f1885f0d4",
   "metadata": {},
   "outputs": [],
   "source": [
    "# load mesh\n",
    "mesh = pv.read(stl_path)\n",
    "\n",
    "# import points and get center and radius of bounding sphere\n",
    "mesh_points = np.asarray(mesh.points)\n",
    "c, r2 = miniball.get_bounding_ball(mesh_points)\n",
    "r = np.sqrt(r2) # r2 = radius squared, r = radius\n",
    "\n",
    "# prepare plot\n",
    "fig = plt.figure()\n",
    "ax = fig.add_subplot(projection='3d')\n",
    "\n",
    "# plot points\n",
    "ax.scatter(mesh_points[:,0], mesh_points[:,1], mesh_points[:,2])\n",
    "\n",
    "# plot sphere\n",
    "u, v = np.mgrid[0:2*np.pi:50j, 0:np.pi:50j]\n",
    "x = r*np.cos(u)*np.sin(v)\n",
    "y = r*np.sin(u)*np.sin(v)\n",
    "z = r*np.cos(v)\n",
    "ax.plot_surface(x+c[0], y+c[1], z+c[2], color='r', alpha=0.2)\n",
    "\n",
    "ax.set_xlabel('x')\n",
    "ax.set_ylabel('y')\n",
    "ax.set_zlabel('z')\n",
    "ax.set_box_aspect(aspect=None, zoom=0.8)\n",
    "plt.show()\n",
    "print(c, r)"
   ]
  },
  {
   "cell_type": "code",
   "execution_count": null,
   "id": "ba79c5aa-e66e-4dd2-b989-c8f979a621b2",
   "metadata": {},
   "outputs": [],
   "source": [
    "print(mesh.volume)"
   ]
  },
  {
   "cell_type": "code",
   "execution_count": null,
   "id": "f183a1e4-9a24-422d-be26-b301dd80c043",
   "metadata": {},
   "outputs": [],
   "source": [
    "print(r)"
   ]
  },
  {
   "cell_type": "code",
   "execution_count": null,
   "id": "471132d5-16f7-4244-bfa2-2f3c17bd1a30",
   "metadata": {},
   "outputs": [],
   "source": [
    "v_sphere = (4/3)*np.pi*(r**3)\n",
    "rho = mesh.volume/v_sphere\n",
    "rho"
   ]
  },
  {
   "cell_type": "markdown",
   "id": "301d54a9-6ecd-498d-af7d-3e286a157255",
   "metadata": {},
   "source": [
    "!!! IMPORTANT !!!\n",
    "- there was a prior bug in previous code that calculated volume of enclosing sphere as 'v_sphere = np.pi*(r**2)'\n",
    "- This is why the effective density was so much higher than the correct effective densities calculated\n",
    "- See in \"regression_asym_create_data.ipynb\" notebook in ice3d-old directory on xcite"
   ]
  },
  {
   "cell_type": "code",
   "execution_count": null,
   "id": "66a4ca49-a7d2-4d76-8598-6bc8dc85466d",
   "metadata": {},
   "outputs": [],
   "source": [
    "df_ros.rho_eff.hist(bins=100)"
   ]
  },
  {
   "cell_type": "code",
   "execution_count": null,
   "id": "35e9bcfa-38f1-4726-8af7-cbd26fac9c17",
   "metadata": {},
   "outputs": [],
   "source": [
    "log_rho = np.log(df_ros.rho_eff)\n",
    "log_rho.hist(bins=100)"
   ]
  },
  {
   "cell_type": "code",
   "execution_count": null,
   "id": "6ccc6fd5-d764-4144-a9ce-de1f8377df7e",
   "metadata": {},
   "outputs": [],
   "source": [
    "df_ros.sa_eff.hist(bins=100)"
   ]
  },
  {
   "cell_type": "code",
   "execution_count": null,
   "id": "b288a51c-bc0e-41a0-9b0e-752474912ace",
   "metadata": {},
   "outputs": [],
   "source": [
    "log_sa = np.log(df_ros.sa_eff)\n",
    "log_sa.hist(bins=100)"
   ]
  },
  {
   "cell_type": "code",
   "execution_count": null,
   "id": "4936d322-b144-46e9-bd3e-b616aca1e02f",
   "metadata": {},
   "outputs": [],
   "source": []
  },
  {
   "cell_type": "markdown",
   "id": "0322288e-a333-4653-bd4e-2f56e1e2f704",
   "metadata": {},
   "source": [
    "# Generate png list using linux command "
   ]
  },
  {
   "cell_type": "markdown",
   "id": "2d0cb703-a6d4-423c-9b26-2d6ad16d2c91",
   "metadata": {},
   "source": [
    "It's too slow to generate path list using python. Use linux commands instead:  \n",
    "```find . -type f -name \"*.png\" > img_relative_paths.txt```"
   ]
  },
  {
   "cell_type": "code",
   "execution_count": 4,
   "id": "1857a24a-2c2b-4049-a97f-58fd237d7b6b",
   "metadata": {},
   "outputs": [
    {
     "data": {
      "text/plain": [
       "['/glade/derecho/scratch/joko/synth-ros/params_200_50_20250403/projections/phips/6/ros-projection-022282-000-phips.png',\n",
       " '/glade/derecho/scratch/joko/synth-ros/params_200_50_20250403/projections/phips/6/ros-projection-020298-001-phips.png',\n",
       " '/glade/derecho/scratch/joko/synth-ros/params_200_50_20250403/projections/phips/6/ros-projection-029536-001-phips.png',\n",
       " '/glade/derecho/scratch/joko/synth-ros/params_200_50_20250403/projections/phips/6/ros-projection-020298-004-phips.png',\n",
       " '/glade/derecho/scratch/joko/synth-ros/params_200_50_20250403/projections/phips/6/ros-projection-022415-004-phips.png',\n",
       " '/glade/derecho/scratch/joko/synth-ros/params_200_50_20250403/projections/phips/6/ros-projection-027327-001-phips.png',\n",
       " '/glade/derecho/scratch/joko/synth-ros/params_200_50_20250403/projections/phips/6/ros-projection-024274-005-phips.png',\n",
       " '/glade/derecho/scratch/joko/synth-ros/params_200_50_20250403/projections/phips/6/ros-projection-022282-007-phips.png',\n",
       " '/glade/derecho/scratch/joko/synth-ros/params_200_50_20250403/projections/phips/6/ros-projection-022415-007-phips.png',\n",
       " '/glade/derecho/scratch/joko/synth-ros/params_200_50_20250403/projections/phips/6/ros-projection-024274-007-phips.png']"
      ]
     },
     "execution_count": 4,
     "metadata": {},
     "output_type": "execute_result"
    }
   ],
   "source": [
    "import os \n",
    "projections_dir = '/glade/derecho/scratch/joko/synth-ros/params_200_50_20250403/projections'\n",
    "img_paths_txt = '/glade/derecho/scratch/joko/synth-ros/params_200_50_20250403/projections/img_relative_paths.txt'\n",
    "with open(img_paths_txt, 'r') as file:\n",
    "    rel_paths = [line.strip().replace('./','') for line in file]\n",
    "    img_paths = [os.path.join(projections_dir, i) for i in rel_paths]\n",
    "img_paths[:10]"
   ]
  },
  {
   "cell_type": "code",
   "execution_count": 5,
   "id": "525f6ec5-da8e-43cd-8602-c428af8823e0",
   "metadata": {},
   "outputs": [
    {
     "data": {
      "text/plain": [
       "21000000"
      ]
     },
     "execution_count": 5,
     "metadata": {},
     "output_type": "execute_result"
    }
   ],
   "source": [
    "len(img_paths)"
   ]
  },
  {
   "cell_type": "code",
   "execution_count": 3,
   "id": "2b984843-e3b0-4e28-8312-3b822641294e",
   "metadata": {},
   "outputs": [
    {
     "name": "stdout",
     "output_type": "stream",
     "text": [
      "ros_id: 022282\n",
      "proj_id: 000\n",
      "unique_id: 022282_000\n",
      "view: phips\n"
     ]
    }
   ],
   "source": [
    "test_path = '/glade/derecho/scratch/joko/synth-ros/params_200_50_20250403/projections/phips/6/ros-projection-022282-000-phips.png'\n",
    "filename = test_path.rsplit('/',1)[1]\n",
    "filename.split('-')\n",
    "ros_id = filename.split('-')[2]\n",
    "proj_id = filename.split('-')[3]\n",
    "unique_id = ros_id + '_' + proj_id\n",
    "view = filename.split('-')[-1].split('.')[0]\n",
    "print(f'ros_id: {ros_id}')\n",
    "print(f'proj_id: {proj_id}')\n",
    "print(f'unique_id: {unique_id}')\n",
    "print(f'view: {view}')"
   ]
  },
  {
   "cell_type": "code",
   "execution_count": null,
   "id": "bdb479a1-d856-4c4f-b763-e1fc2b749d40",
   "metadata": {},
   "outputs": [],
   "source": [
    "# %%time\n",
    "# from pathlib import Path\n",
    "\n",
    "# directory = \"/glade/derecho/scratch/joko/synth-ros/params_200_50-debug-20250316/projections\"\n",
    "# file_paths = [str(file) for file in Path(directory).rglob('*') if file.is_file()]\n",
    "\n",
    "# print(file_paths)\n"
   ]
  },
  {
   "cell_type": "code",
   "execution_count": null,
   "id": "191d0237-d3b1-450b-a655-647ac97afb86",
   "metadata": {},
   "outputs": [],
   "source": []
  }
 ],
 "metadata": {
  "kernelspec": {
   "display_name": "Python [conda env:.conda-pyvista_pip]",
   "language": "python",
   "name": "conda-env-.conda-pyvista_pip-py"
  },
  "language_info": {
   "codemirror_mode": {
    "name": "ipython",
    "version": 3
   },
   "file_extension": ".py",
   "mimetype": "text/x-python",
   "name": "python",
   "nbconvert_exporter": "python",
   "pygments_lexer": "ipython3",
   "version": "3.12.4"
  }
 },
 "nbformat": 4,
 "nbformat_minor": 5
}
