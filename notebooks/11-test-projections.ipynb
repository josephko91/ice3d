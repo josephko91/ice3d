{
 "cells": [
  {
   "cell_type": "code",
   "execution_count": 1,
   "id": "c9e404b0-291a-48c8-809e-97b3b6d9393d",
   "metadata": {},
   "outputs": [],
   "source": [
    "import pyvista as pv\n",
    "import os, random\n",
    "import numpy as np\n",
    "import miniball"
   ]
  },
  {
   "cell_type": "markdown",
   "id": "04a7d9fb-7a8d-49c7-b7e5-530c77b4381e",
   "metadata": {
    "jp-MarkdownHeadingCollapsed": true
   },
   "source": [
    "# Load single STL"
   ]
  },
  {
   "cell_type": "markdown",
   "id": "de482b2a-feba-4fa7-acc8-b6cbde4614bd",
   "metadata": {},
   "source": [
    "Note: pyvista plotting is very slow (for now) on ncar jupyterhub, so avoid if possible."
   ]
  },
  {
   "cell_type": "code",
   "execution_count": 2,
   "id": "69d90bdc-7fcf-446a-a50b-33798d89e424",
   "metadata": {},
   "outputs": [
    {
     "data": {
      "text/html": [
       "\n",
       "<table style='width: 100%;'>\n",
       "<tr><th>PolyData</th><th>Information</th></tr>\n",
       "<tr><td>N Cells</td><td>6354</td></tr>\n",
       "<tr><td>N Points</td><td>3173</td></tr>\n",
       "<tr><td>N Strips</td><td>0</td></tr>\n",
       "<tr><td>X Bounds</td><td>-1.268e+02, 1.635e+02</td></tr>\n",
       "<tr><td>Y Bounds</td><td>-1.626e+02, 1.409e+02</td></tr>\n",
       "<tr><td>Z Bounds</td><td>-1.322e+02, 1.476e+02</td></tr>\n",
       "<tr><td>N Arrays</td><td>0</td></tr>\n",
       "</table>\n",
       "\n"
      ],
      "text/plain": [
       "PolyData (0x150722ce1360)\n",
       "  N Cells:    6354\n",
       "  N Points:   3173\n",
       "  N Strips:   0\n",
       "  X Bounds:   -1.268e+02, 1.635e+02\n",
       "  Y Bounds:   -1.626e+02, 1.409e+02\n",
       "  Z Bounds:   -1.322e+02, 1.476e+02\n",
       "  N Arrays:   0"
      ]
     },
     "execution_count": 2,
     "metadata": {},
     "output_type": "execute_result"
    }
   ],
   "source": [
    "stl_dir = '/glade/derecho/scratch/joko/synth-ros/n1000-test-20250226'\n",
    "id = random.randint(1, 69999)\n",
    "id = f'{id:06d}'\n",
    "mesh = pv.read(os.path.join(stl_dir, f'ros-test-{id}.stl'))\n",
    "mesh"
   ]
  },
  {
   "cell_type": "markdown",
   "id": "3856a903-9161-40d5-911b-30d4cddd206b",
   "metadata": {},
   "source": [
    "# Generate N views and save as png"
   ]
  },
  {
   "cell_type": "code",
   "execution_count": null,
   "id": "38bd80d0-bc76-4fb1-a3c8-1afeb00c2513",
   "metadata": {},
   "outputs": [],
   "source": [
    "%%time\n",
    "# Generate random views of the particle and save as png\n",
    "save_path = '/glade/derecho/scratch/joko/synth-ros/test-projections'\n",
    "n_renders = 100\n",
    "res = 64\n",
    "bg_color='black'\n",
    "obj_color='white'\n",
    "op=0.9\n",
    "\n",
    "pl = pv.Plotter(off_screen=True, window_size=[res, res])\n",
    "pl.background_color = bg_color\n",
    "pl.enable_parallel_projection()\n",
    "pl.remove_all_lights()\n",
    "\n",
    "def random_rotate(mesh):\n",
    "    \"\"\"\n",
    "    Rotate rosette in a random orientation\n",
    "    TODO:\n",
    "    - fix bug related to the reliance on model attribute\n",
    "    \"\"\"\n",
    "    rotated = mesh.copy()\n",
    "    deg_x = np.random.randint(1, 360)\n",
    "    deg_y = np.random.randint(1, 360)\n",
    "    deg_z = np.random.randint(1, 360)\n",
    "    rotated_model = rotated.rotate_x(deg_x, inplace=False)\n",
    "    rotated_model.rotate_y(deg_y, inplace=True)\n",
    "    rotated_model.rotate_z(deg_z, inplace=True)\n",
    "    return rotated_model\n",
    "\n",
    "for i in range(n_renders):\n",
    "    mesh_rot = random_rotate(mesh)\n",
    "    pl.add_mesh(mesh_rot, show_edges=None, color = obj_color, opacity=op, name='mesh')\n",
    "    file_name = f'ros_{i}.png'\n",
    "    file_path = save_path + '/' + file_name\n",
    "    # pl.show(auto_close=False, interactive=False, jupyter_backend='none')\n",
    "    # pl.show(screenshot=file_path, interactive=False, jupyter_backend='none')\n",
    "    pl.screenshot(file_path, return_img=False)\n",
    "    # pl.deep_clean()\n",
    "pl.close()"
   ]
  },
  {
   "cell_type": "markdown",
   "id": "56c6129d-665a-4875-ba00-851772b93cf3",
   "metadata": {},
   "source": [
    "# Test pyvista calculations"
   ]
  },
  {
   "cell_type": "code",
   "execution_count": 3,
   "id": "228e6a45-c305-496a-94a5-47ae23e670d9",
   "metadata": {},
   "outputs": [
    {
     "name": "stdout",
     "output_type": "stream",
     "text": [
      "sa = 201764.54126171285, vol = 1850305.4527365668\n"
     ]
    }
   ],
   "source": [
    "# pyvista calculations for surface area and volume\n",
    "sa = mesh.area\n",
    "vol = mesh.volume\n",
    "print(f'sa = {sa}, vol = {vol}')"
   ]
  },
  {
   "cell_type": "code",
   "execution_count": 6,
   "id": "a4d6a8db-849c-4dfe-90bc-fc7cae3d49be",
   "metadata": {},
   "outputs": [
    {
     "name": "stdout",
     "output_type": "stream",
     "text": [
      "{'c': array([ 15.9622283 , -10.79061417,  -0.48734297]), 'r': np.float64(166.21215529677823), 'v': np.float64(19234325.11460258)}\n",
      "0.09619809594108536\n"
     ]
    }
   ],
   "source": [
    "# test minimally bounding sphere and effective density calcs\n",
    "def calc_mbs(mesh):\n",
    "    \"\"\"\n",
    "    Calculate minimal bounding sphere (mbs)\n",
    "    \"\"\"\n",
    "    mbs = {} # store attributes of sphere as dict\n",
    "\n",
    "    # use miniball algorithm to find bounding sphere\n",
    "    mesh_points = np.asarray(mesh.points)\n",
    "    c, r2 = miniball.get_bounding_ball(mesh_points)\n",
    "    r = np.sqrt(r2) # r2 = radius squared, r = radius\n",
    "\n",
    "    mbs['c'] = c # center coordinates as np array\n",
    "    mbs['r'] = r # radius of sphere as float\n",
    "    mbs['v'] = (4/3)*np.pi*(r**3)\n",
    "\n",
    "    return mbs\n",
    "\n",
    "def calc_rho_eff_ratio(mesh, mbs):\n",
    "    \"\"\"\n",
    "    Calculate effective density ratio\n",
    "    I.e. volume of rosette / volume of bounding sphere\n",
    "    \"\"\"\n",
    "    rho_eff_ratio = mesh.volume / mbs['v']\n",
    "    return rho_eff_ratio\n",
    "mbs = calc_mbs(mesh)\n",
    "print(mbs)\n",
    "rho_eff = calc_rho_eff_ratio(mesh, mbs)\n",
    "print(rho_eff)"
   ]
  },
  {
   "cell_type": "code",
   "execution_count": null,
   "id": "761f738f-8ec3-4e29-afe6-43ba4e7deb59",
   "metadata": {},
   "outputs": [],
   "source": []
  },
  {
   "cell_type": "code",
   "execution_count": null,
   "id": "21a67b8a-144d-4894-b524-5b7b073fe831",
   "metadata": {},
   "outputs": [],
   "source": []
  }
 ],
 "metadata": {
  "kernelspec": {
   "display_name": "Python [conda env:.conda-pyvista_pip]",
   "language": "python",
   "name": "conda-env-.conda-pyvista_pip-py"
  },
  "language_info": {
   "codemirror_mode": {
    "name": "ipython",
    "version": 3
   },
   "file_extension": ".py",
   "mimetype": "text/x-python",
   "name": "python",
   "nbconvert_exporter": "python",
   "pygments_lexer": "ipython3",
   "version": "3.12.4"
  }
 },
 "nbformat": 4,
 "nbformat_minor": 5
}
