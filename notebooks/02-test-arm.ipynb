{
 "cells": [
  {
   "cell_type": "markdown",
   "metadata": {},
   "source": [
    "Testing the creation of bullet arms with PyVista  \n",
    "Previous tests indicate that the boolean union of the bullet pyramid and the bullet cylinder is causing VTK error. "
   ]
  },
  {
   "cell_type": "code",
   "execution_count": 1,
   "metadata": {},
   "outputs": [],
   "source": [
    "import psutil\n",
    "import numpy as np\n",
    "import pandas as pd\n",
    "from multiprocess import Pool, get_context\n",
    "from itertools import product\n",
    "import os\n",
    "import pyvista as pv\n",
    "import random\n",
    "from math import pi, sqrt, pow, acos, degrees, radians, sin, cos\n",
    "from data.rosette_temp import Rosette\n",
    "from data import helper_temp as helper\n",
    "from copy import deepcopy\n",
    "import miniball\n",
    "import pymeshfix as mf\n",
    "from decimal import *"
   ]
  },
  {
   "cell_type": "code",
   "execution_count": 2,
   "metadata": {},
   "outputs": [],
   "source": [
    "import math\n",
    "def round_up_to_decimal(number, decimals=0):\n",
    "    \"\"\"Rounds a number up to the nearest specified decimal place.\n",
    "\n",
    "    Args:\n",
    "        number: The number to round up.\n",
    "        decimals: The number of decimal places to round to (default is 0).\n",
    "\n",
    "    Returns:\n",
    "        The rounded-up number.\n",
    "    \"\"\"\n",
    "    if not isinstance(decimals, int):\n",
    "        raise TypeError(\"decimals must be an integer\")\n",
    "    if decimals < 0:\n",
    "        raise ValueError(\"decimals must be non-negative\")\n",
    "    \n",
    "    factor = 10 ** decimals\n",
    "    return math.ceil(number * factor) / factor\n",
    "\n",
    "def round_down_to_decimal(number, decimals=0):\n",
    "    \"\"\"Rounds a number down to the nearest specified decimal place.\n",
    "\n",
    "    Args:\n",
    "        number: The number to round down.\n",
    "        decimals: The number of decimal places to round to (default is 0).\n",
    "\n",
    "    Returns:\n",
    "        The rounded-down number.\n",
    "    \"\"\"\n",
    "    if not isinstance(decimals, int):\n",
    "        raise TypeError(\"decimals must be an integer\")\n",
    "    if decimals < 0:\n",
    "        raise ValueError(\"decimals must be non-negative\")\n",
    "    \n",
    "    factor = 10 ** decimals\n",
    "    return math.floor(number * factor) / factor"
   ]
  },
  {
   "cell_type": "code",
   "execution_count": null,
   "metadata": {},
   "outputs": [],
   "source": [
    "output_path = '/Users/josephko/research/ice3d/output/out_log.txt'\n",
    "for i in range(100):\n",
    "    # define parameters\n",
    "    c = random.uniform(10, 200)\n",
    "    c = round_up_to_decimal(c, 1)\n",
    "    a_c_ratio = random.uniform(0.05, 0.8)\n",
    "    a = c * a_c_ratio\n",
    "    a = round_up_to_decimal(a, 1)\n",
    "    f_r0 = random.uniform(0.75, 1.0)\n",
    "    r0 = f_r0 * a\n",
    "    r0 = round_up_to_decimal(r0, 1)\n",
    "    hp = r0 # pyramid height\n",
    "    f_h0 = random.uniform(0.2, 0.5)\n",
    "    h0 = hp/4 # penetration depth\n",
    "    h0 = round_up_to_decimal(h0, 1)\n",
    "    n_arms = random.randint(4, 10)\n",
    "    \n",
    "    # create components\n",
    "    cyl = pv.Cylinder(center=(0.0, 0.0, c+hp), direction=(0.0, 0.0, -1.0), \n",
    "                    radius=a, height=2*c, resolution=6, capping=True)\n",
    "    pyr = pv.Cone(center=(0.0, 0.0, hp/2), direction=(0.0, 0.0, -1.0), \n",
    "                height=hp, radius=a, capping=True, angle=None, resolution=6)\n",
    "    cyl = cyl.triangulate()\n",
    "    pyr = pyr.triangulate()\n",
    "    cyl_pts = cyl.points\n",
    "    cyl_pts[abs(cyl_pts)<1e-10]=0.0 # replace small values with zeros\n",
    "    cyl.points = cyl_pts\n",
    "    pyr_pts = pyr.points\n",
    "    pyr_pts[abs(pyr_pts)<1e-10]=0.0 # replace small values with zeros\n",
    "    pyr.points = pyr_pts\n",
    "\n",
    "    # add parameters to text file\n",
    "    file = open(output_path, 'a')\n",
    "    file.write(f'{a}, {c}, {hp}\\n')\n",
    "    file.close()\n",
    "    \n",
    "    # perform boolean union \n",
    "    bullet = cyl.boolean_union(pyr).triangulate()"
   ]
  },
  {
   "cell_type": "code",
   "execution_count": 3,
   "metadata": {},
   "outputs": [
    {
     "data": {
      "application/vnd.jupyter.widget-view+json": {
       "model_id": "460cc655c11347afaaecd92880addaaf",
       "version_major": 2,
       "version_minor": 0
      },
      "text/plain": [
       "Widget(value='<iframe src=\"http://localhost:52700/index.html?ui=P_0x17bb93b00_0&reconnect=auto\" class=\"pyvista…"
      ]
     },
     "metadata": {},
     "output_type": "display_data"
    }
   ],
   "source": [
    "# test with particular set of parameters \n",
    "a, c, hp = 75.2, 132.0, 56.7\n",
    "\n",
    "# create components\n",
    "cyl = pv.Cylinder(center=(0.0, 0.0, c+hp), direction=(0.0, 0.0, -1.0), \n",
    "                radius=a, height=2*c, resolution=6, capping=True)\n",
    "pyr = pv.Cone(center=(0.0, 0.0, hp/2), direction=(0.0, 0.0, -1.0), \n",
    "            height=hp, radius=a, capping=True, angle=None, resolution=6)\n",
    "cyl = cyl.triangulate()\n",
    "pyr = pyr.triangulate()\n",
    "cyl_pts = cyl.points\n",
    "# cyl_pts[abs(cyl_pts)<1e-10]=0.0 # replace small values with zeros\n",
    "cyl.points = cyl_pts\n",
    "pyr_pts = pyr.points\n",
    "# pyr_pts[abs(pyr_pts)<1e-10]=0.0 # replace small values with zeros\n",
    "pyr.points = pyr_pts\n",
    "\n",
    "# plot cyl and pyr\n",
    "p = pv.Plotter()\n",
    "p.add_mesh(cyl, color='blue', show_edges=True)\n",
    "p.add_mesh(pyr, color='red', show_edges=True)\n",
    "p.show()"
   ]
  },
  {
   "cell_type": "code",
   "execution_count": 5,
   "metadata": {},
   "outputs": [],
   "source": [
    "# save pyr and cyl as obj files\n",
    "cyl_path = '/Users/josephko/research/ice3d/output/cyl.obj'\n",
    "pyr_path =  '/Users/josephko/research/ice3d/output/pyr.obj'\n",
    "cyl.save(cyl_path)\n",
    "pyr.save(pyr_path)"
   ]
  },
  {
   "cell_type": "code",
   "execution_count": null,
   "metadata": {},
   "outputs": [],
   "source": [
    "# merge cyl and pyr\n",
    "bullet = cyl.boolean_union(pyr).triangulate()"
   ]
  },
  {
   "cell_type": "markdown",
   "metadata": {},
   "source": [
    "# Create generic cylinder and save to test with trimesh"
   ]
  },
  {
   "cell_type": "code",
   "execution_count": 4,
   "metadata": {},
   "outputs": [
    {
     "data": {
      "application/vnd.jupyter.widget-view+json": {
       "model_id": "01c90f5891084bd5aede36b185ed58b2",
       "version_major": 2,
       "version_minor": 0
      },
      "text/plain": [
       "Widget(value='<iframe src=\"http://localhost:58312/index.html?ui=P_0x30d1ab0e0_2&reconnect=auto\" class=\"pyvista…"
      ]
     },
     "metadata": {},
     "output_type": "display_data"
    }
   ],
   "source": [
    "import pyvista as pv\n",
    "cyl_generic = pv.Cylinder(center=(0.0, 0.0, 0.0), direction=(0.0, 0.0, -1.0), \n",
    "                    radius=10, height=100, resolution=6, capping=True)\n",
    "cyl_generic = cyl_generic.triangulate()\n",
    "cyl_generic.plot(style='wireframe')"
   ]
  },
  {
   "cell_type": "code",
   "execution_count": 5,
   "metadata": {},
   "outputs": [],
   "source": [
    "# save to data folder in smooth-mesh-boolean folder\n",
    "savepath = '/Users/josephko/research/smooth-mesh-boolean/data/cyl_generic.obj'\n",
    "cyl_generic.save(savepath)"
   ]
  },
  {
   "cell_type": "code",
   "execution_count": null,
   "metadata": {},
   "outputs": [],
   "source": []
  },
  {
   "cell_type": "code",
   "execution_count": null,
   "metadata": {},
   "outputs": [],
   "source": []
  }
 ],
 "metadata": {
  "kernelspec": {
   "display_name": "pyvista",
   "language": "python",
   "name": "python3"
  },
  "language_info": {
   "codemirror_mode": {
    "name": "ipython",
    "version": 3
   },
   "file_extension": ".py",
   "mimetype": "text/x-python",
   "name": "python",
   "nbconvert_exporter": "python",
   "pygments_lexer": "ipython3",
   "version": "3.12.7"
  }
 },
 "nbformat": 4,
 "nbformat_minor": 2
}
