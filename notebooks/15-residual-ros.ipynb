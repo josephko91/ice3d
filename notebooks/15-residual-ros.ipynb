{
 "cells": [
  {
   "cell_type": "markdown",
   "id": "5f5f85da-b9db-4649-a669-493dddbe96e8",
   "metadata": {},
   "source": [
    "This notebook looks at rosettes that had a bug in the generation process (residual) and attempts to re-create them."
   ]
  },
  {
   "cell_type": "code",
   "execution_count": 1,
   "id": "37786412-8ec7-402e-aa53-a674ce3b6251",
   "metadata": {},
   "outputs": [],
   "source": [
    "# import packages\n",
    "import numpy as np\n",
    "import cadquery as cq\n",
    "from scipy.stats import qmc\n",
    "import math\n",
    "import itertools\n",
    "import matplotlib.pyplot as plt\n",
    "import os, re\n",
    "import json\n",
    "import copy\n",
    "import random\n",
    "import sys\n",
    "import miniball\n",
    "import pandas as pd\n",
    "import glob\n",
    "import contextlib"
   ]
  },
  {
   "cell_type": "markdown",
   "id": "26f85fff-e9fa-4596-bb18-a77fe8ea012f",
   "metadata": {},
   "source": [
    "# Source code"
   ]
  },
  {
   "cell_type": "code",
   "execution_count": 2,
   "id": "15d772b3-18eb-416c-921e-5c22a6e4a998",
   "metadata": {},
   "outputs": [],
   "source": [
    "# Helper functions from helper.py\n",
    "def norm_rows(v):\n",
    "    \"\"\"Normalize rows of array v into unit vectors.\"\"\"\n",
    "    if np.all(v==0):\n",
    "        v_unit = np.array([1,0,0])\n",
    "    else:\n",
    "        if v.ndim == 1:\n",
    "            v_norm = np.linalg.norm(v)\n",
    "            v_unit = v/v_norm\n",
    "        \n",
    "        else:\n",
    "            v_norm = np.linalg.norm(v, axis=1)\n",
    "            v_unit = v/v_norm[:,None]\n",
    "    return v_unit\n",
    "\n",
    "def random_spherical_cap(cone_angle_deg, cone_direction, num_points):\n",
    "    \"\"\"\n",
    "    Generates a desired number of random points on a spherical cap, \n",
    "    given a solid angle and cone direction.\n",
    "\n",
    "    Parameters\n",
    "    ----------\n",
    "    cone_angle_deg : float\n",
    "        Solid angle of the cone used to define the spherical cap, in units of degrees.\n",
    "    cone_direction : list\n",
    "        Direction of cone as a list of vector components [x, y, z].\n",
    "    num_points : int\n",
    "        Number of points to generate on spherical cap. \n",
    "    \n",
    "    Returns\n",
    "    ----------\n",
    "    points_rot \n",
    "        List of random points on spherical cap, as numpy array. \n",
    "    \"\"\"\n",
    "    # generate points on spherical cap centered at north pole\n",
    "    cone_angle_rad = cone_angle_deg*(np.pi/180)\n",
    "    z = np.random.uniform(np.cos(cone_angle_rad), 1, num_points)\n",
    "    phi = np.random.uniform(0, 2*np.pi, num_points)\n",
    "    x = np.sqrt(1-z**2)*np.cos(phi)\n",
    "    y = np.sqrt(1-z**2)*np.sin(phi)\n",
    "    points = np.column_stack((x, y, z))\n",
    "\n",
    "    # rotate points\n",
    "    north_vector = np.array([0, 0, 1])\n",
    "    cone_direction_norm = norm_rows(cone_direction)\n",
    "    u = norm_rows(np.cross(north_vector, cone_direction_norm)) # rotation axis\n",
    "    rot = np.arccos(np.dot(cone_direction_norm, north_vector)) # rotation angle in radians\n",
    "    ux = u[0]\n",
    "    uy = u[1]\n",
    "    uz = u[2]\n",
    "    # define rotation matrix\n",
    "    r11 = np.cos(rot) + (ux**2)*(1 - np.cos(rot))\n",
    "    r12 = ux*uy*(1 - np.cos(rot)) - uz*np.sin(rot)\n",
    "    r13 = ux*uz*(1 - np.cos(rot)) + uy*np.sin(rot)\n",
    "    r21 = uy*ux*(1 - np.cos(rot)) + uz*np.sin(rot)\n",
    "    r22 = np.cos(rot) + (uy**2)*(1 - np.cos(rot))\n",
    "    r23 = uy*uz*(1 - np.cos(rot)) - ux*np.sin(rot)\n",
    "    r31 = uz*ux*(1 - np.cos(rot)) - uy*np.sin(rot)\n",
    "    r32 = uz*uy*(1 - np.cos(rot)) + ux*np.sin(rot)\n",
    "    r33 = np.cos(rot) + (uz**2)*(1 - np.cos(rot))\n",
    "    rot_mat = np.array([[r11, r12, r13], \n",
    "                        [r21, r22, r23], \n",
    "                        [r31, r32, r33]])\n",
    "    \n",
    "    points_rot = np.matmul(rot_mat, points.T)\n",
    "    points_rot = points_rot.T   \n",
    "\n",
    "    return points_rot\n",
    "def perturb_aspect_ratio(n_arms, f_a_c_limits):\n",
    "    f_a_c = []\n",
    "    for i in range(n_arms):\n",
    "        f_a = random.uniform(f_a_c_limits[0], f_a_c_limits[1])\n",
    "        f_c = random.uniform(f_a_c_limits[2], f_a_c_limits[3])\n",
    "        f_a_c.append(f_a)\n",
    "        f_a_c.append(f_c)\n",
    "    return f_a_c\n",
    "\n",
    "def get_cone_angle(n_arms):\n",
    "    # source: http://neilsloane.com/packings/index.html#I\n",
    "    min_angles = {4 : 109.4712206, \n",
    "                  5 : 90.0000000, \n",
    "                  6 : 90.0000000, \n",
    "                  7 : 77.8695421,\n",
    "                  8 : 74.8584922,\n",
    "                  9 : 70.5287794,\n",
    "                  10 : 66.1468220}\n",
    "    cone_angle_deg = min_angles[n_arms]/3 # adjust as needed\n",
    "    return cone_angle_deg\n",
    "\n",
    "def perturb_s_code(n_arms, s_code_dict):\n",
    "    s_code = s_code_dict[str(n_arms)]\n",
    "    s_code_perturbed = []\n",
    "    cone_angle_deg = get_cone_angle(n_arms)\n",
    "    for i in range(n_arms):\n",
    "        cone_direction = np.array([s_code[3*i], s_code[3*i+1], s_code[3*i+2]])\n",
    "        points_rot = random_spherical_cap(cone_angle_deg, cone_direction, 1)\n",
    "        pt = points_rot[0]\n",
    "        s_code_perturbed.extend(pt)\n",
    "    return s_code_perturbed"
   ]
  },
  {
   "cell_type": "code",
   "execution_count": 3,
   "id": "0853edd3-62a6-42d9-8c6c-2e79e6e5e611",
   "metadata": {},
   "outputs": [],
   "source": [
    "### =========== (Rosette code) =========== ###\n",
    "def create_bullet(a, c, hp, f_a, f_c, workplane):\n",
    "    # create pyramid\n",
    "    n_pyr = 6\n",
    "    ri = a*np.cos(np.radians(30)) # distance between center and edge of hexagon\n",
    "    theta = 90 - np.degrees(np.arctan(hp/ri))\n",
    "    pyramid = workplane.polygon(n_pyr, f_a*2*a).extrude(-f_a*hp, taper=theta)\n",
    "    # create cylinder \n",
    "    n_cyl = 6\n",
    "    cylinder = workplane.polygon(n_cyl, f_a*2*a).extrude(f_c*2*c)\n",
    "    # create bullet (union)\n",
    "    bullet = cylinder.union(pyramid)\n",
    "    return bullet\n",
    "\n",
    "def calc_r0(f_r0, a, n_arms):\n",
    "    '''\n",
    "    linearly interpolate between perscribed limits for r0\n",
    "    '''\n",
    "    ymin, ymax = 0.5*a, 1*a\n",
    "    xmin, xmax = 4, 12\n",
    "    slope = (ymax-ymin)/(xmax-xmin)\n",
    "    intercept = ymin - (slope*xmin)\n",
    "    r0 = slope*(n_arms) + intercept\n",
    "    r0 = f_r0 * r0 # multiply by perturbation factor\n",
    "    return r0 \n",
    "\n",
    "def calc_hp(f_hp, r0, n_arms):\n",
    "    '''\n",
    "    linearly interpolate: hp increases with n_arms\n",
    "    '''\n",
    "    ymin, ymax = 1*r0, 1.5*r0\n",
    "    xmin, xmax = 4, 12\n",
    "    slope = (ymax-ymin)/(xmax-xmin)\n",
    "    intercept = ymin - (slope*xmin)\n",
    "    hp = slope*(n_arms) + intercept\n",
    "    hp = f_hp*hp # multiply by perturbation factot\n",
    "    return hp\n",
    "\n",
    "def calc_h0(f_h0, r0):\n",
    "    '''\n",
    "    h0 calculate as a perscribed fraction of r0\n",
    "    '''\n",
    "    h0 = r0/2\n",
    "    h0 = f_h0*h0 # multiply by perturbation factor\n",
    "    return h0\n",
    "\n",
    "def extract_xyz(s_code):\n",
    "    '''\n",
    "    Convert list in format [x1, y1, z1, ..., xn, yn, zn] to separate x, y, z arrays\n",
    "    '''\n",
    "    x = []\n",
    "    y = []\n",
    "    z = []\n",
    "    for i in range(0, len(s_code), 3):\n",
    "        x.append(s_code[i])\n",
    "        y.append(s_code[i+1])\n",
    "        z.append(s_code[i+2])\n",
    "    return x, y, z\n",
    "\n",
    "# create_ros(base_params, n_arms, s_code, aspect_perturb)\n",
    "def create_ros(params, n_arms, s_code, aspect_perturb):\n",
    "    '''\n",
    "    aspect_perturb: list in form [f_a_1,f_c_1,...,f_a_n_arms,f_c_n_arms]\n",
    "    '''\n",
    "    # unpack parameters\n",
    "    a, c, f_r0, f_hp, f_h0 = params[0], params[1], params[2], params[3], params[4]\n",
    "    r0 = calc_r0(f_r0, a, n_arms)\n",
    "    hp = calc_hp(f_hp, r0, n_arms)\n",
    "    h0 = calc_h0(f_h0, r0)\n",
    "    # create sphere\n",
    "    sphere = cq.Workplane().sphere(r0)\n",
    "    # create outer shell to \"place\" bullets on\n",
    "    # based on spherical code from Sloane et al. \n",
    "    r_outer = r0 + hp - h0\n",
    "    # convert s_code list to outer_coords\n",
    "    x, y, z = extract_xyz(s_code)\n",
    "    outer_coords = r_outer*(np.column_stack((x, y, z)))\n",
    "    # create and collect bullets in list\n",
    "    bullets = []\n",
    "    for i in range(len(outer_coords)):\n",
    "        f_a = aspect_perturb[2*i]\n",
    "        f_c = aspect_perturb[2*i + 1]\n",
    "        normal_vector = tuple(outer_coords[i])\n",
    "        plane = cq.Plane(origin=normal_vector, normal=normal_vector)\n",
    "        workplane = cq.Workplane(plane)\n",
    "        bullet = create_bullet(a, c, hp, f_a, f_c, workplane)\n",
    "        bullets.append(bullet)\n",
    "    # boolean union to create rosette\n",
    "    ros = sphere.union(bullets[0])\n",
    "    for i in range(1, n_arms):\n",
    "        ros = ros.union(bullets[i])\n",
    "    return ros\n",
    "### ====================================== ###\n",
    "def get_verts(ros, threshold):\n",
    "    verts = ros.vertices() # list of vertices \n",
    "    origin = cq.Vertex.makeVertex(0,0,0)\n",
    "    # filtered_verts = [v for v in verts if v.distance(origin) > threshold/2]\n",
    "    filtered_verts = [v for v in verts]\n",
    "    final_verts = np.asarray([list(v.Center().toTuple()) for v in filtered_verts])\n",
    "    return final_verts \n",
    "    \n",
    "    \n",
    "def calc_mbs(points):\n",
    "    \"\"\"\n",
    "    Calculate minimal bounding sphere (mbs)\n",
    "    \"\"\"\n",
    "    mbs = {} # store attributes of sphere as dict\n",
    "\n",
    "    # use miniball algorithm to find bounding sphere\n",
    "    # mesh_points = np.asarray(points)\n",
    "    unique_pts = np.unique(points, axis=0)\n",
    "    c, r2 = miniball.get_bounding_ball(unique_pts)\n",
    "    r = np.sqrt(r2) # r2 = radius squared, r = radius\n",
    "\n",
    "    mbs['c'] = c # center coordinates as np array\n",
    "    mbs['r'] = r # radius of sphere as float\n",
    "    mbs['v'] = (4/3)*np.pi*(r**3)\n",
    "    mbs['a'] = 4*np.pi*(r**2) \n",
    "\n",
    "    return mbs\n",
    "\n",
    "def get_record(ros, params, id):\n",
    "    try:\n",
    "        sa = ros.val().Area()\n",
    "        vol = ros.val().Volume()\n",
    "        base_params = params[0]\n",
    "        # print(f'rosette {id}: {base_params}')\n",
    "        points = get_verts(ros, base_params[2])\n",
    "        mbs = calc_mbs(points)\n",
    "        rho_eff = vol/mbs['v'] \n",
    "        sa_eff = sa/mbs['a']\n",
    "        record = [id]\n",
    "        record.extend(base_params)\n",
    "        record.extend([sa, vol, sa_eff, rho_eff])\n",
    "        return record\n",
    "    except Exception as e:\n",
    "        print(f'rosette {id}: {base_params}')\n",
    "        return f\"An unexpected error occurred: {e}\"\n",
    "\n",
    "def process_instance(params, i, save_dir):\n",
    "    # extract params\n",
    "    base_params = params[0][:5]\n",
    "    n_arms = params[0][5]\n",
    "    aspect_perturb = params[1]\n",
    "    s_code = params[2]\n",
    "    ros = create_ros(base_params, n_arms, s_code, aspect_perturb)\n",
    "    # make stl and record dirs if they don't exist\n",
    "    record_dir = save_dir + f'/data/{n_arms}'\n",
    "    stl_dir = save_dir + f'/stl/{n_arms}'\n",
    "    os.makedirs(record_dir, exist_ok=True)\n",
    "    os.makedirs(stl_dir, exist_ok=True)\n",
    "    # calc attributes and save record as txt\n",
    "    record = get_record(ros, params, i)\n",
    "    record_filename = f'record-ros-test-{i:06d}.txt'\n",
    "    record_filepath = os.path.join(record_dir, record_filename)\n",
    "    print(record_filepath)\n",
    "    with open(record_filepath, 'w') as file:\n",
    "        file.write(\",\".join(map(str, record))) \n",
    "    # save model\n",
    "    save_filename = f'ros-test-{i:06d}.stl'\n",
    "    save_filepath = os.path.join(stl_dir, save_filename)\n",
    "    print(save_filepath)\n",
    "    print(type(ros))\n",
    "    cq.exporters.export(ros, save_filepath) # save file\n",
    "\n",
    "def process_chunk(chunk, start_index, end_index, save_dir):\n",
    "    for i in range(start_index, end_index):\n",
    "        p = chunk[i]\n",
    "        process_instance(p, i, save_dir)"
   ]
  },
  {
   "cell_type": "markdown",
   "id": "5420c76b-deaf-4fdb-8520-28c75e573902",
   "metadata": {},
   "source": [
    "# Identify residuals"
   ]
  },
  {
   "cell_type": "code",
   "execution_count": 4,
   "id": "12ec5f9c-68a5-4bf7-9077-0f85267801e9",
   "metadata": {},
   "outputs": [],
   "source": [
    "# load the param file that was used to create rosettes\n",
    "params_path = '/glade/u/home/joko/ice3d/output/params_200_50.json'\n",
    "# load saved json\n",
    "with open(params_path, 'rb') as file:\n",
    "    params_list = json.load(file)"
   ]
  },
  {
   "cell_type": "code",
   "execution_count": 5,
   "id": "8fe14a67-c371-47c8-b698-e780b19bd39f",
   "metadata": {},
   "outputs": [
    {
     "name": "stdout",
     "output_type": "stream",
     "text": [
      "(70000, 11)\n"
     ]
    },
    {
     "data": {
      "text/html": [
       "<div>\n",
       "<style scoped>\n",
       "    .dataframe tbody tr th:only-of-type {\n",
       "        vertical-align: middle;\n",
       "    }\n",
       "\n",
       "    .dataframe tbody tr th {\n",
       "        vertical-align: top;\n",
       "    }\n",
       "\n",
       "    .dataframe thead th {\n",
       "        text-align: right;\n",
       "    }\n",
       "</style>\n",
       "<table border=\"1\" class=\"dataframe\">\n",
       "  <thead>\n",
       "    <tr style=\"text-align: right;\">\n",
       "      <th></th>\n",
       "      <th>id</th>\n",
       "      <th>a</th>\n",
       "      <th>c</th>\n",
       "      <th>f_r0</th>\n",
       "      <th>f_hp</th>\n",
       "      <th>f_h0</th>\n",
       "      <th>n_arms</th>\n",
       "      <th>sa</th>\n",
       "      <th>vol</th>\n",
       "      <th>sa_eff</th>\n",
       "      <th>rho_eff</th>\n",
       "    </tr>\n",
       "  </thead>\n",
       "  <tbody>\n",
       "    <tr>\n",
       "      <th>0</th>\n",
       "      <td>35000</td>\n",
       "      <td>13.817545</td>\n",
       "      <td>23.540122</td>\n",
       "      <td>0.867449</td>\n",
       "      <td>0.961225</td>\n",
       "      <td>0.943525</td>\n",
       "      <td>7</td>\n",
       "      <td>33247.371151</td>\n",
       "      <td>181231.947690</td>\n",
       "      <td>0.576030</td>\n",
       "      <td>0.138993</td>\n",
       "    </tr>\n",
       "    <tr>\n",
       "      <th>1</th>\n",
       "      <td>35001</td>\n",
       "      <td>13.817545</td>\n",
       "      <td>23.540122</td>\n",
       "      <td>0.867449</td>\n",
       "      <td>0.961225</td>\n",
       "      <td>0.943525</td>\n",
       "      <td>7</td>\n",
       "      <td>33022.961732</td>\n",
       "      <td>184536.198465</td>\n",
       "      <td>0.560433</td>\n",
       "      <td>0.137205</td>\n",
       "    </tr>\n",
       "    <tr>\n",
       "      <th>2</th>\n",
       "      <td>35002</td>\n",
       "      <td>13.817545</td>\n",
       "      <td>23.540122</td>\n",
       "      <td>0.867449</td>\n",
       "      <td>0.961225</td>\n",
       "      <td>0.943525</td>\n",
       "      <td>7</td>\n",
       "      <td>33530.598131</td>\n",
       "      <td>187678.178569</td>\n",
       "      <td>0.585745</td>\n",
       "      <td>0.145727</td>\n",
       "    </tr>\n",
       "    <tr>\n",
       "      <th>3</th>\n",
       "      <td>35003</td>\n",
       "      <td>13.817545</td>\n",
       "      <td>23.540122</td>\n",
       "      <td>0.867449</td>\n",
       "      <td>0.961225</td>\n",
       "      <td>0.943525</td>\n",
       "      <td>7</td>\n",
       "      <td>32592.037777</td>\n",
       "      <td>166089.393327</td>\n",
       "      <td>0.543729</td>\n",
       "      <td>0.120358</td>\n",
       "    </tr>\n",
       "    <tr>\n",
       "      <th>4</th>\n",
       "      <td>35004</td>\n",
       "      <td>13.817545</td>\n",
       "      <td>23.540122</td>\n",
       "      <td>0.867449</td>\n",
       "      <td>0.961225</td>\n",
       "      <td>0.943525</td>\n",
       "      <td>7</td>\n",
       "      <td>32892.678757</td>\n",
       "      <td>179534.751064</td>\n",
       "      <td>0.583751</td>\n",
       "      <td>0.142747</td>\n",
       "    </tr>\n",
       "  </tbody>\n",
       "</table>\n",
       "</div>"
      ],
      "text/plain": [
       "      id          a          c      f_r0      f_hp      f_h0  n_arms  \\\n",
       "0  35000  13.817545  23.540122  0.867449  0.961225  0.943525       7   \n",
       "1  35001  13.817545  23.540122  0.867449  0.961225  0.943525       7   \n",
       "2  35002  13.817545  23.540122  0.867449  0.961225  0.943525       7   \n",
       "3  35003  13.817545  23.540122  0.867449  0.961225  0.943525       7   \n",
       "4  35004  13.817545  23.540122  0.867449  0.961225  0.943525       7   \n",
       "\n",
       "             sa            vol    sa_eff   rho_eff  \n",
       "0  33247.371151  181231.947690  0.576030  0.138993  \n",
       "1  33022.961732  184536.198465  0.560433  0.137205  \n",
       "2  33530.598131  187678.178569  0.585745  0.145727  \n",
       "3  32592.037777  166089.393327  0.543729  0.120358  \n",
       "4  32892.678757  179534.751064  0.583751  0.142747  "
      ]
     },
     "execution_count": 5,
     "metadata": {},
     "output_type": "execute_result"
    }
   ],
   "source": [
    "# load the generated rosette data\n",
    "data_dir = '/glade/derecho/scratch/joko/synth-ros/params_200_50-debug-20250316/data/'\n",
    "file_paths = glob.glob(data_dir + \"*.txt\")\n",
    "dfs = []\n",
    "for file in file_paths:\n",
    "    df = pd.read_csv(file, delimiter=\",\", header=None)\n",
    "    dfs.append(df)\n",
    "df = pd.concat(dfs, ignore_index=True)\n",
    "colnames = ['id', 'a', 'c', 'f_r0', 'f_hp', 'f_h0', 'n_arms', 'sa', 'vol', 'sa_eff', 'rho_eff']\n",
    "df.columns = colnames\n",
    "print(df.shape)\n",
    "df.head()"
   ]
  },
  {
   "cell_type": "markdown",
   "id": "87335828-28ef-4364-9add-ee95cbfa9908",
   "metadata": {},
   "source": [
    "## Identify missing rosettes"
   ]
  },
  {
   "cell_type": "markdown",
   "id": "23c32eac-0831-473e-bf87-3314486f3f9f",
   "metadata": {},
   "source": [
    "Note: there were a couple issues with the exception block for create_ros()\n",
    "- first, there was an unintended return statement in the exception block that caused the error code (-666) to never get appended to the data record, that's why we see NaNs instead of -666\n",
    "- second, some rosettes may be technically \"created\" without a bug, but never saved because there is an issue with the object. I'm assuming some numerical issue, because reducing the number of significant digits of the input parameters seems to make the rosette generate without an issue.\n",
    "- That's why the below code chunk is used to compare the existing ID's in stl directory and compare to the original parameter input list."
   ]
  },
  {
   "cell_type": "code",
   "execution_count": 6,
   "id": "8486996e-d7c1-45c1-8929-f8d11f416cca",
   "metadata": {},
   "outputs": [
    {
     "name": "stdout",
     "output_type": "stream",
     "text": [
      "69998\n"
     ]
    }
   ],
   "source": [
    "# Directory path\n",
    "directory_path = '/glade/derecho/scratch/joko/synth-ros/params_200_50-debug-20250316/stl/'\n",
    "\n",
    "# Get all .stl files, including those in subdirectories\n",
    "file_paths = glob.glob(directory_path + '**/*.stl', recursive=True)\n",
    "\n",
    "# Initialize an empty list to store the gen_ids\n",
    "gen_ids = []\n",
    "\n",
    "# Regular expression to extract the number\n",
    "pattern = r'ros-test-(\\d+)\\.stl'\n",
    "\n",
    "# Loop through the files and extract the number\n",
    "for file in file_paths:\n",
    "    match = re.search(pattern, file)\n",
    "    if match:\n",
    "        # Extract the number and append it to the list\n",
    "        number = match.group(1)\n",
    "        gen_ids.append(int(number))  # Convert to integer if needed\n",
    "\n",
    "# Print the list of gen_ids\n",
    "print(len(gen_ids))"
   ]
  },
  {
   "cell_type": "code",
   "execution_count": 7,
   "id": "542e8169-6c71-44ca-824a-b7a2c6016174",
   "metadata": {},
   "outputs": [
    {
     "name": "stdout",
     "output_type": "stream",
     "text": [
      "[25954, 9895]\n"
     ]
    }
   ],
   "source": [
    "full_ids = list(range(70000))\n",
    "missing = list(set(full_ids) - set(gen_ids))\n",
    "print(missing)"
   ]
  },
  {
   "cell_type": "code",
   "execution_count": 8,
   "id": "7d9b5f4a-5340-4d96-b2b3-6486d5aa99ea",
   "metadata": {},
   "outputs": [
    {
     "name": "stdout",
     "output_type": "stream",
     "text": [
      "          id          a           c      f_r0      f_hp      f_h0  n_arms  sa  \\\n",
      "39954  25954  24.003513  134.661889  0.819574  0.821878  0.901288       6 NaN   \n",
      "\n",
      "       vol  sa_eff  rho_eff  \n",
      "39954  NaN     NaN      NaN  \n",
      "        id          a          c      f_r0      f_hp      f_h0  n_arms     sa  \\\n",
      "9895  9895  16.571058  84.161255  0.811206  1.140741  0.822291       4 -999.0   \n",
      "\n",
      "        vol  sa_eff  rho_eff  \n",
      "9895 -999.0  -999.0   -999.0  \n"
     ]
    }
   ],
   "source": [
    "print(df[df.id == missing[0]])\n",
    "print(df[df.id == missing[1]])"
   ]
  },
  {
   "cell_type": "markdown",
   "id": "58d4b0af-77d8-44cf-9478-52243bceef18",
   "metadata": {},
   "source": [
    "### Generate new randomized rosette for missing rosettes"
   ]
  },
  {
   "cell_type": "code",
   "execution_count": 10,
   "id": "e8927256-7a42-4b62-955e-b15cc59903b6",
   "metadata": {},
   "outputs": [
    {
     "name": "stdout",
     "output_type": "stream",
     "text": [
      "successfully created new random variants\n"
     ]
    }
   ],
   "source": [
    "# get a randomized parameter set for rosettes with create_ros() error\n",
    "for i in range(len(missing)):\n",
    "    base_params = params_list[missing[i]][0] # set here\n",
    "    n_arms = base_params[5]\n",
    "    # load spherical code\n",
    "    # Read the JSON file as a dictionary\n",
    "    json_filepath = '/glade/u/home/joko/spherical-code/data/s_code.json'\n",
    "    with open(json_filepath, 'r') as json_file:\n",
    "        s_code_dict = json.load(json_file)\n",
    "    # code to generate randomly perturbed parameter set \n",
    "    f_a_min, f_a_max = 0.8, 1.2\n",
    "    f_c_min, f_c_max = 0.8, 1.2\n",
    "    f_a_c_limits = [f_a_min, f_a_max, f_c_min, f_c_max]\n",
    "    new_params = []\n",
    "    # append base parameters\n",
    "    new_params.append(base_params)\n",
    "    # calculate (f_a, f_c) for each bullet\n",
    "    f_a_c = perturb_aspect_ratio(n_arms, f_a_c_limits)\n",
    "    new_params.append(f_a_c)\n",
    "    # calculate perturbed spherical codes\n",
    "    s_code_perturbed = perturb_s_code(n_arms, s_code_dict)\n",
    "    new_params.append(s_code_perturbed)\n",
    "    # generate rosette\n",
    "    base_params = new_params[0][:5]\n",
    "    n_arms = new_params[0][5]\n",
    "    aspect_perturb = new_params[1]\n",
    "    s_code = new_params[2]\n",
    "    ros = create_ros(base_params, n_arms, s_code, aspect_perturb)\n",
    "print('successfully created new random variants')"
   ]
  },
  {
   "cell_type": "markdown",
   "id": "f7703e41-b9d9-4b5b-8b53-25da099c23a7",
   "metadata": {},
   "source": [
    "### Re-generate missing rosettes with reduced precision parameters"
   ]
  },
  {
   "cell_type": "markdown",
   "id": "ed597906-683b-4f00-ac11-972d973a2ae8",
   "metadata": {},
   "source": [
    "Change the number of significant digits using round()"
   ]
  },
  {
   "cell_type": "code",
   "execution_count": 11,
   "id": "66c47597-4b0e-40cc-a781-02a39cc5cdc9",
   "metadata": {},
   "outputs": [],
   "source": [
    "params = params_list[missing[0]] # set here\n",
    "base_params = params[0][:5]\n",
    "n_arms = params[0][5]\n",
    "aspect_perturb = params[1]\n",
    "s_code = params[2]\n",
    "a, c = base_params[0], base_params[1]\n",
    "f_r0 = round(base_params[2], 2)\n",
    "f_hp = round(base_params[3], 2)\n",
    "f_h0 = round(base_params[4], 2)"
   ]
  },
  {
   "cell_type": "code",
   "execution_count": 12,
   "id": "1a70c54e-aeb2-4678-b263-75eba41538e7",
   "metadata": {},
   "outputs": [
    {
     "data": {
      "text/plain": [
       "[24.0, 134.66, 0.82, 0.82, 0.9]"
      ]
     },
     "execution_count": 12,
     "metadata": {},
     "output_type": "execute_result"
    }
   ],
   "source": [
    "test = [round(i, 2) for i in base_params]\n",
    "test"
   ]
  },
  {
   "cell_type": "code",
   "execution_count": 13,
   "id": "74e8c5fa-35ba-41c5-b5f0-ac14faed6f2b",
   "metadata": {},
   "outputs": [
    {
     "name": "stdout",
     "output_type": "stream",
     "text": [
      "Missing ros id 25954\n",
      "[24.00351261407805, 134.66188864976206, 0.8195740666268079, 0.8218781981212082, 0.9012884550674822] 6 [0.38273767872535575, -0.8835269100212053, -0.26998531173437473, -0.9842013058275141, -0.15412102628885632, 0.0871464219752356, 0.07235495149582313, 0.9970074374919519, 0.027220040039811034, 0.993936120897774, 0.03217823583865214, -0.10514536943202815, 0.3333310627441758, 0.3131533459595148, 0.8892836355877684, 0.41678700836234667, -0.2040066753033841, -0.885815932399065] [1.0124765942373992, 0.8013441748214285, 0.8395033153883997, 1.1497465222033447, 0.9096167814258856, 0.8731638652690399, 1.1744324682473006, 1.14891592088879, 1.06850572898942, 0.9868855991611052, 1.1018381678172595, 1.1086557778512371]\n",
      "Rosette 25954 not created, error: Courbes non jointives\n",
      "Missing ros id 9895\n",
      "[16.57105832530715, 84.1612554053567, 0.811205947493316, 1.1407413278945557, 0.8222911201885716] 4 [-0.4257084105267138, 0.8836568935359189, -0.19473788463796238, 0.28194234240183275, 0.6589851693569863, 0.6973141774899688, -0.3553825226256698, -0.7061196986627627, 0.6124526379832357, 0.2505941942280318, -0.3902061237641185, -0.8859693735091438] [1.1895261889172877, 1.029466428407599, 1.142709299080219, 0.9367654260808381, 1.12634934922661, 1.1283813102687599, 0.9567186497927852, 0.9344602642478537]\n",
      "saving to /glade/derecho/scratch/joko/synth-ros/temp/ros-009895.stl\n",
      "Rosette 9895 mbs_error: tuple index out of range\n",
      "--> Rosette 9895 re-generated successfully!\n"
     ]
    }
   ],
   "source": [
    "# for illustration, try to regenerate the missing rosettes with original parameters\n",
    "save_dir = '/glade/derecho/scratch/joko/synth-ros/temp'\n",
    "rosettes = {}\n",
    "for i in range(len(missing)):\n",
    "    id = missing[i]\n",
    "    print(f'Missing ros id {id}')\n",
    "    params = params_list[id] # set here\n",
    "    base_params = params[0][:5]\n",
    "    n_arms = params[0][5]\n",
    "    aspect_perturb = params[1]\n",
    "    s_code = params[2]\n",
    "    print(base_params, n_arms, s_code, aspect_perturb)\n",
    "    savepath = os.path.join(save_dir, f'ros-{id:06d}.stl')\n",
    "    try: \n",
    "        ros = create_ros(base_params, n_arms, s_code, aspect_perturb) # create ros object\n",
    "        rosettes[id] = ros\n",
    "        print(f'saving to {savepath}')\n",
    "        cq.exporters.export(ros, savepath) # save \n",
    "        try: \n",
    "            # try calculating mbs \n",
    "            points = get_verts(ros, base_params[2])\n",
    "            mbs = calc_mbs(points)\n",
    "        except Exception as e:\n",
    "            print(f'Rosette {id} mbs_error: {e}')\n",
    "        if os.path.exists(savepath):\n",
    "            print(f'--> Rosette {id} re-generated successfully!')\n",
    "        else:\n",
    "            print(f'Rosette {id} was generated but not saved properly')\n",
    "    except Exception as e:\n",
    "        print(f'Rosette {id} not created, error: {e}')"
   ]
  },
  {
   "cell_type": "markdown",
   "id": "e91619cb-acee-4bee-b751-ebf8bd3f358a",
   "metadata": {},
   "source": [
    "What is going on with Rosette 9895 here? It is not being saved. Examine further below:"
   ]
  },
  {
   "cell_type": "code",
   "execution_count": 14,
   "id": "2e8a4a7c-45f6-4765-a5bd-8f767b2b0f5c",
   "metadata": {},
   "outputs": [
    {
     "name": "stdout",
     "output_type": "stream",
     "text": [
      "Volume: 0.0\n",
      "Area: 0.0\n",
      "Zero Volume? True\n",
      "Zero Surface Area? True\n"
     ]
    }
   ],
   "source": [
    "vol = ros.val().Volume()\n",
    "sa = ros.val().Area()\n",
    "print(f'Volume: {vol}')\n",
    "print(f'Area: {sa}')\n",
    "print(f'Zero Volume? {vol==0}')\n",
    "print(f'Zero Surface Area? {sa==0}')"
   ]
  },
  {
   "cell_type": "markdown",
   "id": "0a57780e-4fda-4b22-b46b-90b1aa040080",
   "metadata": {},
   "source": [
    "--> It appears that the object has zero volume and surface area. This is also apparent when you try to visualize the object using cadquery built-in visualizer. There is not object that gets plotted.  \n",
    "To attempt to resolve this, now let's try to reduce the number of significant digits for the input geometric parameters. Perhaps there are numerical issues arising from too many significant digits?"
   ]
  },
  {
   "cell_type": "code",
   "execution_count": 15,
   "id": "6a403b07-10ae-4ab3-a368-c2467eb6c4ba",
   "metadata": {},
   "outputs": [
    {
     "name": "stdout",
     "output_type": "stream",
     "text": [
      "Missing ros id 25954\n",
      "saving to /glade/derecho/scratch/joko/synth-ros/temp/ros-025954.stl\n",
      "mbs calculated successfully for Rosette 25954\n",
      "--> Rosette 25954 re-generated successfully!\n",
      "Missing ros id 9895\n",
      "saving to /glade/derecho/scratch/joko/synth-ros/temp/ros-009895.stl\n",
      "mbs calculated successfully for Rosette 9895\n",
      "--> Rosette 9895 re-generated successfully!\n"
     ]
    }
   ],
   "source": [
    "# attempt to re-create ros with reduced sig figs\n",
    "for i in range(len(missing)):\n",
    "    id = missing[i]\n",
    "    print(f'Missing ros id {id}')\n",
    "    params = params_list[id] # set here\n",
    "    base_params = params[0][:5]\n",
    "    n_arms = params[0][5]\n",
    "    aspect_perturb = params[1]\n",
    "    s_code = params[2]\n",
    "    # reduce sigfigs\n",
    "    base_params = [round(i, 2) for i in base_params]\n",
    "    s_code = [round(i, 2) for i in s_code]\n",
    "    aspect_perturb = [round(i, 2) for i in aspect_perturb]\n",
    "    savepath = os.path.join(save_dir, f'ros-{id:06d}.stl')\n",
    "    try: \n",
    "        ros = create_ros(base_params, n_arms, s_code, aspect_perturb) # create ros object\n",
    "        rosettes[id] = ros\n",
    "        print(f'saving to {savepath}')\n",
    "        cq.exporters.export(ros, savepath) # save \n",
    "        try: \n",
    "            # try calculating mbs \n",
    "            points = get_verts(ros, base_params[2])\n",
    "            mbs = calc_mbs(points)\n",
    "            print(f'mbs calculated successfully for Rosette {id}')\n",
    "        except Exception as e:\n",
    "            print(f'Rosette {id} mbs_error: {e}')\n",
    "        if os.path.exists(savepath):\n",
    "            print(f'--> Rosette {id} re-generated successfully!')\n",
    "        else:\n",
    "            print(f'Rosette {id} was generated but not saved properly')\n",
    "    except Exception as e:\n",
    "        print(f'Rosette {id} not created, error: {e}')"
   ]
  },
  {
   "cell_type": "markdown",
   "id": "82a0fc50-d1ed-4e21-83eb-eef65baf698d",
   "metadata": {},
   "source": [
    "It appears that rounding the parameters to 2 significant digits resolves the bug involved with the creation of the rosettes."
   ]
  },
  {
   "cell_type": "markdown",
   "id": "90d8c24e-117d-44a9-8034-b54e29d86a8a",
   "metadata": {},
   "source": [
    "## Identify rosettes with mbs errors"
   ]
  },
  {
   "cell_type": "markdown",
   "id": "0f813536-187b-46f2-b05b-2ebb3cd44e89",
   "metadata": {},
   "source": [
    "Now, let's focus on the rosettes that were created, but resulted in miniball-related (mbs) errors."
   ]
  },
  {
   "cell_type": "code",
   "execution_count": 16,
   "id": "c0bf15e9-7598-4a96-9be5-8a22e4a0333b",
   "metadata": {},
   "outputs": [
    {
     "data": {
      "text/html": [
       "<div>\n",
       "<style scoped>\n",
       "    .dataframe tbody tr th:only-of-type {\n",
       "        vertical-align: middle;\n",
       "    }\n",
       "\n",
       "    .dataframe tbody tr th {\n",
       "        vertical-align: top;\n",
       "    }\n",
       "\n",
       "    .dataframe thead th {\n",
       "        text-align: right;\n",
       "    }\n",
       "</style>\n",
       "<table border=\"1\" class=\"dataframe\">\n",
       "  <thead>\n",
       "    <tr style=\"text-align: right;\">\n",
       "      <th></th>\n",
       "      <th>id</th>\n",
       "      <th>a</th>\n",
       "      <th>c</th>\n",
       "      <th>f_r0</th>\n",
       "      <th>f_hp</th>\n",
       "      <th>f_h0</th>\n",
       "      <th>n_arms</th>\n",
       "      <th>sa</th>\n",
       "      <th>vol</th>\n",
       "      <th>sa_eff</th>\n",
       "      <th>rho_eff</th>\n",
       "    </tr>\n",
       "  </thead>\n",
       "  <tbody>\n",
       "    <tr>\n",
       "      <th>262</th>\n",
       "      <td>35262</td>\n",
       "      <td>31.872490</td>\n",
       "      <td>150.829674</td>\n",
       "      <td>0.973202</td>\n",
       "      <td>1.159340</td>\n",
       "      <td>1.094094</td>\n",
       "      <td>7</td>\n",
       "      <td>-999.0</td>\n",
       "      <td>-999.0</td>\n",
       "      <td>-999.0</td>\n",
       "      <td>-999.0</td>\n",
       "    </tr>\n",
       "    <tr>\n",
       "      <th>458</th>\n",
       "      <td>35458</td>\n",
       "      <td>31.472364</td>\n",
       "      <td>37.635254</td>\n",
       "      <td>0.877367</td>\n",
       "      <td>1.093156</td>\n",
       "      <td>1.175345</td>\n",
       "      <td>7</td>\n",
       "      <td>-999.0</td>\n",
       "      <td>-999.0</td>\n",
       "      <td>-999.0</td>\n",
       "      <td>-999.0</td>\n",
       "    </tr>\n",
       "    <tr>\n",
       "      <th>670</th>\n",
       "      <td>35670</td>\n",
       "      <td>31.037224</td>\n",
       "      <td>55.402441</td>\n",
       "      <td>1.198168</td>\n",
       "      <td>1.017183</td>\n",
       "      <td>1.070844</td>\n",
       "      <td>7</td>\n",
       "      <td>-999.0</td>\n",
       "      <td>-999.0</td>\n",
       "      <td>-999.0</td>\n",
       "      <td>-999.0</td>\n",
       "    </tr>\n",
       "    <tr>\n",
       "      <th>1479</th>\n",
       "      <td>36479</td>\n",
       "      <td>17.849968</td>\n",
       "      <td>25.956420</td>\n",
       "      <td>1.162849</td>\n",
       "      <td>0.909022</td>\n",
       "      <td>1.072718</td>\n",
       "      <td>7</td>\n",
       "      <td>-999.0</td>\n",
       "      <td>-999.0</td>\n",
       "      <td>-999.0</td>\n",
       "      <td>-999.0</td>\n",
       "    </tr>\n",
       "    <tr>\n",
       "      <th>2889</th>\n",
       "      <td>37889</td>\n",
       "      <td>30.244448</td>\n",
       "      <td>101.432198</td>\n",
       "      <td>0.928856</td>\n",
       "      <td>0.946435</td>\n",
       "      <td>1.001741</td>\n",
       "      <td>7</td>\n",
       "      <td>-999.0</td>\n",
       "      <td>-999.0</td>\n",
       "      <td>-999.0</td>\n",
       "      <td>-999.0</td>\n",
       "    </tr>\n",
       "  </tbody>\n",
       "</table>\n",
       "</div>"
      ],
      "text/plain": [
       "         id          a           c      f_r0      f_hp      f_h0  n_arms  \\\n",
       "262   35262  31.872490  150.829674  0.973202  1.159340  1.094094       7   \n",
       "458   35458  31.472364   37.635254  0.877367  1.093156  1.175345       7   \n",
       "670   35670  31.037224   55.402441  1.198168  1.017183  1.070844       7   \n",
       "1479  36479  17.849968   25.956420  1.162849  0.909022  1.072718       7   \n",
       "2889  37889  30.244448  101.432198  0.928856  0.946435  1.001741       7   \n",
       "\n",
       "         sa    vol  sa_eff  rho_eff  \n",
       "262  -999.0 -999.0  -999.0   -999.0  \n",
       "458  -999.0 -999.0  -999.0   -999.0  \n",
       "670  -999.0 -999.0  -999.0   -999.0  \n",
       "1479 -999.0 -999.0  -999.0   -999.0  \n",
       "2889 -999.0 -999.0  -999.0   -999.0  "
      ]
     },
     "execution_count": 16,
     "metadata": {},
     "output_type": "execute_result"
    }
   ],
   "source": [
    "# re-calculate MBS for error -999 (mbs related errors)\n",
    "mbs_err = df[df['sa']==-999]\n",
    "mbs_err.head()"
   ]
  },
  {
   "cell_type": "code",
   "execution_count": 17,
   "id": "d01254ca-e760-42b2-a09f-042f0de4cc47",
   "metadata": {},
   "outputs": [
    {
     "name": "stdout",
     "output_type": "stream",
     "text": [
      "Rosettes in both missing and mbs error list: [9895]\n"
     ]
    }
   ],
   "source": [
    "# Check if any overlap between mbs_err list and missing list \n",
    "mbs_list = list(mbs_err['id'].values)\n",
    "overlap = list(set(mbs_list) & set(missing))\n",
    "print(f'Rosettes in both missing and mbs error list: {overlap}') "
   ]
  },
  {
   "cell_type": "code",
   "execution_count": 18,
   "id": "49c10b93-9721-4b54-8578-2d492072a5e4",
   "metadata": {},
   "outputs": [
    {
     "name": "stdout",
     "output_type": "stream",
     "text": [
      "There are 77 rosettes with mbs errors\n"
     ]
    }
   ],
   "source": [
    "print(f'There are {len(mbs_list)} rosettes with mbs errors')"
   ]
  },
  {
   "cell_type": "code",
   "execution_count": 19,
   "id": "2fa4e863-3101-408a-ad20-7a526940f1c0",
   "metadata": {},
   "outputs": [],
   "source": [
    "# try to re-calculate mbs for each ros in mbs_list\n",
    "out_dir = '/glade/u/home/joko/ice3d/output'\n",
    "f_path = os.path.join(out_dir, 'mbs_out.txt')\n",
    "with open(f_path, 'w') as f, contextlib.redirect_stdout(f):\n",
    "    for i in range(len(mbs_list)):\n",
    "        id = mbs_list[i]\n",
    "        print(f'Missing ros id {id}')\n",
    "        params = params_list[id] # set here\n",
    "        base_params = params[0][:5]\n",
    "        n_arms = params[0][5]\n",
    "        aspect_perturb = params[1]\n",
    "        s_code = params[2]\n",
    "        # reduce sigfigs\n",
    "        base_params = [round(i, 2) for i in base_params]\n",
    "        s_code = [round(i, 2) for i in s_code]\n",
    "        aspect_perturb = [round(i, 2) for i in aspect_perturb]\n",
    "        savepath = os.path.join(save_dir, f'ros-{id:06d}.stl')\n",
    "        try: \n",
    "            ros = create_ros(base_params, n_arms, s_code, aspect_perturb) # create ros object\n",
    "            rosettes[id] = ros\n",
    "            print(f'saving to {savepath}')\n",
    "            cq.exporters.export(ros, savepath) # save \n",
    "            try: \n",
    "                # try calculating mbs \n",
    "                points = get_verts(ros, base_params[2])\n",
    "                mbs = calc_mbs(points)\n",
    "                print(f'mbs calculated successfully for Rosette {id}')\n",
    "            except Exception as e:\n",
    "                print(f'Rosette {id} mbs_error: {e}')\n",
    "            if os.path.exists(savepath):\n",
    "                print(f'--> Rosette {id} re-generated successfully!')\n",
    "            else:\n",
    "                print(f'Rosette {id} was generated but not saved properly')\n",
    "        except Exception as e:\n",
    "            print(f'Rosette {id} not created, error: {e}')"
   ]
  },
  {
   "cell_type": "code",
   "execution_count": 20,
   "id": "88f7695a-7d8d-4ee4-9ccf-17e2addfb600",
   "metadata": {},
   "outputs": [
    {
     "name": "stdout",
     "output_type": "stream",
     "text": [
      "this is a test print\n"
     ]
    }
   ],
   "source": [
    "# test that print works in cell output\n",
    "print('this is a test print')"
   ]
  },
  {
   "cell_type": "markdown",
   "id": "9defa548-f0f8-466a-bfcc-cafd9c7ef8ff",
   "metadata": {},
   "source": [
    "# Scratch"
   ]
  },
  {
   "cell_type": "code",
   "execution_count": null,
   "id": "298ce83f-faa8-44b7-8350-15b42ec87f4b",
   "metadata": {},
   "outputs": [],
   "source": [
    "# find rosettes that were not created at all i.e., ros_create() error\n",
    "# error code = -666\n",
    "ros_create_err = df[df['sa'].isna()]\n",
    "ros_create_err"
   ]
  },
  {
   "cell_type": "code",
   "execution_count": null,
   "id": "94e29c70-1289-47f6-a411-e4cb2f9c1022",
   "metadata": {},
   "outputs": [],
   "source": [
    "df_4 = df[df['vol']==-666]"
   ]
  },
  {
   "cell_type": "code",
   "execution_count": null,
   "id": "15292fa5-be4f-46ec-b230-773270da0901",
   "metadata": {},
   "outputs": [],
   "source": [
    "print(params_list[25954])"
   ]
  },
  {
   "cell_type": "code",
   "execution_count": null,
   "id": "07a1d30a-df52-404b-9ece-58410e379249",
   "metadata": {},
   "outputs": [],
   "source": []
  }
 ],
 "metadata": {
  "kernelspec": {
   "display_name": "Python [conda env:cq]",
   "language": "python",
   "name": "conda-env-cq-py"
  },
  "language_info": {
   "codemirror_mode": {
    "name": "ipython",
    "version": 3
   },
   "file_extension": ".py",
   "mimetype": "text/x-python",
   "name": "python",
   "nbconvert_exporter": "python",
   "pygments_lexer": "ipython3",
   "version": "3.12.2"
  }
 },
 "nbformat": 4,
 "nbformat_minor": 5
}
