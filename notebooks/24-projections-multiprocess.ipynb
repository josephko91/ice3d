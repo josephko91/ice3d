{
 "cells": [
  {
   "cell_type": "code",
   "execution_count": 2,
   "id": "caf6ba84-7902-40a3-8931-57c5f18ebf9d",
   "metadata": {},
   "outputs": [],
   "source": [
    "import multiprocessing\n",
    "import pyvista as pv\n",
    "import os, sys\n",
    "import random\n",
    "import numpy as np\n",
    "import json\n",
    "import time\n",
    "from functools import partial"
   ]
  },
  {
   "cell_type": "markdown",
   "id": "d7c91761-2f09-433c-a5d8-0e6acfcbd10a",
   "metadata": {},
   "source": [
    "Test notebook for generating projections in parallel using multiprocessing package."
   ]
  },
  {
   "cell_type": "code",
   "execution_count": 2,
   "id": "0721b8c1-dff1-483e-a5e9-a0f03f766776",
   "metadata": {},
   "outputs": [],
   "source": [
    "def init_plotter(res, bg_color):\n",
    "    pl = pv.Plotter(off_screen=True, window_size=[res, res])\n",
    "    pl.background_color = bg_color\n",
    "    pl.enable_parallel_projection()\n",
    "    pl.remove_all_lights()\n",
    "    return pl \n",
    "def random_rotate(mesh):\n",
    "    rotated = mesh.copy()\n",
    "    deg_x = np.random.randint(1, 360)\n",
    "    deg_y = np.random.randint(1, 360)\n",
    "    deg_z = np.random.randint(1, 360)\n",
    "    rotated.rotate_x(deg_x, inplace=True)\n",
    "    rotated.rotate_y(deg_y, inplace=True)\n",
    "    rotated.rotate_z(deg_z, inplace=True)\n",
    "    return rotated\n",
    "def get_orthogonal_vector(v):\n",
    "    '''\n",
    "    Return an arbitrary orthogonal vector to v\n",
    "    '''    \n",
    "    arbitrary_vector = np.array([1, 0, 0])\n",
    "    v_orth = np.cross(v, arbitrary_vector)\n",
    "    # If v1 and arbitrary_vector are parallel, you could end up with a zero vector, \n",
    "    # in which case you'd need to choose a different arbitrary vector. Let's check:\n",
    "    if np.all(v_orth == 0):\n",
    "        arbitrary_vector = np.array([0, 1, 0]) # set to another arbitrary vector (e.g., [0, 1, 0])\n",
    "        v_orth = np.cross(v1, arbitrary_vector)\n",
    "    # Normalize the orthogonal vector v2\n",
    "    v_orth = v_orth / np.linalg.norm(v_orth)\n",
    "    return v_orth\n",
    "# Example function to process a single STL file\n",
    "def process_stl(file_path, save_dir, n_proj):\n",
    "    # Read the STL file using PyVista\n",
    "    mesh = pv.read(file_path)\n",
    "    res = 224\n",
    "    bg_color='black'\n",
    "    obj_color='white'\n",
    "    op=1.0\n",
    "    theta_2ds, theta_phips = 90, 120\n",
    "    for i in range(n_proj):\n",
    "        # default view\n",
    "        rotated_mesh = random_rotate(mesh)\n",
    "        id = file_path.rsplit('-',1)[1].rsplit('.',1)[0] # get id as string\n",
    "        pl = init_plotter(res, bg_color) # initiate plotter\n",
    "        actor_default = pl.add_mesh(rotated_mesh, show_edges=None, \n",
    "                                    color=obj_color, opacity=op)\n",
    "        camera_position_default = pl.camera.position\n",
    "        axis_rotation = get_orthogonal_vector(camera_position_default)\n",
    "        pl.render()\n",
    "        filename = f'ros-projection-{id}-{i:02d}-default.png'\n",
    "        savepath = os.path.join(save_dir, filename)\n",
    "        pl.screenshot(savepath, return_img=False)\n",
    "        pl.remove_actor(actor_default)\n",
    "        # 2ds\n",
    "        mesh_2ds = rotated_mesh.rotate_vector(axis_rotation, theta_2ds, point=rotated_mesh.center)\n",
    "        actor_2ds = pl.add_mesh(mesh_2ds, show_edges=None, color = obj_color, opacity=op)\n",
    "        filename = f'ros-projection-{id}-{i:02d}-2ds.png'\n",
    "        savepath = os.path.join(save_dir, filename)\n",
    "        pl.render()\n",
    "        pl.screenshot(savepath, return_img=False)\n",
    "        pl.remove_actor(actor_2ds) # remove 2ds \n",
    "        # phips\n",
    "        mesh_phips = rotated_mesh.rotate_vector(axis_rotation, theta_phips, point=rotated_mesh.center)\n",
    "        pl.add_mesh(mesh_phips, show_edges=None, color = obj_color, opacity=op)\n",
    "        filename = f'ros-projection-{id}-{i:02d}-phips.png'\n",
    "        savepath = os.path.join(save_dir, filename)\n",
    "        pl.render()\n",
    "        pl.screenshot(savepath, return_img=False)\n",
    "        # close plotter\n",
    "        pl.close()"
   ]
  },
  {
   "cell_type": "code",
   "execution_count": 3,
   "id": "222dcf3b-9641-42b5-a451-0ac23d692e29",
   "metadata": {},
   "outputs": [],
   "source": [
    "# %%time\n",
    "# # 1 core (serial)\n",
    "# def main():\n",
    "#     save_dir = '/glade/derecho/scratch/joko/synth-ros/test-mp'\n",
    "#     os.makedirs(save_dir, exist_ok=True)\n",
    "#     # Load the JSON file\n",
    "#     params_path = '/glade/u/home/joko/ice3d/output/params_200_50.json'\n",
    "#     with open(params_path, 'rb') as file:\n",
    "#         params = json.load(file)\n",
    "#     # load list of STL filepaths\n",
    "#     stl_paths_txt = '/glade/derecho/scratch/joko/synth-ros/params_200_50_20250403/stl/stl_relative_paths.txt'\n",
    "#     with open(stl_paths_txt, 'r') as file:\n",
    "#         basepath = '/glade/derecho/scratch/joko/synth-ros/params_200_50_20250403/stl'\n",
    "#         rel_paths = [line.strip().replace('./','') for line in file]\n",
    "#         stl_paths = [os.path.join(basepath, i) for i in rel_paths]\n",
    "#     n_samples = 100\n",
    "#     n_proj = 100\n",
    "#     stl_paths = stl_paths[:n_samples] # subset if needed\n",
    "#     num_cores = 1 # set number of CPU cores e.g., multiprocessing.cpu_count()\n",
    "#     process_stl_params = partial(process_stl, save_dir=save_dir, n_proj=n_proj)\n",
    "#     # Use a multiprocessing Pool to process the STL files in parallel\n",
    "#     with multiprocessing.Pool(processes=num_cores) as pool:\n",
    "#         pool.map(process_stl_params, stl_paths)\n",
    "# if __name__ == \"__main__\":\n",
    "#     main()"
   ]
  },
  {
   "cell_type": "markdown",
   "id": "c2baf2d4-fe49-43fe-a4cb-d64d5f9f29f6",
   "metadata": {},
   "source": [
    "Based on serial execution, this means it takes ~10 seconds per STL sample.  \n",
    "- this means 10 seconds x 70,000 samples = 700,000 seconds of processing\n",
    "- this is theoretically equivalent to ~194 core-hours (not including overhead)"
   ]
  },
  {
   "cell_type": "code",
   "execution_count": 4,
   "id": "db21ff90-62c4-4696-a217-2d48a8ab8cb6",
   "metadata": {},
   "outputs": [
    {
     "name": "stdout",
     "output_type": "stream",
     "text": [
      "CPU times: user 1.16 s, sys: 149 ms, total: 1.31 s\n",
      "Wall time: 1.41 s\n"
     ]
    },
    {
     "data": {
      "text/plain": [
       "'/glade/derecho/scratch/joko/synth-ros/params_200_50_20250403/stl/9/ros-test-054702.stl'"
      ]
     },
     "execution_count": 4,
     "metadata": {},
     "output_type": "execute_result"
    }
   ],
   "source": [
    "%%time\n",
    "# Load the JSON file\n",
    "params_path = '/glade/u/home/joko/ice3d/output/params_200_50.json'\n",
    "with open(params_path, 'rb') as file:\n",
    "    params = json.load(file)\n",
    "# load list of STL filepaths\n",
    "stl_paths_txt = '/glade/derecho/scratch/joko/synth-ros/params_200_50_20250403/stl/stl_relative_paths.txt'\n",
    "with open(stl_paths_txt, 'r') as file:\n",
    "    basepath = '/glade/derecho/scratch/joko/synth-ros/params_200_50_20250403/stl'\n",
    "    rel_paths = [line.strip().replace('./','') for line in file]\n",
    "    stl_paths = [os.path.join(basepath, i) for i in rel_paths]\n",
    "stl_paths[0]"
   ]
  },
  {
   "cell_type": "code",
   "execution_count": 6,
   "id": "1e5ff432-fc6b-425d-a1bf-fb851180db2f",
   "metadata": {},
   "outputs": [
    {
     "data": {
      "text/plain": [
       "70000"
      ]
     },
     "execution_count": 6,
     "metadata": {},
     "output_type": "execute_result"
    }
   ],
   "source": [
    "len(params)"
   ]
  },
  {
   "cell_type": "code",
   "execution_count": 4,
   "id": "bb25e3f7-bd9e-4569-aec7-9be9c73f37a1",
   "metadata": {},
   "outputs": [
    {
     "name": "stdout",
     "output_type": "stream",
     "text": [
      "CPU times: user 729 ms, sys: 207 ms, total: 936 ms\n",
      "Wall time: 2min 42s\n"
     ]
    }
   ],
   "source": [
    "%%time\n",
    "# 8 cores\n",
    "def main():\n",
    "    save_dir = '/glade/derecho/scratch/joko/synth-ros/test-mp'\n",
    "    os.makedirs(save_dir, exist_ok=True)\n",
    "    # Load the JSON file\n",
    "    params_path = '/glade/u/home/joko/ice3d/output/params_200_50.json'\n",
    "    with open(params_path, 'rb') as file:\n",
    "        params = json.load(file)\n",
    "    # load list of STL filepaths\n",
    "    stl_paths_txt = '/glade/derecho/scratch/joko/synth-ros/params_200_50_20250403/stl/stl_relative_paths.txt'\n",
    "    with open(stl_paths_txt, 'r') as file:\n",
    "        basepath = '/glade/derecho/scratch/joko/synth-ros/params_200_50_20250403/stl'\n",
    "        rel_paths = [line.strip().replace('./','') for line in file]\n",
    "        stl_paths = [os.path.join(basepath, i) for i in rel_paths]\n",
    "    n_samples = 100\n",
    "    n_proj = 100\n",
    "    stl_paths = stl_paths[:n_samples] # subset if needed\n",
    "    num_cores = 8 # set number of CPU cores e.g., multiprocessing.cpu_count()\n",
    "    process_stl_params = partial(process_stl, save_dir=save_dir, n_proj=n_proj)\n",
    "    # Use a multiprocessing Pool to process the STL files in parallel\n",
    "    with multiprocessing.Pool(processes=num_cores) as pool:\n",
    "        pool.map(process_stl_params, stl_paths)\n",
    "if __name__ == \"__main__\":\n",
    "    main()"
   ]
  },
  {
   "cell_type": "code",
   "execution_count": 5,
   "id": "8234a300-39a9-4b54-9681-154bd9ad3831",
   "metadata": {},
   "outputs": [
    {
     "name": "stdout",
     "output_type": "stream",
     "text": [
      "CPU times: user 724 ms, sys: 174 ms, total: 898 ms\n",
      "Wall time: 1min 46s\n"
     ]
    }
   ],
   "source": [
    "%%time\n",
    "# 16 cores\n",
    "def main():\n",
    "    save_dir = '/glade/derecho/scratch/joko/synth-ros/test-mp'\n",
    "    os.makedirs(save_dir, exist_ok=True)\n",
    "    # Load the JSON file\n",
    "    params_path = '/glade/u/home/joko/ice3d/output/params_200_50.json'\n",
    "    with open(params_path, 'rb') as file:\n",
    "        params = json.load(file)\n",
    "    # load list of STL filepaths\n",
    "    stl_paths_txt = '/glade/derecho/scratch/joko/synth-ros/params_200_50_20250403/stl/stl_relative_paths.txt'\n",
    "    with open(stl_paths_txt, 'r') as file:\n",
    "        basepath = '/glade/derecho/scratch/joko/synth-ros/params_200_50_20250403/stl'\n",
    "        rel_paths = [line.strip().replace('./','') for line in file]\n",
    "        stl_paths = [os.path.join(basepath, i) for i in rel_paths]\n",
    "    n_samples = 100\n",
    "    n_proj = 100\n",
    "    stl_paths = stl_paths[:n_samples] # subset if needed\n",
    "    num_cores = 16 # set number of CPU cores e.g., multiprocessing.cpu_count()\n",
    "    process_stl_params = partial(process_stl, save_dir=save_dir, n_proj=n_proj)\n",
    "    # Use a multiprocessing Pool to process the STL files in parallel\n",
    "    with multiprocessing.Pool(processes=num_cores) as pool:\n",
    "        pool.map(process_stl_params, stl_paths)\n",
    "if __name__ == \"__main__\":\n",
    "    main()"
   ]
  },
  {
   "cell_type": "code",
   "execution_count": 6,
   "id": "22f7e4aa-a27a-4e37-853a-b17b4fda572a",
   "metadata": {},
   "outputs": [
    {
     "name": "stdout",
     "output_type": "stream",
     "text": [
      "CPU times: user 840 ms, sys: 232 ms, total: 1.07 s\n",
      "Wall time: 1min 38s\n"
     ]
    }
   ],
   "source": [
    "%%time\n",
    "# 32 cores\n",
    "def main():\n",
    "    save_dir = '/glade/derecho/scratch/joko/synth-ros/test-mp'\n",
    "    os.makedirs(save_dir, exist_ok=True)\n",
    "    # Load the JSON file\n",
    "    params_path = '/glade/u/home/joko/ice3d/output/params_200_50.json'\n",
    "    with open(params_path, 'rb') as file:\n",
    "        params = json.load(file)\n",
    "    # load list of STL filepaths\n",
    "    stl_paths_txt = '/glade/derecho/scratch/joko/synth-ros/params_200_50_20250403/stl/stl_relative_paths.txt'\n",
    "    with open(stl_paths_txt, 'r') as file:\n",
    "        basepath = '/glade/derecho/scratch/joko/synth-ros/params_200_50_20250403/stl'\n",
    "        rel_paths = [line.strip().replace('./','') for line in file]\n",
    "        stl_paths = [os.path.join(basepath, i) for i in rel_paths]\n",
    "    n_samples = 100\n",
    "    n_proj = 100\n",
    "    stl_paths = stl_paths[:n_samples] # subset if needed\n",
    "    num_cores = 32 # set number of CPU cores e.g., multiprocessing.cpu_count()\n",
    "    process_stl_params = partial(process_stl, save_dir=save_dir, n_proj=n_proj)\n",
    "    # Use a multiprocessing Pool to process the STL files in parallel\n",
    "    with multiprocessing.Pool(processes=num_cores) as pool:\n",
    "        pool.map(process_stl_params, stl_paths)\n",
    "if __name__ == \"__main__\":\n",
    "    main()"
   ]
  },
  {
   "cell_type": "code",
   "execution_count": 7,
   "id": "62c30a77-8e9d-4d11-9884-984b2ceb1e29",
   "metadata": {},
   "outputs": [
    {
     "name": "stdout",
     "output_type": "stream",
     "text": [
      "CPU times: user 842 ms, sys: 299 ms, total: 1.14 s\n",
      "Wall time: 1min 25s\n"
     ]
    }
   ],
   "source": [
    "%%time\n",
    "# 64 cores\n",
    "def main():\n",
    "    save_dir = '/glade/derecho/scratch/joko/synth-ros/test-mp'\n",
    "    os.makedirs(save_dir, exist_ok=True)\n",
    "    # Load the JSON file\n",
    "    params_path = '/glade/u/home/joko/ice3d/output/params_200_50.json'\n",
    "    with open(params_path, 'rb') as file:\n",
    "        params = json.load(file)\n",
    "    # load list of STL filepaths\n",
    "    stl_paths_txt = '/glade/derecho/scratch/joko/synth-ros/params_200_50_20250403/stl/stl_relative_paths.txt'\n",
    "    with open(stl_paths_txt, 'r') as file:\n",
    "        basepath = '/glade/derecho/scratch/joko/synth-ros/params_200_50_20250403/stl'\n",
    "        rel_paths = [line.strip().replace('./','') for line in file]\n",
    "        stl_paths = [os.path.join(basepath, i) for i in rel_paths]\n",
    "    n_samples = 100\n",
    "    n_proj = 100\n",
    "    stl_paths = stl_paths[:n_samples] # subset if needed\n",
    "    num_cores = 64 # set number of CPU cores e.g., multiprocessing.cpu_count()\n",
    "    process_stl_params = partial(process_stl, save_dir=save_dir, n_proj=n_proj)\n",
    "    # Use a multiprocessing Pool to process the STL files in parallel\n",
    "    with multiprocessing.Pool(processes=num_cores) as pool:\n",
    "        pool.map(process_stl_params, stl_paths)\n",
    "if __name__ == \"__main__\":\n",
    "    main()"
   ]
  },
  {
   "cell_type": "code",
   "execution_count": null,
   "id": "91a5358e-14e6-404d-a6c5-ef99164eac21",
   "metadata": {},
   "outputs": [],
   "source": []
  }
 ],
 "metadata": {
  "kernelspec": {
   "display_name": "Python [conda env:.conda-pyvista_pip]",
   "language": "python",
   "name": "conda-env-.conda-pyvista_pip-py"
  },
  "language_info": {
   "codemirror_mode": {
    "name": "ipython",
    "version": 3
   },
   "file_extension": ".py",
   "mimetype": "text/x-python",
   "name": "python",
   "nbconvert_exporter": "python",
   "pygments_lexer": "ipython3",
   "version": "3.12.4"
  }
 },
 "nbformat": 4,
 "nbformat_minor": 5
}
