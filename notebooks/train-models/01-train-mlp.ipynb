{
 "cells": [
  {
   "cell_type": "code",
   "execution_count": 6,
   "metadata": {},
   "outputs": [],
   "source": [
    "import torch\n",
    "from sklearn.model_selection import train_test_split\n",
    "from sklearn.metrics import r2_score, confusion_matrix, mean_absolute_error, mean_squared_error\n",
    "import numpy as np\n",
    "import pandas as pd\n",
    "import matplotlib.pyplot as plt\n",
    "import matplotlib as mpl\n",
    "import seaborn as sns\n",
    "import os\n",
    "import json\n",
    "\n",
    "from torch.utils.data import DataLoader, TensorDataset\n",
    "import torch.nn as nn\n",
    "import torch.optim as optim\n",
    "\n",
    "import sys\n",
    "sys.path.append('/home/jko/ice3d')\n",
    "from models.mlp_regression import MLPRegression \n",
    "from models.mlp_classification import MLPClassification \n",
    "import pytorch_lightning as pl\n",
    "from pytorch_lightning import Trainer\n",
    "from pytorch_lightning.loggers import TensorBoardLogger, CSVLogger\n",
    "from data.tabular_dataset import TabularDataset\n",
    "from data.tabular_datamodule import TabularDataModule"
   ]
  },
  {
   "cell_type": "markdown",
   "metadata": {},
   "source": [
    "Global settings for notebook"
   ]
  },
  {
   "cell_type": "code",
   "execution_count": 7,
   "metadata": {},
   "outputs": [],
   "source": [
    "# set parameters\n",
    "n_rand = 666 # random seed\n",
    "lr = 1e-3\n",
    "num_epochs = 20\n",
    "# Load the class mapping from a JSON file\n",
    "class_mapping_file = '/home/jko/ice3d/data/class_to_idx.json'\n",
    "# Load class mapping from JSON file\n",
    "with open(class_mapping_file, 'r') as f:\n",
    "    class_to_idx = json.load(f)\n",
    "num_classes = len(class_to_idx)  # Number of unique classes in n_arms\n",
    "# set indices of train/val/test sets\n",
    "split = [0.7, 0.15, 0.15]\n",
    "n_data = 700_000\n",
    "assert abs(sum(split) - 1.0) < 1e-8, \"Split does not sum to 1\"\n",
    "n_train = int(split[0] * n_data)\n",
    "n_val = int(split[1] * n_data)\n",
    "n_test = n_data - n_train - n_val  # ensures all data is used\n",
    "train_idx = list(range(0, n_train))\n",
    "val_idx = list(range(n_train, n_train + n_val))\n",
    "test_idx = list(range(n_train + n_val, n_data))\n",
    "# define log transform for later\n",
    "def log_transform(x):\n",
    "    return torch.log(x)"
   ]
  },
  {
   "cell_type": "markdown",
   "metadata": {},
   "source": [
    "# 1. Single view (default)"
   ]
  },
  {
   "cell_type": "code",
   "execution_count": 8,
   "metadata": {},
   "outputs": [],
   "source": [
    "data_dir = '/home/jko/synth-ros-data/tabular-data-v2/shuffled_small'\n",
    "data_file = 'ros-tabular-data-shuffled-default-subset-700000.parquet'\n",
    "data_path = os.path.join(data_dir, data_file)"
   ]
  },
  {
   "cell_type": "markdown",
   "metadata": {},
   "source": [
    "## a) Regression"
   ]
  },
  {
   "cell_type": "code",
   "execution_count": null,
   "metadata": {},
   "outputs": [],
   "source": [
    "n_rand = 666 # random seed\n",
    "data_dir = '/home/jko/synth-ros-data/tabular-data-v2/shuffled_small'\n",
    "data_file = 'ros-tabular-data-shuffled-default-subset-700000.parquet'\n",
    "data_path = os.path.join(data_dir, data_file)\n",
    "lr = 1e-3\n",
    "num_epochs = 50\n",
    "\n",
    "# create train/test set\n",
    "df = pd.read_parquet(data_path)\n",
    "features = ['aspect_ratio', 'aspect_ratio_elip', 'extreme_pts', \n",
    "        'contour_area', 'contour_perimeter', 'area_ratio', 'complexity', \n",
    "        'circularity']\n",
    "targets = ['rho_eff', 'sa_eff']\n",
    "df.reset_index(inplace=True)\n",
    "# define log transform for later\n",
    "def log_transform(x):\n",
    "    return torch.log(x)\n",
    "df_features = df[features]\n",
    "df_targets = df[targets]\n",
    "X = df_features\n",
    "y = df_targets\n",
    "print(len(X), len(y))"
   ]
  },
  {
   "cell_type": "code",
   "execution_count": null,
   "metadata": {},
   "outputs": [],
   "source": [
    "# set indices of train/val/test sets\n",
    "split = [0.7, 0.15, 0.15]\n",
    "n_data = len(X)\n",
    "assert abs(sum(split) - 1.0) < 1e-8, \"Split does not sum to 1\"\n",
    "# Calculate split indices\n",
    "n_train = int(split[0] * n_data)\n",
    "n_val = int(split[1] * n_data)\n",
    "n_test = n_data - n_train - n_val  # ensures all data is used\n",
    "\n",
    "train_idx = list(range(0, n_train))\n",
    "val_idx = list(range(n_train, n_train + n_val))\n",
    "test_idx = list(range(n_train + n_val, n_data))\n",
    "\n",
    "print(f\"Train indices: {train_idx[0]} to {train_idx[len(train_idx)-1]}\")\n",
    "print(f\"Val indices: {val_idx[0]} to {val_idx[len(val_idx)-1]}\")\n",
    "print(f\"Test indices: {test_idx[0]} to {test_idx[len(test_idx)-1]}\")"
   ]
  },
  {
   "cell_type": "code",
   "execution_count": null,
   "metadata": {},
   "outputs": [],
   "source": [
    "\n",
    "dm = TabularDataModule(\n",
    "    data_file=data_path,\n",
    "    feature_names=features,\n",
    "    target_names=targets,\n",
    "    batch_size=64,\n",
    "    subset_size=1.0,\n",
    "    subset_seed=n_rand,\n",
    "    num_workers=16,\n",
    "    task_type='regression',\n",
    "    class_to_idx=None,\n",
    "    target_transform=log_transform,\n",
    "    train_idx=train_idx,\n",
    "    val_idx=val_idx,\n",
    "    test_idx=test_idx,\n",
    ")"
   ]
  },
  {
   "cell_type": "code",
   "execution_count": null,
   "metadata": {},
   "outputs": [],
   "source": [
    "dm.setup()"
   ]
  },
  {
   "cell_type": "code",
   "execution_count": null,
   "metadata": {},
   "outputs": [],
   "source": [
    "model = MLPRegression(input_size=len(features), \n",
    "output_size=len(targets),\n",
    "learning_rate=lr)\n"
   ]
  },
  {
   "cell_type": "code",
   "execution_count": null,
   "metadata": {},
   "outputs": [],
   "source": [
    "# Set up logger information\n",
    "log_dir = '/home/jko/ice3d/models/lightning_logs'\n",
    "tb_log_name = f'mlp-regression-subset-70k-tb'\n",
    "csv_log_name = f'mlp-regression-subset-70k-csv'\n",
    "tb_logger = TensorBoardLogger(log_dir, name=tb_log_name)\n",
    "csv_logger = CSVLogger(log_dir, name=csv_log_name)"
   ]
  },
  {
   "cell_type": "code",
   "execution_count": null,
   "metadata": {},
   "outputs": [],
   "source": [
    "# Set up trainer\n",
    "trainer = Trainer(\n",
    "    max_epochs=num_epochs,\n",
    "    accelerator=\"gpu\",\n",
    "    logger=[csv_logger, tb_logger],\n",
    "    enable_progress_bar=True,\n",
    ")\n",
    "\n",
    "# Train the model\n",
    "trainer.fit(model, dm)"
   ]
  },
  {
   "cell_type": "code",
   "execution_count": null,
   "metadata": {},
   "outputs": [],
   "source": [
    "# plot loss curve\n",
    "log_path = '/home/jko/ice3d/models/lightning_logs/mlp-regression-subset-70k-csv/version_0/metrics.csv'\n",
    "# Read the metrics.csv file using pandas\n",
    "metrics_df = pd.read_csv(log_path)\n",
    "# Inspect the columns of the DataFrame (to ensure it's structured properly)\n",
    "print(metrics_df.columns)\n",
    "# Group by 'epoch' and aggregate using the mean (or use 'last' for the final step of each epoch)\n",
    "metrics_df = metrics_df.groupby('epoch').agg({\n",
    "    'train_loss': 'mean',   # Take the mean of the training loss over steps in the same epoch\n",
    "    'val_loss': 'mean',     # Take the mean of the validation loss over steps in the same epoch\n",
    "}).reset_index()\n",
    "# Plot the loss curve (for training and validation losses)\n",
    "plt.figure(figsize=(10, 6))\n",
    "# You can plot the training and validation loss curves if both are available in the CSV\n",
    "if 'train_loss' in metrics_df.columns:\n",
    "    plt.plot(metrics_df['epoch'], metrics_df['train_loss'], label='Train Loss')\n",
    "if 'val_loss' in metrics_df.columns:\n",
    "    plt.plot(metrics_df['epoch'], metrics_df['val_loss'], label='Validation Loss')\n",
    "plt.xlabel('Epoch')\n",
    "plt.ylabel('Loss')\n",
    "plt.title('Training and Validation Loss Curve')\n",
    "plt.legend()\n",
    "plt.grid(True)\n",
    "plt.tight_layout()\n",
    "plt.show()"
   ]
  },
  {
   "cell_type": "code",
   "execution_count": null,
   "metadata": {},
   "outputs": [],
   "source": [
    "# load model from checkpoint\n",
    "model_ckpt = '/home/jko/ice3d/models/lightning_logs/mlp-regression-subset-70k-csv/version_0/checkpoints/epoch=31-step=245024.ckpt'\n",
    "model = MLPRegression.load_from_checkpoint(\n",
    "    model_ckpt,\n",
    "    input_size=len(features), \n",
    "    output_size=len(targets),\n",
    "    learning_rate=lr\n",
    ")\n",
    "device = torch.device(\"cuda\" if torch.cuda.is_available() else \"cpu\")\n",
    "model = model.to(device)\n",
    "model.eval()"
   ]
  },
  {
   "cell_type": "code",
   "execution_count": null,
   "metadata": {},
   "outputs": [],
   "source": [
    "print(device)"
   ]
  },
  {
   "cell_type": "code",
   "execution_count": null,
   "metadata": {},
   "outputs": [],
   "source": [
    "# Convert test data to PyTorch tensors\n",
    "test_loader = dm.test_dataloader()\n",
    "all_preds = []\n",
    "all_targets = []\n",
    "n_batches = 20  # Number of batches to process\n",
    "\n",
    "# Run inference on the test data and print progress\n",
    "with torch.no_grad():\n",
    "    total_batches = len(test_loader)\n",
    "    for i, batch in enumerate(test_loader):\n",
    "        if i >= n_batches:  # Stop after 20 batches\n",
    "            break\n",
    "        print(f\"Processing batch {i + 1} out of {total_batches}...\")\n",
    "        features, targets = batch\n",
    "        print(features, targets)\n",
    "        # preds = model(features)"
   ]
  },
  {
   "cell_type": "code",
   "execution_count": null,
   "metadata": {},
   "outputs": [],
   "source": [
    "# Convert test data to PyTorch tensors\n",
    "test_loader = dm.test_dataloader()\n",
    "all_preds = []\n",
    "all_targets = []\n",
    "n_batches = 20  # Number of batches to process\n",
    "\n",
    "# Run inference on the test data and print progress\n",
    "with torch.no_grad():\n",
    "    total_batches = len(test_loader)\n",
    "    for i, batch in enumerate(test_loader):\n",
    "        if i >= n_batches:  # Stop after 20 batches\n",
    "            break\n",
    "        print(f\"Processing batch {i + 1} out of {total_batches}...\")\n",
    "        features, targets = batch\n",
    "        features = features.to(device)\n",
    "        targets = targets.to(device)\n",
    "        preds = model(features)\n",
    "        # Apply inverse log transform to both predictions and targets\n",
    "        preds = torch.exp(preds)  # Inverse of log\n",
    "        targets = torch.exp(targets)  # Inverse of log\n",
    "        all_preds.append(preds.cpu().numpy())\n",
    "        all_targets.append(targets.cpu().numpy())\n",
    "\n",
    "# Concatenate all predictions and targets\n",
    "all_preds = np.concatenate(all_preds, axis=0)\n",
    "all_targets = np.concatenate(all_targets, axis=0)\n",
    "\n",
    "# Compute R² values\n",
    "r2_rho = r2_score(all_targets[:, 0], all_preds[:, 0])\n",
    "r2_sa = r2_score(all_targets[:, 1], all_preds[:, 1])\n",
    "print(f'R² for rho_eff: {r2_rho:.2f}')\n",
    "print(f'R² for sa_eff: {r2_sa:.2f}')\n",
    "\n",
    "# Plot scatter plots\n",
    "fig, axes = plt.subplots(1, 2, figsize=(12, 6))\n",
    "\n",
    "# Scatter plot for rho_eff\n",
    "axes[0].scatter(all_targets[:, 0], all_preds[:, 0], alpha=0.5, edgecolor='white')\n",
    "axes[0].plot([all_targets[:, 0].min(), all_targets[:, 0].max()],\n",
    "             [all_targets[:, 0].min(), all_targets[:, 0].max()], 'k--', lw=2)\n",
    "axes[0].set_title(f'rho_eff (R² = {r2_rho:.2f})')\n",
    "axes[0].set_xlabel('True Values')\n",
    "axes[0].set_ylabel('Predicted Values')\n",
    "\n",
    "# Scatter plot for sa_eff\n",
    "axes[1].scatter(all_targets[:, 1], all_preds[:, 1], alpha=0.5, edgecolor='white')\n",
    "axes[1].plot([all_targets[:, 1].min(), all_targets[:, 1].max()],\n",
    "             [all_targets[:, 1].min(), all_targets[:, 1].max()], 'k--', lw=2)\n",
    "axes[1].set_title(f'sa_eff (R² = {r2_sa:.2f})')\n",
    "axes[1].set_xlabel('True Values')\n",
    "axes[1].set_ylabel('Predicted Values')\n",
    "\n",
    "plt.tight_layout()\n",
    "plt.show()"
   ]
  },
  {
   "cell_type": "markdown",
   "metadata": {},
   "source": [
    "## b) Classification"
   ]
  },
  {
   "cell_type": "code",
   "execution_count": 9,
   "metadata": {},
   "outputs": [
    {
     "name": "stderr",
     "output_type": "stream",
     "text": [
      "Using default `ModelCheckpoint`. Consider installing `litmodels` package to enable `LitModelCheckpoint` for automatic upload to the Lightning model registry.\n",
      "GPU available: True (cuda), used: True\n",
      "TPU available: False, using: 0 TPU cores\n",
      "HPU available: False, using: 0 HPUs\n",
      "LOCAL_RANK: 0 - CUDA_VISIBLE_DEVICES: [0]\n",
      "\n",
      "  | Name | Type   | Params | Mode \n",
      "----------------------------------------\n",
      "0 | fc1  | Linear | 1.2 K  | train\n",
      "1 | fc2  | Linear | 8.3 K  | train\n",
      "2 | fc3  | Linear | 2.1 K  | train\n",
      "3 | fc4  | Linear | 231    | train\n",
      "----------------------------------------\n",
      "11.7 K    Trainable params\n",
      "0         Non-trainable params\n",
      "11.7 K    Total params\n",
      "0.047     Total estimated model params size (MB)\n",
      "4         Modules in train mode\n",
      "0         Modules in eval mode\n",
      "SLURM auto-requeueing enabled. Setting signal handlers.\n"
     ]
    },
    {
     "name": "stdout",
     "output_type": "stream",
     "text": [
      "Epoch 19: 100%|██████████| 7657/7657 [07:15<00:00, 17.59it/s, v_num=1]      "
     ]
    },
    {
     "name": "stderr",
     "output_type": "stream",
     "text": [
      "`Trainer.fit` stopped: `max_epochs=20` reached.\n"
     ]
    },
    {
     "name": "stdout",
     "output_type": "stream",
     "text": [
      "Epoch 19: 100%|██████████| 7657/7657 [07:15<00:00, 17.59it/s, v_num=1]\n"
     ]
    }
   ],
   "source": [
    "features = ['aspect_ratio', 'aspect_ratio_elip', 'extreme_pts', \n",
    "        'contour_area', 'contour_perimeter', 'area_ratio', 'complexity', \n",
    "        'circularity']\n",
    "targets = ['n_arms']\n",
    "# instantiate data module\n",
    "dm = TabularDataModule(\n",
    "    data_file=data_path,\n",
    "    feature_names=features,\n",
    "    target_names=targets,\n",
    "    batch_size=64,\n",
    "    subset_size=1.0,\n",
    "    subset_seed=n_rand,\n",
    "    num_workers=16,\n",
    "    task_type='classification',\n",
    "    class_to_idx=class_to_idx,\n",
    "    target_transform=None,\n",
    "    train_idx=train_idx,\n",
    "    val_idx=val_idx,\n",
    "    test_idx=test_idx,\n",
    ")\n",
    "dm.setup()\n",
    "# iniate model\n",
    "model = MLPClassification(input_size=len(features), \n",
    "num_classes=num_classes,\n",
    "learning_rate=lr)\n",
    "# Set up logger information\n",
    "log_dir = '/home/jko/ice3d/models/lightning_logs'\n",
    "tb_log_name = f'mlp-classification-subset-70k-tb'\n",
    "csv_log_name = f'mlp-classification-subset-70k-csv'\n",
    "tb_logger = TensorBoardLogger(log_dir, name=tb_log_name)\n",
    "csv_logger = CSVLogger(log_dir, name=csv_log_name)\n",
    "# Set up trainer\n",
    "trainer = Trainer(\n",
    "    max_epochs=num_epochs,\n",
    "    accelerator=\"gpu\",\n",
    "    logger=[csv_logger, tb_logger],\n",
    "    enable_progress_bar=True,\n",
    ")\n",
    "# Train the model\n",
    "trainer.fit(model, dm)"
   ]
  },
  {
   "cell_type": "code",
   "execution_count": 10,
   "metadata": {},
   "outputs": [
    {
     "name": "stdout",
     "output_type": "stream",
     "text": [
      "Index(['epoch', 'step', 'train_loss', 'val_loss'], dtype='object')\n"
     ]
    },
    {
     "data": {
      "image/png": "[encoded data removed]",
      "text/plain": [
       "<Figure size 1000x600 with 1 Axes>"
      ]
     },
     "metadata": {},
     "output_type": "display_data"
    }
   ],
   "source": [
    "# plot loss curve\n",
    "log_path = '/home/jko/ice3d/models/lightning_logs/mlp-classification-subset-70k-csv/version_1/metrics.csv'\n",
    "# Read the metrics.csv file using pandas\n",
    "metrics_df = pd.read_csv(log_path)\n",
    "# Inspect the columns of the DataFrame (to ensure it's structured properly)\n",
    "print(metrics_df.columns)\n",
    "# Group by 'epoch' and aggregate using the mean (or use 'last' for the final step of each epoch)\n",
    "metrics_df = metrics_df.groupby('epoch').agg({\n",
    "    'train_loss': 'mean',   # Take the mean of the training loss over steps in the same epoch\n",
    "    'val_loss': 'mean',     # Take the mean of the validation loss over steps in the same epoch\n",
    "}).reset_index()\n",
    "# Plot the loss curve (for training and validation losses)\n",
    "plt.figure(figsize=(10, 6))\n",
    "# You can plot the training and validation loss curves if both are available in the CSV\n",
    "if 'train_loss' in metrics_df.columns:\n",
    "    plt.plot(metrics_df['epoch'], metrics_df['train_loss'], label='Train Loss')\n",
    "if 'val_loss' in metrics_df.columns:\n",
    "    plt.plot(metrics_df['epoch'], metrics_df['val_loss'], label='Validation Loss')\n",
    "plt.xlabel('Epoch')\n",
    "plt.ylabel('Loss')\n",
    "plt.title('Training and Validation Loss Curve')\n",
    "plt.legend()\n",
    "plt.grid(True)\n",
    "plt.tight_layout()\n",
    "plt.show()"
   ]
  },
  {
   "cell_type": "code",
   "execution_count": 15,
   "metadata": {},
   "outputs": [
    {
     "data": {
      "text/plain": [
       "8"
      ]
     },
     "execution_count": 15,
     "metadata": {},
     "output_type": "execute_result"
    }
   ],
   "source": [
    "features = ['aspect_ratio', 'aspect_ratio_elip', 'extreme_pts', \n",
    "        'contour_area', 'contour_perimeter', 'area_ratio', 'complexity', \n",
    "        'circularity']\n",
    "targets = ['n_arms']\n",
    "len(features)"
   ]
  },
  {
   "cell_type": "code",
   "execution_count": 16,
   "metadata": {},
   "outputs": [
    {
     "name": "stdout",
     "output_type": "stream",
     "text": [
      "Processing batch 1 out of 1641...\n",
      "Processing batch 2 out of 1641...\n",
      "Processing batch 3 out of 1641...\n",
      "Processing batch 4 out of 1641...\n",
      "Processing batch 5 out of 1641...\n",
      "Processing batch 6 out of 1641...\n",
      "Processing batch 7 out of 1641...\n",
      "Processing batch 8 out of 1641...\n",
      "Processing batch 9 out of 1641...\n",
      "Processing batch 10 out of 1641...\n",
      "Processing batch 11 out of 1641...\n",
      "Processing batch 12 out of 1641...\n",
      "Processing batch 13 out of 1641...\n",
      "Processing batch 14 out of 1641...\n",
      "Processing batch 15 out of 1641...\n",
      "Processing batch 16 out of 1641...\n",
      "Processing batch 17 out of 1641...\n",
      "Processing batch 18 out of 1641...\n",
      "Processing batch 19 out of 1641...\n",
      "Processing batch 20 out of 1641...\n",
      "Accuracy: 0.47\n"
     ]
    },
    {
     "data": {
      "image/png": "[encoded data removed]",
      "text/plain": [
       "<Figure size 800x600 with 2 Axes>"
      ]
     },
     "metadata": {},
     "output_type": "display_data"
    }
   ],
   "source": [
    "# load model from checkpoint\n",
    "model_ckpt = '/home/jko/ice3d/models/lightning_logs/mlp-classification-subset-70k-csv/version_1/checkpoints/epoch=19-step=153140.ckpt'\n",
    "model = MLPClassification.load_from_checkpoint(\n",
    "    model_ckpt,\n",
    "    input_size=len(features), \n",
    "    num_classes=num_classes,\n",
    "    learning_rate=lr\n",
    ")\n",
    "device = torch.device(\"cuda\" if torch.cuda.is_available() else \"cpu\")\n",
    "model = model.to(device)\n",
    "model.eval()\n",
    "\n",
    "# Convert test data to PyTorch tensors\n",
    "test_loader = dm.test_dataloader()\n",
    "all_preds = []\n",
    "all_targets = []\n",
    "n_batches = 20  # Number of batches to process\n",
    "\n",
    "# Run inference on the test data and print progress\n",
    "with torch.no_grad():\n",
    "    total_batches = len(test_loader)\n",
    "    for i, batch in enumerate(test_loader):\n",
    "        if i >= n_batches:  # Stop after 20 batches\n",
    "            break\n",
    "        print(f\"Processing batch {i + 1} out of {total_batches}...\")\n",
    "        features, targets = batch\n",
    "        features = features.to(device)\n",
    "        targets = targets.to(device)\n",
    "        preds = model(features)\n",
    "        all_preds.append(preds.cpu().numpy())\n",
    "        all_targets.append(targets.cpu().numpy())\n",
    "\n",
    "# Concatenate all predictions and targets\n",
    "all_preds = np.concatenate(all_preds, axis=0)\n",
    "all_targets = np.concatenate(all_targets, axis=0)\n",
    "\n",
    "# Convert model outputs to predicted class indices\n",
    "pred_labels = np.argmax(all_preds, axis=1)\n",
    "\n",
    "# Compute accuracy\n",
    "from sklearn.metrics import accuracy_score\n",
    "accuracy = accuracy_score(all_targets, pred_labels)\n",
    "print(f'Accuracy: {accuracy:.2f}')\n",
    "\n",
    "# Compute confusion matrix\n",
    "from sklearn.metrics import ConfusionMatrixDisplay, confusion_matrix\n",
    "cm = confusion_matrix(all_targets, pred_labels, normalize='true')\n",
    "class_labels = list(class_to_idx.keys())\n",
    "disp = ConfusionMatrixDisplay(confusion_matrix=cm, display_labels=class_labels)\n",
    "fig, ax = plt.subplots(figsize=(8, 6))\n",
    "disp.plot(cmap=plt.cm.Blues, ax=ax, values_format=\".2f\")\n",
    "plt.title(\"Normalized Confusion Matrix\")\n",
    "plt.xlabel(\"Predicted Label\")\n",
    "plt.ylabel(\"True Label\")\n",
    "plt.tight_layout()\n",
    "plt.show()"
   ]
  },
  {
   "cell_type": "markdown",
   "metadata": {},
   "source": [
    "# 2. Stereo view (2DS)"
   ]
  },
  {
   "cell_type": "code",
   "execution_count": null,
   "metadata": {},
   "outputs": [],
   "source": [
    "data_dir = '/home/jko/synth-ros-data/tabular-data-v2/shuffled_small'\n",
    "data_file = 'ros-tabular-data-stereo-default-2ds-shuffled-subset-700000.parquet'\n",
    "data_path = os.path.join(data_dir, data_file)"
   ]
  },
  {
   "cell_type": "markdown",
   "metadata": {},
   "source": [
    "## a) Regression"
   ]
  },
  {
   "cell_type": "code",
   "execution_count": null,
   "metadata": {},
   "outputs": [],
   "source": [
    "# initiate data module\n",
    "dm = TabularDataModule(\n",
    "    data_file=data_path,\n",
    "    feature_names=features,\n",
    "    target_names=targets,\n",
    "    batch_size=64,\n",
    "    subset_size=1.0,\n",
    "    subset_seed=n_rand,\n",
    "    num_workers=16,\n",
    "    task_type='regression',\n",
    "    class_to_idx=None,\n",
    "    target_transform=log_transform,\n",
    "    train_idx=train_idx,\n",
    "    val_idx=val_idx,\n",
    "    test_idx=test_idx,\n",
    ")\n",
    "dm.setup()\n",
    "# iniate model\n",
    "model = MLPRegression(input_size=len(features), \n",
    "output_size=len(targets),\n",
    "learning_rate=lr)\n",
    "# Set up logger information\n",
    "log_dir = '/home/jko/ice3d/models/lightning_logs'\n",
    "tb_log_name = f'mlp-regression-stereo-2ds-subset-70k-tb'\n",
    "csv_log_name = f'mlp-regression-stereo-2ds-subset-70k-csv'\n",
    "tb_logger = TensorBoardLogger(log_dir, name=tb_log_name)\n",
    "csv_logger = CSVLogger(log_dir, name=csv_log_name)\n",
    "# set up trainer\n",
    "trainer = Trainer(\n",
    "    max_epochs=num_epochs,\n",
    "    accelerator=\"gpu\",\n",
    "    logger=[csv_logger, tb_logger],\n",
    "    enable_progress_bar=True,\n",
    ")\n",
    "# Train the model\n",
    "trainer.fit(model, dm)"
   ]
  },
  {
   "cell_type": "markdown",
   "metadata": {},
   "source": [
    "## b) Classification"
   ]
  },
  {
   "cell_type": "code",
   "execution_count": null,
   "metadata": {},
   "outputs": [],
   "source": [
    "# initiate data module\n",
    "dm = TabularDataModule(\n",
    "    data_file=data_path,\n",
    "    feature_names=features,\n",
    "    target_names=targets,\n",
    "    batch_size=64,\n",
    "    subset_size=1.0,\n",
    "    subset_seed=n_rand,\n",
    "    num_workers=16,\n",
    "    task_type='classification',\n",
    "    class_to_idx=class_to_idx,\n",
    "    target_transform=None,\n",
    "    train_idx=train_idx,\n",
    "    val_idx=val_idx,\n",
    "    test_idx=test_idx,\n",
    ")\n",
    "dm.setup()\n",
    "# iniate model\n",
    "model = MLPClassification(input_size=len(features), \n",
    "num_classes=num_classes,\n",
    "learning_rate=lr)\n",
    "# Set up logger information\n",
    "log_dir = '/home/jko/ice3d/models/lightning_logs'\n",
    "tb_log_name = f'mlp-classification-stereo-2ds-subset-70k-tb'\n",
    "csv_log_name = f'mlp-classification-stereo-2ds-subset-70k-csv'\n",
    "tb_logger = TensorBoardLogger(log_dir, name=tb_log_name)\n",
    "csv_logger = CSVLogger(log_dir, name=csv_log_name)\n",
    "# set up trainer\n",
    "trainer = Trainer(\n",
    "    max_epochs=num_epochs,\n",
    "    accelerator=\"gpu\",\n",
    "    logger=[csv_logger, tb_logger],\n",
    "    enable_progress_bar=True,\n",
    ")\n",
    "# Train the model\n",
    "trainer.fit(model, dm)"
   ]
  },
  {
   "cell_type": "markdown",
   "metadata": {},
   "source": [
    "# 3. Stereo View (PHIPS)"
   ]
  },
  {
   "cell_type": "code",
   "execution_count": null,
   "metadata": {},
   "outputs": [],
   "source": [
    "data_dir = '/home/jko/synth-ros-data/tabular-data-v2/shuffled_small'\n",
    "data_file = 'ros-tabular-data-stereo-default-phips-shuffled-subset-700000.parquet'\n",
    "data_path = os.path.join(data_dir, data_file)"
   ]
  },
  {
   "cell_type": "markdown",
   "metadata": {},
   "source": [
    "## a) Regression"
   ]
  },
  {
   "cell_type": "code",
   "execution_count": null,
   "metadata": {},
   "outputs": [],
   "source": [
    "# initiate data module\n",
    "dm = TabularDataModule(\n",
    "    data_file=data_path,\n",
    "    feature_names=features,\n",
    "    target_names=targets,\n",
    "    batch_size=64,\n",
    "    subset_size=1.0,\n",
    "    subset_seed=n_rand,\n",
    "    num_workers=16,\n",
    "    task_type='regression',\n",
    "    class_to_idx=None,\n",
    "    target_transform=log_transform,\n",
    "    train_idx=train_idx,\n",
    "    val_idx=val_idx,\n",
    "    test_idx=test_idx,\n",
    ")\n",
    "dm.setup()\n",
    "# iniate model\n",
    "model = MLPRegression(input_size=len(features), \n",
    "output_size=len(targets),\n",
    "learning_rate=lr)\n",
    "# Set up logger information\n",
    "log_dir = '/home/jko/ice3d/models/lightning_logs'\n",
    "tb_log_name = f'mlp-regression-stereo-phips-subset-70k-tb'\n",
    "csv_log_name = f'mlp-regression-stereo-phips-subset-70k-csv'\n",
    "tb_logger = TensorBoardLogger(log_dir, name=tb_log_name)\n",
    "csv_logger = CSVLogger(log_dir, name=csv_log_name)\n",
    "# set up trainer\n",
    "trainer = Trainer(\n",
    "    max_epochs=num_epochs,\n",
    "    accelerator=\"gpu\",\n",
    "    logger=[csv_logger, tb_logger],\n",
    "    enable_progress_bar=True,\n",
    ")\n",
    "# Train the model\n",
    "trainer.fit(model, dm)"
   ]
  },
  {
   "cell_type": "markdown",
   "metadata": {},
   "source": [
    "## b) Classification"
   ]
  },
  {
   "cell_type": "code",
   "execution_count": null,
   "metadata": {},
   "outputs": [],
   "source": [
    "# initiate data module\n",
    "dm = TabularDataModule(\n",
    "    data_file=data_path,\n",
    "    feature_names=features,\n",
    "    target_names=targets,\n",
    "    batch_size=64,\n",
    "    subset_size=1.0,\n",
    "    subset_seed=n_rand,\n",
    "    num_workers=16,\n",
    "    task_type='classification',\n",
    "    class_to_idx=class_to_idx,\n",
    "    target_transform=None,\n",
    "    train_idx=train_idx,\n",
    "    val_idx=val_idx,\n",
    "    test_idx=test_idx,\n",
    ")\n",
    "dm.setup()\n",
    "# iniate model\n",
    "model = MLPClassification(input_size=len(features), \n",
    "num_classes=num_classes,\n",
    "learning_rate=lr)\n",
    "# Set up logger information\n",
    "log_dir = '/home/jko/ice3d/models/lightning_logs'\n",
    "tb_log_name = f'mlp-classification-stereo-phips-subset-70k-tb'\n",
    "csv_log_name = f'mlp-classification-stereo-phips-subset-70k-csv'\n",
    "tb_logger = TensorBoardLogger(log_dir, name=tb_log_name)\n",
    "csv_logger = CSVLogger(log_dir, name=csv_log_name)\n",
    "# set up trainer\n",
    "trainer = Trainer(\n",
    "    max_epochs=num_epochs,\n",
    "    accelerator=\"gpu\",\n",
    "    logger=[csv_logger, tb_logger],\n",
    "    enable_progress_bar=True,\n",
    ")\n",
    "# Train the model\n",
    "trainer.fit(model, dm)"
   ]
  },
  {
   "cell_type": "code",
   "execution_count": null,
   "metadata": {},
   "outputs": [],
   "source": []
  },
  {
   "cell_type": "code",
   "execution_count": null,
   "metadata": {},
   "outputs": [],
   "source": []
  },
  {
   "cell_type": "code",
   "execution_count": null,
   "metadata": {},
   "outputs": [],
   "source": []
  }
 ],
 "metadata": {
  "kernelspec": {
   "display_name": "Python 3.13.3 ('torch')",
   "language": "python",
   "name": "python3"
  },
  "language_info": {
   "codemirror_mode": {
    "name": "ipython",
    "version": 3
   },
   "file_extension": ".py",
   "mimetype": "text/x-python",
   "name": "python",
   "nbconvert_exporter": "python",
   "pygments_lexer": "ipython3",
   "version": "3.13.3"
  },
  "orig_nbformat": 4,
  "vscode": {
   "interpreter": {
    "hash": "8658764d9b797a2c8f9923ddcd38c86560d2e4c4233111378203e5da49e50175"
   }
  }
 },
 "nbformat": 4,
 "nbformat_minor": 2
}
