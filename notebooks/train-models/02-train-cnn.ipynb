{
 "cells": [
  {
   "cell_type": "code",
   "execution_count": null,
   "metadata": {},
   "outputs": [],
   "source": []
  }
 ],
 "metadata": {
  "kernelspec": {
   "display_name": "Python 3.13.3 ('gcp': conda)",
   "language": "python",
   "name": "python3"
  },
  "language_info": {
   "name": "python",
   "version": "3.13.3"
  },
  "orig_nbformat": 4,
  "vscode": {
   "interpreter": {
    "hash": "641b0aa9178aaf0955818e11c3223148d81b9ca2f79b396bf44b3b8eb4c9f830"
   }
  }
 },
 "nbformat": 4,
 "nbformat_minor": 2
}
